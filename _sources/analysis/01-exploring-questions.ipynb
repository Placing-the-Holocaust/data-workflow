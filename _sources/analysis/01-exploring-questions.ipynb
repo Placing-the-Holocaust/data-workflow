{
 "cells": [
  {
   "cell_type": "markdown",
   "metadata": {},
   "source": [
    "# Analyzing Questions\n",
    "\n",
    "One of the key advantages of our dataset is that the speakers of the testimonies are isolated. This means that we can identify specific sections of dialogue that are questions and investigate the types of questions that are posed, the lengths of those questions, and the frequency of questions across testimonies. This can tell us a lot about how testimonies differ in their structure.\n",
    "\n",
    "In this notebook, we will learn how to use the testimonies quantitatively. We will do so through several different visualization methods.\n",
    "\n",
    "## Importing the Required Libraries\n",
    "\n",
    "For this notebook, we will be importing and working with the following libraries:\n",
    "\n",
    " - `datasets`: for loading our dataset from Hugging Face\n",
    " - `BeautifulSoup`: for parsing HTML content and extracting questions\n",
    " - `matplotlib`: for creating basic visualizations\n",
    " - `sentence_transformers`: for encoding questions into embeddings\n",
    " - `umap`: for dimensionality reduction of embeddings\n",
    " - `plotly`: for creating interactive visualizations\n",
    " - `pandas`: for data manipulation and analysis\n",
    "\n",
    "Let's go ahead and import these now.\n"
   ]
  },
  {
   "cell_type": "code",
   "execution_count": 38,
   "metadata": {},
   "outputs": [],
   "source": [
    "\n",
    "from datasets import load_dataset\n",
    "from bs4 import BeautifulSoup\n",
    "import matplotlib.pyplot as plt\n",
    "# Import necessary libraries\n",
    "from sentence_transformers import SentenceTransformer\n",
    "import umap\n",
    "import plotly.express as px\n",
    "import pandas as pd"
   ]
  },
  {
   "cell_type": "markdown",
   "metadata": {},
   "source": [
    "## Loading the Data\n",
    "\n",
    "Now that we have our libraries imported, let's begin by loading the dataset from HuggingFace. For this, we can use the `load_dataset()` function from the `datasets` package."
   ]
  },
  {
   "cell_type": "code",
   "execution_count": 39,
   "metadata": {},
   "outputs": [],
   "source": [
    "# Load the dataset from Hugging Face\n",
    "dataset = load_dataset(\"placingholocaust/testimonies-1k\", split=\"train\")"
   ]
  },
  {
   "cell_type": "markdown",
   "metadata": {},
   "source": [
    "Now that we have the dataset downloaded and loaded in memory, let's examine it."
   ]
  },
  {
   "cell_type": "code",
   "execution_count": 40,
   "metadata": {},
   "outputs": [
    {
     "data": {
      "text/plain": [
       "Dataset({\n",
       "    features: ['rg', 'html'],\n",
       "    num_rows: 949\n",
       "})"
      ]
     },
     "execution_count": 40,
     "metadata": {},
     "output_type": "execute_result"
    }
   ],
   "source": [
    "dataset"
   ]
  },
  {
   "cell_type": "markdown",
   "metadata": {},
   "source": [
    "### Dataset Structure\n",
    "\n",
    "The output above provides us with important information about the structure of our dataset:\n",
    "\n",
    "1. **Features**: The dataset contains two features:\n",
    "   - `rg`: Likely stands for \"Record Group\" or a similar identifier for each testimony.\n",
    "   - `html`: Contains the HTML content of each testimony.\n",
    "\n",
    "2. **Number of Rows**: There are 949 rows in the dataset, which means we have 949 individual testimonies to analyze.\n",
    "\n",
    "This structure tells us that each row in our dataset represents a single testimony, with an identifier (`rg`) and the full HTML content of that testimony. The HTML content is particularly important as it contains the questions and answers that we'll be extracting and analyzing in our subsequent steps.\n",
    "\n",
    "Let's examine a specific item in this dataset, we'll grab the first testimony and call this variable `sample_item`."
   ]
  },
  {
   "cell_type": "code",
   "execution_count": 42,
   "metadata": {},
   "outputs": [],
   "source": [
    "sample_item = dataset[0]"
   ]
  },
  {
   "cell_type": "markdown",
   "metadata": {},
   "source": [
    "Now, let's examine the `html` field by exploring its length."
   ]
  },
  {
   "cell_type": "code",
   "execution_count": 44,
   "metadata": {},
   "outputs": [
    {
     "data": {
      "text/plain": [
       "429334"
      ]
     },
     "execution_count": 44,
     "metadata": {},
     "output_type": "execute_result"
    }
   ],
   "source": [
    "len(sample_item[\"html\"])"
   ]
  },
  {
   "cell_type": "markdown",
   "metadata": {},
   "source": [
    "As we can see, the `html` is roughly 430,000 characters long. This is a fairly long testimony (about 183 typed pages). To demonstrate this, let's take  a look at all the questions in this testimony. To do that, we will want a function that can retrieve the dialogue tags that have a class of \"Question\".\n",
    "\n",
    "\n",
    "This function takes HTML content as input and extracts all the questions from it.\n",
    "Here's how it works:\n",
    "\n",
    "1. It uses BeautifulSoup to parse the HTML content.\n",
    "2. It finds all 'dialogue' tags with class 'Question' using soup.find_all().\n",
    "3. For each question found, it extracts the text content using get_text().\n",
    "4. It returns a list of all extracted questions, with whitespace stripped.\n"
   ]
  },
  {
   "cell_type": "code",
   "execution_count": 45,
   "metadata": {},
   "outputs": [],
   "source": [
    "# Function to extract questions from HTML content\n",
    "def extract_questions(html_content):\n",
    "    soup = BeautifulSoup(html_content, 'html.parser')\n",
    "    questions = soup.find_all('dialogue', class_='Question')\n",
    "    return [q.get_text(strip=True) for q in questions]\n"
   ]
  },
  {
   "cell_type": "markdown",
   "metadata": {},
   "source": [
    "Now, we can grab all the questions and examine the quantity of them."
   ]
  },
  {
   "cell_type": "code",
   "execution_count": 49,
   "metadata": {},
   "outputs": [
    {
     "name": "stdout",
     "output_type": "stream",
     "text": [
      "There are 1213 questions in this testimony.\n"
     ]
    }
   ],
   "source": [
    "rg = sample_item['rg']\n",
    "html_content = item['html']\n",
    "\n",
    "questions = extract_questions(html_content)\n",
    "print(f\"There are {len(questions)} questions in this testimony.\")"
   ]
  },
  {
   "cell_type": "markdown",
   "metadata": {},
   "source": [
    "As you can see, we have 1213 questions. Let's take a look at the first few questions."
   ]
  },
  {
   "cell_type": "code",
   "execution_count": 48,
   "metadata": {},
   "outputs": [
    {
     "name": "stdout",
     "output_type": "stream",
     "text": [
      "Questions from testimony RG-50.030.0469_trs_en_cleaned:\n",
      "1. Q: Good morning, Alice.\n",
      "2. Q: Welcome, welcome to Washington, and Virginia.\n",
      "3. Q: It's wonderful to have you here, finally, after all this time.\n",
      "4. Q: Yes. Alice, tell me when you were born. What was the date of -- your date of birth.\n",
      "5. Q: And where were you born?\n",
      "\n",
      "\n"
     ]
    }
   ],
   "source": [
    "\n",
    "print(f\"Questions from testimony {rg}:\")\n",
    "for i, question in enumerate(questions[:5], 1):\n",
    "    print(f\"{i}. {question}\")\n",
    "print(\"\\n\")"
   ]
  },
  {
   "cell_type": "markdown",
   "metadata": {},
   "source": [
    "## Examining Question Counts\n",
    "\n",
    "One of the first things we may want to do is examine the quantity of questions across all our testimonies. We can do this by using the built-in math formulas in Python, such as `sum`, `max`, and `min`. "
   ]
  },
  {
   "cell_type": "code",
   "execution_count": 52,
   "metadata": {},
   "outputs": [
    {
     "name": "stdout",
     "output_type": "stream",
     "text": [
      "Average number of questions: 202.16\n",
      "Maximum number of questions: 1576\n",
      "Minimum number of questions: 0\n",
      "Total number of questions: 191849\n"
     ]
    }
   ],
   "source": [
    "# Count questions for each testimony\n",
    "question_counts = []\n",
    "for item in dataset:\n",
    "    html_content = item['html']\n",
    "    questions = extract_questions(html_content)\n",
    "    question_counts.append(len(questions))\n",
    "\n",
    "# Calculate statistics\n",
    "avg_questions = sum(question_counts) / len(question_counts)\n",
    "max_questions = max(question_counts)\n",
    "min_questions = min(question_counts)\n",
    "\n",
    "print(f\"Average number of questions: {avg_questions:.2f}\")\n",
    "print(f\"Maximum number of questions: {max_questions}\")\n",
    "print(f\"Minimum number of questions: {min_questions}\")\n",
    "print(f\"Total number of questions: {sum(question_counts)}\")"
   ]
  },
  {
   "cell_type": "markdown",
   "metadata": {},
   "source": [
    "This is useful information. We can clearly see that we have a total of roughly 200,000 questions across approximately 1,000 testimonies. We can see that the lowest testimonies have 0 questions. This is because these particular testimonies (of which there are 3) are structured in an inconsistent format. While most PDFs int his question clearly identify the questions and answers in modern-typed PDFs, these are typerwriter fonts with inconsistent question-answer formats. On average, we have roughly 200 questions per testimony.\n",
    "\n",
    "To make this data a little easier to interpret, we can group our data and visualize it in a graph using matplotlib."
   ]
  },
  {
   "cell_type": "code",
   "execution_count": 56,
   "metadata": {},
   "outputs": [
    {
     "data": {
      "image/png": "[encoded data removed]",
      "text/plain": [
       "<Figure size 1000x600 with 1 Axes>"
      ]
     },
     "metadata": {},
     "output_type": "display_data"
    }
   ],
   "source": [
    "plt.figure(figsize=(10, 6))\n",
    "plt.hist(question_counts, bins=100, edgecolor='black')\n",
    "plt.title('Distribution of Question Counts in Testimonies')\n",
    "plt.xlabel('Number of Questions')\n",
    "plt.ylabel('Frequency')\n",
    "plt.axvline(avg_questions, color='r', linestyle='dashed', linewidth=2, label=f'Average ({avg_questions:.2f})')\n",
    "plt.legend()\n",
    "plt.show()"
   ]
  },
  {
   "cell_type": "markdown",
   "metadata": {},
   "source": [
    "## Find Testimonies with Less than-n Testimonies\n",
    "\n",
    "We can use this data to isolate the testimonies with less than a certain number of questions. These testimonies can be interesting, even though they represent a minority. Fewer questions can indicate two things. Either this can indicate a testimony that is shorter in nature or it can indicate a testimony where the interviewer allows the interviewee to speak for a longer portion of the interview."
   ]
  },
  {
   "cell_type": "code",
   "execution_count": 57,
   "metadata": {},
   "outputs": [
    {
     "name": "stdout",
     "output_type": "stream",
     "text": [
      "\n",
      "Percentage of testimonies with less than 10 questions: 2.95%\n",
      "Number of testimonies with less than 10 questions: 28\n",
      "RG numbers of testimonies with less than {less_than_n_questions} questions:\n",
      "RG-50.030.0313_trs_en_cleaned\n",
      "RG-50.030.0312_trs_en_cleaned\n",
      "RG-50.042.0003_trs_en_cleaned\n",
      "RG-50.030.0308_trs_en_cleaned\n",
      "RG-50.030.0230_trs_en_cleaned\n",
      "RG-50.030.0424_trs_en_cleaned\n",
      "RG-50.030.0317_trs_en_cleaned\n",
      "RG-50.030.0080_trs_en_cleaned\n",
      "RG-50.030.0300_trs_en_cleaned\n",
      "RG-50.030.0304_trs_en_cleaned\n",
      "RG-50.030.0355_trs_en_cleaned\n",
      "RG-50.030.0258_trs_en_cleaned\n",
      "RG-50.042.0027_trs_en_cleaned\n",
      "RG-50.471.0003_trs_en_cleaned\n",
      "RG-50.030.0194_trs_en_cleaned\n",
      "RG-50.030.0011_trs_en_cleaned\n",
      "RG-50.030.0012_trs_en_cleaned\n",
      "RG-50.030.0216_trs_en_cleaned\n",
      "RG-50.030.0170_trs_en_cleaned\n",
      "RG-50.030.0138_trs_en_cleaned\n",
      "RG-50.030.0532_trs_en_cleaned\n",
      "RG-50.233.0058_trs_en_cleaned\n",
      "RG-50.030.0534_trs_en_cleaned\n",
      "RG-50.471.0016_trs_en_cleaned\n",
      "RG-50.030.0338_trs_en_cleaned\n",
      "RG-50.030.0126_trs_en_cleaned\n",
      "RG-50.030.0322_trs_en_cleaned\n",
      "RG-50.106.0126_trs_en_cleaned\n"
     ]
    }
   ],
   "source": [
    "less_than_n_questions = 10\n",
    "testimonies_with_zero_questions = [\n",
    "    item['rg'] for item, count in zip(full_dataset, question_counts) if count < less_than_n_questions\n",
    "]\n",
    "\n",
    "# Calculate the percentage of testimonies with 0 questions\n",
    "percentage_zero_questions = (len(testimonies_with_zero_questions) / len(full_dataset)) * 100\n",
    "\n",
    "print(f\"\\nPercentage of testimonies with less than {less_than_n_questions} questions: {percentage_zero_questions:.2f}%\")\n",
    "print(f\"Number of testimonies with less than {less_than_n_questions} questions: {len(testimonies_with_zero_questions)}\")\n",
    "print(\"RG numbers of testimonies with less than {less_than_n_questions} questions:\")\n",
    "for rg in testimonies_with_zero_questions:\n",
    "    print(rg)"
   ]
  },
  {
   "cell_type": "markdown",
   "metadata": {},
   "source": [
    "## Vectorize and Plot Questions\n",
    "\n",
    "One of the most useful things we can do with this data, though, is to leverage machine learning. We can convert all our 200,000 questions. It is quite computationally expensive to do this in a single notebook and even more challenging to visualize this quantity of data here. Because of this, we will only work with a small subset of our data, the first 10 testimonies."
   ]
  },
  {
   "cell_type": "markdown",
   "metadata": {},
   "source": [
    "## Collect all the Questions\n",
    "\n",
    "First, we need to isolate all the questions. We can do that with the following code snippet."
   ]
  },
  {
   "cell_type": "code",
   "execution_count": 67,
   "metadata": {},
   "outputs": [],
   "source": [
    "all_questions = []\n",
    "rg_numbers = []\n",
    "# Iterate through the dataset and print questions\n",
    "for item in dataset.take(10):\n",
    "    rg = item['rg']\n",
    "    html_content = item['html']\n",
    "    \n",
    "    questions = extract_questions(html_content)\n",
    "    all_questions.extend(questions)\n",
    "    rg_numbers.extend([rg] * len(questions))"
   ]
  },
  {
   "cell_type": "markdown",
   "metadata": {},
   "source": [
    "## Vectorize the Questions\n",
    "\n",
    "Next, we can use a machine learning model via `SentenceTransformers` to vectorize all these questions."
   ]
  },
  {
   "cell_type": "code",
   "execution_count": 64,
   "metadata": {},
   "outputs": [
    {
     "name": "stderr",
     "output_type": "stream",
     "text": [
      "/Applications/anaconda3/envs/fasthtml/lib/python3.10/site-packages/transformers/tokenization_utils_base.py:1601: FutureWarning:\n",
      "\n",
      "`clean_up_tokenization_spaces` was not set. It will be set to `True` by default. This behavior will be depracted in transformers v4.45, and will be then set to `False` by default. For more details check this issue: https://github.com/huggingface/transformers/issues/31884\n",
      "\n"
     ]
    },
    {
     "data": {
      "application/vnd.jupyter.widget-view+json": {
       "model_id": "643a25e6f659431aba47fdf8a08cb8f5",
       "version_major": 2,
       "version_minor": 0
      },
      "text/plain": [
       "Batches:   0%|          | 0/114 [00:00<?, ?it/s]"
      ]
     },
     "metadata": {},
     "output_type": "display_data"
    }
   ],
   "source": [
    "# Initialize SentenceTransformer model\n",
    "model = SentenceTransformer('all-MiniLM-L6-v2')\n",
    "\n",
    "# Vectorize the questions\n",
    "question_embeddings = model.encode(all_questions, show_progress_bar=True)"
   ]
  },
  {
   "cell_type": "markdown",
   "metadata": {},
   "source": [
    "# Dimensionality Reduction\n",
    "\n",
    "With these vectors created, we can now perform dimensionality reduction. Dimensionality reduction is a technique used to reduce the number of features in a dataset while retaining as much of the important information as possible. This process is particularly useful when dealing with high-dimensional data, such as the vector representations of our questions.\n",
    "\n",
    "There are several reasons why dimensionality reduction is beneficial:\n",
    "\n",
    "1. Visualization: It allows us to visualize high-dimensional data in 2D or 3D space, making it easier to identify patterns and clusters.\n",
    "\n",
    "2. Computational Efficiency: Reducing the number of dimensions can significantly speed up machine learning algorithms and reduce memory usage.\n",
    "\n",
    "3. Noise Reduction: It can help in removing noise from the data by focusing on the most important features.\n",
    "\n",
    "4. Overcoming the Curse of Dimensionality: As the number of dimensions increases, the amount of data needed to make statistically sound predictions grows exponentially. Dimensionality reduction helps mitigate this issue.\n",
    "\n",
    "In our case, we're using UMAP (Uniform Manifold Approximation and Projection) for dimensionality reduction. UMAP is a powerful technique that can capture both local and global structure in the data, making it particularly effective for visualizing complex datasets like our question embeddings.\n",
    "\n",
    "By reducing our high-dimensional question embeddings to just two dimensions, we'll be able to create a scatter plot where each point represents a question. This visualization will allow us to see how questions relate to each other in semantic space, potentially revealing clusters of similar questions or other interesting patterns in the data.\n"
   ]
  },
  {
   "cell_type": "code",
   "execution_count": 71,
   "metadata": {},
   "outputs": [
    {
     "name": "stderr",
     "output_type": "stream",
     "text": [
      "/Applications/anaconda3/envs/fasthtml/lib/python3.10/site-packages/umap/umap_.py:1945: UserWarning:\n",
      "\n",
      "n_jobs value 1 overridden to 1 by setting random_state. Use no seed for parallelism.\n",
      "\n"
     ]
    }
   ],
   "source": [
    "# Reduce dimensions with UMAP\n",
    "reducer = umap.UMAP(n_components=2, random_state=42, n_neighbors=5, min_dist=0.5, metric='cosine')\n",
    "umap_embeddings = reducer.fit_transform(question_embeddings)"
   ]
  },
  {
   "cell_type": "markdown",
   "metadata": {},
   "source": [
    "Now we can bring all our data togegther in a single DataFrame. Think of a DataFrame, rather like an Excel spreadsheet. It's a way to visualize tabular data."
   ]
  },
  {
   "cell_type": "code",
   "execution_count": 72,
   "metadata": {},
   "outputs": [
    {
     "data": {
      "text/html": [
       "<div>\n",
       "<style scoped>\n",
       "    .dataframe tbody tr th:only-of-type {\n",
       "        vertical-align: middle;\n",
       "    }\n",
       "\n",
       "    .dataframe tbody tr th {\n",
       "        vertical-align: top;\n",
       "    }\n",
       "\n",
       "    .dataframe thead th {\n",
       "        text-align: right;\n",
       "    }\n",
       "</style>\n",
       "<table border=\"1\" class=\"dataframe\">\n",
       "  <thead>\n",
       "    <tr style=\"text-align: right;\">\n",
       "      <th></th>\n",
       "      <th>UMAP1</th>\n",
       "      <th>UMAP2</th>\n",
       "      <th>Question</th>\n",
       "      <th>RG</th>\n",
       "    </tr>\n",
       "  </thead>\n",
       "  <tbody>\n",
       "    <tr>\n",
       "      <th>0</th>\n",
       "      <td>1.935546</td>\n",
       "      <td>1.239347</td>\n",
       "      <td>Q: Good morning, Alice.</td>\n",
       "      <td>RG-50.030.0469_trs_en_cleaned</td>\n",
       "    </tr>\n",
       "    <tr>\n",
       "      <th>1</th>\n",
       "      <td>0.542093</td>\n",
       "      <td>-1.582287</td>\n",
       "      <td>Q: Welcome, welcome to Washington, and Virginia.</td>\n",
       "      <td>RG-50.030.0469_trs_en_cleaned</td>\n",
       "    </tr>\n",
       "    <tr>\n",
       "      <th>2</th>\n",
       "      <td>-3.421229</td>\n",
       "      <td>2.924561</td>\n",
       "      <td>Q: It's wonderful to have you here, finally, a...</td>\n",
       "      <td>RG-50.030.0469_trs_en_cleaned</td>\n",
       "    </tr>\n",
       "    <tr>\n",
       "      <th>3</th>\n",
       "      <td>2.784522</td>\n",
       "      <td>1.322130</td>\n",
       "      <td>Q: Yes. Alice, tell me when you were born. Wha...</td>\n",
       "      <td>RG-50.030.0469_trs_en_cleaned</td>\n",
       "    </tr>\n",
       "    <tr>\n",
       "      <th>4</th>\n",
       "      <td>2.793391</td>\n",
       "      <td>1.620970</td>\n",
       "      <td>Q: And where were you born?</td>\n",
       "      <td>RG-50.030.0469_trs_en_cleaned</td>\n",
       "    </tr>\n",
       "    <tr>\n",
       "      <th>...</th>\n",
       "      <td>...</td>\n",
       "      <td>...</td>\n",
       "      <td>...</td>\n",
       "      <td>...</td>\n",
       "    </tr>\n",
       "    <tr>\n",
       "      <th>3633</th>\n",
       "      <td>1.044902</td>\n",
       "      <td>4.728747</td>\n",
       "      <td>Q: Never been there.</td>\n",
       "      <td>RG-50.549.02.0043_trs_en_cleaned</td>\n",
       "    </tr>\n",
       "    <tr>\n",
       "      <th>3634</th>\n",
       "      <td>-5.032952</td>\n",
       "      <td>5.916126</td>\n",
       "      <td>Q: Mm-hm, yeah. Once is probably --</td>\n",
       "      <td>RG-50.549.02.0043_trs_en_cleaned</td>\n",
       "    </tr>\n",
       "    <tr>\n",
       "      <th>3635</th>\n",
       "      <td>0.213833</td>\n",
       "      <td>4.346578</td>\n",
       "      <td>Q: How was that?</td>\n",
       "      <td>RG-50.549.02.0043_trs_en_cleaned</td>\n",
       "    </tr>\n",
       "    <tr>\n",
       "      <th>3636</th>\n",
       "      <td>-1.663676</td>\n",
       "      <td>7.216995</td>\n",
       "      <td>Q: Yeah. Well, I really thank you so much for ...</td>\n",
       "      <td>RG-50.549.02.0043_trs_en_cleaned</td>\n",
       "    </tr>\n",
       "    <tr>\n",
       "      <th>3637</th>\n",
       "      <td>0.966476</td>\n",
       "      <td>-3.210905</td>\n",
       "      <td>Q: This concludes the United States Holocaust ...</td>\n",
       "      <td>RG-50.549.02.0043_trs_en_cleaned</td>\n",
       "    </tr>\n",
       "  </tbody>\n",
       "</table>\n",
       "<p>3638 rows × 4 columns</p>\n",
       "</div>"
      ],
      "text/plain": [
       "         UMAP1     UMAP2                                           Question  \\\n",
       "0     1.935546  1.239347                            Q: Good morning, Alice.   \n",
       "1     0.542093 -1.582287   Q: Welcome, welcome to Washington, and Virginia.   \n",
       "2    -3.421229  2.924561  Q: It's wonderful to have you here, finally, a...   \n",
       "3     2.784522  1.322130  Q: Yes. Alice, tell me when you were born. Wha...   \n",
       "4     2.793391  1.620970                        Q: And where were you born?   \n",
       "...        ...       ...                                                ...   \n",
       "3633  1.044902  4.728747                               Q: Never been there.   \n",
       "3634 -5.032952  5.916126                Q: Mm-hm, yeah. Once is probably --   \n",
       "3635  0.213833  4.346578                                   Q: How was that?   \n",
       "3636 -1.663676  7.216995  Q: Yeah. Well, I really thank you so much for ...   \n",
       "3637  0.966476 -3.210905  Q: This concludes the United States Holocaust ...   \n",
       "\n",
       "                                    RG  \n",
       "0        RG-50.030.0469_trs_en_cleaned  \n",
       "1        RG-50.030.0469_trs_en_cleaned  \n",
       "2        RG-50.030.0469_trs_en_cleaned  \n",
       "3        RG-50.030.0469_trs_en_cleaned  \n",
       "4        RG-50.030.0469_trs_en_cleaned  \n",
       "...                                ...  \n",
       "3633  RG-50.549.02.0043_trs_en_cleaned  \n",
       "3634  RG-50.549.02.0043_trs_en_cleaned  \n",
       "3635  RG-50.549.02.0043_trs_en_cleaned  \n",
       "3636  RG-50.549.02.0043_trs_en_cleaned  \n",
       "3637  RG-50.549.02.0043_trs_en_cleaned  \n",
       "\n",
       "[3638 rows x 4 columns]"
      ]
     },
     "execution_count": 72,
     "metadata": {},
     "output_type": "execute_result"
    }
   ],
   "source": [
    "# Create a DataFrame for plotting\n",
    "df = pd.DataFrame({\n",
    "    'UMAP1': umap_embeddings[:, 0],\n",
    "    'UMAP2': umap_embeddings[:, 1],\n",
    "    'Question': all_questions,\n",
    "    'RG': rg_numbers  # Add the RG numbers to the DataFrame\n",
    "})\n",
    "df"
   ]
  },
  {
   "cell_type": "markdown",
   "metadata": {},
   "source": [
    "This shows us our x (UMAP1) and y (UMAP2) coordinates. It also shows us the question to which those coordinates belong and the specific filename (RG Number)."
   ]
  },
  {
   "cell_type": "markdown",
   "metadata": {},
   "source": [
    "## Visualize the Results\n",
    "\n",
    "We can use this data to visualize the results in an interactive plot. The code below creates a scatter plot using Plotly, a powerful library for interactive visualizations. Here's what the code does:\n",
    "\n",
    "1. It creates a scatter plot using `px.scatter()` from Plotly Express.\n",
    "2. The x and y coordinates are set to UMAP1 and UMAP2, which are our reduced dimensions.\n",
    "3. Points are colored based on the RG number, allowing us to see if questions from the same interview cluster together.\n",
    "4. Hover data is set to show the full question text and RG number when a user hovers over a point.\n",
    "5. The plot is given a title and axis labels for clarity.\n",
    "6. The size of the plot is adjusted for better visibility.\n",
    "7. The hover template is customized to display information in a more readable format.\n",
    "8. The layout is adjusted to ensure the plot uses the full available space.\n",
    "9. A color bar title is added to explain what the colors represent.\n",
    "\n",
    "This interactive visualization will allow us to explore the relationships between questions in a visual and intuitive way."
   ]
  },
  {
   "cell_type": "code",
   "execution_count": 70,
   "metadata": {},
   "outputs": [
    {
     "data": {
      "application/vnd.plotly.v1+json": {
       "config": {
        "plotlyServerURL": "https://plot.ly"
       },
       "data": [
        {
         "customdata": [
          [
           "Q: Good morning, Alice.",
           "RG-50.030.0469_trs_en_cleaned"
          ],
          [
           "Q: Welcome, welcome to Washington, and Virginia.",
           "RG-50.030.0469_trs_en_cleaned"
          ],
          [
           "Q: It's wonderful to have you here, finally, after all this time.",
           "RG-50.030.0469_trs_en_cleaned"
          ],
          [
           "Q: Yes. Alice, tell me when you were born. What was the date of -- your date of birth.",
           "RG-50.030.0469_trs_en_cleaned"
          ],
          [
           "Q: And where were you born?",
           "RG-50.030.0469_trs_en_cleaned"
          ],
          [
           "Q: In --",
           "RG-50.030.0469_trs_en_cleaned"
          ],
          [
           "Q: Slovakia. And what was your name when you were born?",
           "RG-50.030.0469_trs_en_cleaned"
          ],
          [
           "Q: R-o-t-h. And it's now?",
           "RG-50.030.0469_trs_en_cleaned"
          ],
          [
           "Q: Jakubovic.",
           "RG-50.030.0469_trs_en_cleaned"
          ],
          [
           "Q: Now I -- I'd like to get some idea about your family life, about your mother and your father and your brother, and what life was like. So tell me -- tell me a little bit about your father. What was he doing?",
           "RG-50.030.0469_trs_en_cleaned"
          ],
          [
           "Q: Yes.",
           "RG-50.030.0469_trs_en_cleaned"
          ],
          [
           "Q: Vera Isen.",
           "RG-50.030.0469_trs_en_cleaned"
          ],
          [
           "Q: But you remembered this --",
           "RG-50.030.0469_trs_en_cleaned"
          ],
          [
           "Q: -- [indecipherable] Isen.",
           "RG-50.030.0469_trs_en_cleaned"
          ],
          [
           "Q: Right.",
           "RG-50.030.0469_trs_en_cleaned"
          ],
          [
           "Q: Nine years older than you.",
           "RG-50.030.0469_trs_en_cleaned"
          ],
          [
           "Q: A what?",
           "RG-50.030.0469_trs_en_cleaned"
          ],
          [
           "Q: Oh, glass.",
           "RG-50.030.0469_trs_en_cleaned"
          ],
          [
           "Q: Well let -- let's -- let's go back just a little bit. Tell me what your father's name was.",
           "RG-50.030.0469_trs_en_cleaned"
          ],
          [
           "Q: And your mother's name?",
           "RG-50.030.0469_trs_en_cleaned"
          ],
          [
           "Q: And your brother?",
           "RG-50.030.0469_trs_en_cleaned"
          ],
          [
           "Q: Nikolas?",
           "RG-50.030.0469_trs_en_cleaned"
          ],
          [
           "Q: [indecipherable] right. Were you close with your father?",
           "RG-50.030.0469_trs_en_cleaned"
          ],
          [
           "Q: With the whole family.",
           "RG-50.030.0469_trs_en_cleaned"
          ],
          [
           "Q: Uh-huh.",
           "RG-50.030.0469_trs_en_cleaned"
          ],
          [
           "Q: So you were a very sensitive child.",
           "RG-50.030.0469_trs_en_cleaned"
          ],
          [
           "Q: What did you like to study, Alice?",
           "RG-50.030.0469_trs_en_cleaned"
          ],
          [
           "Q: When -- when you were a child, what did you like to study?",
           "RG-50.030.0469_trs_en_cleaned"
          ],
          [
           "Q: Always?",
           "RG-50.030.0469_trs_en_cleaned"
          ],
          [
           "Q: And what made you think that you had to teach people to do that? Did you see a lot of cruelty before -- this is before Auschwitz.",
           "RG-50.030.0469_trs_en_cleaned"
          ],
          [
           "Q: No.",
           "RG-50.030.0469_trs_en_cleaned"
          ],
          [
           "Q: Was yours a religious home?",
           "RG-50.030.0469_trs_en_cleaned"
          ],
          [
           "Q: Mm-hm.",
           "RG-50.030.0469_trs_en_cleaned"
          ],
          [
           "Q: Right.",
           "RG-50.030.0469_trs_en_cleaned"
          ],
          [
           "Q: And did you like this, or this was just [indecipherable]",
           "RG-50.030.0469_trs_en_cleaned"
          ],
          [
           "Q: Yes.",
           "RG-50.030.0469_trs_en_cleaned"
          ],
          [
           "Q: Yeah.",
           "RG-50.030.0469_trs_en_cleaned"
          ],
          [
           "Q: Right.",
           "RG-50.030.0469_trs_en_cleaned"
          ],
          [
           "Q: And did you go into the synagogue and stay with her a little bit, or you s --",
           "RG-50.030.0469_trs_en_cleaned"
          ],
          [
           "Q: -- you stay all day?",
           "RG-50.030.0469_trs_en_cleaned"
          ],
          [
           "Q: Yeah.",
           "RG-50.030.0469_trs_en_cleaned"
          ],
          [
           "Q: Right.",
           "RG-50.030.0469_trs_en_cleaned"
          ],
          [
           "Q: Right, right.",
           "RG-50.030.0469_trs_en_cleaned"
          ],
          [
           "Q: And wh-wh-what about Zionism, were your parents Zionists? Or they were not political in any way?",
           "RG-50.030.0469_trs_en_cleaned"
          ],
          [
           "Q: Right. So, since you were born in 1922, when did you start high school, or gymnasium? How old would you have been?",
           "RG-50.030.0469_trs_en_cleaned"
          ],
          [
           "Q: 12 years old.",
           "RG-50.030.0469_trs_en_cleaned"
          ],
          [
           "Q: Right, yeah.",
           "RG-50.030.0469_trs_en_cleaned"
          ],
          [
           "Q: Explain that, wha -- wha --",
           "RG-50.030.0469_trs_en_cleaned"
          ],
          [
           "Q: Did you sew for yourself --",
           "RG-50.030.0469_trs_en_cleaned"
          ],
          [
           "Q: -- you -- you made your own clothes. And did you create the designs?",
           "RG-50.030.0469_trs_en_cleaned"
          ],
          [
           "Q: You did.",
           "RG-50.030.0469_trs_en_cleaned"
          ],
          [
           "Q: You learned how to do that?",
           "RG-50.030.0469_trs_en_cleaned"
          ],
          [
           "Q: That's fabulous. So what were you thinking of teaching at this point, before -- before the Nazis --",
           "RG-50.030.0469_trs_en_cleaned"
          ],
          [
           "Q: Right.",
           "RG-50.030.0469_trs_en_cleaned"
          ],
          [
           "Q: Yes, uh-huh. Right.",
           "RG-50.030.0469_trs_en_cleaned"
          ],
          [
           "Q: Yes.",
           "RG-50.030.0469_trs_en_cleaned"
          ],
          [
           "Q: Really?",
           "RG-50.030.0469_trs_en_cleaned"
          ],
          [
           "Q: That's amazing.",
           "RG-50.030.0469_trs_en_cleaned"
          ],
          [
           "Q: So you met Hugo a long time ago, bef-before the war?",
           "RG-50.030.0469_trs_en_cleaned"
          ],
          [
           "Q: Oh, this is after the war?",
           "RG-50.030.0469_trs_en_cleaned"
          ],
          [
           "Q: I see.",
           "RG-50.030.0469_trs_en_cleaned"
          ],
          [
           "Q: Uh-huh. Right.",
           "RG-50.030.0469_trs_en_cleaned"
          ],
          [
           "Q: Right.",
           "RG-50.030.0469_trs_en_cleaned"
          ],
          [
           "Q: Now when you were growing up, did you have lots of friends?",
           "RG-50.030.0469_trs_en_cleaned"
          ],
          [
           "Q: Right.",
           "RG-50.030.0469_trs_en_cleaned"
          ],
          [
           "Q: And were you close with your brother?",
           "RG-50.030.0469_trs_en_cleaned"
          ],
          [
           "Q: Was he the big brother who took care of you?",
           "RG-50.030.0469_trs_en_cleaned"
          ],
          [
           "Q: Yeah?",
           "RG-50.030.0469_trs_en_cleaned"
          ],
          [
           "Q: He did?",
           "RG-50.030.0469_trs_en_cleaned"
          ],
          [
           "Q: You didn't fight?",
           "RG-50.030.0469_trs_en_cleaned"
          ],
          [
           "Q: No?",
           "RG-50.030.0469_trs_en_cleaned"
          ],
          [
           "Q: That's unusual.",
           "RG-50.030.0469_trs_en_cleaned"
          ],
          [
           "Q: That's very sweet.",
           "RG-50.030.0469_trs_en_cleaned"
          ],
          [
           "Q: Bef -- before Slovakia become independent in \"39, and the war was going on in \"38 in Czechoslovakia, did you feel as you were growing up, anti-Semitism in Czechoslovakia, or did you feel comfortable as a Jewish person?",
           "RG-50.030.0469_trs_en_cleaned"
          ],
          [
           "Q: I felt comfortable, comforta -- only within the last year, when I was not permitted, when I had to study as numerous classes, because it was a mixed class, yes. So the children, I didn't feel anything, only the last year because I knew that I am restricted, yes it -- I cannot study forever.",
           "RG-50.030.0469_trs_en_cleaned"
          ],
          [
           "Q: So did you also have Gentile friends when you were growing up?",
           "RG-50.030.0469_trs_en_cleaned"
          ],
          [
           "Q: So it was a very mixed --",
           "RG-50.030.0469_trs_en_cleaned"
          ],
          [
           "Q: -- assimilated --",
           "RG-50.030.0469_trs_en_cleaned"
          ],
          [
           "Q: And did you identify yourself as a Jewish Czechoslovakian, or Jewish Slovakian, or was that not even in --",
           "RG-50.030.0469_trs_en_cleaned"
          ],
          [
           "Q: Right [indecipherable]",
           "RG-50.030.0469_trs_en_cleaned"
          ],
          [
           "Q: So when -- you were only 11 years old when Hitler took over in Germany in \"33, did you as a child begin to feel things about what was happening in Germany, or not?",
           "RG-50.030.0469_trs_en_cleaned"
          ],
          [
           "Q: Right, right.",
           "RG-50.030.0469_trs_en_cleaned"
          ],
          [
           "Q: You were scared.",
           "RG-50.030.0469_trs_en_cleaned"
          ],
          [
           "Q: Did you know what you were scared about? You ha -- di -- or was it just general [indecipherable]",
           "RG-50.030.0469_trs_en_cleaned"
          ],
          [
           "Q: Right. And when Slovakia became independent, when Tiso took over, it became worse?",
           "RG-50.030.0469_trs_en_cleaned"
          ],
          [
           "Q: So, or not?",
           "RG-50.030.0469_trs_en_cleaned"
          ],
          [
           "Q: No.",
           "RG-50.030.0469_trs_en_cleaned"
          ],
          [
           "Q: But your father kept his business?",
           "RG-50.030.0469_trs_en_cleaned"
          ],
          [
           "Q: He kept the bakery.",
           "RG-50.030.0469_trs_en_cleaned"
          ],
          [
           "Q: So did you --",
           "RG-50.030.0469_trs_en_cleaned"
          ],
          [
           "Q: And did -- your -- it wasn't your father who found this person.",
           "RG-50.030.0469_trs_en_cleaned"
          ],
          [
           "Q: This was -- so who found the per -- who -- who came in and became the legal owner? Who made that happen, your father?",
           "RG-50.030.0469_trs_en_cleaned"
          ],
          [
           "Q: In the beginning.",
           "RG-50.030.0469_trs_en_cleaned"
          ],
          [
           "Q: Uh-huh.",
           "RG-50.030.0469_trs_en_cleaned"
          ],
          [
           "Q: But when the Gentile had to come in and be the actual owner --",
           "RG-50.030.0469_trs_en_cleaned"
          ],
          [
           "Q: Did the government put that person in the place?",
           "RG-50.030.0469_trs_en_cleaned"
          ],
          [
           "Q: Your -- your father had to choose somebody.",
           "RG-50.030.0469_trs_en_cleaned"
          ],
          [
           "Q: It was a woman?",
           "RG-50.030.0469_trs_en_cleaned"
          ],
          [
           "Q: And she's talking about when she left when he was deported?",
           "RG-50.030.0469_trs_en_cleaned"
          ],
          [
           "Q: To be killed. And she's angry?",
           "RG-50.030.0469_trs_en_cleaned"
          ],
          [
           "Q: You did pay?",
           "RG-50.030.0469_trs_en_cleaned"
          ],
          [
           "Q: Right. We're going to have to change the tape, right?",
           "RG-50.030.0469_trs_en_cleaned"
          ],
          [
           "Q: Alice, I was a -- I was asking you a-about this woman who was so mean about your father, and it's quite a -- it's quite an amazing story that -- your response to her.",
           "RG-50.030.0469_trs_en_cleaned"
          ],
          [
           "Q: Because you didn't want her to say anything mean --",
           "RG-50.030.0469_trs_en_cleaned"
          ],
          [
           "Q: Yes.",
           "RG-50.030.0469_trs_en_cleaned"
          ],
          [
           "Q: And she was a terrible person, clearly.",
           "RG-50.030.0469_trs_en_cleaned"
          ],
          [
           "Q: I would doubt that many people would have done anything like that.",
           "RG-50.030.0469_trs_en_cleaned"
          ],
          [
           "Q: Just to look.",
           "RG-50.030.0469_trs_en_cleaned"
          ],
          [
           "Q: Right.",
           "RG-50.030.0469_trs_en_cleaned"
          ],
          [
           "Q: Right.",
           "RG-50.030.0469_trs_en_cleaned"
          ],
          [
           "Q: So now let's go back.",
           "RG-50.030.0469_trs_en_cleaned"
          ],
          [
           "Q: Slovakia enters the war in 1941 when -- when --",
           "RG-50.030.0469_trs_en_cleaned"
          ],
          [
           "Q: -- when the Soviet Union wa -- wa -- when the Soviet Union is a -- is attacked.",
           "RG-50.030.0469_trs_en_cleaned"
          ],
          [
           "Q: And then in m -- March of \"42, this is before you become -- you be -- you get deported to Auschwitz, there is a ghetto in Poprad, is -- am I correct, or no?",
           "RG-50.030.0469_trs_en_cleaned"
          ],
          [
           "Q: So -- so you are still living with your parents when you hear about the fact that you have to go to Poprad, is that right?",
           "RG-50.030.0469_trs_en_cleaned"
          ],
          [
           "Q: You didn't -- you didn't know. What's the -- what happened?",
           "RG-50.030.0469_trs_en_cleaned"
          ],
          [
           "Q: Uh-huh.",
           "RG-50.030.0469_trs_en_cleaned"
          ],
          [
           "Q: How did your brother know? Do you know?",
           "RG-50.030.0469_trs_en_cleaned"
          ],
          [
           "Q: Somebody told him.",
           "RG-50.030.0469_trs_en_cleaned"
          ],
          [
           "Q: So you only thought you were registering.",
           "RG-50.030.0469_trs_en_cleaned"
          ],
          [
           "Q: Was there any discussion in the house about not registering?",
           "RG-50.030.0469_trs_en_cleaned"
          ],
          [
           "Q: About just trying to escape? Nothing.",
           "RG-50.030.0469_trs_en_cleaned"
          ],
          [
           "Q: Right.",
           "RG-50.030.0469_trs_en_cleaned"
          ],
          [
           "Q: So your brother tells you that you're going to be going somewhere, but somebody's got to say you must leave the house. How did you know to go wherever you were going?",
           "RG-50.030.0469_trs_en_cleaned"
          ],
          [
           "Q: Yes.",
           "RG-50.030.0469_trs_en_cleaned"
          ],
          [
           "Q: You walked by yourself to the -- to [indecipherable]",
           "RG-50.030.0469_trs_en_cleaned"
          ],
          [
           "Q: And what did you pack? What did you put in there?",
           "RG-50.030.0469_trs_en_cleaned"
          ],
          [
           "Q: Nice clothing?",
           "RG-50.030.0469_trs_en_cleaned"
          ],
          [
           "Q: And you were wearing boots?",
           "RG-50.030.0469_trs_en_cleaned"
          ],
          [
           "Q: It was cold?",
           "RG-50.030.0469_trs_en_cleaned"
          ],
          [
           "Q: Yeah.",
           "RG-50.030.0469_trs_en_cleaned"
          ],
          [
           "Q: Gloves?",
           "RG-50.030.0469_trs_en_cleaned"
          ],
          [
           "Q: Do you remember saying good-bye to your mother and father?",
           "RG-50.030.0469_trs_en_cleaned"
          ],
          [
           "Q: Well, that must have been really hard.",
           "RG-50.030.0469_trs_en_cleaned"
          ],
          [
           "Q: Yeah.",
           "RG-50.030.0469_trs_en_cleaned"
          ],
          [
           "Q: And your father was --",
           "RG-50.030.0469_trs_en_cleaned"
          ],
          [
           "Q: Stayed at home.",
           "RG-50.030.0469_trs_en_cleaned"
          ],
          [
           "Q: Uh-huh.",
           "RG-50.030.0469_trs_en_cleaned"
          ],
          [
           "Q: Yes. So how did you get from PreSov to Poprad?",
           "RG-50.030.0469_trs_en_cleaned"
          ],
          [
           "Q: On a regular train.",
           "RG-50.030.0469_trs_en_cleaned"
          ],
          [
           "Q: So when did you find out it was an SS? Later?",
           "RG-50.030.0469_trs_en_cleaned"
          ],
          [
           "Q: Oh, you knew then?",
           "RG-50.030.0469_trs_en_cleaned"
          ],
          [
           "Q: That's interesting.",
           "RG-50.030.0469_trs_en_cleaned"
          ],
          [
           "Q: Yes. So now you go back and you're with these, what, close to a thousand women, 999 women, is that right?",
           "RG-50.030.0469_trs_en_cleaned"
          ],
          [
           "Q: Did you know a lot of the people, because they were a number of women from PreSov.",
           "RG-50.030.0469_trs_en_cleaned"
          ],
          [
           "Q: Yeah.",
           "RG-50.030.0469_trs_en_cleaned"
          ],
          [
           "Q: You knew everybody.",
           "RG-50.030.0469_trs_en_cleaned"
          ],
          [
           "Q: So, you're the only one of the group who realizes that you're going to Poland [indecipherable]",
           "RG-50.030.0469_trs_en_cleaned"
          ],
          [
           "Q: So you must have been really frightened then.",
           "RG-50.030.0469_trs_en_cleaned"
          ],
          [
           "Q: Uh-huh.",
           "RG-50.030.0469_trs_en_cleaned"
          ],
          [
           "Q: Yeah.",
           "RG-50.030.0469_trs_en_cleaned"
          ],
          [
           "Q: Right.",
           "RG-50.030.0469_trs_en_cleaned"
          ],
          [
           "Q: Mm.",
           "RG-50.030.0469_trs_en_cleaned"
          ],
          [
           "Q: Had you been hearing anything about the killings of Jews in the Soviet Union when the Germans attacked the Soviet Union, or you heard nothing?",
           "RG-50.030.0469_trs_en_cleaned"
          ],
          [
           "Q: Cause in \"41 --",
           "RG-50.030.0469_trs_en_cleaned"
          ],
          [
           "Q: -- when -- when they -- so did you hear rumors that the Germans were killing --",
           "RG-50.030.0469_trs_en_cleaned"
          ],
          [
           "Q: You don't remember.",
           "RG-50.030.0469_trs_en_cleaned"
          ],
          [
           "Q: So your fear is -- is based on your -- your own experiences --",
           "RG-50.030.0469_trs_en_cleaned"
          ],
          [
           "Q: Your instinct.",
           "RG-50.030.0469_trs_en_cleaned"
          ],
          [
           "Q: Uh-huh.",
           "RG-50.030.0469_trs_en_cleaned"
          ],
          [
           "Q: So you're there for three nights in Poprad, right?",
           "RG-50.030.0469_trs_en_cleaned"
          ],
          [
           "Q: Uh-huh.",
           "RG-50.030.0469_trs_en_cleaned"
          ],
          [
           "Q: So it's four nights.",
           "RG-50.030.0469_trs_en_cleaned"
          ],
          [
           "Q: So did they feed you?",
           "RG-50.030.0469_trs_en_cleaned"
          ],
          [
           "Q: Right. But you're not doing anything?",
           "RG-50.030.0469_trs_en_cleaned"
          ],
          [
           "Q: You're just waiting.",
           "RG-50.030.0469_trs_en_cleaned"
          ],
          [
           "Q: [indecipherable]",
           "RG-50.030.0469_trs_en_cleaned"
          ],
          [
           "Q: Did you become depressed during these few days before the --",
           "RG-50.030.0469_trs_en_cleaned"
          ],
          [
           "Q: You were depressed.",
           "RG-50.030.0469_trs_en_cleaned"
          ],
          [
           "Q: Yes.",
           "RG-50.030.0469_trs_en_cleaned"
          ],
          [
           "Q: People knew that -- everybody knew after a certain amount of time, they weren't going to the shoe company?",
           "RG-50.030.0469_trs_en_cleaned"
          ],
          [
           "Q: Yes.",
           "RG-50.030.0469_trs_en_cleaned"
          ],
          [
           "Q: Were peop -- people talking a great deal, it was very quiet, was it [indecipherable]",
           "RG-50.030.0469_trs_en_cleaned"
          ],
          [
           "Q: It was quiet?",
           "RG-50.030.0469_trs_en_cleaned"
          ],
          [
           "Q: Were people crying?",
           "RG-50.030.0469_trs_en_cleaned"
          ],
          [
           "Q: Right.",
           "RG-50.030.0469_trs_en_cleaned"
          ],
          [
           "Q: So th -- oh, okay. I think I want to stop now and change the tape, cause --",
           "RG-50.030.0469_trs_en_cleaned"
          ],
          [
           "Q: -- I don't want to start.",
           "RG-50.030.0469_trs_en_cleaned"
          ],
          [
           "Q: Alice, so you're waiting for somebody to tell you that you're all leaving?",
           "RG-50.030.0469_trs_en_cleaned"
          ],
          [
           "Q: Yeah.",
           "RG-50.030.0469_trs_en_cleaned"
          ],
          [
           "Q: And you were still hoping?",
           "RG-50.030.0469_trs_en_cleaned"
          ],
          [
           "Q: I know. Does somebody come into this room and say you're now leaving, get up?",
           "RG-50.030.0469_trs_en_cleaned"
          ],
          [
           "Q: Do you still have your luggage with you?",
           "RG-50.030.0469_trs_en_cleaned"
          ],
          [
           "Q: [indecipherable]",
           "RG-50.030.0469_trs_en_cleaned"
          ],
          [
           "Q: You have a toothbrush too?",
           "RG-50.030.0469_trs_en_cleaned"
          ],
          [
           "Q: Everything.",
           "RG-50.030.0469_trs_en_cleaned"
          ],
          [
           "Q: Everything.",
           "RG-50.030.0469_trs_en_cleaned"
          ],
          [
           "Q: Do you remember the time of day when you left to go into the train, the cattle car? Was it morning, was it evening?",
           "RG-50.030.0469_trs_en_cleaned"
          ],
          [
           "Q: But now when you were leaving Poprad to go to Oswiecim even though you don't know yet that that's where you're going --",
           "RG-50.030.0469_trs_en_cleaned"
          ],
          [
           "Q: -- do they take you from Poprad in th -- at night, or in the morning, do you remember?",
           "RG-50.030.0469_trs_en_cleaned"
          ],
          [
           "Q: And these were cattle cars, these were open without seats, obviously, right [indecipherable]",
           "RG-50.030.0469_trs_en_cleaned"
          ],
          [
           "Q: There were some seats?",
           "RG-50.030.0469_trs_en_cleaned"
          ],
          [
           "Q: Benches, uh-huh.",
           "RG-50.030.0469_trs_en_cleaned"
          ],
          [
           "Q: And did you still have your luggage with you?",
           "RG-50.030.0469_trs_en_cleaned"
          ],
          [
           "Q: You still had your luggage. So were you able to sit actually?",
           "RG-50.030.0469_trs_en_cleaned"
          ],
          [
           "Q: You were?",
           "RG-50.030.0469_trs_en_cleaned"
          ],
          [
           "Q: So this is not like some of the stories much later where people are standing the whole trip without -- you --",
           "RG-50.030.0469_trs_en_cleaned"
          ],
          [
           "Q: And again it's quiet?",
           "RG-50.030.0469_trs_en_cleaned"
          ],
          [
           "Q: But not noisy at all?",
           "RG-50.030.0469_trs_en_cleaned"
          ],
          [
           "Q: That's all.",
           "RG-50.030.0469_trs_en_cleaned"
          ],
          [
           "Q: Was there water to drink?",
           "RG-50.030.0469_trs_en_cleaned"
          ],
          [
           "Q: No. So you had no food with you?",
           "RG-50.030.0469_trs_en_cleaned"
          ],
          [
           "Q: So how long -- do you remember about how long you were on the train?",
           "RG-50.030.0469_trs_en_cleaned"
          ],
          [
           "Q: You arrived.",
           "RG-50.030.0469_trs_en_cleaned"
          ],
          [
           "Q: Now, did you arrive at the camp, or did you arrive in Oswiecim the town and have to walk?",
           "RG-50.030.0469_trs_en_cleaned"
          ],
          [
           "Q: Right.",
           "RG-50.030.0469_trs_en_cleaned"
          ],
          [
           "Q: A little bit --",
           "RG-50.030.0469_trs_en_cleaned"
          ],
          [
           "Q: -- but say it and then you can translate it.",
           "RG-50.030.0469_trs_en_cleaned"
          ],
          [
           "Q: Right.",
           "RG-50.030.0469_trs_en_cleaned"
          ],
          [
           "Q: You entered Auschwitz one.",
           "RG-50.030.0469_trs_en_cleaned"
          ],
          [
           "Q: Was this a half hour walk, do you remember, an hour walk, was it --",
           "RG-50.030.0469_trs_en_cleaned"
          ],
          [
           "Q: Did you happen to see any sign? Was there a sign that said lager [indecipherable]",
           "RG-50.030.0469_trs_en_cleaned"
          ],
          [
           "Q: You knew this was not going to be the best situation.",
           "RG-50.030.0469_trs_en_cleaned"
          ],
          [
           "Q: You didn't.",
           "RG-50.030.0469_trs_en_cleaned"
          ],
          [
           "Q: She didn't -- uh-huh. You were fl -- you were fluent in German?",
           "RG-50.030.0469_trs_en_cleaned"
          ],
          [
           "Q: Yes -- right",
           "RG-50.030.0469_trs_en_cleaned"
          ],
          [
           "Q: So whatever you were dressed in.",
           "RG-50.030.0469_trs_en_cleaned"
          ],
          [
           "Q: Did you have any piece of jewelry with you, something that was personal?",
           "RG-50.030.0469_trs_en_cleaned"
          ],
          [
           "Q: Still? Right.",
           "RG-50.030.0469_trs_en_cleaned"
          ],
          [
           "Q: Still. Right. Still ha -- you have [indecipherable]",
           "RG-50.030.0469_trs_en_cleaned"
          ],
          [
           "Q: Right. So then you line up, and what do they do? They just count you?",
           "RG-50.030.0469_trs_en_cleaned"
          ],
          [
           "Q: So what were the rules?",
           "RG-50.030.0469_trs_en_cleaned"
          ],
          [
           "Q: To obey. Whatever you're told to do.",
           "RG-50.030.0469_trs_en_cleaned"
          ],
          [
           "Q: The dist -- uh-huh, right.",
           "RG-50.030.0469_trs_en_cleaned"
          ],
          [
           "Q: So you had to be that distance between you on the sides, and in front, and then --",
           "RG-50.030.0469_trs_en_cleaned"
          ],
          [
           "Q: Not so.",
           "RG-50.030.0469_trs_en_cleaned"
          ],
          [
           "Q: Right. So you go into one part of Auschwitz one, there's barracks one through 11, I think, and they -- there is a -- a wall around it?",
           "RG-50.030.0469_trs_en_cleaned"
          ],
          [
           "Q: In Auschwitz one, that they built because they knew the women were coming.",
           "RG-50.030.0469_trs_en_cleaned"
          ],
          [
           "Q: So it's a very brutal experience, I imagine, so different from anything that you've ever experienced or imagined in your life.",
           "RG-50.030.0469_trs_en_cleaned"
          ],
          [
           "Q: Yeah, clogs.",
           "RG-50.030.0469_trs_en_cleaned"
          ],
          [
           "Q: It was the si --",
           "RG-50.030.0469_trs_en_cleaned"
          ],
          [
           "Q: So they're wearing uniforms, these girls?",
           "RG-50.030.0469_trs_en_cleaned"
          ],
          [
           "Q: You were also wearing uniforms. So they immediately took your clothes. Did they do that within the first day or two, they took your clothes?",
           "RG-50.030.0469_trs_en_cleaned"
          ],
          [
           "Q: Yes.",
           "RG-50.030.0469_trs_en_cleaned"
          ],
          [
           "Q: Right.",
           "RG-50.030.0469_trs_en_cleaned"
          ],
          [
           "Q: Yeah.",
           "RG-50.030.0469_trs_en_cleaned"
          ],
          [
           "Q: Everywhere, your privates.",
           "RG-50.030.0469_trs_en_cleaned"
          ],
          [
           "Q: Everywhere on your body that was hair -- that had hair.",
           "RG-50.030.0469_trs_en_cleaned"
          ],
          [
           "Q: So what was on this brush? This was d-disinfectant of some kind, or soap --",
           "RG-50.030.0469_trs_en_cleaned"
          ],
          [
           "Q: The water?",
           "RG-50.030.0469_trs_en_cleaned"
          ],
          [
           "Q: So was everybody so red and bleeding as -- as you?",
           "RG-50.030.0469_trs_en_cleaned"
          ],
          [
           "Q: She was --",
           "RG-50.030.0469_trs_en_cleaned"
          ],
          [
           "Q: Did you begin to get angry as well as depressed?",
           "RG-50.030.0469_trs_en_cleaned"
          ],
          [
           "Q: Everything.",
           "RG-50.030.0469_trs_en_cleaned"
          ],
          [
           "Q: Same water for everybody.",
           "RG-50.030.0469_trs_en_cleaned"
          ],
          [
           "Q: Without [indecipherable]",
           "RG-50.030.0469_trs_en_cleaned"
          ],
          [
           "Q: Explain something to me, you say you were in a basin.",
           "RG-50.030.0469_trs_en_cleaned"
          ],
          [
           "Q: You were -- do you mean that literally?",
           "RG-50.030.0469_trs_en_cleaned"
          ],
          [
           "Q: In a big basin, all of you were there, and that's where they were scr -- scraping you?",
           "RG-50.030.0469_trs_en_cleaned"
          ],
          [
           "Q: That's where the water was? Was there water up high?",
           "RG-50.030.0469_trs_en_cleaned"
          ],
          [
           "Q: It was, ah.",
           "RG-50.030.0469_trs_en_cleaned"
          ],
          [
           "Q: At the same --",
           "RG-50.030.0469_trs_en_cleaned"
          ],
          [
           "Q: Right.",
           "RG-50.030.0469_trs_en_cleaned"
          ],
          [
           "Q: And how did you get in?",
           "RG-50.030.0469_trs_en_cleaned"
          ],
          [
           "Q: Stairs into the basin, I see.",
           "RG-50.030.0469_trs_en_cleaned"
          ],
          [
           "Q: So then they give you clothes, you don't get a tattoo yet?",
           "RG-50.030.0469_trs_en_cleaned"
          ],
          [
           "Q: Tattoo is later.",
           "RG-50.030.0469_trs_en_cleaned"
          ],
          [
           "Q: Do you get a number?",
           "RG-50.030.0469_trs_en_cleaned"
          ],
          [
           "Q: On this -- on the uniform, there's nothing?",
           "RG-50.030.0469_trs_en_cleaned"
          ],
          [
           "Q: So --",
           "RG-50.030.0469_trs_en_cleaned"
          ],
          [
           "Q: In Auschwitz one.",
           "RG-50.030.0469_trs_en_cleaned"
          ],
          [
           "Q: You had running water.",
           "RG-50.030.0469_trs_en_cleaned"
          ],
          [
           "Q: When did you -- when did you find out?",
           "RG-50.030.0469_trs_en_cleaned"
          ],
          [
           "Q: That there was --",
           "RG-50.030.0469_trs_en_cleaned"
          ],
          [
           "Q: Uh-huh.",
           "RG-50.030.0469_trs_en_cleaned"
          ],
          [
           "Q: So you -- did you have to write on this registration form?",
           "RG-50.030.0469_trs_en_cleaned"
          ],
          [
           "Q: Yes. You took off the number.",
           "RG-50.030.0469_trs_en_cleaned"
          ],
          [
           "Q: Right.",
           "RG-50.030.0469_trs_en_cleaned"
          ],
          [
           "Q: 1287 was your number.",
           "RG-50.030.0469_trs_en_cleaned"
          ],
          [
           "Q: Right.",
           "RG-50.030.0469_trs_en_cleaned"
          ],
          [
           "Q: Absolutely, cause the first 999 were from Ravensbriick.",
           "RG-50.030.0469_trs_en_cleaned"
          ],
          [
           "Q: So [indecipherable] the first Jewish transport women.",
           "RG-50.030.0469_trs_en_cleaned"
          ],
          [
           "Q: Right.",
           "RG-50.030.0469_trs_en_cleaned"
          ],
          [
           "Q: No, not many [indecipherable] one of the lowest numbers of the Jewish women.",
           "RG-50.030.0469_trs_en_cleaned"
          ],
          [
           "Q: That's for sure.",
           "RG-50.030.0469_trs_en_cleaned"
          ],
          [
           "Q: You know that some people say there was nothing put in the food.",
           "RG-50.030.0469_trs_en_cleaned"
          ],
          [
           "Q: Uh-huh.",
           "RG-50.030.0469_trs_en_cleaned"
          ],
          [
           "Q: Right. So yo-you think it was a couple of months, it was sometime in May when you got the tattoo?",
           "RG-50.030.0469_trs_en_cleaned"
          ],
          [
           "Q: Do you remember what -- what he used to do the tattoo, was there a --",
           "RG-50.030.0469_trs_en_cleaned"
          ],
          [
           "Q: Some needles.",
           "RG-50.030.0469_trs_en_cleaned"
          ],
          [
           "Q: Did it work the first time?",
           "RG-50.030.0469_trs_en_cleaned"
          ],
          [
           "Q: It did?",
           "RG-50.030.0469_trs_en_cleaned"
          ],
          [
           "Q: It stayed?",
           "RG-50.030.0469_trs_en_cleaned"
          ],
          [
           "Q: Some of them, but with you it was okay.",
           "RG-50.030.0469_trs_en_cleaned"
          ],
          [
           "Q: What was that like for you to have a tattoo? What a strange [indecipherable]",
           "RG-50.030.0469_trs_en_cleaned"
          ],
          [
           "Q: That's it.",
           "RG-50.030.0469_trs_en_cleaned"
          ],
          [
           "Q: So you had a certain kind of calm about you in a -- in a way?",
           "RG-50.030.0469_trs_en_cleaned"
          ],
          [
           "Q: That this was what the world was, and this is how you were going to do that.",
           "RG-50.030.0469_trs_en_cleaned"
          ],
          [
           "Q: Yes.",
           "RG-50.030.0469_trs_en_cleaned"
          ],
          [
           "Q: Okay, let's --",
           "RG-50.030.0469_trs_en_cleaned"
          ],
          [
           "Q: Very scary.",
           "RG-50.030.0469_trs_en_cleaned"
          ],
          [
           "Q: Alice, did you see yourself in a mirror v-very early on, during the first few days?",
           "RG-50.030.0469_trs_en_cleaned"
          ],
          [
           "Q: Yeah?",
           "RG-50.030.0469_trs_en_cleaned"
          ],
          [
           "Q: It was better not to see yourself, do you think?",
           "RG-50.030.0469_trs_en_cleaned"
          ],
          [
           "Q: But you were wearing cl -- those wooden clogs?",
           "RG-50.030.0469_trs_en_cleaned"
          ],
          [
           "Q: So did you turn away fast?",
           "RG-50.030.0469_trs_en_cleaned"
          ],
          [
           "Q: You stopped to be yourself?",
           "RG-50.030.0469_trs_en_cleaned"
          ],
          [
           "Q: So you -- once you saw yourself, that -- that hurt you for the next few days? It was difficult for you?",
           "RG-50.030.0469_trs_en_cleaned"
          ],
          [
           "Q: No more.",
           "RG-50.030.0469_trs_en_cleaned"
          ],
          [
           "Q: Right.",
           "RG-50.030.0469_trs_en_cleaned"
          ],
          [
           "Q: So everything was transformed?",
           "RG-50.030.0469_trs_en_cleaned"
          ],
          [
           "Q: Including your insides?",
           "RG-50.030.0469_trs_en_cleaned"
          ],
          [
           "Q: And you were lonely.",
           "RG-50.030.0469_trs_en_cleaned"
          ],
          [
           "Q: So if you knew somebody, you were able to have communication, and if you didn't --",
           "RG-50.030.0469_trs_en_cleaned"
          ],
          [
           "Q: -- know them, you didn't -- you didn't bother.",
           "RG-50.030.0469_trs_en_cleaned"
          ],
          [
           "Q: Nothing.",
           "RG-50.030.0469_trs_en_cleaned"
          ],
          [
           "Q: Right, right.",
           "RG-50.030.0469_trs_en_cleaned"
          ],
          [
           "Q: What was her name?",
           "RG-50.030.0469_trs_en_cleaned"
          ],
          [
           "Q: That's great.",
           "RG-50.030.0469_trs_en_cleaned"
          ],
          [
           "Q: So you were together for a -- a year --",
           "RG-50.030.0469_trs_en_cleaned"
          ],
          [
           "Q: A few months.",
           "RG-50.030.0469_trs_en_cleaned"
          ],
          [
           "Q: Mm-hm.",
           "RG-50.030.0469_trs_en_cleaned"
          ],
          [
           "Q: Was that Pinkus?",
           "RG-50.030.0469_trs_en_cleaned"
          ],
          [
           "Q: Was his name Pinkus?",
           "RG-50.030.0469_trs_en_cleaned"
          ],
          [
           "Q: You -- you don't know his name.",
           "RG-50.030.0469_trs_en_cleaned"
          ],
          [
           "Q: [her -- I think he may be the same person, I'm not sure.",
           "RG-50.030.0469_trs_en_cleaned"
          ],
          [
           "Q: I'm not sure.",
           "RG-50.030.0469_trs_en_cleaned"
          ],
          [
           "Q: Let -- let's go back before Birkenau. You -- y-you are in Auschwitz one from March 26\" until",
           "RG-50.030.0469_trs_en_cleaned"
          ],
          [
           "Q: -- au -- August six -- si -- si -- August six you move to Birkenau. So --",
           "RG-50.030.0469_trs_en_cleaned"
          ],
          [
           "Q: Right?",
           "RG-50.030.0469_trs_en_cleaned"
          ],
          [
           "Q: Think it's the sixth.",
           "RG-50.030.0469_trs_en_cleaned"
          ],
          [
           "Q: You have some jobs --",
           "RG-50.030.0469_trs_en_cleaned"
          ],
          [
           "Q: -- when you're in Auschwitz one.",
           "RG-50.030.0469_trs_en_cleaned"
          ],
          [
           "Q: You worked in the laundry. Is that right?",
           "RG-50.030.0469_trs_en_cleaned"
          ],
          [
           "Q: That's the sewing.",
           "RG-50.030.0469_trs_en_cleaned"
          ],
          [
           "Q: Which is a demolition.",
           "RG-50.030.0469_trs_en_cleaned"
          ],
          [
           "Q: Right, you had a -- like a big pole, you were --",
           "RG-50.030.0469_trs_en_cleaned"
          ],
          [
           "Q: You were on --",
           "RG-50.030.0469_trs_en_cleaned"
          ],
          [
           "Q: -- the side of this pole, yes?",
           "RG-50.030.0469_trs_en_cleaned"
          ],
          [
           "Q: And [indecipherable]",
           "RG-50.030.0469_trs_en_cleaned"
          ],
          [
           "Q: Yes.",
           "RG-50.030.0469_trs_en_cleaned"
          ],
          [
           "Q: So let's go back, wh-when you got the job in the laundry, who assigned people to the job? Do you have any reco -- recollection?",
           "RG-50.030.0469_trs_en_cleaned"
          ],
          [
           "Q: Really?",
           "RG-50.030.0469_trs_en_cleaned"
          ],
          [
           "Q: And you were inside when you did that.",
           "RG-50.030.0469_trs_en_cleaned"
          ],
          [
           "Q: Let me just ask you something. Whose clothes were you washing, do you know?",
           "RG-50.030.0469_trs_en_cleaned"
          ],
          [
           "Q: Really?",
           "RG-50.030.0469_trs_en_cleaned"
          ],
          [
           "Q: Right.",
           "RG-50.030.0469_trs_en_cleaned"
          ],
          [
           "Q: Now, were you able to wash yourself, because there was one -- running water in the barrack at Auschwitz one?",
           "RG-50.030.0469_trs_en_cleaned"
          ],
          [
           "Q: So you had a certain kind of hygiene that you could --",
           "RG-50.030.0469_trs_en_cleaned"
          ],
          [
           "Q: That's -- yeah -- yes.",
           "RG-50.030.0469_trs_en_cleaned"
          ],
          [
           "Q: And then it changes quite radically.",
           "RG-50.030.0469_trs_en_cleaned"
          ],
          [
           "Q: Yes. And the sewing room, what are you sewing?",
           "RG-50.030.0469_trs_en_cleaned"
          ],
          [
           "Q: Repairing.",
           "RG-50.030.0469_trs_en_cleaned"
          ],
          [
           "Q: And repairing uniforms or clothes that people -- the haftling are wearing?",
           "RG-50.030.0469_trs_en_cleaned"
          ],
          [
           "Q: Stripes, yes.",
           "RG-50.030.0469_trs_en_cleaned"
          ],
          [
           "Q: So that's what you were repairing?",
           "RG-50.030.0469_trs_en_cleaned"
          ],
          [
           "Q: Now, when you go --",
           "RG-50.030.0469_trs_en_cleaned"
          ],
          [
           "Q: Yes.",
           "RG-50.030.0469_trs_en_cleaned"
          ],
          [
           "Q: Right. Male and female, or just female do you think?",
           "RG-50.030.0469_trs_en_cleaned"
          ],
          [
           "Q: You don't know.",
           "RG-50.030.0469_trs_en_cleaned"
          ],
          [
           "Q: Right, right.",
           "RG-50.030.0469_trs_en_cleaned"
          ],
          [
           "Q: So then you're put on this demolition crew, and I gather that's where you meet Helen Teshauer, Tsipi. Or not --",
           "RG-50.030.0469_trs_en_cleaned"
          ],
          [
           "Q: Not on demolition --",
           "RG-50.030.0469_trs_en_cleaned"
          ],
          [
           "Q: -- you -- you [indecipherable]",
           "RG-50.030.0469_trs_en_cleaned"
          ],
          [
           "Q: -- in the field you met her?",
           "RG-50.030.0469_trs_en_cleaned"
          ],
          [
           "Q: And why did you like her approach, what was it about her that you remember?",
           "RG-50.030.0469_trs_en_cleaned"
          ],
          [
           "Q: Logic.",
           "RG-50.030.0469_trs_en_cleaned"
          ],
          [
           "Q: So would you say that you both had a kind of practical approach --",
           "RG-50.030.0469_trs_en_cleaned"
          ],
          [
           "Q: -- to what you were in?",
           "RG-50.030.0469_trs_en_cleaned"
          ],
          [
           "Q: So she was short, and a little stocky, is that what you said, a little --",
           "RG-50.030.0469_trs_en_cleaned"
          ],
          [
           "Q: [indecipherable]",
           "RG-50.030.0469_trs_en_cleaned"
          ],
          [
           "Q: A little short.",
           "RG-50.030.0469_trs_en_cleaned"
          ],
          [
           "Q: Now, did you meet her after you were doing the demolition? This is before Birkenau.",
           "RG-50.030.0469_trs_en_cleaned"
          ],
          [
           "Q: No",
           "RG-50.030.0469_trs_en_cleaned"
          ],
          [
           "Q: Cause you did demolition after the sewing room.",
           "RG-50.030.0469_trs_en_cleaned"
          ],
          [
           "Q: Afterwards.",
           "RG-50.030.0469_trs_en_cleaned"
          ],
          [
           "Q: Was -- given your description of yourself, that you were small and you weren't so strong, was demolition difficult for you?",
           "RG-50.030.0469_trs_en_cleaned"
          ],
          [
           "Q: A scarf?",
           "RG-50.030.0469_trs_en_cleaned"
          ],
          [
           "Q: This was the --",
           "RG-50.030.0469_trs_en_cleaned"
          ],
          [
           "Q: -- the -- the instrument that you used was like a long log with -- with iron-like -- something to hold onto on the sides, right?",
           "RG-50.030.0469_trs_en_cleaned"
          ],
          [
           "Q: And so that you were what, like eight women, or 10 women --",
           "RG-50.030.0469_trs_en_cleaned"
          ],
          [
           "Q: Uh-huh.",
           "RG-50.030.0469_trs_en_cleaned"
          ],
          [
           "Q: I see, it was already, I see.",
           "RG-50.030.0469_trs_en_cleaned"
          ],
          [
           "Q: Uh-huh.",
           "RG-50.030.0469_trs_en_cleaned"
          ],
          [
           "Q: And so you did that for what, a couple of months?",
           "RG-50.030.0469_trs_en_cleaned"
          ],
          [
           "Q: It wasn't --",
           "RG-50.030.0469_trs_en_cleaned"
          ],
          [
           "Q: Gum plants?",
           "RG-50.030.0469_trs_en_cleaned"
          ],
          [
           "Q: For rubber?",
           "RG-50.030.0469_trs_en_cleaned"
          ],
          [
           "Q: Rubber.",
           "RG-50.030.0469_trs_en_cleaned"
          ],
          [
           "Q: Did that make -- did that help your body, did you get stronger, or did it make you weaker?",
           "RG-50.030.0469_trs_en_cleaned"
          ],
          [
           "Q: You didn't.",
           "RG-50.030.0469_trs_en_cleaned"
          ],
          [
           "Q: The -- the Russian -- is those pajamas.",
           "RG-50.030.0469_trs_en_cleaned"
          ],
          [
           "Q: [indecipherable] military uniforms.",
           "RG-50.030.0469_trs_en_cleaned"
          ],
          [
           "Q: Right.",
           "RG-50.030.0469_trs_en_cleaned"
          ],
          [
           "Q: Warmer.",
           "RG-50.030.0469_trs_en_cleaned"
          ],
          [
           "Q: Did you have trouble with your feet because of the shoes rubbing on your feet? Did you get sores?",
           "RG-50.030.0469_trs_en_cleaned"
          ],
          [
           "Q: Oh, that's late.",
           "RG-50.030.0469_trs_en_cleaned"
          ],
          [
           "Q: But not -- not early?",
           "RG-50.030.0469_trs_en_cleaned"
          ],
          [
           "Q: You don't remember.",
           "RG-50.030.0469_trs_en_cleaned"
          ],
          [
           "Q: Yes, so we -- we'll stop the tape and you'll --",
           "RG-50.030.0469_trs_en_cleaned"
          ],
          [
           "Q: Yes?",
           "RG-50.030.0469_trs_en_cleaned"
          ],
          [
           "Q: That's later. Okay.",
           "RG-50.030.0469_trs_en_cleaned"
          ],
          [
           "Q: We were talking about the shoes.",
           "RG-50.030.0469_trs_en_cleaned"
          ],
          [
           "Q: And -- and the problem you might have had with your -- with your feet, and it was leading to another story, yes?",
           "RG-50.030.0469_trs_en_cleaned"
          ],
          [
           "Q: Yes, so tell me.",
           "RG-50.030.0469_trs_en_cleaned"
          ],
          [
           "Q: Yeah.",
           "RG-50.030.0469_trs_en_cleaned"
          ],
          [
           "Q: So you did take risks, didn't you?",
           "RG-50.030.0469_trs_en_cleaned"
          ],
          [
           "Q: Cause it was risky for you to move.",
           "RG-50.030.0469_trs_en_cleaned"
          ],
          [
           "Q: Where did that come from?",
           "RG-50.030.0469_trs_en_cleaned"
          ],
          [
           "Q: You don't know.",
           "RG-50.030.0469_trs_en_cleaned"
          ],
          [
           "Q: You don't know.",
           "RG-50.030.0469_trs_en_cleaned"
          ],
          [
           "Q: Did you see dead bodies in Auschwitz one?",
           "RG-50.030.0469_trs_en_cleaned"
          ],
          [
           "Q: Dead bodies.",
           "RG-50.030.0469_trs_en_cleaned"
          ],
          [
           "Q: Yes, corpses.",
           "RG-50.030.0469_trs_en_cleaned"
          ],
          [
           "Q: So in Auschwitz one, there was a gas chamber, yes?",
           "RG-50.030.0469_trs_en_cleaned"
          ],
          [
           "Q: You didn't know.",
           "RG-50.030.0469_trs_en_cleaned"
          ],
          [
           "Q: So you didn't smell anything funny?",
           "RG-50.030.0469_trs_en_cleaned"
          ],
          [
           "Q: Nothing. And nobody's said anything to you?",
           "RG-50.030.0469_trs_en_cleaned"
          ],
          [
           "Q: Right.",
           "RG-50.030.0469_trs_en_cleaned"
          ],
          [
           "Q: Uh-huh, right [indecipherable]",
           "RG-50.030.0469_trs_en_cleaned"
          ],
          [
           "Q: Did you hear about shooting in -- in Auschwitz one, that there was a punishment block, that they were shooting, did you -- did you hear about that when you were there? No.",
           "RG-50.030.0469_trs_en_cleaned"
          ],
          [
           "Q: You hear -- you heard it.",
           "RG-50.030.0469_trs_en_cleaned"
          ],
          [
           "Q: I think. In Auschwitz one.",
           "RG-50.030.0469_trs_en_cleaned"
          ],
          [
           "Q: Yes.",
           "RG-50.030.0469_trs_en_cleaned"
          ],
          [
           "Q: And you were in 10.",
           "RG-50.030.0469_trs_en_cleaned"
          ],
          [
           "Q: Uh-huh.",
           "RG-50.030.0469_trs_en_cleaned"
          ],
          [
           "Q: So they -- they were being hung by their hands behind their back?",
           "RG-50.030.0469_trs_en_cleaned"
          ],
          [
           "Q: Yes.",
           "RG-50.030.0469_trs_en_cleaned"
          ],
          [
           "Q: Yeah, Alice, when you say silent shooting, what -- what do you mean? You mean that there was -- there was a silencer on the gun that -- or that you were so far away you could only hear it a little bit?",
           "RG-50.030.0469_trs_en_cleaned"
          ],
          [
           "Q: You weren't far.",
           "RG-50.030.0469_trs_en_cleaned"
          ],
          [
           "Q: Uh-huh. Which was close to that wall.",
           "RG-50.030.0469_trs_en_cleaned"
          ],
          [
           "Q: Yeah, yeah.",
           "RG-50.030.0469_trs_en_cleaned"
          ],
          [
           "Q: Yeah, but what were you hearing, a pop? Just a --",
           "RG-50.030.0469_trs_en_cleaned"
          ],
          [
           "Q: Yeah, yeah.",
           "RG-50.030.0469_trs_en_cleaned"
          ],
          [
           "Q: You -- you didn't help at all in building Birkenau. Some of the prisoners were doing that.",
           "RG-50.030.0469_trs_en_cleaned"
          ],
          [
           "Q: Mm.",
           "RG-50.030.0469_trs_en_cleaned"
          ],
          [
           "Q: Roads.",
           "RG-50.030.0469_trs_en_cleaned"
          ],
          [
           "Q: Uh-huh.",
           "RG-50.030.0469_trs_en_cleaned"
          ],
          [
           "Q: And that became Auschwitz-Birkenau?",
           "RG-50.030.0469_trs_en_cleaned"
          ],
          [
           "Q: You think so, but you you're -- but you're not sure.",
           "RG-50.030.0469_trs_en_cleaned"
          ],
          [
           "Q: Right.",
           "RG-50.030.0469_trs_en_cleaned"
          ],
          [
           "Q: Planing?",
           "RG-50.030.0469_trs_en_cleaned"
          ],
          [
           "Q: Making it smooth?",
           "RG-50.030.0469_trs_en_cleaned"
          ],
          [
           "Q: A wheelbarrow?",
           "RG-50.030.0469_trs_en_cleaned"
          ],
          [
           "Q: Mm-hm.",
           "RG-50.030.0469_trs_en_cleaned"
          ],
          [
           "Q: [indecipherable]. Right.",
           "RG-50.030.0469_trs_en_cleaned"
          ],
          [
           "Q: No, not in a situation where they treated you so bad.",
           "RG-50.030.0469_trs_en_cleaned"
          ],
          [
           "Q: No.",
           "RG-50.030.0469_trs_en_cleaned"
          ],
          [
           "Q: Were there lights in Auschwitz one? Was it -- were there actual lights there?",
           "RG-50.030.0469_trs_en_cleaned"
          ],
          [
           "Q: In -- in the barracks?",
           "RG-50.030.0469_trs_en_cleaned"
          ],
          [
           "Q: There were.",
           "RG-50.030.0469_trs_en_cleaned"
          ],
          [
           "Q: So when did you find out that you were all -- all the women were being -- I know me -- men were going into aush -- into Auschwitz-Birkenau, they were already there.",
           "RG-50.030.0469_trs_en_cleaned"
          ],
          [
           "Q: [indecipherable] and being --",
           "RG-50.030.0469_trs_en_cleaned"
          ],
          [
           "Q: They were there, yes.",
           "RG-50.030.0469_trs_en_cleaned"
          ],
          [
           "Q: So how -- you don't know.",
           "RG-50.030.0469_trs_en_cleaned"
          ],
          [
           "Q: So did they announce to you what -- get up we're going to ow -- Auschwitz-Birkenau? I mean ho-how -- how did that happen?",
           "RG-50.030.0469_trs_en_cleaned"
          ],
          [
           "Q: And you go.",
           "RG-50.030.0469_trs_en_cleaned"
          ],
          [
           "Q: Nothing to -- nothing to pack, easy, right.",
           "RG-50.030.0469_trs_en_cleaned"
          ],
          [
           "Q: The bowl.",
           "RG-50.030.0469_trs_en_cleaned"
          ],
          [
           "Q: Did you carry the bowl with you all the time?",
           "RG-50.030.0469_trs_en_cleaned"
          ],
          [
           "Q: Something.",
           "RG-50.030.0469_trs_en_cleaned"
          ],
          [
           "Q: And what was in it?",
           "RG-50.030.0469_trs_en_cleaned"
          ],
          [
           "Q: I see.",
           "RG-50.030.0469_trs_en_cleaned"
          ],
          [
           "Q: You weren't given a spoon, you were given the bowl.",
           "RG-50.030.0469_trs_en_cleaned"
          ],
          [
           "Q: So -- so your mental state becomes smaller and smaller?",
           "RG-50.030.0469_trs_en_cleaned"
          ],
          [
           "Q: So that you think about very few things.",
           "RG-50.030.0469_trs_en_cleaned"
          ],
          [
           "Q: If you picture the barrack and your bed in Auschwitz one, do you see the bowl there? Do you think that you left the bowl on the bed?",
           "RG-50.030.0469_trs_en_cleaned"
          ],
          [
           "Q: So do you remember entering Birkenau in August of \"43, do you remember --",
           "RG-50.030.0469_trs_en_cleaned"
          ],
          [
           "Q: -- that first day?",
           "RG-50.030.0469_trs_en_cleaned"
          ],
          [
           "Q: What -- what can you tell me about it? What was it like?",
           "RG-50.030.0469_trs_en_cleaned"
          ],
          [
           "Q: And it's three, three high, right?",
           "RG-50.030.0469_trs_en_cleaned"
          ],
          [
           "Q: And more than two people are sleeping on each bunk?",
           "RG-50.030.0469_trs_en_cleaned"
          ],
          [
           "Q: In a lot of pain?",
           "RG-50.030.0469_trs_en_cleaned"
          ],
          [
           "Q: But it's interesting, because as bad as Auschwitz one was, Birkenau was much worse.",
           "RG-50.030.0469_trs_en_cleaned"
          ],
          [
           "Q: Yes.",
           "RG-50.030.0469_trs_en_cleaned"
          ],
          [
           "Q: It was easier than in Birkenau.",
           "RG-50.030.0469_trs_en_cleaned"
          ],
          [
           "Q: So Birkenau becomes a shock. There is no running water, right?",
           "RG-50.030.0469_trs_en_cleaned"
          ],
          [
           "Q: Right. It's a -- a room with just lots of holes in it, right?",
           "RG-50.030.0469_trs_en_cleaned"
          ],
          [
           "Q: Holes?",
           "RG-50.030.0469_trs_en_cleaned"
          ],
          [
           "Q: Ah, period, completely open.",
           "RG-50.030.0469_trs_en_cleaned"
          ],
          [
           "Q: The Slovak?",
           "RG-50.030.0469_trs_en_cleaned"
          ],
          [
           "Q: Tsipi? Helen Teshauer",
           "RG-50.030.0469_trs_en_cleaned"
          ],
          [
           "Q: Yeah, yes.",
           "RG-50.030.0469_trs_en_cleaned"
          ],
          [
           "Q: You did.",
           "RG-50.030.0469_trs_en_cleaned"
          ],
          [
           "Q: That's a little later.",
           "RG-50.030.0469_trs_en_cleaned"
          ],
          [
           "Q: Yes, up, up, up, right.",
           "RG-50.030.0469_trs_en_cleaned"
          ],
          [
           "Q: So, you go to BIA, right? The b -- the -- the part that was the women's camp in Birkenau.",
           "RG-50.030.0469_trs_en_cleaned"
          ],
          [
           "Q: B-- BIA.",
           "RG-50.030.0469_trs_en_cleaned"
          ],
          [
           "Q: And -- and the men were in BIB.",
           "RG-50.030.0469_trs_en_cleaned"
          ],
          [
           "Q: Do you remember what barrack you were in?",
           "RG-50.030.0469_trs_en_cleaned"
          ],
          [
           "Q: In the beginning?",
           "RG-50.030.0469_trs_en_cleaned"
          ],
          [
           "Q: Yeah.",
           "RG-50.030.0469_trs_en_cleaned"
          ],
          [
           "Q: Uh-huh.",
           "RG-50.030.0469_trs_en_cleaned"
          ],
          [
           "Q: Right.",
           "RG-50.030.0469_trs_en_cleaned"
          ],
          [
           "Q: Right.",
           "RG-50.030.0469_trs_en_cleaned"
          ],
          [
           "Q: So how -- how soon is it that you realize in Birkenau there are gas chambers?",
           "RG-50.030.0469_trs_en_cleaned"
          ],
          [
           "Q: [indecipherable]",
           "RG-50.030.0469_trs_en_cleaned"
          ],
          [
           "Q: Register.",
           "RG-50.030.0469_trs_en_cleaned"
          ],
          [
           "Q: Uh-huh.",
           "RG-50.030.0469_trs_en_cleaned"
          ],
          [
           "Q: The quarantine block, where they kept people.",
           "RG-50.030.0469_trs_en_cleaned"
          ],
          [
           "Q: And then they --",
           "RG-50.030.0469_trs_en_cleaned"
          ],
          [
           "Q: Right, yeah.",
           "RG-50.030.0469_trs_en_cleaned"
          ],
          [
           "Q: Well, they kept people there --",
           "RG-50.030.0469_trs_en_cleaned"
          ],
          [
           "Q: And then they took them to the -- to the gas chamber.",
           "RG-50.030.0469_trs_en_cleaned"
          ],
          [
           "Q: So --",
           "RG-50.030.0469_trs_en_cleaned"
          ],
          [
           "Q: So -- and sometimes not.",
           "RG-50.030.0469_trs_en_cleaned"
          ],
          [
           "Q: Right.",
           "RG-50.030.0469_trs_en_cleaned"
          ],
          [
           "Q: But they started to have -- there were some selections in Auschwitz one, yes? So -- or you don't know?",
           "RG-50.030.0469_trs_en_cleaned"
          ],
          [
           "Q: But in Birkenau you started to have selections?",
           "RG-50.030.0469_trs_en_cleaned"
          ],
          [
           "Q: One, yeah.",
           "RG-50.030.0469_trs_en_cleaned"
          ],
          [
           "Q: To burn.",
           "RG-50.030.0469_trs_en_cleaned"
          ],
          [
           "Q: So were you working in a demolition, in an au -- in Ausenkommando when you were in Birkenau at first, or did you immediately start working sorting clothes?",
           "RG-50.030.0469_trs_en_cleaned"
          ],
          [
           "Q: No, sort -- sort clothes, you [indecipherable]",
           "RG-50.030.0469_trs_en_cleaned"
          ],
          [
           "Q: Uh-huh.",
           "RG-50.030.0469_trs_en_cleaned"
          ],
          [
           "Q: Ausenkommando first.",
           "RG-50.030.0469_trs_en_cleaned"
          ],
          [
           "Q: Uh-huh.",
           "RG-50.030.0469_trs_en_cleaned"
          ],
          [
           "Q: Yes, and what did you do?",
           "RG-50.030.0469_trs_en_cleaned"
          ],
          [
           "Q: 1943.",
           "RG-50.030.0469_trs_en_cleaned"
          ],
          [
           "Q: We will stop the tape now and take a break.",
           "RG-50.030.0469_trs_en_cleaned"
          ],
          [
           "Q: Right.",
           "RG-50.030.0469_trs_en_cleaned"
          ],
          [
           "Q: Alice.",
           "RG-50.030.0469_trs_en_cleaned"
          ],
          [
           "Q: We were talking about the first job that you had in Auschwitz-Birkenau.",
           "RG-50.030.0469_trs_en_cleaned"
          ],
          [
           "Q: Which is after August, 1942.",
           "RG-50.030.0469_trs_en_cleaned"
          ],
          [
           "Q: Which is working in the [indecipherable]",
           "RG-50.030.0469_trs_en_cleaned"
          ],
          [
           "Q: [indecipherable]",
           "RG-50.030.0469_trs_en_cleaned"
          ],
          [
           "Q: Scarves, and that's what you were wearing, I see.",
           "RG-50.030.0469_trs_en_cleaned"
          ],
          [
           "Q: And this was where you were sorting clothes?",
           "RG-50.030.0469_trs_en_cleaned"
          ],
          [
           "Q: So what was the difference between the work that you were doing sorting clothes and the work that Canada commando was doing sorting clothes, do you know?",
           "RG-50.030.0469_trs_en_cleaned"
          ],
          [
           "Q: And -- and your commando wasn't connected with Canada commando?",
           "RG-50.030.0469_trs_en_cleaned"
          ],
          [
           "Q: No, it was totally separate.",
           "RG-50.030.0469_trs_en_cleaned"
          ],
          [
           "Q: I see.",
           "RG-50.030.0469_trs_en_cleaned"
          ],
          [
           "Q: Did you like working in that commando?",
           "RG-50.030.0469_trs_en_cleaned"
          ],
          [
           "Q: No, no, the other one [indecipherable]",
           "RG-50.030.0469_trs_en_cleaned"
          ],
          [
           "Q: And wh-why did you like that and you didn't like the Canada?",
           "RG-50.030.0469_trs_en_cleaned"
          ],
          [
           "Q: I see.",
           "RG-50.030.0469_trs_en_cleaned"
          ],
          [
           "Q: Do you remember the name of this nice man [indecipherable]",
           "RG-50.030.0469_trs_en_cleaned"
          ],
          [
           "Q: Ambrose.",
           "RG-50.030.0469_trs_en_cleaned"
          ],
          [
           "Q: Right. Were you surprised that there would be somebody who was so nice in that position?",
           "RG-50.030.0469_trs_en_cleaned"
          ],
          [
           "Q: Mm. So how did it happen that you moved from this commando? It was closed?",
           "RG-50.030.0469_trs_en_cleaned"
          ],
          [
           "Q: Uh-huh, right.",
           "RG-50.030.0469_trs_en_cleaned"
          ],
          [
           "Q: Right.",
           "RG-50.030.0469_trs_en_cleaned"
          ],
          [
           "Q: Yeah [indecipherable] but you didn't --",
           "RG-50.030.0469_trs_en_cleaned"
          ],
          [
           "Q: Were these commandos protected commandos, there were no selections?",
           "RG-50.030.0469_trs_en_cleaned"
          ],
          [
           "Q: There were selections?",
           "RG-50.030.0469_trs_en_cleaned"
          ],
          [
           "Q: And he brought her back.",
           "RG-50.030.0469_trs_en_cleaned"
          ],
          [
           "Q: But were there selections inside the commando?",
           "RG-50.030.0469_trs_en_cleaned"
          ],
          [
           "Q: Only from the barrack?",
           "RG-50.030.0469_trs_en_cleaned"
          ],
          [
           "Q: The say -- zaehlappell, when you --",
           "RG-50.030.0469_trs_en_cleaned"
          ],
          [
           "Q: Right.",
           "RG-50.030.0469_trs_en_cleaned"
          ],
          [
           "Q: Uh-huh.",
           "RG-50.030.0469_trs_en_cleaned"
          ],
          [
           "Q: Oh.",
           "RG-50.030.0469_trs_en_cleaned"
          ],
          [
           "Q: So you had to jump over the ditch?",
           "RG-50.030.0469_trs_en_cleaned"
          ],
          [
           "Q: Through it?",
           "RG-50.030.0469_trs_en_cleaned"
          ],
          [
           "Q: Oh, you mean -- so you went --",
           "RG-50.030.0469_trs_en_cleaned"
          ],
          [
           "Q: -- over it --",
           "RG-50.030.0469_trs_en_cleaned"
          ],
          [
           "Q: -- over it from one side to the other.",
           "RG-50.030.0469_trs_en_cleaned"
          ],
          [
           "Q: And if someone fell --",
           "RG-50.030.0469_trs_en_cleaned"
          ],
          [
           "Q: That's what you were told?",
           "RG-50.030.0469_trs_en_cleaned"
          ],
          [
           "Q: So when you went to the Canada commando, you didn't stay for very long.",
           "RG-50.030.0469_trs_en_cleaned"
          ],
          [
           "Q: How long?",
           "RG-50.030.0469_trs_en_cleaned"
          ],
          [
           "Q: A few days?",
           "RG-50.030.0469_trs_en_cleaned"
          ],
          [
           "Q: And that was less difficult for you. You liked that better, being outside [indecipherable]",
           "RG-50.030.0469_trs_en_cleaned"
          ],
          [
           "Q: And how did that happen? Can you explain?",
           "RG-50.030.0469_trs_en_cleaned"
          ],
          [
           "Q: A whip? Yes?",
           "RG-50.030.0469_trs_en_cleaned"
          ],
          [
           "Q: Did you -- did you know of Katya Singer before? Had you met her when you were in Auschwitz one, or --",
           "RG-50.030.0469_trs_en_cleaned"
          ],
          [
           "Q: No.",
           "RG-50.030.0469_trs_en_cleaned"
          ],
          [
           "Q: You didn't.",
           "RG-50.030.0469_trs_en_cleaned"
          ],
          [
           "Q: But you knew about her -- when he said Katya Singer you knew --",
           "RG-50.030.0469_trs_en_cleaned"
          ],
          [
           "Q: Everybody knew?",
           "RG-50.030.0469_trs_en_cleaned"
          ],
          [
           "Q: Katya, and you knew it.",
           "RG-50.030.0469_trs_en_cleaned"
          ],
          [
           "Q: Did you know also that Tsipi, Helen Teshauer was working with Katya?",
           "RG-50.030.0469_trs_en_cleaned"
          ],
          [
           "Q: At that -- by that time you --",
           "RG-50.030.0469_trs_en_cleaned"
          ],
          [
           "Q: No.",
           "RG-50.030.0469_trs_en_cleaned"
          ],
          [
           "Q: And that was it?",
           "RG-50.030.0469_trs_en_cleaned"
          ],
          [
           "Q: Okay, ne -- nevermore.",
           "RG-50.030.0469_trs_en_cleaned"
          ],
          [
           "Q: Right. Do you have -- how would you describe Katya, what was she like?",
           "RG-50.030.0469_trs_en_cleaned"
          ],
          [
           "Q: She was nice?",
           "RG-50.030.0469_trs_en_cleaned"
          ],
          [
           "Q: It was a very big position for a Jewish woman, wasn't it?",
           "RG-50.030.0469_trs_en_cleaned"
          ],
          [
           "Q: In that situation.",
           "RG-50.030.0469_trs_en_cleaned"
          ],
          [
           "Q: Bergen-Belsen?",
           "RG-50.030.0469_trs_en_cleaned"
          ],
          [
           "Q: Uh-huh.",
           "RG-50.030.0469_trs_en_cleaned"
          ],
          [
           "Q: So now you become a Laeuferin, which is essentially a runner, you -- you are --",
           "RG-50.030.0469_trs_en_cleaned"
          ],
          [
           "Q: You're always running and doing errands and sending messages --",
           "RG-50.030.0469_trs_en_cleaned"
          ],
          [
           "Q: -- cause there is no phone system.",
           "RG-50.030.0469_trs_en_cleaned"
          ],
          [
           "Q: Like a messenger.",
           "RG-50.030.0469_trs_en_cleaned"
          ],
          [
           "Q: Yeah, right, but --",
           "RG-50.030.0469_trs_en_cleaned"
          ],
          [
           "Q: -- but not -- but obviously not all through the whole system.",
           "RG-50.030.0469_trs_en_cleaned"
          ],
          [
           "Q: So -- this is going to sound like a really stupid question --",
           "RG-50.030.0469_trs_en_cleaned"
          ],
          [
           "Q: -- but is there -- is there training? I mean, what did they tell you --",
           "RG-50.030.0469_trs_en_cleaned"
          ],
          [
           "Q: -- no. They just say go do this, go do that, whatever --",
           "RG-50.030.0469_trs_en_cleaned"
          ],
          [
           "Q: Right.",
           "RG-50.030.0469_trs_en_cleaned"
          ],
          [
           "Q: So where do you start living? You move out from the barrack you were in, and you move into barrack four? Is that where all the --",
           "RG-50.030.0469_trs_en_cleaned"
          ],
          [
           "Q: No.",
           "RG-50.030.0469_trs_en_cleaned"
          ],
          [
           "Q: Mm-hm.",
           "RG-50.030.0469_trs_en_cleaned"
          ],
          [
           "Q: Mm-hm.",
           "RG-50.030.0469_trs_en_cleaned"
          ],
          [
           "Q: Wooden barracks, yeah.",
           "RG-50.030.0469_trs_en_cleaned"
          ],
          [
           "Q: Right.",
           "RG-50.030.0469_trs_en_cleaned"
          ],
          [
           "Q: And -- and you knew Mala Zimetbaum?",
           "RG-50.030.0469_trs_en_cleaned"
          ],
          [
           "Q: What was she like?",
           "RG-50.030.0469_trs_en_cleaned"
          ],
          [
           "Q: How do you remember her?",
           "RG-50.030.0469_trs_en_cleaned"
          ],
          [
           "Q: Courageous.",
           "RG-50.030.0469_trs_en_cleaned"
          ],
          [
           "Q: Right. And what about the other two, there were two other women who were also Laeuferin --",
           "RG-50.030.0469_trs_en_cleaned"
          ],
          [
           "Q: Uh-huh.",
           "RG-50.030.0469_trs_en_cleaned"
          ],
          [
           "Q: Now, was the situation in that block as good as it was in block four or not?",
           "RG-50.030.0469_trs_en_cleaned"
          ],
          [
           "Q: The -- the earlier block, when you were with [indecipherable]",
           "RG-50.030.0469_trs_en_cleaned"
          ],
          [
           "Q: Right, so you were safe.",
           "RG-50.030.0469_trs_en_cleaned"
          ],
          [
           "Q: To wash yourself, yeah.",
           "RG-50.030.0469_trs_en_cleaned"
          ],
          [
           "Q: The hospital, yeah.",
           "RG-50.030.0469_trs_en_cleaned"
          ],
          [
           "Q: And where does that come from, what is that --",
           "RG-50.030.0469_trs_en_cleaned"
          ],
          [
           "Q: Yes.",
           "RG-50.030.0469_trs_en_cleaned"
          ],
          [
           "Q: Really?",
           "RG-50.030.0469_trs_en_cleaned"
          ],
          [
           "Q: Uh-huh.",
           "RG-50.030.0469_trs_en_cleaned"
          ],
          [
           "Q: How?",
           "RG-50.030.0469_trs_en_cleaned"
          ],
          [
           "Q: Is there medication? Was there anything that you took?",
           "RG-50.030.0469_trs_en_cleaned"
          ],
          [
           "Q: But in that condition, had you not been a Laeuferin, and in a protected commando, you probably would have been killed, because you would have looked sick.",
           "RG-50.030.0469_trs_en_cleaned"
          ],
          [
           "Q: No?",
           "RG-50.030.0469_trs_en_cleaned"
          ],
          [
           "Q: Uh-huh.",
           "RG-50.030.0469_trs_en_cleaned"
          ],
          [
           "Q: Right.",
           "RG-50.030.0469_trs_en_cleaned"
          ],
          [
           "Q: Right, right.",
           "RG-50.030.0469_trs_en_cleaned"
          ],
          [
           "Q: Were you surprised at the conditions in block four? That everybody had -- you had your own bed, and --",
           "RG-50.030.0469_trs_en_cleaned"
          ],
          [
           "Q: You weren't?",
           "RG-50.030.0469_trs_en_cleaned"
          ],
          [
           "Q: You knew that that was --",
           "RG-50.030.0469_trs_en_cleaned"
          ],
          [
           "Q: Right.",
           "RG-50.030.0469_trs_en_cleaned"
          ],
          [
           "Q: Right, right.",
           "RG-50.030.0469_trs_en_cleaned"
          ],
          [
           "Q: Right.",
           "RG-50.030.0469_trs_en_cleaned"
          ],
          [
           "Q: Now, are you saying that you did not know tsip -- Tsipi, Helen Teshauer in block four? So she was in that block --",
           "RG-50.030.0469_trs_en_cleaned"
          ],
          [
           "Q: You didn't -- you never -- you never saw her?",
           "RG-50.030.0469_trs_en_cleaned"
          ],
          [
           "Q: So there are what, about 90 or a hundred women there.",
           "RG-50.030.0469_trs_en_cleaned"
          ],
          [
           "Q: More.",
           "RG-50.030.0469_trs_en_cleaned"
          ],
          [
           "Q: I see.",
           "RG-50.030.0469_trs_en_cleaned"
          ],
          [
           "Q: Less than a hundred.",
           "RG-50.030.0469_trs_en_cleaned"
          ],
          [
           "Q: Uh-huh.",
           "RG-50.030.0469_trs_en_cleaned"
          ],
          [
           "Q: Right.",
           "RG-50.030.0469_trs_en_cleaned"
          ],
          [
           "Q: But she often worked at night.",
           "RG-50.030.0469_trs_en_cleaned"
          ],
          [
           "Q: Tsipi. So maybe that's why you didn't see her, you know.",
           "RG-50.030.0469_trs_en_cleaned"
          ],
          [
           "Q: But it seems funny that you didn't see her.",
           "RG-50.030.0469_trs_en_cleaned"
          ],
          [
           "Q: You would see Katya.",
           "RG-50.030.0469_trs_en_cleaned"
          ],
          [
           "Q: I see.",
           "RG-50.030.0469_trs_en_cleaned"
          ],
          [
           "Q: And you know her, yes.",
           "RG-50.030.0469_trs_en_cleaned"
          ],
          [
           "Q: Right.",
           "RG-50.030.0469_trs_en_cleaned"
          ],
          [
           "Q: Right.",
           "RG-50.030.0469_trs_en_cleaned"
          ],
          [
           "Q: So you didn't know.",
           "RG-50.030.0469_trs_en_cleaned"
          ],
          [
           "Q: You knew Anna Pilarchik, Hanka.",
           "RG-50.030.0469_trs_en_cleaned"
          ],
          [
           "Q: Hanka.",
           "RG-50.030.0469_trs_en_cleaned"
          ],
          [
           "Q: Alteste, right.",
           "RG-50.030.0469_trs_en_cleaned"
          ],
          [
           "Q: So how did people get along --",
           "RG-50.030.0469_trs_en_cleaned"
          ],
          [
           "Q: -- in that? Was it good? It was okay?",
           "RG-50.030.0469_trs_en_cleaned"
          ],
          [
           "Q: Yes.",
           "RG-50.030.0469_trs_en_cleaned"
          ],
          [
           "Q: So did you now feel if the war ended --",
           "RG-50.030.0469_trs_en_cleaned"
          ],
          [
           "Q: -- that you would be safe?",
           "RG-50.030.0469_trs_en_cleaned"
          ],
          [
           "Q: Right.",
           "RG-50.030.0469_trs_en_cleaned"
          ],
          [
           "Q: Now, did you menstruate, did you get your period?",
           "RG-50.030.0469_trs_en_cleaned"
          ],
          [
           "Q: You ne -- you didn't get it even then, because some women there were getting their periods.",
           "RG-50.030.0469_trs_en_cleaned"
          ],
          [
           "Q: No, but I mean in block four.",
           "RG-50.030.0469_trs_en_cleaned"
          ],
          [
           "Q: Uh-huh, uh-huh.",
           "RG-50.030.0469_trs_en_cleaned"
          ],
          [
           "Q: Right.",
           "RG-50.030.0469_trs_en_cleaned"
          ],
          [
           "Q: Right.",
           "RG-50.030.0469_trs_en_cleaned"
          ],
          [
           "Q: Right.",
           "RG-50.030.0469_trs_en_cleaned"
          ],
          [
           "Q: So describe what a day might be like. What would you do, when would you get up, would there be a roll call in that barrack?",
           "RG-50.030.0469_trs_en_cleaned"
          ],
          [
           "Q: Early -- everybody -- every barrack would have that.",
           "RG-50.030.0469_trs_en_cleaned"
          ],
          [
           "Q: Uh-huh.",
           "RG-50.030.0469_trs_en_cleaned"
          ],
          [
           "Q: And then who would then give you an assignment? You would wait?",
           "RG-50.030.0469_trs_en_cleaned"
          ],
          [
           "Q: No.",
           "RG-50.030.0469_trs_en_cleaned"
          ],
          [
           "Q: And who was the they, who would give -- who would tell you what to do?",
           "RG-50.030.0469_trs_en_cleaned"
          ],
          [
           "Q: So she remembers that the two of you had met each other in barrack four?",
           "RG-50.030.0469_trs_en_cleaned"
          ],
          [
           "Q: Had seen each other. And you have no recollection.",
           "RG-50.030.0469_trs_en_cleaned"
          ],
          [
           "Q: Only that -- right, but --",
           "RG-50.030.0469_trs_en_cleaned"
          ],
          [
           "Q: Uh-huh, right.",
           "RG-50.030.0469_trs_en_cleaned"
          ],
          [
           "Q: Right.",
           "RG-50.030.0469_trs_en_cleaned"
          ],
          [
           "Q: Right, right.",
           "RG-50.030.0469_trs_en_cleaned"
          ],
          [
           "Q: So someone would --",
           "RG-50.030.0469_trs_en_cleaned"
          ],
          [
           "Q: -- send you --",
           "RG-50.030.0469_trs_en_cleaned"
          ],
          [
           "Q: So you would translate from what to what?",
           "RG-50.030.0469_trs_en_cleaned"
          ],
          [
           "Q: And you knew Polish?",
           "RG-50.030.0469_trs_en_cleaned"
          ],
          [
           "Q: And it's enough -- it's close enough.",
           "RG-50.030.0469_trs_en_cleaned"
          ],
          [
           "Q: So was a lot of your work doing translations? Was that a great deal of the work?",
           "RG-50.030.0469_trs_en_cleaned"
          ],
          [
           "Q: Right.",
           "RG-50.030.0469_trs_en_cleaned"
          ],
          [
           "Q: You don't know.",
           "RG-50.030.0469_trs_en_cleaned"
          ],
          [
           "Q: In Slovak.",
           "RG-50.030.0469_trs_en_cleaned"
          ],
          [
           "Q: Right. But you could speak with the Polish women who were there?",
           "RG-50.030.0469_trs_en_cleaned"
          ],
          [
           "Q: [indecipherable] you could -- you learned how to speak, yeah.",
           "RG-50.030.0469_trs_en_cleaned"
          ],
          [
           "Q: Polish.",
           "RG-50.030.0469_trs_en_cleaned"
          ],
          [
           "Q: Right. All right let's --",
           "RG-50.030.0469_trs_en_cleaned"
          ],
          [
           "Q: -- we're going to take a break and we\"!l change the tape.",
           "RG-50.030.0469_trs_en_cleaned"
          ],
          [
           "Q: Was there a Christmas celebration of some kind in block four that you remember?[indecipherable]",
           "RG-50.030.0469_trs_en_cleaned"
          ],
          [
           "Q: Til August, so --",
           "RG-50.030.0469_trs_en_cleaned"
          ],
          [
           "Q: Anna Pilarchik -- Hannah -- Anna --",
           "RG-50.030.0469_trs_en_cleaned"
          ],
          [
           "Q: Did report that there was a Christmas tree and a celebration in block four --",
           "RG-50.030.0469_trs_en_cleaned"
          ],
          [
           "Q: So it's possible.",
           "RG-50.030.0469_trs_en_cleaned"
          ],
          [
           "Q: It's possible that that's where you --",
           "RG-50.030.0469_trs_en_cleaned"
          ],
          [
           "Q: But that -- it's a vague memory for you.",
           "RG-50.030.0469_trs_en_cleaned"
          ],
          [
           "Q: Hm.",
           "RG-50.030.0469_trs_en_cleaned"
          ],
          [
           "Q: At a certain point, when the transports are coming in to Auschwitz-Birkenau, and from the outside they're killing so many people, do the -- do the internal selections get less, so the people who are already there --",
           "RG-50.030.0469_trs_en_cleaned"
          ],
          [
           "Q: -- are less likely to be selected?",
           "RG-50.030.0469_trs_en_cleaned"
          ],
          [
           "Q: Right.",
           "RG-50.030.0469_trs_en_cleaned"
          ],
          [
           "Q: Because there was too many?",
           "RG-50.030.0469_trs_en_cleaned"
          ],
          [
           "Q: So what was this like for you, you're seeing these people, you know by now --",
           "RG-50.030.0469_trs_en_cleaned"
          ],
          [
           "Q: -- the people are being gassed.",
           "RG-50.030.0469_trs_en_cleaned"
          ],
          [
           "Q: These are not simply people who have died and are being cremated, this is a factory of killing.",
           "RG-50.030.0469_trs_en_cleaned"
          ],
          [
           "Q: Did you ever want to commit su -- did you ever want to commit suicide?",
           "RG-50.030.0469_trs_en_cleaned"
          ],
          [
           "Q: No.",
           "RG-50.030.0469_trs_en_cleaned"
          ],
          [
           "Q: So --",
           "RG-50.030.0469_trs_en_cleaned"
          ],
          [
           "Q: Because you were tired, or because --",
           "RG-50.030.0469_trs_en_cleaned"
          ],
          [
           "Q: Yeah, uh-huh",
           "RG-50.030.0469_trs_en_cleaned"
          ],
          [
           "Q: Now you mentioned the name of a woman guard, Irma Grese, who many people say wer -- was very cruel, but that's now how you remember her?",
           "RG-50.030.0469_trs_en_cleaned"
          ],
          [
           "Q: She wasn't cruel.",
           "RG-50.030.0469_trs_en_cleaned"
          ],
          [
           "Q: And was that the only time you had seen her?",
           "RG-50.030.0469_trs_en_cleaned"
          ],
          [
           "Q: You saw her other times? But she was never cruel to you?",
           "RG-50.030.0469_trs_en_cleaned"
          ],
          [
           "Q: Wow.",
           "RG-50.030.0469_trs_en_cleaned"
          ],
          [
           "Q: How come you were there, standing at the entrance?",
           "RG-50.030.0469_trs_en_cleaned"
          ],
          [
           "Q: Now, why was Laeuferin standing there, is -- in order to translate if there was a need to translate, or --",
           "RG-50.030.0469_trs_en_cleaned"
          ],
          [
           "Q: No, no, no, I mean when the transports are coming in.",
           "RG-50.030.0469_trs_en_cleaned"
          ],
          [
           "Q: So would you translate for -- the Germans were not speaking Polish?",
           "RG-50.030.0469_trs_en_cleaned"
          ],
          [
           "Q: So if they would say something in German --",
           "RG-50.030.0469_trs_en_cleaned"
          ],
          [
           "Q: You -- having to do with people, nothing.",
           "RG-50.030.0469_trs_en_cleaned"
          ],
          [
           "Q: Now were you also standing when they took the family camp, the Theresienstadt camp out to be gassed, were you there? Am I wrong, or --",
           "RG-50.030.0469_trs_en_cleaned"
          ],
          [
           "Q: Not in Auschwitz, that's the pl --",
           "RG-50.030.0469_trs_en_cleaned"
          ],
          [
           "Q: Right.",
           "RG-50.030.0469_trs_en_cleaned"
          ],
          [
           "Q: Right.",
           "RG-50.030.0469_trs_en_cleaned"
          ],
          [
           "Q: But being outside and watching that must have been very upsetting.",
           "RG-50.030.0469_trs_en_cleaned"
          ],
          [
           "Q: Yes.",
           "RG-50.030.0469_trs_en_cleaned"
          ],
          [
           "Q: Right.",
           "RG-50.030.0469_trs_en_cleaned"
          ],
          [
           "Q: What about the women's orchestra, was that important for you?",
           "RG-50.030.0469_trs_en_cleaned"
          ],
          [
           "Q: Alma Rose.",
           "RG-50.030.0469_trs_en_cleaned"
          ],
          [
           "Q: Tell me about it",
           "RG-50.030.0469_trs_en_cleaned"
          ],
          [
           "Q: With polka dots?",
           "RG-50.030.0469_trs_en_cleaned"
          ],
          [
           "Q: Uh-huh.",
           "RG-50.030.0469_trs_en_cleaned"
          ],
          [
           "Q: This is in Auschwitz one?",
           "RG-50.030.0469_trs_en_cleaned"
          ],
          [
           "Q: Yeah.",
           "RG-50.030.0469_trs_en_cleaned"
          ],
          [
           "Q: So it was actually a recital. It was -- or ju -- was she just practicing?",
           "RG-50.030.0469_trs_en_cleaned"
          ],
          [
           "Q: Really. And where would this be, where in Auschwitz would this --",
           "RG-50.030.0469_trs_en_cleaned"
          ],
          [
           "Q: I see.",
           "RG-50.030.0469_trs_en_cleaned"
          ],
          [
           "Q: Mm.",
           "RG-50.030.0469_trs_en_cleaned"
          ],
          [
           "Q: So they had to march in unison, together?",
           "RG-50.030.0469_trs_en_cleaned"
          ],
          [
           "Q: It wasn't the same.",
           "RG-50.030.0469_trs_en_cleaned"
          ],
          [
           "Q: Now, there are some people who think they remember the orchestra playing when people went to the gas, and other people saying there was never an orchestra.",
           "RG-50.030.0469_trs_en_cleaned"
          ],
          [
           "Q: Yeah.",
           "RG-50.030.0469_trs_en_cleaned"
          ],
          [
           "Q: Really?",
           "RG-50.030.0469_trs_en_cleaned"
          ],
          [
           "Q: So the music for you was really important.",
           "RG-50.030.0469_trs_en_cleaned"
          ],
          [
           "Q: Did you know that Tsipi was in the orchestra, that she played mandolin?",
           "RG-50.030.0469_trs_en_cleaned"
          ],
          [
           "Q: She played mandolin and when they went -- they -- they marched out, so they would play for people who were going to work, they would come by block four and pick her up, and she would go with them and play. I don't know if she ever played concerts, but she played --",
           "RG-50.030.0469_trs_en_cleaned"
          ],
          [
           "Q: You didn't know that.",
           "RG-50.030.0469_trs_en_cleaned"
          ],
          [
           "Q: Yeah.",
           "RG-50.030.0469_trs_en_cleaned"
          ],
          [
           "Q: Yes.",
           "RG-50.030.0469_trs_en_cleaned"
          ],
          [
           "Q: Right.",
           "RG-50.030.0469_trs_en_cleaned"
          ],
          [
           "Q: In the morning you worked, she was playing [indecipherable] know.",
           "RG-50.030.0469_trs_en_cleaned"
          ],
          [
           "Q: Right. But other than your friend Dieter Rishter --",
           "RG-50.030.0469_trs_en_cleaned"
          ],
          [
           "Q: -- did you have another -- any other close friends, or was she the closest person?",
           "RG-50.030.0469_trs_en_cleaned"
          ],
          [
           "Q: Yes, but she was really --",
           "RG-50.030.0469_trs_en_cleaned"
          ],
          [
           "Q: So that was very hard on you to lose her.",
           "RG-50.030.0469_trs_en_cleaned"
          ],
          [
           "Q: Still hard?",
           "RG-50.030.0469_trs_en_cleaned"
          ],
          [
           "Q: I see what you're saying.",
           "RG-50.030.0469_trs_en_cleaned"
          ],
          [
           "Q: Right.",
           "RG-50.030.0469_trs_en_cleaned"
          ],
          [
           "Q: Were -- the -- the women that you saw, did most of them have one very close person?",
           "RG-50.030.0469_trs_en_cleaned"
          ],
          [
           "Q: You don't know.",
           "RG-50.030.0469_trs_en_cleaned"
          ],
          [
           "Q: You don't know how they -- how it was working.",
           "RG-50.030.0469_trs_en_cleaned"
          ],
          [
           "Q: Yeah.",
           "RG-50.030.0469_trs_en_cleaned"
          ],
          [
           "Q: Right.",
           "RG-50.030.0469_trs_en_cleaned"
          ],
          [
           "Q: Right. Did you ever see men coming into the camp and working?",
           "RG-50.030.0469_trs_en_cleaned"
          ],
          [
           "Q: Wasn't it the case that there was some -- somebody who was working the Sonderkommando, who spoke with you about what happened? Some person who saw you in Auschwitz, and talked to you, who came in the women's camp? Didn't you write about that?",
           "RG-50.030.0469_trs_en_cleaned"
          ],
          [
           "Q: Yeah.",
           "RG-50.030.0469_trs_en_cleaned"
          ],
          [
           "Q: Uh-huh.",
           "RG-50.030.0469_trs_en_cleaned"
          ],
          [
           "Q: Yeah.",
           "RG-50.030.0469_trs_en_cleaned"
          ],
          [
           "Q: Yes?",
           "RG-50.030.0469_trs_en_cleaned"
          ],
          [
           "Q: He found a mirror? This was after the war, this was --",
           "RG-50.030.0469_trs_en_cleaned"
          ],
          [
           "Q: -- during? He found a mirror and so he was fixing himself up.",
           "RG-50.030.0469_trs_en_cleaned"
          ],
          [
           "Q: Right, right.",
           "RG-50.030.0469_trs_en_cleaned"
          ],
          [
           "Q: But there were a number of times when you actually saved people, you risked your life.",
           "RG-50.030.0469_trs_en_cleaned"
          ],
          [
           "Q: Not just with -- with your friend Dieter, that was very dangerous to go into block 25 to bring her out.",
           "RG-50.030.0469_trs_en_cleaned"
          ],
          [
           "Q: In front, even in front.",
           "RG-50.030.0469_trs_en_cleaned"
          ],
          [
           "Q: Cause clearly she was waiting.",
           "RG-50.030.0469_trs_en_cleaned"
          ],
          [
           "Q: And how did you do that?",
           "RG-50.030.0469_trs_en_cleaned"
          ],
          [
           "Q: So |-let's stop the tape and we\" start with that --",
           "RG-50.030.0469_trs_en_cleaned"
          ],
          [
           "Q: -- on the next tape with you -- with getting Vera out.",
           "RG-50.030.0469_trs_en_cleaned"
          ],
          [
           "Q: Okay, before we talk about your saving Vera Isen, tell me what impelled you to do this? It was so dangerous, you could have been caught in a second and killed.",
           "RG-50.030.0469_trs_en_cleaned"
          ],
          [
           "Q: What made you do it? How --",
           "RG-50.030.0469_trs_en_cleaned"
          ],
          [
           "Q: And nobody saw you, Irma didn't see you. Irma -- irm -- was Irma Weiss, right?",
           "RG-50.030.0469_trs_en_cleaned"
          ],
          [
           "Q: Irna, rather, right.",
           "RG-50.030.0469_trs_en_cleaned"
          ],
          [
           "Q: Right.",
           "RG-50.030.0469_trs_en_cleaned"
          ],
          [
           "Q: She knew.",
           "RG-50.030.0469_trs_en_cleaned"
          ],
          [
           "Q: But if they were going through the -- th -- the process, this wasn't outside, this was inside --",
           "RG-50.030.0469_trs_en_cleaned"
          ],
          [
           "Q: -- were they not taking down names?",
           "RG-50.030.0469_trs_en_cleaned"
          ],
          [
           "Q: They can -- not that -- it was just n -- just moving people.",
           "RG-50.030.0469_trs_en_cleaned"
          ],
          [
           "Q: I see, so --",
           "RG-50.030.0469_trs_en_cleaned"
          ],
          [
           "Q: I see, so they can -- there was no way to check if you --",
           "RG-50.030.0469_trs_en_cleaned"
          ],
          [
           "Q: I see. Now, there were other people in that room.",
           "RG-50.030.0469_trs_en_cleaned"
          ],
          [
           "Q: Did they realize what you were doing, or you don't know?",
           "RG-50.030.0469_trs_en_cleaned"
          ],
          [
           "Q: That was people who were deteriorated and -- and close to death also, right.",
           "RG-50.030.0469_trs_en_cleaned"
          ],
          [
           "Q: So she escaped herself.",
           "RG-50.030.0469_trs_en_cleaned"
          ],
          [
           "Q: Right, right.",
           "RG-50.030.0469_trs_en_cleaned"
          ],
          [
           "Q: Right.",
           "RG-50.030.0469_trs_en_cleaned"
          ],
          [
           "Q: Yes.",
           "RG-50.030.0469_trs_en_cleaned"
          ],
          [
           "Q: And what gave you -- were you holding onto this young -- this 16 year old girl when you said to this other woman if you -- if you will take --",
           "RG-50.030.0469_trs_en_cleaned"
          ],
          [
           "Q: You just took her.",
           "RG-50.030.0469_trs_en_cleaned"
          ],
          [
           "Q: [indecipherable] you just took her.",
           "RG-50.030.0469_trs_en_cleaned"
          ],
          [
           "Q: Yeah.",
           "RG-50.030.0469_trs_en_cleaned"
          ],
          [
           "Q: And what brought --",
           "RG-50.030.0469_trs_en_cleaned"
          ],
          [
           "Q: -- together. And what made you th -- I understand this was some instinctual thing --",
           "RG-50.030.0469_trs_en_cleaned"
          ],
          [
           "Q: -- o-on your part, but what made you say that to her? Because you didn't think that the 16 year old would survive if she didn't have somebody?",
           "RG-50.030.0469_trs_en_cleaned"
          ],
          [
           "Q: Did they sur -- did they survive?",
           "RG-50.030.0469_trs_en_cleaned"
          ],
          [
           "Q: Right.",
           "RG-50.030.0469_trs_en_cleaned"
          ],
          [
           "Q: So tell me the story about Vera Isen.",
           "RG-50.030.0469_trs_en_cleaned"
          ],
          [
           "Q: No, you didn't. What happened, yeah.",
           "RG-50.030.0469_trs_en_cleaned"
          ],
          [
           "Q: So you've never seen her since that day?",
           "RG-50.030.0469_trs_en_cleaned"
          ],
          [
           "Q: Right, right. Did you tell her when you brought her to -- to the sauna, did you say I am your cousin, or you never told her?",
           "RG-50.030.0469_trs_en_cleaned"
          ],
          [
           "Q: Oh, you did tell her.",
           "RG-50.030.0469_trs_en_cleaned"
          ],
          [
           "Q: Uh-huh.",
           "RG-50.030.0469_trs_en_cleaned"
          ],
          [
           "Q: As a cousin",
           "RG-50.030.0469_trs_en_cleaned"
          ],
          [
           "Q: Right, right.",
           "RG-50.030.0469_trs_en_cleaned"
          ],
          [
           "Q: So how do you understand yourself doing all of this?",
           "RG-50.030.0469_trs_en_cleaned"
          ],
          [
           "Q: Yes?",
           "RG-50.030.0469_trs_en_cleaned"
          ],
          [
           "Q: Nobody?",
           "RG-50.030.0469_trs_en_cleaned"
          ],
          [
           "Q: And you had just faked everything?",
           "RG-50.030.0469_trs_en_cleaned"
          ],
          [
           "Q: But he didn't look.",
           "RG-50.030.0469_trs_en_cleaned"
          ],
          [
           "Q: Right.",
           "RG-50.030.0469_trs_en_cleaned"
          ],
          [
           "Q: But don't you, even if people don't thank you, you have some feeling in yourself about what you did.",
           "RG-50.030.0469_trs_en_cleaned"
          ],
          [
           "Q: [indecipherable]",
           "RG-50.030.0469_trs_en_cleaned"
          ],
          [
           "Q: Yeah.",
           "RG-50.030.0469_trs_en_cleaned"
          ],
          [
           "Q: But something -- something must have been in your family, there's a certain kind of justice, or evenness, even what you did after the war, that even though this woman had no right to get money from you.",
           "RG-50.030.0469_trs_en_cleaned"
          ],
          [
           "Q: None --",
           "RG-50.030.0469_trs_en_cleaned"
          ],
          [
           "Q: -- whatsoever. But you -- it was more important for you to shut her up essentially --",
           "RG-50.030.0469_trs_en_cleaned"
          ],
          [
           "Q: -- so she wouldn't say nasty things about your father.",
           "RG-50.030.0469_trs_en_cleaned"
          ],
          [
           "Q: It was your responsibility.",
           "RG-50.030.0469_trs_en_cleaned"
          ],
          [
           "Q: And it's a -- oh, there's -- there's something, something.",
           "RG-50.030.0469_trs_en_cleaned"
          ],
          [
           "Q: Yeah.",
           "RG-50.030.0469_trs_en_cleaned"
          ],
          [
           "Q: Right.",
           "RG-50.030.0469_trs_en_cleaned"
          ],
          [
           "Q: You just did it.",
           "RG-50.030.0469_trs_en_cleaned"
          ],
          [
           "Q: You just did it.",
           "RG-50.030.0469_trs_en_cleaned"
          ],
          [
           "Q: So you did it.",
           "RG-50.030.0469_trs_en_cleaned"
          ],
          [
           "Q: But you know, when you said -- when we were talking before, about having -- being practical.",
           "RG-50.030.0469_trs_en_cleaned"
          ],
          [
           "Q: In a situation that was --",
           "RG-50.030.0469_trs_en_cleaned"
          ],
          [
           "Q: -- clearly completely crazy.",
           "RG-50.030.0469_trs_en_cleaned"
          ],
          [
           "Q: But in order to live in it, you had to think in a practical way --",
           "RG-50.030.0469_trs_en_cleaned"
          ],
          [
           "Q: -- not in some fantasy land, right?",
           "RG-50.030.0469_trs_en_cleaned"
          ],
          [
           "Q: So you were thinking and strategizing --",
           "RG-50.030.0469_trs_en_cleaned"
          ],
          [
           "Q: -- and seeing --",
           "RG-50.030.0469_trs_en_cleaned"
          ],
          [
           "Q: -- little ways.",
           "RG-50.030.0469_trs_en_cleaned"
          ],
          [
           "Q: To save yourself and to save some [indecipherable]",
           "RG-50.030.0469_trs_en_cleaned"
          ],
          [
           "Q: Yes.",
           "RG-50.030.0469_trs_en_cleaned"
          ],
          [
           "Q: Yes.",
           "RG-50.030.0469_trs_en_cleaned"
          ],
          [
           "Q: Yes.",
           "RG-50.030.0469_trs_en_cleaned"
          ],
          [
           "Q: I-I would think it would make somehow living with that experience a little bit easier, but you actually acted --",
           "RG-50.030.0469_trs_en_cleaned"
          ],
          [
           "Q: -- on behalf of other people.",
           "RG-50.030.0469_trs_en_cleaned"
          ],
          [
           "Q: And didn't simply watch -- you got saved and watched --",
           "RG-50.030.0469_trs_en_cleaned"
          ],
          [
           "Q: I don't think you could have --",
           "RG-50.030.0469_trs_en_cleaned"
          ],
          [
           "Q: Yeah.",
           "RG-50.030.0469_trs_en_cleaned"
          ],
          [
           "Q: Right.",
           "RG-50.030.0469_trs_en_cleaned"
          ],
          [
           "Q: Yeah. Because you thought it was going to be over anyway.",
           "RG-50.030.0469_trs_en_cleaned"
          ],
          [
           "Q: Now, your job as a Laeuferin --",
           "RG-50.030.0469_trs_en_cleaned"
          ],
          [
           "Q: Was stopped because Mala Zimetbaum --",
           "RG-50.030.0469_trs_en_cleaned"
          ],
          [
           "Q: -- left with her boyfriend Galinski, yes?",
           "RG-50.030.0469_trs_en_cleaned"
          ],
          [
           "Q: I forget what his first name was.",
           "RG-50.030.0469_trs_en_cleaned"
          ],
          [
           "Q: E-Edek, right.[indecipherable]",
           "RG-50.030.0469_trs_en_cleaned"
          ],
          [
           "Q: What did you think about that? Of course you didn't know she was going to escape, but when",
           "RG-50.030.0469_trs_en_cleaned"
          ],
          [
           "Q: It wasn't smart.",
           "RG-50.030.0469_trs_en_cleaned"
          ],
          [
           "Q: Yeah.",
           "RG-50.030.0469_trs_en_cleaned"
          ],
          [
           "Q: And she was in a safe position --",
           "RG-50.030.0469_trs_en_cleaned"
          ],
          [
           "Q: -- as a Laeuferin, sh --",
           "RG-50.030.0469_trs_en_cleaned"
          ],
          [
           "Q: Right",
           "RG-50.030.0469_trs_en_cleaned"
          ],
          [
           "Q: Right.",
           "RG-50.030.0469_trs_en_cleaned"
          ],
          [
           "Q: Do you have -- given that you knew her a little bit, do you have some understanding of what she thought she was doing? That she --",
           "RG-50.030.0469_trs_en_cleaned"
          ],
          [
           "Q: Oh.",
           "RG-50.030.0469_trs_en_cleaned"
          ],
          [
           "Q: Yes.",
           "RG-50.030.0469_trs_en_cleaned"
          ],
          [
           "Q: So do you think in some ways she's unrealistic? Is that what ---",
           "RG-50.030.0469_trs_en_cleaned"
          ],
          [
           "Q: Oh, uh-huh.",
           "RG-50.030.0469_trs_en_cleaned"
          ],
          [
           "Q: Yeah.",
           "RG-50.030.0469_trs_en_cleaned"
          ],
          [
           "Q: Right.",
           "RG-50.030.0469_trs_en_cleaned"
          ],
          [
           "Q: Mm-hm.",
           "RG-50.030.0469_trs_en_cleaned"
          ],
          [
           "Q: And he doesn't know.",
           "RG-50.030.0469_trs_en_cleaned"
          ],
          [
           "Q: I think so.",
           "RG-50.030.0469_trs_en_cleaned"
          ],
          [
           "Q: So show him the interview.",
           "RG-50.030.0469_trs_en_cleaned"
          ],
          [
           "Q: Right.",
           "RG-50.030.0469_trs_en_cleaned"
          ],
          [
           "Q: No.",
           "RG-50.030.0469_trs_en_cleaned"
          ],
          [
           "Q: Ina male uniform, right? She was --",
           "RG-50.030.0469_trs_en_cleaned"
          ],
          [
           "Q: No? She was [indecipherable] a woman?",
           "RG-50.030.0469_trs_en_cleaned"
          ],
          [
           "Q: Uh-huh, I see.",
           "RG-50.030.0469_trs_en_cleaned"
          ],
          [
           "Q: Right.",
           "RG-50.030.0469_trs_en_cleaned"
          ],
          [
           "Q: Yeah. So when they were caught, were you -- were you there when they took her to hang her?",
           "RG-50.030.0469_trs_en_cleaned"
          ],
          [
           "Q: I know they didn't, but weren't they -- they were bringing her.",
           "RG-50.030.0469_trs_en_cleaned"
          ],
          [
           "Q: You were there. So you saw what happened?",
           "RG-50.030.0469_trs_en_cleaned"
          ],
          [
           "Q: It was everywhere. So tell me what you saw.",
           "RG-50.030.0469_trs_en_cleaned"
          ],
          [
           "Q: This is aft -- after her escape, they took all of you --",
           "RG-50.030.0469_trs_en_cleaned"
          ],
          [
           "Q: -- out.",
           "RG-50.030.0469_trs_en_cleaned"
          ],
          [
           "Q: She said that aloud?",
           "RG-50.030.0469_trs_en_cleaned"
          ],
          [
           "Q: Yes.",
           "RG-50.030.0469_trs_en_cleaned"
          ],
          [
           "Q: Right, okay.",
           "RG-50.030.0469_trs_en_cleaned"
          ],
          [
           "Q: Tell -- explain what a Schreiberin is. That was your next job after the Laeuferin. What is -- what does a Schreiberin do?",
           "RG-50.030.0469_trs_en_cleaned"
          ],
          [
           "Q: Right. So you now know that those reports that you were doing was -- were going to Tsipi?",
           "RG-50.030.0469_trs_en_cleaned"
          ],
          [
           "Q: Now you know, you didn't know that.",
           "RG-50.030.0469_trs_en_cleaned"
          ],
          [
           "Q: She was making reports to go to Berlin of what was happening in the women's camp.",
           "RG-50.030.0469_trs_en_cleaned"
          ],
          [
           "Q: You didn't know, right.",
           "RG-50.030.0469_trs_en_cleaned"
          ],
          [
           "Q: Right.",
           "RG-50.030.0469_trs_en_cleaned"
          ],
          [
           "Q: Right.",
           "RG-50.030.0469_trs_en_cleaned"
          ],
          [
           "Q: That's very interesting.",
           "RG-50.030.0469_trs_en_cleaned"
          ],
          [
           "Q: Right.",
           "RG-50.030.0469_trs_en_cleaned"
          ],
          [
           "Q: Right.",
           "RG-50.030.0469_trs_en_cleaned"
          ],
          [
           "Q: Yes, she actually introduced us.",
           "RG-50.030.0469_trs_en_cleaned"
          ],
          [
           "Q: Yes.",
           "RG-50.030.0469_trs_en_cleaned"
          ],
          [
           "Q: Yes, I think it's very interesting.",
           "RG-50.030.0469_trs_en_cleaned"
          ],
          [
           "Q: I don't know when this happened, but at some point you said that an SS man visited the blockalteste's room drunk, and was asking --",
           "RG-50.030.0469_trs_en_cleaned"
          ],
          [
           "Q: Why did he -- yes, can you -- was this in block four?",
           "RG-50.030.0469_trs_en_cleaned"
          ],
          [
           "Q: No, this was another block, this was --",
           "RG-50.030.0469_trs_en_cleaned"
          ],
          [
           "Q: Right.",
           "RG-50.030.0469_trs_en_cleaned"
          ],
          [
           "Q: Yes, that one you took from the sauna?",
           "RG-50.030.0469_trs_en_cleaned"
          ],
          [
           "Q: Yes.",
           "RG-50.030.0469_trs_en_cleaned"
          ],
          [
           "Q: Yes.",
           "RG-50.030.0469_trs_en_cleaned"
          ],
          [
           "Q: Right.",
           "RG-50.030.0469_trs_en_cleaned"
          ],
          [
           "Q: And he took the gun as well?",
           "RG-50.030.0469_trs_en_cleaned"
          ],
          [
           "Q: Dangerous, but -- but interesting that -- that any of them would have that response, and come to you.",
           "RG-50.030.0469_trs_en_cleaned"
          ],
          [
           "Q: I mean, no, no, I know that, but coming to the prisoners --",
           "RG-50.030.0469_trs_en_cleaned"
          ],
          [
           "Q: -- to the haftlings --",
           "RG-50.030.0469_trs_en_cleaned"
          ],
          [
           "Q: Yes. It's almost as if you could give him forgiveness, or being with you could --",
           "RG-50.030.0469_trs_en_cleaned"
          ],
          [
           "Q: -- save him in some --",
           "RG-50.030.0469_trs_en_cleaned"
          ],
          [
           "Q: Did you ever see him again?",
           "RG-50.030.0469_trs_en_cleaned"
          ],
          [
           "Q: No.",
           "RG-50.030.0469_trs_en_cleaned"
          ],
          [
           "Q: Yeah, they're all the --",
           "RG-50.030.0469_trs_en_cleaned"
          ],
          [
           "Q: They're all the same.",
           "RG-50.030.0469_trs_en_cleaned"
          ],
          [
           "Q: Does this -- did this happen before the October --",
           "RG-50.030.0469_trs_en_cleaned"
          ],
          [
           "Q: It ha -- before the evacuation, but before the October -- the revolt and the blowing up of the crematorium? October 1944 --",
           "RG-50.030.0469_trs_en_cleaned"
          ],
          [
           "Q: -- was when they blew up the crematorium.",
           "RG-50.030.0469_trs_en_cleaned"
          ],
          [
           "Q: It was after that?",
           "RG-50.030.0469_trs_en_cleaned"
          ],
          [
           "Q: Do you remember the --",
           "RG-50.030.0469_trs_en_cleaned"
          ],
          [
           "Q: Excuse me, go ahead.",
           "RG-50.030.0469_trs_en_cleaned"
          ],
          [
           "Q: I interrupted you, go ahead.",
           "RG-50.030.0469_trs_en_cleaned"
          ],
          [
           "Q: Right.",
           "RG-50.030.0469_trs_en_cleaned"
          ],
          [
           "Q: Uh-huh.",
           "RG-50.030.0469_trs_en_cleaned"
          ],
          [
           "Q: Uh-huh.",
           "RG-50.030.0469_trs_en_cleaned"
          ],
          [
           "Q: Wh-What do mean, one disappeared, a person?",
           "RG-50.030.0469_trs_en_cleaned"
          ],
          [
           "Q: I don't know.",
           "RG-50.030.0469_trs_en_cleaned"
          ],
          [
           "Q: Right, you're not sure --",
           "RG-50.030.0469_trs_en_cleaned"
          ],
          [
           "Q: -- you don't know.",
           "RG-50.030.0469_trs_en_cleaned"
          ],
          [
           "Q: And had you heard rumors that there was resistance and people were taking powder out from the union factory, or you --",
           "RG-50.030.0469_trs_en_cleaned"
          ],
          [
           "Q: You had heard -- you had heard about this?",
           "RG-50.030.0469_trs_en_cleaned"
          ],
          [
           "Q: Yeah.",
           "RG-50.030.0469_trs_en_cleaned"
          ],
          [
           "Q: Actually, four.",
           "RG-50.030.0469_trs_en_cleaned"
          ],
          [
           "Q: Four.",
           "RG-50.030.0469_trs_en_cleaned"
          ],
          [
           "Q: Yeah.",
           "RG-50.030.0469_trs_en_cleaned"
          ],
          [
           "Q: But had you heard about that before it happened, or as a rumor, or only after?",
           "RG-50.030.0469_trs_en_cleaned"
          ],
          [
           "Q: Only after.",
           "RG-50.030.0469_trs_en_cleaned"
          ],
          [
           "Q: Uh-huh, mm-hm.",
           "RG-50.030.0469_trs_en_cleaned"
          ],
          [
           "Q: Uh-huh.",
           "RG-50.030.0469_trs_en_cleaned"
          ],
          [
           "Q: Do you remember when you left Birkenau before you actually were evacuated? Did you evacuate and go back to Auschwitz one? Or did you leave from Birkenau and start the Death March immediately?",
           "RG-50.030.0469_trs_en_cleaned"
          ],
          [
           "Q: Right away?",
           "RG-50.030.0469_trs_en_cleaned"
          ],
          [
           "Q: And that was January 18?",
           "RG-50.030.0469_trs_en_cleaned"
          ],
          [
           "Q: So, before you do that, let me -- did you smoke when you were in Auschwitz?",
           "RG-50.030.0469_trs_en_cleaned"
          ],
          [
           "Q: Sometimes?",
           "RG-50.030.0469_trs_en_cleaned"
          ],
          [
           "Q: I understood that men were allowed cigarettes but women were not.",
           "RG-50.030.0469_trs_en_cleaned"
          ],
          [
           "Q: And do you have any -- do you have any understanding of why women were not allowed to smoke and men were?",
           "RG-50.030.0469_trs_en_cleaned"
          ],
          [
           "Q: Isn't -- isn't it strange?",
           "RG-50.030.0469_trs_en_cleaned"
          ],
          [
           "Q: You -- you -- in your --",
           "RG-50.030.0469_trs_en_cleaned"
          ],
          [
           "Q: But it was clear to you that you were not supposed to do it?",
           "RG-50.030.0469_trs_en_cleaned"
          ],
          [
           "Q: Sometimes.",
           "RG-50.030.0469_trs_en_cleaned"
          ],
          [
           "Q: Was it helpful to smoke?",
           "RG-50.030.0469_trs_en_cleaned"
          ],
          [
           "Q: And where did you smoke?",
           "RG-50.030.0469_trs_en_cleaned"
          ],
          [
           "Q: In block four?",
           "RG-50.030.0469_trs_en_cleaned"
          ],
          [
           "Q: And did other women in block four smoke --",
           "RG-50.030.0469_trs_en_cleaned"
          ],
          [
           "Q: I see.",
           "RG-50.030.0469_trs_en_cleaned"
          ],
          [
           "Q: So that's how you got, somebody would just say that you want a cigarette?",
           "RG-50.030.0469_trs_en_cleaned"
          ],
          [
           "Q: Uh-huh.",
           "RG-50.030.0469_trs_en_cleaned"
          ],
          [
           "Q: But how would people get cigarettes, they would barter with something? H-How did these women get cigarettes do you think?",
           "RG-50.030.0469_trs_en_cleaned"
          ],
          [
           "Q: Yeah.",
           "RG-50.030.0469_trs_en_cleaned"
          ],
          [
           "Q: So you had access in that barrack to things, because you could walk around and you also were able to do that, whereas most women couldn't do that in the camp.",
           "RG-50.030.0469_trs_en_cleaned"
          ],
          [
           "Q: No, you had access to be able to barter with the Germans.",
           "RG-50.030.0469_trs_en_cleaned"
          ],
          [
           "Q: No?",
           "RG-50.030.0469_trs_en_cleaned"
          ],
          [
           "Q: As a [indecipherable]. Right.",
           "RG-50.030.0469_trs_en_cleaned"
          ],
          [
           "Q: Really?",
           "RG-50.030.0469_trs_en_cleaned"
          ],
          [
           "Q: Right. But he wouldn't do anything.",
           "RG-50.030.0469_trs_en_cleaned"
          ],
          [
           "Q: You couldn't do that?",
           "RG-50.030.0469_trs_en_cleaned"
          ],
          [
           "Q: It wasn't that --",
           "RG-50.030.0469_trs_en_cleaned"
          ],
          [
           "Q: That -- that became the biggest.",
           "RG-50.030.0469_trs_en_cleaned"
          ],
          [
           "Q: On the bottom.",
           "RG-50.030.0469_trs_en_cleaned"
          ],
          [
           "Q: Did you talk about food together? Did -- did women talk about recipes of food?",
           "RG-50.030.0469_trs_en_cleaned"
          ],
          [
           "Q: No.",
           "RG-50.030.0469_trs_en_cleaned"
          ],
          [
           "Q: The Hungarians did.",
           "RG-50.030.0469_trs_en_cleaned"
          ],
          [
           "Q: So why do you think the Hungarians did it, and the other people didn't --",
           "RG-50.030.0469_trs_en_cleaned"
          ],
          [
           "Q: They liked --",
           "RG-50.030.0469_trs_en_cleaned"
          ],
          [
           "Q: That's what I was going to say, they weren't so long.",
           "RG-50.030.0469_trs_en_cleaned"
          ],
          [
           "Q: 44.",
           "RG-50.030.0469_trs_en_cleaned"
          ],
          [
           "Q: Yes.",
           "RG-50.030.0469_trs_en_cleaned"
          ],
          [
           "Q: Do you remember the mud in Auschwitz?",
           "RG-50.030.0469_trs_en_cleaned"
          ],
          [
           "Q: Mud.",
           "RG-50.030.0469_trs_en_cleaned"
          ],
          [
           "Q: Mud.",
           "RG-50.030.0469_trs_en_cleaned"
          ],
          [
           "Q: Mud, the --",
           "RG-50.030.0469_trs_en_cleaned"
          ],
          [
           "Q: Mud, m-u-d.",
           "RG-50.030.0469_trs_en_cleaned"
          ],
          [
           "Q: So the -- the roads were not very muddy? It was not something you remember, because other people --",
           "RG-50.030.0469_trs_en_cleaned"
          ],
          [
           "Q: That's interesting.",
           "RG-50.030.0469_trs_en_cleaned"
          ],
          [
           "Q: Do you remember people being beaten?",
           "RG-50.030.0469_trs_en_cleaned"
          ],
          [
           "Q: You were hit that day.",
           "RG-50.030.0469_trs_en_cleaned"
          ],
          [
           "Q: Is that -- was that the only time that you remember?",
           "RG-50.030.0469_trs_en_cleaned"
          ],
          [
           "Q: Really hard.",
           "RG-50.030.0469_trs_en_cleaned"
          ],
          [
           "Q: What did that -- what did that -- did that do something to you as a human being, to be slapped? It must have been --",
           "RG-50.030.0469_trs_en_cleaned"
          ],
          [
           "Q: Yes.",
           "RG-50.030.0469_trs_en_cleaned"
          ],
          [
           "Q: Right. Okay.",
           "RG-50.030.0469_trs_en_cleaned"
          ],
          [
           "Q: When someone says the word Auschwitz to you, what's the first thing that comes to mind?",
           "RG-50.030.0469_trs_en_cleaned"
          ],
          [
           "Q: You don't like to hear about it.",
           "RG-50.030.0469_trs_en_cleaned"
          ],
          [
           "Q: So do you -- do you have a lot of friends who were from Auschwitz, a lot of people you know, or you -- you don't?",
           "RG-50.030.0469_trs_en_cleaned"
          ],
          [
           "Q: And so that you don't -- over the years you haven't talked about this very much?",
           "RG-50.030.0469_trs_en_cleaned"
          ],
          [
           "Q: Right.",
           "RG-50.030.0469_trs_en_cleaned"
          ],
          [
           "Q: Right.",
           "RG-50.030.0469_trs_en_cleaned"
          ],
          [
           "Q: Right.",
           "RG-50.030.0469_trs_en_cleaned"
          ],
          [
           "Q: Do you dream about it?",
           "RG-50.030.0469_trs_en_cleaned"
          ],
          [
           "Q: With your brother.",
           "RG-50.030.0469_trs_en_cleaned"
          ],
          [
           "Q: Right. Okay.End of Tape NineBeginning Tape 10",
           "RG-50.030.0469_trs_en_cleaned"
          ],
          [
           "Q: -- ing about your brother in Auschwitz, or dreaming --",
           "RG-50.030.0469_trs_en_cleaned"
          ],
          [
           "Q: -- as if you were dreaming with him? Is this what you were saying? Explain that to me.",
           "RG-50.030.0469_trs_en_cleaned"
          ],
          [
           "Q: That's he's there.",
           "RG-50.030.0469_trs_en_cleaned"
          ],
          [
           "Q: Ah, you're having dreams with your brother in it.",
           "RG-50.030.0469_trs_en_cleaned"
          ],
          [
           "Q: Yes. So when -- did you find out in Auschwitz what had happened to your brother and your mother and father, or was it after?",
           "RG-50.030.0469_trs_en_cleaned"
          ],
          [
           "Q: That they left.",
           "RG-50.030.0469_trs_en_cleaned"
          ],
          [
           "Q: Yes.",
           "RG-50.030.0469_trs_en_cleaned"
          ],
          [
           "Q: Yes.",
           "RG-50.030.0469_trs_en_cleaned"
          ],
          [
           "Q: So twice your brother left a place --",
           "RG-50.030.0469_trs_en_cleaned"
          ],
          [
           "Q: -- where he might have been saved.",
           "RG-50.030.0469_trs_en_cleaned"
          ],
          [
           "Q: Once when he was hidden and he went to your parents to help them when they were being deported, and then the second time he left the forest to be with them. Do you know where they were sent?",
           "RG-50.030.0469_trs_en_cleaned"
          ],
          [
           "Q: You think to Auschwitz?",
           "RG-50.030.0469_trs_en_cleaned"
          ],
          [
           "Q: Yeah, yeah.",
           "RG-50.030.0469_trs_en_cleaned"
          ],
          [
           "Q: Right.",
           "RG-50.030.0469_trs_en_cleaned"
          ],
          [
           "Q: So, you go on the Death March, and you obviously see there are a new set of guards now, right? These are not the guards you know.",
           "RG-50.030.0469_trs_en_cleaned"
          ],
          [
           "Q: Wehrmacht, uh-huh.",
           "RG-50.030.0469_trs_en_cleaned"
          ],
          [
           "Q: Really. So these are all strangers?",
           "RG-50.030.0469_trs_en_cleaned"
          ],
          [
           "Q: And there's a lot of shooting, isn't there?",
           "RG-50.030.0469_trs_en_cleaned"
          ],
          [
           "Q: [indecipherable]",
           "RG-50.030.0469_trs_en_cleaned"
          ],
          [
           "Q: Uh-huh.",
           "RG-50.030.0469_trs_en_cleaned"
          ],
          [
           "Q: Really?",
           "RG-50.030.0469_trs_en_cleaned"
          ],
          [
           "Q: And so they pulled you.",
           "RG-50.030.0469_trs_en_cleaned"
          ],
          [
           "Q: In some way like you pulled Dieter out of --",
           "RG-50.030.0469_trs_en_cleaned"
          ],
          [
           "Q: -- quarantine 25 --",
           "RG-50.030.0469_trs_en_cleaned"
          ],
          [
           "Q: -- they kept you going, yes?",
           "RG-50.030.0469_trs_en_cleaned"
          ],
          [
           "Q: Right.",
           "RG-50.030.0469_trs_en_cleaned"
          ],
          [
           "Q: You had big bunions from those shoes.",
           "RG-50.030.0469_trs_en_cleaned"
          ],
          [
           "Q: Yeah.",
           "RG-50.030.0469_trs_en_cleaned"
          ],
          [
           "Q: Yeah.",
           "RG-50.030.0469_trs_en_cleaned"
          ],
          [
           "Q: On the Death March?",
           "RG-50.030.0469_trs_en_cleaned"
          ],
          [
           "Q: Yes.",
           "RG-50.030.0469_trs_en_cleaned"
          ],
          [
           "Q: And this was miles --",
           "RG-50.030.0469_trs_en_cleaned"
          ],
          [
           "Q: -- that you walked.",
           "RG-50.030.0469_trs_en_cleaned"
          ],
          [
           "Q: Miles and miles and miles in very cold January weather.",
           "RG-50.030.0469_trs_en_cleaned"
          ],
          [
           "Q: Did you have gloves this time?",
           "RG-50.030.0469_trs_en_cleaned"
          ],
          [
           "Q: You don't remember.",
           "RG-50.030.0469_trs_en_cleaned"
          ],
          [
           "Q: Yes. So how many day -- do you have any idea how many days you marched til you got to the train that took you to Ravensbriick?",
           "RG-50.030.0469_trs_en_cleaned"
          ],
          [
           "Q: Did you sleep two -- two nights in some --",
           "RG-50.030.0469_trs_en_cleaned"
          ],
          [
           "Q: So this man arranged on the second [indecipherable]",
           "RG-50.030.0469_trs_en_cleaned"
          ],
          [
           "Q: Were there people in the Polish population that saw you as you were marching?",
           "RG-50.030.0469_trs_en_cleaned"
          ],
          [
           "Q: Wi -- di -- did people say anything, did anybody give you anything?",
           "RG-50.030.0469_trs_en_cleaned"
          ],
          [
           "Q: Standing there.",
           "RG-50.030.0469_trs_en_cleaned"
          ],
          [
           "Q: Yes.",
           "RG-50.030.0469_trs_en_cleaned"
          ],
          [
           "Q: And the Germans didn't stop them?",
           "RG-50.030.0469_trs_en_cleaned"
          ],
          [
           "Q: No.",
           "RG-50.030.0469_trs_en_cleaned"
          ],
          [
           "Q: Right.",
           "RG-50.030.0469_trs_en_cleaned"
          ],
          [
           "Q: Mm-hm.",
           "RG-50.030.0469_trs_en_cleaned"
          ],
          [
           "Q: Right, right.",
           "RG-50.030.0469_trs_en_cleaned"
          ],
          [
           "Q: It must have been important as a human being to see it, yes?",
           "RG-50.030.0469_trs_en_cleaned"
          ],
          [
           "Q: Right, right.",
           "RG-50.030.0469_trs_en_cleaned"
          ],
          [
           "Q: Yes, it may be more important than food in some ways.",
           "RG-50.030.0469_trs_en_cleaned"
          ],
          [
           "Q: So do you get on a train to go to Ravensbriick?",
           "RG-50.030.0469_trs_en_cleaned"
          ],
          [
           "Q: Is it an open --",
           "RG-50.030.0469_trs_en_cleaned"
          ],
          [
           "Q: So you\" re still freezing?",
           "RG-50.030.0469_trs_en_cleaned"
          ],
          [
           "Q: And throw it out? [indecipherable]",
           "RG-50.030.0469_trs_en_cleaned"
          ],
          [
           "Q: And that's it.",
           "RG-50.030.0469_trs_en_cleaned"
          ],
          [
           "Q: So a lot of them died? They just threw them --",
           "RG-50.030.0469_trs_en_cleaned"
          ],
          [
           "Q: -- like they were twigs.",
           "RG-50.030.0469_trs_en_cleaned"
          ],
          [
           "Q: So were the women in better shape than that -- than the men?",
           "RG-50.030.0469_trs_en_cleaned"
          ],
          [
           "Q: So --",
           "RG-50.030.0469_trs_en_cleaned"
          ],
          [
           "Q: Yeah. Right.",
           "RG-50.030.0469_trs_en_cleaned"
          ],
          [
           "Q: [indecipherable] yes.",
           "RG-50.030.0469_trs_en_cleaned"
          ],
          [
           "Q: It was really bad there.",
           "RG-50.030.0469_trs_en_cleaned"
          ],
          [
           "Q: Bigger sips.",
           "RG-50.030.0469_trs_en_cleaned"
          ],
          [
           "Q: Icicles.",
           "RG-50.030.0469_trs_en_cleaned"
          ],
          [
           "Q: And you are hearing rumors about the progress of the war?",
           "RG-50.030.0469_trs_en_cleaned"
          ],
          [
           "Q: The progress of the war.",
           "RG-50.030.0469_trs_en_cleaned"
          ],
          [
           "Q: You hear nothing?",
           "RG-50.030.0469_trs_en_cleaned"
          ],
          [
           "Q: So you have no idea?",
           "RG-50.030.0469_trs_en_cleaned"
          ],
          [
           "Q: But you didn't know anything, you didn't know that the -- the Russians were coming this way",
           "RG-50.030.0469_trs_en_cleaned"
          ],
          [
           "Q: -- and the allies were coming that way, and --",
           "RG-50.030.0469_trs_en_cleaned"
          ],
          [
           "Q: Right.",
           "RG-50.030.0469_trs_en_cleaned"
          ],
          [
           "Q: And they continued later, after you left.",
           "RG-50.030.0469_trs_en_cleaned"
          ],
          [
           "Q: Yes.",
           "RG-50.030.0469_trs_en_cleaned"
          ],
          [
           "Q: Right.",
           "RG-50.030.0469_trs_en_cleaned"
          ],
          [
           "Q: So did it become more and more hopeless? [indecipherable]",
           "RG-50.030.0469_trs_en_cleaned"
          ],
          [
           "Q: Right.",
           "RG-50.030.0469_trs_en_cleaned"
          ],
          [
           "Q: Really.",
           "RG-50.030.0469_trs_en_cleaned"
          ],
          [
           "Q: Redshof.",
           "RG-50.030.0469_trs_en_cleaned"
          ],
          [
           "Q: That was okay?",
           "RG-50.030.0469_trs_en_cleaned"
          ],
          [
           "Q: Because it was to -- cause it was",
           "RG-50.030.0469_trs_en_cleaned"
          ],
          [
           "Q: -- was never going to end.",
           "RG-50.030.0469_trs_en_cleaned"
          ],
          [
           "Q: So you were in Redshof February, March, April, or January, February? You came in January to Redshof?",
           "RG-50.030.0469_trs_en_cleaned"
          ],
          [
           "Q: End of January.",
           "RG-50.030.0469_trs_en_cleaned"
          ],
          [
           "Q: And you were evacuated again?",
           "RG-50.030.0469_trs_en_cleaned"
          ],
          [
           "Q: Yes.",
           "RG-50.030.0469_trs_en_cleaned"
          ],
          [
           "Q: Everybody was [indecipherable]",
           "RG-50.030.0469_trs_en_cleaned"
          ],
          [
           "Q: Did you feel that you were getting closer to being free?",
           "RG-50.030.0469_trs_en_cleaned"
          ],
          [
           "Q: You did?",
           "RG-50.030.0469_trs_en_cleaned"
          ],
          [
           "Q: All right, let me ask you one question about Redshof. When you were in Redshof, did you think you were going to start going off your mind too, because you were --",
           "RG-50.030.0469_trs_en_cleaned"
          ],
          [
           "Q: Even though it was better physically.",
           "RG-50.030.0469_trs_en_cleaned"
          ],
          [
           "Q: Yes.",
           "RG-50.030.0469_trs_en_cleaned"
          ],
          [
           "Q: Uh-huh.",
           "RG-50.030.0469_trs_en_cleaned"
          ],
          [
           "Q: The stars?",
           "RG-50.030.0469_trs_en_cleaned"
          ],
          [
           "Q: Mm-hm.",
           "RG-50.030.0469_trs_en_cleaned"
          ],
          [
           "Q: Right.",
           "RG-50.030.0469_trs_en_cleaned"
          ],
          [
           "Q: But it doesn't end easily, it's not as if you're liberated and everything's fine",
           "RG-50.030.0469_trs_en_cleaned"
          ],
          [
           "Q: All of Europe is devastated --",
           "RG-50.030.0469_trs_en_cleaned"
          ],
          [
           "Q: -- and families are gone from --",
           "RG-50.030.0469_trs_en_cleaned"
          ],
          [
           "Q: Can you explain that more? What were people talking about that you were not talking --",
           "RG-50.030.0469_trs_en_cleaned"
          ],
          [
           "Q: And did people ask you what happened? Did they care?",
           "RG-50.030.0469_trs_en_cleaned"
          ],
          [
           "Q: And they don't believe you.",
           "RG-50.030.0469_trs_en_cleaned"
          ],
          [
           "Q: So, did you stop talking?",
           "RG-50.030.0469_trs_en_cleaned"
          ],
          [
           "Q: You went back to PreSov, we talked about that in the beginning. And then you went to your uncle in Humenne.",
           "RG-50.030.0469_trs_en_cleaned"
          ],
          [
           "Q: Yes. And you met your husband.",
           "RG-50.030.0469_trs_en_cleaned"
          ],
          [
           "Q: You met the person who became your husband, if you will.",
           "RG-50.030.0469_trs_en_cleaned"
          ],
          [
           "Q: Yes. Why did the two of you decide to stay in Slovakia, or was there no choice, until \"68?",
           "RG-50.030.0469_trs_en_cleaned"
          ],
          [
           "Q: Right.",
           "RG-50.030.0469_trs_en_cleaned"
          ],
          [
           "Q: Wow.",
           "RG-50.030.0469_trs_en_cleaned"
          ],
          [
           "Q: I was going to say, it must --",
           "RG-50.030.0469_trs_en_cleaned"
          ],
          [
           "Q: -- must have been very difficult to be there.",
           "RG-50.030.0469_trs_en_cleaned"
          ],
          [
           "Q: Right.",
           "RG-50.030.0469_trs_en_cleaned"
          ],
          [
           "Q: Right.",
           "RG-50.030.0469_trs_en_cleaned"
          ],
          [
           "Q: Right.",
           "RG-50.030.0469_trs_en_cleaned"
          ],
          [
           "Q: No, go ahead.",
           "RG-50.030.0469_trs_en_cleaned"
          ],
          [
           "Q: Right.",
           "RG-50.030.0469_trs_en_cleaned"
          ],
          [
           "Q: Again, right.",
           "RG-50.030.0469_trs_en_cleaned"
          ],
          [
           "Q: [indecipherable] to stop, yes?",
           "RG-50.030.0469_trs_en_cleaned"
          ],
          [
           "Q: Is it Alice or Alicia, which is -- which do you like?",
           "RG-50.030.0469_trs_en_cleaned"
          ],
          [
           "Q: Ali -- Alicia -- Aliska --",
           "RG-50.030.0469_trs_en_cleaned"
          ],
          [
           "Q: Alice is it.",
           "RG-50.030.0469_trs_en_cleaned"
          ],
          [
           "Q: Okay. Do you have -- when you think about your life, do you think that Auschwitz changed you a great deal? Or how -- how do you think that -- be-besides the loss, I mean that's clear --",
           "RG-50.030.0469_trs_en_cleaned"
          ],
          [
           "Q: -- that the loss is tremendous and there's nothing -- but you as a person, do you think it changed you a great deal?",
           "RG-50.030.0469_trs_en_cleaned"
          ],
          [
           "Q: Yeah.",
           "RG-50.030.0469_trs_en_cleaned"
          ],
          [
           "Q: So, it -- has it in some strange way made you more tolerant than you would have been?",
           "RG-50.030.0469_trs_en_cleaned"
          ],
          [
           "Q: That you're easier on people, you don't judge people?",
           "RG-50.030.0469_trs_en_cleaned"
          ],
          [
           "Q: Uh-huh.",
           "RG-50.030.0469_trs_en_cleaned"
          ],
          [
           "Q: Yeah.",
           "RG-50.030.0469_trs_en_cleaned"
          ],
          [
           "Q: Do you think you were not that way when you were younger, before --",
           "RG-50.030.0469_trs_en_cleaned"
          ],
          [
           "Q: You don't know.",
           "RG-50.030.0469_trs_en_cleaned"
          ],
          [
           "Q: You don't know.",
           "RG-50.030.0469_trs_en_cleaned"
          ],
          [
           "Q: Right.",
           "RG-50.030.0469_trs_en_cleaned"
          ],
          [
           "Q: Yeah.",
           "RG-50.030.0469_trs_en_cleaned"
          ],
          [
           "Q: But it's interesting that such a brutal place as Auschwitz --",
           "RG-50.030.0469_trs_en_cleaned"
          ],
          [
           "Q: -- could somehow -- whether it brought out in you, or you simply made of who you were as a child and didn't know it.",
           "RG-50.030.0469_trs_en_cleaned"
          ],
          [
           "Q: Because clearly, certain values that you had came out there. You didn't become a brutal person --",
           "RG-50.030.0469_trs_en_cleaned"
          ],
          [
           "Q: -- in Auschwitz.",
           "RG-50.030.0469_trs_en_cleaned"
          ],
          [
           "Q: So maybe in some funny way it didn't change you. It changed the course of your life.",
           "RG-50.030.0469_trs_en_cleaned"
          ],
          [
           "Q: But maybe it didn't change your character.",
           "RG-50.030.0469_trs_en_cleaned"
          ],
          [
           "Q: It's interesting.",
           "RG-50.030.0469_trs_en_cleaned"
          ],
          [
           "Q: Right.",
           "RG-50.030.0469_trs_en_cleaned"
          ],
          [
           "Q: Right, right. But you did realize a dream that you had when you were a child, and that was to become a teacher.",
           "RG-50.030.0469_trs_en_cleaned"
          ],
          [
           "Q: And you did.",
           "RG-50.030.0469_trs_en_cleaned"
          ],
          [
           "Q: And what did you teach? What was the subject for which you --",
           "RG-50.030.0469_trs_en_cleaned"
          ],
          [
           "Q: Yeah.",
           "RG-50.030.0469_trs_en_cleaned"
          ],
          [
           "Q: But what you were really teaching was [indecipherable]",
           "RG-50.030.0469_trs_en_cleaned"
          ],
          [
           "Q: Right.",
           "RG-50.030.0469_trs_en_cleaned"
          ],
          [
           "Q: And what did you enjoy most about teaching?",
           "RG-50.030.0469_trs_en_cleaned"
          ],
          [
           "Q: Right.",
           "RG-50.030.0469_trs_en_cleaned"
          ],
          [
           "Q: Did any of the students ever ask you about your European past and where you were? Did they -- any -- any of your students ever know that you were in Auschwitz?",
           "RG-50.030.0469_trs_en_cleaned"
          ],
          [
           "Q: No, nobody.",
           "RG-50.030.0469_trs_en_cleaned"
          ],
          [
           "Q: And that was a very conscious decision on your part --",
           "RG-50.030.0469_trs_en_cleaned"
          ],
          [
           "Q: -- not to tell them. Do you think now maybe it would have been okay?",
           "RG-50.030.0469_trs_en_cleaned"
          ],
          [
           "Q: You wouldn't say.",
           "RG-50.030.0469_trs_en_cleaned"
          ],
          [
           "Q: Uh-huh, I see.",
           "RG-50.030.0469_trs_en_cleaned"
          ],
          [
           "Q: [indecipherable] is.",
           "RG-50.030.0469_trs_en_cleaned"
          ],
          [
           "Q: Right.",
           "RG-50.030.0469_trs_en_cleaned"
          ],
          [
           "Q: I would imagine you were a wonderful teacher.",
           "RG-50.030.0469_trs_en_cleaned"
          ],
          [
           "Q: Yes.",
           "RG-50.030.0469_trs_en_cleaned"
          ],
          [
           "Q: Right. Yeah, well --",
           "RG-50.030.0469_trs_en_cleaned"
          ],
          [
           "Q: Yeah. So is there anything that we -- I know you have all sorts of things in your life that we haven't talked about, but there -- is there anything important about your experiences during the Holocaust that you want to talk about that we haven't?",
           "RG-50.030.0469_trs_en_cleaned"
          ],
          [
           "Q: It's not like that.",
           "RG-50.030.0469_trs_en_cleaned"
          ],
          [
           "Q: And you think that's true?",
           "RG-50.030.0469_trs_en_cleaned"
          ],
          [
           "Q: Yeah.",
           "RG-50.030.0469_trs_en_cleaned"
          ],
          [
           "Q: So -- so, if that's true, then was, in some sense, living outside the lager difficult, even though it was horrible in Auschwitz, there was something about it --",
           "RG-50.030.0469_trs_en_cleaned"
          ],
          [
           "Q: No.",
           "RG-50.030.0469_trs_en_cleaned"
          ],
          [
           "Q: But outside, it's harder.",
           "RG-50.030.0469_trs_en_cleaned"
          ],
          [
           "Q: Right.",
           "RG-50.030.0469_trs_en_cleaned"
          ],
          [
           "Q: Yes.",
           "RG-50.030.0469_trs_en_cleaned"
          ],
          [
           "Q: That's the mask.",
           "RG-50.030.0469_trs_en_cleaned"
          ],
          [
           "Q: Yeah, and be real.",
           "RG-50.030.0469_trs_en_cleaned"
          ],
          [
           "Q: [indecipherable] yourself inside.",
           "RG-50.030.0469_trs_en_cleaned"
          ],
          [
           "Q: Right.",
           "RG-50.030.0469_trs_en_cleaned"
          ],
          [
           "Q: Well, I want to thank you so very much for coming to Washington and for being willing to say as much as you have. It's really been an honor to be with you.",
           "RG-50.030.0469_trs_en_cleaned"
          ],
          [
           "Q: But everybody should have seen what Auschwitz was like for one day and one night?",
           "RG-50.030.0469_trs_en_cleaned"
          ],
          [
           "Q: Yes. And then go home.",
           "RG-50.030.0469_trs_en_cleaned"
          ],
          [
           "Q: Yes.",
           "RG-50.030.0469_trs_en_cleaned"
          ],
          [
           "Q: Yeah.",
           "RG-50.030.0469_trs_en_cleaned"
          ],
          [
           "Q: The birds were smart.",
           "RG-50.030.0469_trs_en_cleaned"
          ],
          [
           "Q: The birds were smart.",
           "RG-50.030.0469_trs_en_cleaned"
          ],
          [
           "Q: Thank you.",
           "RG-50.030.0469_trs_en_cleaned"
          ],
          [
           "Q: My pleasure.",
           "RG-50.030.0469_trs_en_cleaned"
          ],
          [
           "Q: Thank you.",
           "RG-50.030.0469_trs_en_cleaned"
          ],
          [
           "Q: And tell us about this picture. Who is this? Who i -- what was this picture of?",
           "RG-50.030.0469_trs_en_cleaned"
          ],
          [
           "Q: And about how old -- you were about how old?",
           "RG-50.030.0469_trs_en_cleaned"
          ],
          [
           "Q: 17 years old.",
           "RG-50.030.0469_trs_en_cleaned"
          ],
          [
           "Q: So that would have been 1930 --",
           "RG-50.030.0469_trs_en_cleaned"
          ],
          [
           "Q: 739.",
           "RG-50.030.0469_trs_en_cleaned"
          ],
          [
           "Q: 738.",
           "RG-50.030.0469_trs_en_cleaned"
          ],
          [
           "Q: Who is this person right here?",
           "RG-50.030.0469_trs_en_cleaned"
          ],
          [
           "Q: That's who you are. And you said there was something special about this young woman?",
           "RG-50.030.0469_trs_en_cleaned"
          ],
          [
           "Q: She [indecipherable]",
           "RG-50.030.0469_trs_en_cleaned"
          ],
          [
           "Q: But you dream about her?",
           "RG-50.030.0469_trs_en_cleaned"
          ],
          [
           "Q: What's her name?",
           "RG-50.030.0469_trs_en_cleaned"
          ],
          [
           "Q: Okay. Okay, and what's this picture?",
           "RG-50.030.0469_trs_en_cleaned"
          ],
          [
           "Q: And this is the uncle who lived in Humenne? Who was a tea -- no.",
           "RG-50.030.0469_trs_en_cleaned"
          ],
          [
           "Q: Who was a teacher.",
           "RG-50.030.0469_trs_en_cleaned"
          ],
          [
           "Q: Right. And he was the one who tried to get you out of --",
           "RG-50.030.0469_trs_en_cleaned"
          ],
          [
           "Q: Poprad, and saying that she was a teacher and she needed to go.",
           "RG-50.030.0469_trs_en_cleaned"
          ],
          [
           "Q: And he didn't succeed.",
           "RG-50.030.0469_trs_en_cleaned"
          ],
          [
           "Q: And he didn't survive the war?",
           "RG-50.030.0469_trs_en_cleaned"
          ],
          [
           "Q: Yeah.",
           "RG-50.030.0469_trs_en_cleaned"
          ],
          [
           "Q: Okay. Okay, and the picture on the left? That picture.",
           "RG-50.030.0469_trs_en_cleaned"
          ],
          [
           "Q: In PreSov? Back in PreSov? Is that in PreSov or is this --",
           "RG-50.030.0469_trs_en_cleaned"
          ],
          [
           "Q: Uh-huh. So you were in Slovakia?",
           "RG-50.030.0469_trs_en_cleaned"
          ],
          [
           "Q: And you speak about that picture and say, look at my eyes, doesn't it say everything?",
           "RG-50.030.0469_trs_en_cleaned"
          ],
          [
           "Q: And the second picture -- second picture.",
           "RG-50.030.0469_trs_en_cleaned"
          ],
          [
           "Q: So 1947?",
           "RG-50.030.0469_trs_en_cleaned"
          ],
          [
           "Q: It's a lovely picture. When was this picture taken?",
           "RG-50.030.0469_trs_en_cleaned"
          ],
          [
           "Q: In Canada?",
           "RG-50.030.0469_trs_en_cleaned"
          ],
          [
           "Q: And when was it you had your tattoo removed?",
           "RG-50.030.0469_trs_en_cleaned"
          ],
          [
           "Q: Just prior -- just afterwards?",
           "RG-50.030.0469_trs_en_cleaned"
          ],
          [
           "Q: So you have a shot of the tattoo?",
           "RG-50.030.0469_trs_en_cleaned"
          ],
          [
           "Q: Okay, what is this a picture of?",
           "RG-50.030.0469_trs_en_cleaned"
          ],
          [
           "Q: From Presov?",
           "RG-50.030.0469_trs_en_cleaned"
          ],
          [
           "Q: And how many Jews were living at the shelter [indecipherable]",
           "RG-50.030.0469_trs_en_cleaned"
          ],
          [
           "Q: Okay, maybe I can look it up somehow. What is this? [indecipherable] on the side like this?",
           "RG-50.030.0469_trs_en_cleaned"
          ],
          [
           "Q: Yes, what kind of a souvenir? Explain, explain.",
           "RG-50.030.0469_trs_en_cleaned"
          ],
          [
           "Q: And what is it?",
           "RG-50.030.0469_trs_en_cleaned"
          ],
          [
           "Q: Right.",
           "RG-50.030.0469_trs_en_cleaned"
          ]
         ],
         "hovertemplate": "<b>Question:</b> %{customdata[0]}<br><b>RG Number:</b> %{customdata[1]}<extra></extra>",
         "legendgroup": "RG-50.030.0469_trs_en_cleaned",
         "marker": {
          "color": "#636efa",
          "symbol": "circle"
         },
         "mode": "markers",
         "name": "RG-50.030.0469_trs_en_cleaned",
         "showlegend": true,
         "type": "scattergl",
         "x": [
          3.626384,
          5.7139587,
          -0.3412729,
          5.977766,
          5.845207,
          -1.0230004,
          6.498421,
          -1.0400511,
          4.3043003,
          5.632541,
          -8.598093,
          1.3556248,
          -0.2796101,
          1.3137413,
          -9.210231,
          4.2148833,
          0.9679977,
          3.5552356,
          5.8144155,
          5.787425,
          7.0497923,
          7.252139,
          0.5757666,
          5.356701,
          -2.3250906,
          0.37700772,
          3.5932238,
          3.4986122,
          -0.36705628,
          2.8183696,
          -1.3141603,
          3.4883344,
          -3.7051868,
          -9.589313,
          -0.055681836,
          -8.657786,
          18.087034,
          -9.393355,
          3.148025,
          1.8628753,
          18.045467,
          -9.094943,
          -6.218878,
          4.4093513,
          4.94116,
          3.5085115,
          -5.047074,
          -1.1527488,
          2.482096,
          2.7600455,
          0.6112629,
          0.89182246,
          3.4084196,
          -9.4918585,
          -3.2193055,
          -8.512154,
          12.671409,
          -0.11024009,
          5.71571,
          4.992446,
          3.531919,
          -3.2681894,
          -9.081929,
          7.5004215,
          -9.302466,
          7.001132,
          7.089883,
          0.9579802,
          0.7008799,
          1.5698094,
          1.2348666,
          -1.3630942,
          -0.27032447,
          6.4173894,
          3.4374108,
          7.4747205,
          0.5963575,
          -0.2919172,
          5.994347,
          0.80263907,
          4.3301897,
          -6.3955975,
          -0.439649,
          -0.40814364,
          6.484961,
          -1.8103943,
          -1.4633689,
          4.279818,
          1.6614707,
          -0.41456053,
          5.1469817,
          5.2789545,
          0.6291855,
          -2.1787848,
          7.0958977,
          2.410704,
          5.2785826,
          1.8926101,
          5.1938972,
          0.7918946,
          1.8469908,
          -2.291795,
          3.7641153,
          0.5311985,
          -8.707291,
          1.0279226,
          2.4569,
          -10.507003,
          -9.657611,
          -9.476953,
          -1.595504,
          6.4159923,
          6.4790335,
          2.7758384,
          2.6979792,
          0.12820919,
          -2.4272459,
          6.886697,
          1.6679107,
          -4.313717,
          -4.2325044,
          0.96868813,
          -9.454286,
          4.1098123,
          -8.421293,
          0.53373635,
          2.544373,
          2.317499,
          2.6132083,
          6.7853336,
          18.176413,
          2.6516755,
          5.5281243,
          -1.4212172,
          18.514975,
          5.229561,
          2.3583775,
          -2.3232956,
          6.3125234,
          4.043577,
          0.7207542,
          -0.47338933,
          -1.4232012,
          2.5429733,
          6.4729238,
          18.284742,
          0.36524865,
          7.403317,
          -0.31762776,
          -2.253636,
          18.255466,
          -8.455521,
          -3.6862552,
          4.2216372,
          1.5439773,
          4.535407,
          -0.37502706,
          -0.59798443,
          -3.3104324,
          -2.3409848,
          2.3543396,
          -2.4477506,
          2.0673518,
          2.4146023,
          0.01665391,
          0.49816215,
          0.93622655,
          1.6574537,
          1.3877043,
          -8.565494,
          2.575289,
          -8.854251,
          0.21407889,
          -1.2328032,
          1.7061259,
          -9.082035,
          -2.3586905,
          -0.80135983,
          3.4379313,
          18.351698,
          1.0341543,
          3.2633035,
          3.016272,
          0.6815363,
          1.3842021,
          -0.60945034,
          -0.37658948,
          2.3975465,
          2.8233054,
          2.215077,
          0.95176256,
          2.4201746,
          2.455232,
          3.2778776,
          3.0855463,
          1.182939,
          2.7601564,
          -1.5152296,
          -1.3825587,
          -0.82455385,
          3.2977855,
          2.54754,
          3.2102067,
          1.2218015,
          3.6729717,
          -9.452067,
          -0.26907143,
          -0.20355564,
          -8.415704,
          2.815158,
          1.8979249,
          0.35690358,
          -0.3520266,
          0.6234184,
          5.6519737,
          -2.7349355,
          2.6272902,
          2.5583603,
          -8.274797,
          0.4201371,
          1.6194407,
          2.09509,
          0.25888944,
          -3.0971014,
          1.2751437,
          -2.383108,
          2.739851,
          3.073972,
          1.7942308,
          2.9232388,
          0.61096245,
          2.3437274,
          2.6288772,
          -8.473666,
          -9.105455,
          18.157791,
          -0.27539268,
          1.1271514,
          1.4095106,
          3.4602702,
          1.2243086,
          0.9557931,
          1.9231707,
          -0.5591587,
          3.3403387,
          1.0036303,
          3.3297026,
          0.651337,
          3.2517545,
          3.1908717,
          0.6318512,
          -0.63768625,
          -9.647777,
          2.9166062,
          3.040271,
          -1.1917979,
          -1.1756707,
          -2.1657495,
          2.3443785,
          -2.8069897,
          2.7092671,
          3.3307908,
          3.930729,
          0.5123291,
          -2.220357,
          -4.3025436,
          -2.0619898,
          -8.370736,
          -1.9498708,
          -8.392983,
          3.0101867,
          1.9305297,
          -9.58054,
          1.8714535,
          -0.90415925,
          2.481417,
          -2.26782,
          -1.1756957,
          -0.60337067,
          2.2743661,
          1.490802,
          1.0505897,
          1.733305,
          -0.38174942,
          -0.81726235,
          -4.094128,
          -0.01929325,
          0.9169573,
          -8.76835,
          -1.9879645,
          -0.545871,
          3.7419658,
          0.93805534,
          1.8998117,
          2.7071235,
          2.1198058,
          1.6325989,
          1.8543333,
          0.5115964,
          -9.551796,
          0.79909676,
          1.3897274,
          0.6997859,
          -0.8792712,
          0.6673656,
          -0.039470773,
          -6.376519,
          1.7554271,
          -0.1828994,
          0.24225888,
          3.3802493,
          -3.5765252,
          1.2717465,
          1.5364473,
          1.2516468,
          0.6286656,
          -3.0599837,
          2.126618,
          5.0912747,
          -8.774012,
          2.508533,
          -0.6659257,
          2.7683055,
          1.629939,
          2.4021897,
          1.9939827,
          0.6180248,
          0.31632695,
          0.41175327,
          0.89245343,
          -8.87891,
          1.9260883,
          12.612815,
          2.5489037,
          1.6826588,
          12.853375,
          -9.274717,
          1.9010525,
          1.3577238,
          -2.4146106,
          0.45081422,
          2.5264652,
          -0.77227616,
          2.2041118,
          1.8676056,
          -1.2238958,
          -0.5438495,
          -8.854709,
          2.2853847,
          -3.2029386,
          -6.24135,
          -1.5480072,
          1.9824959,
          0.7617849,
          1.0826195,
          0.78195494,
          0.4368934,
          -0.031176236,
          -0.37423617,
          0.821847,
          0.6521279,
          0.009899069,
          0.99637806,
          -1.1792414,
          2.219371,
          0.92402977,
          1.7202964,
          2.2550879,
          0.29750812,
          2.527611,
          2.2515097,
          -2.4210792,
          0.4830571,
          -2.4624956,
          2.4894195,
          0.52296215,
          3.2710736,
          1.9562222,
          1.975152,
          1.5440456,
          0.69841075,
          6.9946876,
          2.354795,
          -9.596136,
          7.1357946,
          2.505387,
          0.666183,
          0.9790339,
          -0.50404775,
          -2.406972,
          1.2532623,
          0.4725086,
          2.74012,
          2.21113,
          -2.3880317,
          18.559544,
          0.05084368,
          1.5309111,
          0.8022599,
          -3.13184,
          -3.219487,
          2.8328435,
          2.8395548,
          2.8979485,
          2.6520493,
          -0.4649829,
          1.3062047,
          0.80612564,
          -9.078865,
          0.57918936,
          3.452746,
          -1.3149382,
          2.5881066,
          -8.463441,
          2.2539754,
          -2.4780197,
          2.469928,
          -8.776762,
          -1.1936517,
          1.1824819,
          1.9936254,
          -0.031177346,
          -1.3220245,
          -0.08857753,
          2.091581,
          -3.6828408,
          5.223639,
          -2.511556,
          2.4737818,
          -2.0039907,
          -8.369005,
          0.94538224,
          2.174846,
          1.2631686,
          -3.8164608,
          0.5737016,
          1.5238631,
          -1.3739274,
          2.761993,
          3.2779882,
          1.6993794,
          3.0516903,
          0.7805457,
          2.110146,
          -3.3090892,
          2.6206975,
          -0.08292107,
          -0.09656096,
          2.0259254,
          2.4718106,
          0.451625,
          1.990296,
          3.489887,
          2.3519728,
          -0.5444801,
          -0.87973094,
          2.7097132,
          1.4687644,
          3.531064,
          2.112678,
          2.945556,
          -2.3126764,
          2.2406783,
          2.3633094,
          -8.718481,
          1.8391069,
          3.40365,
          1.6099375,
          1.6028066,
          0.24427441,
          6.904075,
          -1.6836426,
          0.08927309,
          0.68838686,
          0.4900619,
          -5.717085,
          1.6875244,
          3.233384,
          2.1379597,
          0.19213799,
          0.7337899,
          18.524899,
          -2.4787376,
          -9.181125,
          -9.255893,
          2.430371,
          1.1021981,
          -4.2871003,
          -2.4516308,
          0.3560096,
          -0.8262917,
          -5.034743,
          2.6251595,
          2.419266,
          -2.8195941,
          -1.3751132,
          -9.344006,
          2.6236942,
          1.6821469,
          1.6908363,
          7.3792744,
          1.7877495,
          1.1168182,
          -2.430921,
          5.9948864,
          -2.430022,
          2.3890285,
          5.054647,
          -2.2569973,
          -9.692649,
          3.6521165,
          2.327228,
          4.919659,
          0.9640641,
          1.1120173,
          2.4585028,
          1.4719939,
          1.7630383,
          6.4564233,
          3.9927294,
          3.4115014,
          6.6253304,
          0.6614929,
          4.269301,
          3.5535955,
          0.36189774,
          1.5690814,
          1.6622787,
          6.6317153,
          -3.1334565,
          -9.583718,
          0.25593,
          6.151009,
          1.6699934,
          1.2268271,
          6.428614,
          0.23413804,
          -1.0916557,
          -9.395351,
          -2.0757916,
          3.4085279,
          2.7395825,
          1.2499331,
          -1.0636082,
          -0.48533413,
          -0.010906157,
          0.86764246,
          -3.7261243,
          6.5033355,
          3.6907086,
          3.6338053,
          -0.108615674,
          1.7932538,
          3.2900932,
          -2.4242253,
          -1.3723338,
          0.5396885,
          -2.2947738,
          0.3729883,
          -2.2822847,
          -1.78562,
          -0.6376538,
          -1.4129418,
          1.2327563,
          -1.3649985,
          -2.4153283,
          1.402759,
          3.7886758,
          -0.09370932,
          2.530031,
          -2.3251188,
          9.5716095,
          -0.21083918,
          -1.776266,
          0.20355509,
          -1.7393125,
          -1.3174638,
          -2.7425575,
          4.727276,
          -0.24314111,
          -9.076032,
          0.18934242,
          -1.210388,
          -3.659596,
          -3.742223,
          3.0279624,
          -9.161547,
          0.6747995,
          1.3831723,
          0.09609692,
          2.8514056,
          9.571705,
          -2.3784146,
          1.0994532,
          1.0800138,
          0.28879932,
          1.4484221,
          4.0855637,
          0.3995477,
          -8.7089815,
          12.676937,
          -2.3223023,
          0.80000275,
          2.2882538,
          6.599623,
          1.2652434,
          -2.5369954,
          -9.625829,
          -6.3056006,
          1.2200208,
          1.1697084,
          0.22521473,
          -9.188978,
          -6.162575,
          -9.595406,
          -1.5526986,
          -0.23349346,
          2.8367012,
          0.43351278,
          3.7084343,
          0.040957175,
          -2.134725,
          -9.299017,
          1.2483416,
          -1.217762,
          -0.7086832,
          -2.4562626,
          3.7367384,
          0.60388213,
          -9.719996,
          -9.416143,
          -0.56815916,
          2.0784009,
          2.6544902,
          -6.8040905,
          1.9695975,
          -0.20137034,
          -8.440774,
          4.6189384,
          0.007056217,
          -9.2593355,
          1.0795547,
          1.0253328,
          1.1998138,
          -0.04132179,
          -9.343368,
          -9.038326,
          -8.628837,
          0.26639625,
          0.2198873,
          -2.2544682,
          0.28079337,
          -1.43931,
          0.7788897,
          0.3187253,
          -0.18018447,
          -1.4227381,
          -3.1180778,
          -9.351296,
          -6.298643,
          -2.3443818,
          -1.1045443,
          -0.041622657,
          7.270835,
          -0.513645,
          5.5116844,
          -9.449409,
          -3.3092263,
          7.1297054,
          7.0451274,
          0.13139965,
          7.651101,
          -2.527917,
          -2.2101088,
          1.4656332,
          5.1551356,
          1.9469304,
          1.4536119,
          -7.77867,
          -2.1177695,
          -0.64223784,
          -3.5643463,
          2.9424288,
          1.4790202,
          -9.675256,
          1.837092,
          1.0197622,
          2.3815203,
          3.0305314,
          1.106621,
          -1.3735801,
          -2.7858293,
          1.1245676,
          -1.244852,
          0.37703213,
          0.7402929,
          -0.3059154,
          0.48898318,
          6.525647,
          2.7344544,
          9.579624,
          4.069237,
          7.3495803,
          5.5101366,
          -0.07059655,
          3.8532073,
          2.7755375,
          -9.463536,
          -9.550852,
          1.7301193,
          -8.382158,
          -9.468901,
          -0.98137987,
          1.7329584,
          -1.8039125,
          1.9367365,
          -2.4991817,
          2.725935,
          18.481071,
          0.24568425,
          2.5599163,
          3.3703477,
          -3.6836565,
          2.299602,
          0.31893465,
          -0.9371828,
          18.531427,
          12.766887,
          -0.9132785,
          -0.9683993,
          -0.356892,
          -0.8496909,
          18.22881,
          -8.623437,
          -9.591604,
          0.8033919,
          -1.0174445,
          6.984225,
          0.89772964,
          1.1283414,
          -1.8246033,
          3.1307385,
          -9.305937,
          2.2708638,
          -3.3511992,
          1.2556598,
          18.38312,
          -9.480501,
          3.3948092,
          3.15342,
          18.490896,
          -2.1046562,
          18.493853,
          1.245225,
          4.416273,
          3.6948764,
          -6.291717,
          -0.74831456,
          -0.6968214,
          1.4161752,
          0.5283194,
          1.899344,
          -2.34618,
          -2.2067828,
          1.1307706,
          1.4643205,
          -0.19419128,
          -6.348238,
          -9.189237,
          0.46463662,
          1.8046508,
          2.9160035,
          2.182557,
          -2.0735528,
          -1.7060363,
          2.7398968,
          1.0121757,
          2.8313544,
          0.90230936,
          -6.352253,
          -9.269051,
          -8.753332,
          3.6340609,
          0.8983065,
          0.55623895,
          18.190372,
          0.86754555,
          -0.052145667,
          3.9746335,
          2.5568314,
          -9.266273,
          1.2788085,
          0.85580325,
          -0.39890733,
          0.892324,
          0.84240305,
          -2.226033,
          6.1839457,
          -6.2991533,
          -1.801705,
          1.3378427,
          -0.73302335,
          1.6952926,
          0.5747745,
          -9.152682,
          6.065585,
          0.80026054,
          18.54558,
          2.9663959,
          -1.1430557,
          0.5547456,
          4.756549,
          0.37047386,
          0.08973566,
          18.403042,
          -9.395454,
          0.56496173,
          0.2526554,
          0.54261786,
          0.14598714,
          0.15656161,
          -1.4674116,
          0.5880646,
          4.634574,
          -0.40458038,
          -1.2491162,
          -0.5121175,
          0.44214362,
          -8.612756,
          -8.597472,
          -8.795659,
          1.3502812,
          0.7111936,
          -0.52539176,
          -1.242767,
          18.42089,
          -9.221151,
          1.20744,
          9.543379,
          0.9611738,
          1.1695946,
          1.4729079,
          0.8720071,
          1.0053074,
          1.1757231,
          18.404867,
          0.88070387,
          9.532978,
          -8.295501,
          -9.095419,
          0.4281799,
          3.5067525,
          -8.754462,
          0.66599035,
          -1.2410331,
          18.45689,
          -9.420939,
          -3.7407415,
          -2.8922362,
          -8.226401,
          6.182881,
          -9.219351,
          -1.5516013,
          2.1956658,
          1.2202694,
          3.595408,
          -9.696274,
          1.747866,
          1.0253915,
          1.3061435,
          1.2688886,
          0.72984725,
          -1.0793368,
          0.5340682,
          -8.793828,
          -6.7543244,
          9.576918,
          -1.0960809,
          -0.65975696,
          3.0542333,
          -0.5536641,
          -8.603133,
          -8.643735,
          -1.5734884,
          -8.591188,
          -8.695398,
          0.81393754,
          -8.738529,
          -1.3698888,
          0.9930884,
          1.2161752,
          1.1621418,
          -9.504753,
          6.5503182,
          -9.094353,
          -8.730445,
          -9.133427,
          1.52147,
          -0.17440633,
          3.490133,
          0.23771718,
          -0.055571783,
          -1.169382,
          -0.22281875,
          -1.5194339,
          -0.9870423,
          -0.17896435,
          5.03452,
          4.1970263,
          3.1452115,
          0.9298954,
          -0.1118019,
          -0.4164862,
          0.042030353,
          -9.205117,
          -2.4098122,
          -2.2750866,
          0.14774603,
          -2.9779196,
          -2.1656091,
          -3.168619,
          3.0887,
          -0.7284527,
          18.457773,
          2.7818654,
          2.509518,
          18.39795,
          2.2223775,
          0.68425405,
          -3.1929264,
          -2.242073,
          2.217116,
          0.77863383,
          4.7291193,
          2.8269825,
          -0.6608435,
          2.4275172,
          2.5601177,
          -1.247177,
          -1.2801218,
          -0.109437644,
          -0.6839891,
          2.632391,
          2.6038983,
          1.228433,
          2.5698383,
          3.4222658,
          2.702499,
          -2.0016227,
          2.583446,
          17.994946,
          3.2748642,
          4.634632,
          1.2732071,
          0.87972635,
          12.7533045,
          0.29134977,
          -0.49700034,
          0.08860865,
          0.21687311,
          1.3455231,
          2.5672824,
          -1.3627326,
          6.783751,
          6.557331,
          1.746196,
          1.0115044,
          2.029727,
          -8.780136,
          2.653003,
          3.1712704,
          3.15603,
          3.229758,
          3.2586546,
          5.146357,
          -1.5606455,
          2.4583218,
          1.5613031,
          0.2543303,
          -1.9348414,
          1.3551118,
          -8.474395,
          -8.039925,
          2.6208956,
          -1.2538259,
          3.2921486,
          -0.821307,
          -9.181571,
          -9.463194,
          -9.0513,
          -0.6395291,
          7.0392203,
          -2.0078702,
          2.7676833,
          0.050004296,
          -3.6881182,
          6.9345984,
          2.8955803,
          1.9835104,
          -8.490219,
          -8.434615,
          7.2466736,
          -0.8153654,
          5.265582,
          2.9078484,
          0.008064793,
          -8.961685,
          4.780151,
          4.463771,
          0.10878887,
          1.812216,
          1.0012574,
          -2.2646627,
          12.600657,
          2.4317276,
          -1.0111971,
          -0.4343268,
          2.299201,
          -9.405428,
          2.6974604,
          18.729975,
          18.610464,
          2.1005476,
          -8.7459755,
          1.1137809,
          1.5599221,
          5.6848016,
          2.6274993,
          -0.30404612,
          3.341004,
          1.7604522,
          0.7298879,
          6.9674397,
          2.1266248,
          1.6071448,
          -8.873757,
          4.728465,
          -1.4038701,
          -9.231275,
          -3.6091232,
          -6.415131,
          0.23144941,
          -6.12418,
          2.4466126,
          3.7571335,
          -0.37508267,
          6.911028,
          0.69582,
          -4.071947,
          2.630066,
          2.5668128,
          2.4676452,
          -2.764053,
          -5.206282,
          0.55244553,
          0.38992354,
          0.59868276,
          1.7266666,
          3.1414464,
          4.306257,
          -1.3065451,
          -3.4415479,
          5.829716,
          5.2992024,
          -9.213361,
          1.9735477,
          -8.429989,
          -9.480304,
          -0.075973965,
          -9.535204,
          12.134737,
          6.208248,
          -0.8450958,
          0.9738442,
          0.08140877,
          6.2452064,
          5.042192,
          2.882151,
          -8.888797,
          0.55404603,
          0.8954727,
          1.1648564,
          6.1465144,
          0.39155516,
          -8.482151,
          -2.0883355,
          1.8265404,
          -3.6782389,
          -9.417622,
          2.1301365,
          2.2942863,
          5.9312434,
          -1.4300147,
          1.3863403,
          1.2570729,
          1.412113,
          6.4411635,
          1.2115661,
          1.5070796,
          6.7006454,
          -8.424576,
          6.6752677,
          -1.7423533,
          -1.1943157,
          -8.507896,
          -8.533844,
          -9.438113,
          -0.71050596,
          -9.10346,
          -6.4926796,
          0.3900119,
          3.642453,
          3.4914355,
          3.4749148,
          2.6991434,
          1.6497403,
          17.992825,
          0.23423049,
          0.47604713,
          -2.5469093,
          18.589235,
          3.1955402,
          -3.1998715,
          -3.3547602,
          -9.104575,
          18.647264,
          2.5078404,
          0.016736114,
          0.7457039,
          2.7454798,
          0.90832204,
          0.7620842,
          -1.2388923,
          -9.413288,
          3.4557714,
          0.4737945,
          3.42672,
          18.664715,
          0.17816772,
          -9.100002,
          3.5135252,
          -9.277619,
          3.8384137,
          -0.45957243,
          -0.15065931,
          1.3387153,
          -2.9883683,
          3.5995138,
          0.82200664,
          -9.660126,
          3.5005033,
          -8.458105,
          -2.5894585,
          4.12467,
          -0.9015182,
          -3.6704364,
          18.459284,
          2.6789625,
          -1.4408469,
          -1.6635189,
          -8.346979,
          -8.757037,
          1.9672816,
          0.076148026,
          0.641439,
          -9.145633,
          5.9335747,
          2.8421552,
          1.3217142,
          -8.781148,
          18.581709,
          1.4459127,
          1.4710286,
          7.8313065,
          7.967476,
          7.9236073,
          -0.26717982,
          4.65707,
          3.8667293,
          5.027021,
          1.8770291,
          2.0375776,
          -0.15269497,
          1.6540593,
          1.0747,
          -0.10170809,
          1.537184,
          -0.28010723,
          6.3289104,
          3.2899497,
          1.0234846,
          3.0986447,
          0.5085891,
          3.9658422,
          18.818062,
          -0.44522378,
          6.473795,
          6.5811954,
          -0.14912458,
          -0.22545108,
          5.0771427,
          3.6890976,
          4.252558,
          -1.0724344,
          1.0531176,
          -1.1353165,
          -0.32548714,
          6.477289,
          2.5096622,
          0.57932985,
          2.4048686,
          0.0786253,
          -9.071927
         ],
         "xaxis": "x",
         "y": [
          5.062259,
          -0.4731282,
          7.6924763,
          5.095569,
          4.7659054,
          5.5431247,
          -1.034205,
          5.2291803,
          -1.2905325,
          7.0866823,
          6.317176,
          -1.2996981,
          0.65423447,
          -2.4331126,
          12.956499,
          5.9572873,
          5.500041,
          10.355973,
          6.592939,
          6.5465107,
          6.598534,
          -0.9385233,
          -1.5980316,
          5.8445945,
          11.172707,
          3.0983438,
          5.5459766,
          6.0440216,
          6.269342,
          -0.5488521,
          20.087345,
          0.32854238,
          8.418948,
          13.105197,
          -1.4957843,
          6.242759,
          9.373904,
          12.721692,
          -0.4064853,
          4.9187384,
          9.7587385,
          12.9457855,
          9.899195,
          -1.2473297,
          4.862961,
          6.198533,
          8.288796,
          4.575731,
          6.176001,
          6.254409,
          3.906039,
          4.173599,
          6.7596927,
          13.373433,
          6.77825,
          6.1588173,
          17.241953,
          8.180933,
          1.8225055,
          1.8220842,
          16.469736,
          6.759387,
          12.752629,
          5.4887342,
          13.050616,
          6.2265277,
          6.3940988,
          10.671593,
          3.5217836,
          2.984284,
          8.086295,
          2.2563093,
          8.255828,
          -0.8608489,
          5.6313715,
          5.406848,
          4.7801046,
          4.9962707,
          -0.9516019,
          -1.7430305,
          0.8724817,
          10.083233,
          2.3940856,
          2.6060505,
          -0.8600308,
          6.128855,
          20.305744,
          6.428922,
          4.3298597,
          4.511157,
          6.8006015,
          6.260237,
          6.4400263,
          10.999185,
          4.923096,
          1.8313262,
          6.837762,
          0.89293784,
          3.0557446,
          2.044413,
          4.6386676,
          -2.1597126,
          5.555385,
          0.81614393,
          6.463625,
          1.1643244,
          2.2979622,
          -1.5194819,
          12.928737,
          12.782753,
          6.164455,
          -0.3768118,
          2.505976,
          -1.0211536,
          6.783772,
          1.8134319,
          11.317148,
          6.4789042,
          2.15502,
          -0.026528269,
          -0.071985,
          2.481737,
          13.425704,
          4.4361386,
          6.34123,
          -2.3866901,
          3.8721676,
          6.554747,
          6.89386,
          3.4979806,
          9.78749,
          6.653431,
          6.5835752,
          2.764467,
          9.289942,
          7.085348,
          4.7013125,
          11.181348,
          7.997624,
          3.4324017,
          8.105141,
          1.6300057,
          2.0510106,
          1.0644937,
          7.8989654,
          9.300778,
          1.9163687,
          -0.40533796,
          2.3576317,
          10.940688,
          9.390965,
          13.352147,
          9.102826,
          -0.4057079,
          5.4116936,
          0.030207124,
          -0.105856754,
          1.7509605,
          2.7806726,
          11.416818,
          6.417731,
          11.373166,
          6.068164,
          4.538831,
          4.2943044,
          -3.4849734,
          -2.465291,
          4.6597147,
          4.6362815,
          6.145574,
          7.4421535,
          6.080362,
          -1.7376726,
          3.0312111,
          3.712082,
          12.852795,
          -2.1231096,
          5.752294,
          5.0443535,
          9.226952,
          4.809284,
          4.6207957,
          3.2784424,
          -2.3687124,
          -0.04608986,
          6.4479218,
          6.359457,
          4.1950927,
          6.977873,
          6.487548,
          -1.1463574,
          1.6330035,
          1.5403546,
          3.407987,
          2.8995943,
          4.5487103,
          3.0342157,
          3.2275598,
          3.0799086,
          6.714287,
          2.7783778,
          4.840786,
          3.5583212,
          3.7949648,
          1.5532447,
          13.336578,
          6.1778855,
          5.3140373,
          13.493643,
          -1.5346313,
          4.554179,
          -1.8423804,
          1.5777475,
          3.5395548,
          -0.6884917,
          5.95897,
          6.54137,
          5.128764,
          12.600342,
          -1.7198384,
          2.9085855,
          4.055808,
          5.900244,
          6.5008616,
          5.7383075,
          6.0630245,
          -0.49775875,
          -1.2901397,
          5.71056,
          7.834719,
          4.900212,
          8.289838,
          7.264233,
          6.2840567,
          13.358265,
          9.466214,
          5.905713,
          0.57924134,
          -0.32027754,
          2.941396,
          4.273131,
          1.2743367,
          4.355741,
          6.51098,
          2.8774724,
          -2.8645034,
          3.3817146,
          4.853641,
          3.2291262,
          3.0169897,
          5.091644,
          5.8815904,
          13.241939,
          4.4301133,
          3.3439777,
          -1.0121845,
          -1.009876,
          1.8535595,
          8.181866,
          5.295014,
          -1.2052153,
          3.0739474,
          5.2258077,
          4.713628,
          11.0553665,
          -0.029488543,
          1.7511019,
          13.298325,
          1.8248987,
          13.510702,
          2.3928368,
          -1.7286409,
          13.191207,
          -1.6956912,
          7.139208,
          4.996783,
          11.167185,
          -1.0603338,
          -0.28658605,
          5.2377963,
          3.583124,
          3.3651028,
          3.5302486,
          3.2602766,
          -1.089247,
          6.762576,
          3.8819265,
          4.175545,
          6.103221,
          5.591074,
          2.3506026,
          3.8154545,
          10.653981,
          5.1653852,
          7.293803,
          4.348783,
          4.888051,
          5.0222836,
          7.188826,
          13.263699,
          4.451467,
          5.8765273,
          4.434162,
          3.0596685,
          2.739865,
          6.326865,
          10.066335,
          1.0647651,
          8.172529,
          5.0868597,
          4.4912405,
          8.411858,
          1.4259088,
          1.5136745,
          1.8897125,
          0.15031959,
          3.6415045,
          -0.71587175,
          3.965871,
          13.030587,
          5.8580065,
          5.1288214,
          -1.3885231,
          -0.9693303,
          5.41981,
          5.1882133,
          5.4458175,
          5.7260566,
          5.660852,
          -2.6355495,
          6.172666,
          -1.005602,
          17.34683,
          3.6020231,
          -1.0043781,
          17.24148,
          12.749967,
          -0.73985857,
          -0.2745187,
          6.310991,
          5.0267935,
          5.7758555,
          6.664478,
          8.295959,
          6.842867,
          6.730991,
          5.4928517,
          6.0307307,
          0.7431814,
          2.9216883,
          9.920394,
          0.6130279,
          5.314665,
          -2.3276527,
          0.95558745,
          0.9236307,
          6.1599984,
          4.425199,
          4.854269,
          1.7296028,
          -2.5219283,
          6.154799,
          -0.30826005,
          19.890125,
          5.504883,
          6.1483774,
          5.022304,
          6.5148563,
          4.766119,
          4.6194134,
          0.8561149,
          11.335784,
          5.628154,
          11.220076,
          4.4186435,
          4.9872103,
          4.071862,
          7.922162,
          7.739664,
          4.4489136,
          3.4614697,
          1.8367405,
          8.254495,
          13.097421,
          3.4074154,
          6.499367,
          6.7218347,
          6.2174354,
          0.04065214,
          -2.2315657,
          7.986614,
          6.429547,
          7.194002,
          5.7177134,
          2.2789657,
          9.712972,
          2.091049,
          2.4145145,
          3.5464532,
          2.9387794,
          3.0132551,
          -0.65727127,
          0.1500715,
          0.10190811,
          -0.6921728,
          1.6000782,
          0.42109618,
          3.300433,
          12.854048,
          -1.7209975,
          -0.6810632,
          4.097302,
          -1.090992,
          6.4203877,
          4.976202,
          11.270408,
          1.9730034,
          6.019113,
          3.109229,
          4.766377,
          4.215233,
          9.214475,
          3.6355543,
          9.16412,
          -0.6298051,
          9.13377,
          3.7231202,
          11.141726,
          -0.97363055,
          5.349274,
          13.594768,
          6.1293488,
          7.5097547,
          5.3720903,
          8.398275,
          -1.8100055,
          3.0008094,
          19.967628,
          -0.84583515,
          0.4367337,
          2.773415,
          -1.3037523,
          -2.78646,
          2.5824516,
          2.8306804,
          -1.1974871,
          5.1963983,
          6.1059117,
          5.5593696,
          5.2683353,
          5.8907356,
          3.841986,
          16.626959,
          5.2889285,
          5.050845,
          4.8458,
          -0.7054862,
          -0.31634873,
          3.9481146,
          4.31032,
          3.6058335,
          -5.6943192,
          5.3425765,
          -0.84203917,
          6.4655547,
          -0.5072783,
          2.7136471,
          6.3843327,
          6.897523,
          6.508708,
          -0.8840667,
          0.9139427,
          9.033838,
          3.8047116,
          6.5548644,
          9.384244,
          -0.5019646,
          9.363071,
          3.0813656,
          -0.17076255,
          6.4587507,
          9.373099,
          11.0934105,
          13.273426,
          12.894069,
          0.0019926478,
          -2.6323588,
          0.035550267,
          11.122846,
          3.506905,
          4.4984546,
          8.301231,
          2.8421888,
          0.751103,
          5.162674,
          5.959164,
          12.924161,
          -1.0897995,
          -0.21007429,
          5.83262,
          3.4608834,
          -1.1673263,
          -1.8273671,
          11.395061,
          -0.8561427,
          11.493989,
          4.518624,
          3.0116448,
          -2.0519953,
          13.115065,
          5.1313887,
          -0.86435825,
          2.773956,
          -2.5798483,
          -2.5807328,
          6.600485,
          -1.254323,
          -1.4318992,
          -2.793204,
          5.493522,
          16.840067,
          -2.8755946,
          -2.2500634,
          3.297663,
          16.811062,
          -0.7508591,
          2.267546,
          2.2514386,
          -2.8962615,
          6.6341844,
          12.742487,
          -1.5520002,
          -2.4517856,
          0.2191758,
          1.822872,
          -2.7320535,
          -0.31207207,
          4.962533,
          13.150266,
          11.073004,
          10.384504,
          3.122165,
          7.46287,
          5.167972,
          5.79227,
          5.9800544,
          4.4719124,
          6.9329305,
          -2.8530643,
          4.2025747,
          4.2001624,
          -1.3219986,
          3.8961594,
          3.8764944,
          0.23571932,
          20.191763,
          3.5557065,
          0.2951419,
          1.9199907,
          0.30213067,
          0.5615044,
          6.179676,
          20.197178,
          4.549218,
          5.169529,
          0.23850791,
          1.4461966,
          -1.1268,
          6.8272943,
          -1.0642892,
          11.241448,
          -6.8335543,
          5.1995177,
          4.0336056,
          5.3772516,
          5.8152304,
          5.794195,
          5.430496,
          2.7872317,
          5.456024,
          13.06042,
          -0.21812448,
          20.252386,
          8.50143,
          8.562352,
          0.57354516,
          12.9128685,
          2.365018,
          1.1655952,
          0.32625434,
          8.125254,
          -6.834695,
          11.269256,
          9.252736,
          -2.6782978,
          2.1029782,
          -0.6403877,
          0.90288585,
          3.3898127,
          6.0560207,
          17.238045,
          11.14497,
          4.4498725,
          4.77633,
          -2.8323832,
          8.125705,
          11.405315,
          13.129722,
          9.990416,
          9.121778,
          4.68531,
          5.042907,
          13.225181,
          9.805729,
          12.7844515,
          0.7603402,
          1.6398228,
          1.334846,
          7.2900443,
          16.724594,
          6.627733,
          11.070925,
          12.63003,
          1.2885118,
          0.970782,
          1.2664828,
          0.18687621,
          16.98699,
          1.0049253,
          13.225699,
          12.703352,
          1.4327079,
          0.715671,
          0.38113984,
          10.799857,
          3.4912183,
          3.878782,
          6.046696,
          1.7781543,
          1.8397983,
          13.247381,
          3.4503965,
          3.1109974,
          9.322047,
          7.4619336,
          12.951953,
          12.849807,
          13.4483385,
          0.09682441,
          -0.26414913,
          11.128941,
          4.264858,
          20.177269,
          3.6894796,
          0.1551254,
          1.3523979,
          5.997984,
          6.581473,
          12.887696,
          9.97112,
          5.218185,
          5.220653,
          5.506126,
          -0.15486398,
          6.0854964,
          -0.29596722,
          12.772236,
          2.8057952,
          -0.7157609,
          -0.038545612,
          -1.3808086,
          -0.1197537,
          6.0028524,
          -2.0590522,
          9.219678,
          4.391971,
          1.1309708,
          9.251183,
          6.0837345,
          5.7333136,
          0.08648771,
          8.345029,
          -1.2525977,
          0.18112381,
          12.657172,
          2.8844721,
          2.2487066,
          1.3692396,
          0.30884638,
          4.5825534,
          19.96488,
          5.2366886,
          4.998677,
          8.642919,
          1.3707863,
          1.6978972,
          1.4552324,
          1.6930876,
          -10.899672,
          3.924721,
          -6.842361,
          2.5268905,
          -0.28529668,
          -0.10366441,
          6.068969,
          1.8374977,
          -1.0333364,
          12.922348,
          13.110377,
          3.8818383,
          6.2663665,
          12.993312,
          0.920523,
          1.4122148,
          2.4832284,
          6.9815784,
          11.330242,
          -0.96426666,
          9.290738,
          0.9757209,
          -1.1926844,
          16.904293,
          9.101951,
          -0.06187922,
          5.5749764,
          0.69218177,
          9.325117,
          17.190346,
          1.2533913,
          0.84745127,
          0.9481159,
          1.4847279,
          9.206366,
          6.2274656,
          12.8738165,
          0.562163,
          6.0514665,
          4.9900217,
          1.0776749,
          1.6105987,
          2.6484022,
          15.187541,
          12.664446,
          1.5439379,
          2.9780626,
          2.5234988,
          9.362452,
          13.17741,
          1.1218536,
          -1.0516845,
          9.254655,
          11.352261,
          9.379413,
          7.912772,
          2.3088722,
          3.195949,
          9.988135,
          2.5185573,
          5.8838124,
          6.504956,
          0.9428154,
          4.3067904,
          -2.2040699,
          -2.1799448,
          -1.0546939,
          4.5128174,
          1.7416829,
          10.021753,
          13.173582,
          1.2395328,
          3.1848278,
          2.444347,
          2.647048,
          5.238704,
          4.772083,
          3.3559563,
          2.4315257,
          1.191006,
          1.9477834,
          10.050651,
          12.894785,
          6.2653637,
          4.8745384,
          1.2560586,
          -0.667065,
          9.590418,
          3.6621594,
          3.3141851,
          5.0428987,
          2.6790235,
          12.701493,
          -0.7289489,
          3.1766331,
          1.4163891,
          0.8782029,
          0.806638,
          11.256953,
          5.8912377,
          10.083124,
          3.8104274,
          7.9721007,
          4.4443493,
          4.3886285,
          3.3229365,
          12.835548,
          -1.8607042,
          -2.4759362,
          9.645333,
          1.8763666,
          5.0528674,
          0.9540681,
          6.599692,
          4.4621606,
          6.346667,
          9.389527,
          12.835233,
          3.8915002,
          3.7844198,
          3.9271662,
          5.5305004,
          4.421906,
          5.667678,
          5.7593207,
          3.9104586,
          4.503874,
          4.5066457,
          6.112875,
          -2.5045218,
          6.440491,
          6.224094,
          6.5657873,
          5.5152507,
          6.3554106,
          2.4192414,
          4.529153,
          9.47445,
          12.835467,
          3.807305,
          -6.8068323,
          3.2094166,
          1.3611424,
          1.675918,
          -2.758434,
          2.1460447,
          5.83301,
          9.247338,
          1.2959918,
          -6.7969356,
          13.706588,
          12.935133,
          1.1092858,
          10.306691,
          6.1356387,
          0.53192335,
          8.231664,
          9.411169,
          12.7713375,
          8.518545,
          3.1925416,
          6.30665,
          4.4784327,
          12.816313,
          19.871685,
          8.248415,
          -1.867001,
          15.755216,
          12.678543,
          1.8830382,
          2.0750117,
          2.8742323,
          3.2830296,
          2.1795135,
          5.678941,
          1.5153267,
          6.446057,
          10.617853,
          -6.839316,
          0.91119164,
          1.5378482,
          -0.99571395,
          1.5433716,
          13.372774,
          13.322957,
          2.0446656,
          13.344954,
          13.362444,
          1.0737772,
          6.0938544,
          1.9490763,
          8.620776,
          9.220514,
          9.378873,
          12.634519,
          3.436084,
          6.1418376,
          6.1365156,
          12.891363,
          2.326657,
          2.1087961,
          1.0562193,
          4.2329826,
          2.9890523,
          3.3974059,
          1.842391,
          20.313477,
          5.4233527,
          5.550898,
          4.3390026,
          2.3372703,
          0.74785334,
          5.209065,
          0.15524703,
          -3.492411,
          -3.655132,
          13.215969,
          11.450891,
          11.178975,
          3.3062947,
          3.477761,
          5.4155154,
          3.1731431,
          1.2370098,
          3.908621,
          9.946935,
          5.777507,
          5.9616246,
          9.696275,
          1.8325199,
          6.469185,
          7.9790616,
          11.350732,
          -0.62153906,
          6.580147,
          3.9874234,
          -1.875376,
          6.335022,
          -2.479995,
          -2.4920125,
          2.5337749,
          5.2024674,
          3.9445252,
          6.0770226,
          -2.3276768,
          -2.3108554,
          9.309555,
          -2.4589715,
          16.918121,
          -2.2926185,
          10.928829,
          -2.5126355,
          9.69014,
          1.261062,
          -0.37758663,
          8.045498,
          -2.0165052,
          17.373077,
          3.6369696,
          4.3129573,
          5.164596,
          5.222652,
          6.642165,
          4.2659583,
          20.17339,
          -0.6983897,
          -0.47296205,
          3.6151574,
          5.134723,
          5.8554378,
          6.106641,
          -0.9900203,
          8.137336,
          8.12879,
          8.121177,
          8.218776,
          3.809282,
          1.9744133,
          2.664308,
          4.268749,
          0.8446784,
          2.7816832,
          3.7879903,
          6.1953793,
          12.64325,
          -1.3598064,
          3.8861802,
          -0.83110815,
          4.3459005,
          13.059454,
          12.960663,
          13.174214,
          1.8066047,
          6.806504,
          -1.8709707,
          -1.4298983,
          2.3710692,
          6.4722195,
          6.538725,
          -0.8092041,
          2.265838,
          6.3281617,
          6.138616,
          6.460739,
          2.7509518,
          3.2218387,
          -1.0532856,
          9.10857,
          12.947846,
          0.34481955,
          0.68308014,
          2.3349023,
          2.188323,
          -2.6154845,
          11.215102,
          17.13558,
          3.4272945,
          5.906371,
          4.583247,
          3.1022558,
          13.327589,
          7.3867974,
          9.74739,
          9.582424,
          0.058437508,
          6.525359,
          4.8101377,
          4.9926143,
          3.90928,
          6.2262583,
          0.11250018,
          3.685893,
          5.4129386,
          -2.0281785,
          0.05455571,
          2.798963,
          6.4877906,
          6.1893706,
          -0.17631005,
          20.178202,
          13.481811,
          8.529221,
          10.074135,
          2.5758219,
          9.804536,
          4.883211,
          3.5105786,
          6.318297,
          3.288724,
          -1.9158713,
          6.70718,
          1.9176314,
          3.776748,
          0.8076196,
          5.2705417,
          8.521517,
          -1.9095789,
          3.9440646,
          7.338023,
          6.105336,
          1.565599,
          2.005206,
          3.4919224,
          2.9187696,
          2.3557768,
          2.3201494,
          12.851513,
          2.745022,
          6.1533175,
          12.897628,
          -1.571463,
          13.339478,
          17.071583,
          1.8074253,
          3.7115262,
          4.635056,
          5.0309973,
          1.9161183,
          4.1160426,
          2.9427426,
          6.0826883,
          -2.4757478,
          3.7418127,
          3.958138,
          1.7702796,
          6.9908457,
          6.2897105,
          11.2810955,
          6.7258277,
          8.427411,
          12.969921,
          3.1408942,
          2.7162356,
          5.029598,
          4.411728,
          3.3256867,
          3.2201643,
          4.278229,
          7.768576,
          1.0412462,
          0.6203579,
          -0.8765391,
          13.553811,
          -10.75378,
          6.038509,
          2.7419446,
          13.541036,
          13.531342,
          13.2674465,
          5.847039,
          13.322371,
          10.331206,
          -1.8861507,
          5.2413044,
          4.793104,
          5.3361845,
          -0.26210055,
          3.199687,
          9.534309,
          4.115133,
          3.818305,
          11.294006,
          9.573016,
          4.947876,
          2.928671,
          2.8890576,
          13.413248,
          9.519429,
          -1.275931,
          2.7015471,
          2.858208,
          -1.3354992,
          4.4254756,
          4.7664905,
          2.1799817,
          13.036073,
          7.0658603,
          4.503991,
          6.7560153,
          9.413178,
          -1.6682105,
          12.91098,
          6.497294,
          13.1712,
          -0.6888699,
          4.085402,
          4.493786,
          0.70334136,
          3.0899386,
          15.788068,
          -2.3848994,
          13.027184,
          6.9717307,
          6.4554687,
          6.185998,
          -0.5726023,
          4.0081997,
          7.1185336,
          9.2733135,
          -1.2826306,
          19.985312,
          2.459677,
          13.470146,
          6.0752277,
          6.0676947,
          9.037132,
          -2.532642,
          13.313647,
          -1.6204685,
          -1.1155989,
          5.31567,
          6.2413,
          9.4775915,
          6.237027,
          6.3957663,
          -2.332171,
          -2.4788308,
          -2.4455705,
          3.1320963,
          5.072743,
          5.971838,
          3.6214647,
          6.177301,
          6.2727323,
          2.7165852,
          1.2494639,
          -2.1865435,
          1.8349012,
          1.0406405,
          3.4591758,
          7.165775,
          7.070691,
          2.6264775,
          7.156533,
          3.5226462,
          1.3438103,
          9.654824,
          3.868059,
          8.025208,
          -0.89018583,
          2.8974023,
          4.1456146,
          3.5723948,
          4.313673,
          3.1429873,
          -1.0322981,
          6.204478,
          -0.97030574,
          3.665896,
          7.986131,
          -1.3890324,
          -2.2176352,
          5.9629493,
          3.1279233,
          13.299603
         ],
         "yaxis": "y"
        },
        {
         "customdata": [
          [
           "Q: This is your many names.",
           "RG-50.549.03.0004_trs_en_cleaned"
          ],
          [
           "Q: Okay, I want to skip certain things. So-So-Some -- some things that we don't talk about will be summarized in the middle of narration. But I would like you to talk about -- about Krakew. Why did you go to Krakew, when did you go, and what position did you have? I want to talk about the whole Krakow scene [indecipherable]",
           "RG-50.549.03.0004_trs_en_cleaned"
          ],
          [
           "Q: I will summarize the story of how you met your wife, because it is a long one --",
           "RG-50.549.03.0004_trs_en_cleaned"
          ],
          [
           "Q: -- and we have only 15 minutes.",
           "RG-50.549.03.0004_trs_en_cleaned"
          ],
          [
           "Q: But I would like to talk about afterwards, so what -- so when -- once you had taken care of the columns, that was disconnected, the -- Krakew was saved, what were the other jobs? You had a lot of work to do. What was basically ho -- what did you work, and -- and what was the situation in Krakow, and what did you do?",
           "RG-50.549.03.0004_trs_en_cleaned"
          ],
          [
           "Q: I want to ask you just one more question about Krakew. You also were involved to some degree in -- in food and relief efforts, right, because [indecipherable] people were coming back",
           "RG-50.549.03.0004_trs_en_cleaned"
          ],
          [
           "Q: When you think about the time today, you were very busy -- about that time in Krakow -- you were very busy, you had a lot of work. Was that special for you, that time of fo -- and if so, for what reason?",
           "RG-50.549.03.0004_trs_en_cleaned"
          ],
          [
           "Q: Before we get to America, you had to leave Czechoslovakia, or afer -- n-n -- I'm sorry, Poland, Poland first. Te-Te-Tell us a little bit more about some time the decision was made, or you -- you and your wife talked about would you stay or would you leave. S-Say something about it.",
           "RG-50.549.03.0004_trs_en_cleaned"
          ],
          [
           "Q: I want to ask you a follow up question though. Were there other thoughts of why you wanted to leave?",
           "RG-50.549.03.0004_trs_en_cleaned"
          ],
          [
           "Q: We -- we'll get there, I want -- I just want to -- to -- to --",
           "RG-50.549.03.0004_trs_en_cleaned"
          ],
          [
           "Q: -- follow the chronology a little bit.",
           "RG-50.549.03.0004_trs_en_cleaned"
          ],
          [
           "Q: Was it difficult to get a visa? Wa -- did you need papers that you didn't have? What was --",
           "RG-50.549.03.0004_trs_en_cleaned"
          ],
          [
           "Q: [indecipherable] no, no, no, no, from Germany.",
           "RG-50.549.03.0004_trs_en_cleaned"
          ],
          [
           "Q: No, no, I know, but --",
           "RG-50.549.03.0004_trs_en_cleaned"
          ],
          [
           "Q: So when you got the visa finally, what -- what happened then? Where did you go, and how was the boat trip?",
           "RG-50.549.03.0004_trs_en_cleaned"
          ],
          [
           "Q: Was it Bremen or Bremenhaven?",
           "RG-50.549.03.0004_trs_en_cleaned"
          ],
          [
           "Q: Were you sick on the boat all the time, or did you also --",
           "RG-50.549.03.0004_trs_en_cleaned"
          ],
          [
           "Q: -- all the time?",
           "RG-50.549.03.0004_trs_en_cleaned"
          ],
          [
           "Q: So now you are an American and one of the first, most pressing things was to find work for you. Tell a little -- tell a little bit about the work process. Did you have help from your family, how -- what happened?",
           "RG-50.549.03.0004_trs_en_cleaned"
          ],
          [
           "Q: You could just --",
           "RG-50.549.03.0004_trs_en_cleaned"
          ],
          [
           "Q: Ho-How many jobs did you have, and how --",
           "RG-50.549.03.0004_trs_en_cleaned"
          ],
          [
           "Q: I -- I want to -- I want to ask you two specific questions -- two specific stories --",
           "RG-50.549.03.0004_trs_en_cleaned"
          ],
          [
           "Q: -- because they were important, I thought. The first story was about when you went to your cousin to the factory, to ask whether you would have a job, and there's a whole story connected when you finally met Joe Siegel. Maybe you can kind of tell that story.",
           "RG-50.549.03.0004_trs_en_cleaned"
          ],
          [
           "Q: Let me -- let's -- let's skip that qu -- that one because I would like to ask you something else. When you were a peddler for a long time --",
           "RG-50.549.03.0004_trs_en_cleaned"
          ],
          [
           "Q: -- 20 years ago, you told me last time one story where you walked up the stairs and you overheard a young mother talking to the child. Could you tell that story?",
           "RG-50.549.03.0004_trs_en_cleaned"
          ],
          [
           "Q: Let's go back then, at one point you did go to Palestine -- or to Israel at that time -",
           "RG-50.549.03.0004_trs_en_cleaned"
          ],
          [
           "Q: -- I would like to -- to get a sense of what it was like to be there, and what your family said to you, because you were still thinking of moving.",
           "RG-50.549.03.0004_trs_en_cleaned"
          ],
          [
           "Q: Now in the -- while -- while you are working in the early years, in -- in very -- first year, or second year in America, too, you were also training for combat. Can you tell about that a little bit? You -- you meant to go and fight [indecipherable]",
           "RG-50.549.03.0004_trs_en_cleaned"
          ],
          [
           "Q: In those early years, who were your friends?",
           "RG-50.549.03.0004_trs_en_cleaned"
          ],
          [
           "Q: Yeah, you di -- you -- you told already on the other interview, but I didn't -- I --",
           "RG-50.549.03.0004_trs_en_cleaned"
          ],
          [
           "Q: Who were your friends in this?",
           "RG-50.549.03.0004_trs_en_cleaned"
          ],
          [
           "Q: Who were your friends then? Did you have any friends at all?",
           "RG-50.549.03.0004_trs_en_cleaned"
          ],
          [
           "Q: [indecipherable] Huguenots.",
           "RG-50.549.03.0004_trs_en_cleaned"
          ],
          [
           "Q: Let's make me the connection to the beginning then, when you came to America, when you spoke, and you always spoke, I think.",
           "RG-50.549.03.0004_trs_en_cleaned"
          ],
          [
           "Q: Did -- did people know about it, did they want to hear about it?",
           "RG-50.549.03.0004_trs_en_cleaned"
          ],
          [
           "Q: And that was from both, that was American and then non -- non-Jewish, but also Jewish community didn't really want to --",
           "RG-50.549.03.0004_trs_en_cleaned"
          ],
          [
           "Q: You did tell me in the first interview about a story when -- when you heard in synagogue that a rabbi -- rabbi said they didn't really know what was happening, and you had researched it, and you saw --",
           "RG-50.549.03.0004_trs_en_cleaned"
          ],
          [
           "Q: Could you tell that story?",
           "RG-50.549.03.0004_trs_en_cleaned"
          ],
          [
           "Q: So -- so you think it was difficult for people to -- to unders -- to kind of put it together, or --",
           "RG-50.549.03.0004_trs_en_cleaned"
          ],
          [
           "Q: Did -- did you want to have children?",
           "RG-50.549.03.0004_trs_en_cleaned"
          ],
          [
           "Q: Did you have particular hopes or values that you wanted to instill in your -- in your child, for Esther?",
           "RG-50.549.03.0004_trs_en_cleaned"
          ],
          [
           "Q: Hopes and values? Yes. Hope of -- the first hopes and values is to -- to install in her a value of Judaism. Not a value of Judaism, about religion, God, but to be proud being a Jew, what the Jews did. This what I am proud, what the Jews did, fa -- through the 4,000 years since Abraham, what they did to human beings, what they did to the world, including the 10 commandments, including Jesus, even. That -- how come that -- that -- even with the Catholics, when they believe, said God picked out Mary to have a child, that God is a father, how come she didn't go to a -- to a Spanish woman, or to a Polish woman, or to a Irish woman and have a child -- if -- if I would believe what a Catholic believes. And to have a child with -- with -- with one of those nationality. So why did He pick out a Jewish girl, to have a child with a Jewish girl?",
           "RG-50.549.03.0004_trs_en_cleaned"
          ],
          [
           "Q: No.",
           "RG-50.549.03.0004_trs_en_cleaned"
          ],
          [
           "Q: Did you talk to her about --about your war experience, about the Holocaust?",
           "RG-50.549.03.0004_trs_en_cleaned"
          ],
          [
           "Q: What -- how -- how did you tell it to her? Did you make it into some kind of bedtime stories --",
           "RG-50.549.03.0004_trs_en_cleaned"
          ],
          [
           "Q: Let's -- let's go back to Esther for just a minute. Was -- she was an only child, and she also did not have any -- did she ask for grandparents --",
           "RG-50.549.03.0004_trs_en_cleaned"
          ],
          [
           "Q: -- ask you this again. Talk about her missing grandparents, and --",
           "RG-50.549.03.0004_trs_en_cleaned"
          ],
          [
           "Q: I want to ask you another question that has to do with your jobs again. So later on you went into contru -- into construction business, and you made good money, you had a successful firm. And then your family kind of liked you in a different way.",
           "RG-50.549.03.0004_trs_en_cleaned"
          ],
          [
           "Q: No, no, I'm sorry. You -- you to -- you just told me a story that they made you president of the family circle --",
           "RG-50.549.03.0004_trs_en_cleaned"
          ],
          [
           "Q: -- I just wondered whether you could say --",
           "RG-50.549.03.0004_trs_en_cleaned"
          ],
          [
           "Q: T-Tell me -- tell me the story though about the family circle, because that's also very telling.",
           "RG-50.549.03.0004_trs_en_cleaned"
          ],
          [
           "Q: Let me -- let me ask you this because it -- it fits right now with what you sort of said. When I ask you about the achievements -- I mean, you have had a long work life here, and you have built things. You have a family now, you have built things. When I ask you what -- what do you consider the -- the achievements here, in this country, for you?",
           "RG-50.549.03.0004_trs_en_cleaned"
          ],
          [
           "Q: Maybe that's already enough, but if you have other things that you consider an achievement --",
           "RG-50.549.03.0004_trs_en_cleaned"
          ],
          [
           "Q: That was -- that was very important, yeah, you didn't say that in the other interview. I've only two quick questions left --",
           "RG-50.549.03.0004_trs_en_cleaned"
          ],
          [
           "Q: -- and then maybe you can play a little music or so.",
           "RG-50.549.03.0004_trs_en_cleaned"
          ],
          [
           "Q: I would like to ask you though, what did it mean for you to be in v -- when did you feel comfortable in America, sort of , and -- and what did it mean to you to live in this country? What does it mean to you be an American?",
           "RG-50.549.03.0004_trs_en_cleaned"
          ],
          [
           "Q: I'm sorry, could you say it again, there was a --",
           "RG-50.549.03.0004_trs_en_cleaned"
          ],
          [
           "Q: Yeah.",
           "RG-50.549.03.0004_trs_en_cleaned"
          ],
          [
           "Q: You called it your three homelands.",
           "RG-50.549.03.0004_trs_en_cleaned"
          ],
          [
           "Q: Boy, that was very good, that was [indecipherable]",
           "RG-50.549.03.0004_trs_en_cleaned"
          ],
          [
           "Q: That's very important --",
           "RG-50.549.03.0004_trs_en_cleaned"
          ],
          [
           "Q: -- you did not say it that way -- see, that's why it's good sometimes to go back and [indecipherable]",
           "RG-50.549.03.0004_trs_en_cleaned"
          ],
          [
           "Q: When was that?",
           "RG-50.549.03.0004_trs_en_cleaned"
          ],
          [
           "Q: Do you think the world has learned from Holocaust?",
           "RG-50.549.03.0004_trs_en_cleaned"
          ],
          [
           "Q: Very last question, and then I'd like you to sing because --",
           "RG-50.549.03.0004_trs_en_cleaned"
          ],
          [
           "Q: -- \"\"m sure you still have some voice left.",
           "RG-50.549.03.0004_trs_en_cleaned"
          ],
          [
           "Q: In the later years, 70's, 80's, or s-s-s -- yeah, 90's even, anything that happened in this country that was of importance to you, that you f -- that had impact on your life, that you thought was important? Political, cultural, anything.",
           "RG-50.549.03.0004_trs_en_cleaned"
          ],
          [
           "Q: Yes, I know.",
           "RG-50.549.03.0004_trs_en_cleaned"
          ],
          [
           "Q: That's wonderful.",
           "RG-50.549.03.0004_trs_en_cleaned"
          ],
          [
           "Q: Oh yeah, I love it.",
           "RG-50.549.03.0004_trs_en_cleaned"
          ]
         ],
         "hovertemplate": "<b>Question:</b> %{customdata[0]}<br><b>RG Number:</b> %{customdata[1]}<extra></extra>",
         "legendgroup": "RG-50.549.03.0004_trs_en_cleaned",
         "marker": {
          "color": "#EF553B",
          "symbol": "circle"
         },
         "mode": "markers",
         "name": "RG-50.549.03.0004_trs_en_cleaned",
         "showlegend": true,
         "type": "scattergl",
         "x": [
          5.481699,
          3.5718768,
          1.4933547,
          -1.6071614,
          3.519275,
          3.4908073,
          3.9267073,
          6.778833,
          3.9530494,
          -1.5016689,
          1.0158296,
          4.403054,
          1.6136938,
          -2.2254934,
          4.50739,
          5.8808837,
          3.9124234,
          -0.9054042,
          4.7012963,
          -1.8013074,
          0.5415222,
          -1.820429,
          2.4291086,
          -1.9886746,
          3.0325694,
          3.5832071,
          4.6246696,
          5.300155,
          7.3332925,
          6.055866,
          7.3866396,
          7.4675016,
          0.9201013,
          5.057545,
          0.74963194,
          4.5517898,
          4.883814,
          2.263059,
          -1.0545056,
          4.9171543,
          5.0214863,
          4.227087,
          -1.2246913,
          3.9064474,
          0.84894484,
          5.211042,
          5.479774,
          4.598761,
          5.784941,
          -1.7479252,
          5.5311875,
          0.16358384,
          -0.0642616,
          -0.6486452,
          -1.7539421,
          5.1701055,
          -0.2691801,
          18.729637,
          5.2743464,
          0.120948516,
          -1.0437932,
          0.39440927,
          3.8400185,
          3.3076167,
          -2.2285652,
          -2.1768296,
          3.8423188,
          -2.3616247,
          -0.38589168,
          -0.9303103
         ],
         "xaxis": "x",
         "y": [
          6.739243,
          3.9864652,
          0.7009332,
          7.133935,
          4.157682,
          4.315185,
          4.122053,
          -0.40392172,
          3.9432273,
          5.1762176,
          5.818922,
          3.2577775,
          -2.371487,
          4.257225,
          3.4209604,
          2.174656,
          1.9647772,
          6.405048,
          6.7405043,
          5.0647125,
          5.032744,
          6.9789343,
          4.571558,
          5.283168,
          3.1349628,
          -0.407193,
          3.9185073,
          2.3205962,
          5.3811145,
          4.4379215,
          5.2000537,
          5.341649,
          -2.7486324,
          2.9446573,
          2.2834191,
          -1.2373242,
          -0.46937463,
          3.3804944,
          2.581836,
          5.6011033,
          5.114586,
          -0.98119426,
          20.02344,
          -0.31788167,
          0.79558414,
          5.188495,
          5.2306676,
          6.436783,
          5.5589557,
          5.0434933,
          5.3545613,
          7.1752915,
          7.173352,
          5.3019085,
          5.2241774,
          2.6242864,
          5.064738,
          9.495899,
          2.1934035,
          -1.2219387,
          5.8816614,
          -1.9184085,
          4.810744,
          -1.0351331,
          4.7968225,
          4.837964,
          5.2319207,
          3.6963592,
          8.157308,
          8.229116
         ],
         "yaxis": "y"
        },
        {
         "customdata": [
          [
           "Q: Uh, can you please tell us your name and when you born and where?",
           "RG-50.030.0117_trs_en_cleaned"
          ],
          [
           "Q: Uh can you tell us your earliest recollections of, from your childhood about your town and your home, your family?",
           "RG-50.030.0117_trs_en_cleaned"
          ],
          [
           "Q: Can you tell us about your birth certificate? There was something unusual.",
           "RG-50.030.0117_trs_en_cleaned"
          ],
          [
           "Q: Did you know of being Jewish?",
           "RG-50.030.0117_trs_en_cleaned"
          ],
          [
           "Q: What do you recall of the Germans coming to your town, and how did that change your life?",
           "RG-50.030.0117_trs_en_cleaned"
          ],
          [
           "Q: What are your recollections of your life in hiding? What was what was the house like? How did you eat? What what was your daily life like?",
           "RG-50.030.0117_trs_en_cleaned"
          ],
          [
           "Q: Did you have contact with other villagers?",
           "RG-50.030.0117_trs_en_cleaned"
          ],
          [
           "Q: What else do you recall about hiding? (Pause) Do you remember any particular person especially who influenced you during that time? (Pause)",
           "RG-50.030.0117_trs_en_cleaned"
          ],
          [
           "Q: What happened after that period of time in the mountains? What did you do? Where did you go from there?",
           "RG-50.030.0117_trs_en_cleaned"
          ],
          [
           "Q: Yes, after after, right. What was the liberation like?",
           "RG-50.030.0117_trs_en_cleaned"
          ],
          [
           "Q: What was your life like in Bratislava as a Jew after the war?",
           "RG-50.030.0117_trs_en_cleaned"
          ],
          [
           "Q: How did you go on with your education at this point?",
           "RG-50.030.0117_trs_en_cleaned"
          ],
          [
           "Q: What was your field? What did you study and how did you proceed in your career?",
           "RG-50.030.0117_trs_en_cleaned"
          ],
          [
           "Q: When did you get married, and uh was Judaism a factor in your marriage?",
           "RG-50.030.0117_trs_en_cleaned"
          ],
          [
           "Q: When and how did you come to the United States?",
           "RG-50.030.0117_trs_en_cleaned"
          ],
          [
           "Q: And then from Vienna you came here?",
           "RG-50.030.0117_trs_en_cleaned"
          ],
          [
           "Q: Is there anything else you would like to tell us about your experiences during the Nazi era?",
           "RG-50.030.0117_trs_en_cleaned"
          ],
          [
           "Q: And you had mentioned something about Jews fighting in the Slovak...the Slovak Army, even.",
           "RG-50.030.0117_trs_en_cleaned"
          ],
          [
           "Q: Thank you very much for the interesting story.",
           "RG-50.030.0117_trs_en_cleaned"
          ]
         ],
         "hovertemplate": "<b>Question:</b> %{customdata[0]}<br><b>RG Number:</b> %{customdata[1]}<extra></extra>",
         "legendgroup": "RG-50.030.0117_trs_en_cleaned",
         "marker": {
          "color": "#00cc96",
          "symbol": "circle"
         },
         "mode": "markers",
         "name": "RG-50.030.0117_trs_en_cleaned",
         "showlegend": true,
         "type": "scattergl",
         "x": [
          6.0839505,
          5.7049484,
          5.985517,
          4.466807,
          4.527957,
          5.5784698,
          5.8851814,
          0.126197,
          3.47697,
          2.8214276,
          6.4114385,
          3.5033832,
          3.3418818,
          3.701302,
          4.9470687,
          6.2264752,
          4.15579,
          6.623624,
          7.532014
         ],
         "xaxis": "x",
         "y": [
          4.996992,
          4.9324603,
          5.0717983,
          -0.8776072,
          0.16325483,
          4.334128,
          4.0517097,
          0.26489,
          3.3293955,
          2.7046697,
          -1.0205178,
          6.2177763,
          6.418656,
          -0.67947704,
          3.0281992,
          -0.6489217,
          0.06684371,
          -0.7121728,
          -2.3574142
         ],
         "yaxis": "y"
        },
        {
         "customdata": [
          [
           "Q: Both of your parents?",
           "RG-50.233.0103_trs_en_cleaned"
          ],
          [
           "Q: Fewer than 300 survived. Fifty people survived the uprising.",
           "RG-50.233.0103_trs_en_cleaned"
          ],
          [
           "Q: Is there something about your mother's personality that you could recall?",
           "RG-50.233.0103_trs_en_cleaned"
          ],
          [
           "Q: Is there anything else about either of your parents that you can include? Do you know what they did in Westerbork? They were in Westerbork for a short time?",
           "RG-50.233.0103_trs_en_cleaned"
          ],
          [
           "Q: You weren't even there yet?",
           "RG-50.233.0103_trs_en_cleaned"
          ],
          [
           "Q: So that was the last time you saw them?",
           "RG-50.233.0103_trs_en_cleaned"
          ],
          [
           "Q: The families were allowed to meet and talk?",
           "RG-50.233.0103_trs_en_cleaned"
          ],
          [
           "Q: Well, I think that can conclude our discussion about your parents. Thank you very much.",
           "RG-50.233.0103_trs_en_cleaned"
          ],
          [
           "Q: We are speaking to Mr. Polak about his sister, Julia Bola. Mr. Polak what can you tell us about Julia? When was she born, where was she born, what was she like as a child?",
           "RG-50.233.0103_trs_en_cleaned"
          ],
          [
           "Q: What year was that?",
           "RG-50.233.0103_trs_en_cleaned"
          ],
          [
           "Q: Was she friendly, did she have a lot of friends?",
           "RG-50.233.0103_trs_en_cleaned"
          ],
          [
           "Q: Is there anything else you would like to mention about Julia?",
           "RG-50.233.0103_trs_en_cleaned"
          ],
          [
           "Q: Thank you very much for your time.",
           "RG-50.233.0103_trs_en_cleaned"
          ]
         ],
         "hovertemplate": "<b>Question:</b> %{customdata[0]}<br><b>RG Number:</b> %{customdata[1]}<extra></extra>",
         "legendgroup": "RG-50.233.0103_trs_en_cleaned",
         "marker": {
          "color": "#ab63fa",
          "symbol": "circle"
         },
         "mode": "markers",
         "name": "RG-50.233.0103_trs_en_cleaned",
         "showlegend": true,
         "type": "scattergl",
         "x": [
          5.2830877,
          3.0966954,
          5.5378284,
          5.3470664,
          1.4887505,
          0.2579171,
          5.6282153,
          5.212427,
          2.0411067,
          4.2952557,
          7.349208,
          1.9332902,
          7.7976885
         ],
         "xaxis": "x",
         "y": [
          6.4033427,
          2.0129461,
          6.214833,
          5.9459357,
          3.9622693,
          2.2297552,
          5.2089005,
          6.5682807,
          1.378485,
          4.443812,
          5.2751026,
          1.3645883,
          -2.4571009
         ],
         "yaxis": "y"
        },
        {
         "customdata": [
          [
           "Q: This is a United States Holocaust Memorial Museum interview with Mrs. Knapezyk, on May 10\", 2013, in Trumbull, Connecticut. And first of all, thank you very mus -- much, Mrs. Knapezyk for agreeing to speak with us today.",
           "RG-50.030.0703_trs_en_cleaned"
          ],
          [
           "Q: Id like to start the interview with very simple, basic questions. Could you tell me your maiden name at birth?",
           "RG-50.030.0703_trs_en_cleaned"
          ],
          [
           "Q: And your first name?",
           "RG-50.030.0703_trs_en_cleaned"
          ],
          [
           "Q: Helena Kubowicz. And when were you born? What was the date?",
           "RG-50.030.0703_trs_en_cleaned"
          ],
          [
           "Q: And can you describe geographically where -- where in Poland your -- your birthplace is?",
           "RG-50.030.0703_trs_en_cleaned"
          ],
          [
           "Q: In the southeast?",
           "RG-50.030.0703_trs_en_cleaned"
          ],
          [
           "Q: In the southeast part of the country?",
           "RG-50.030.0703_trs_en_cleaned"
          ],
          [
           "Q: Okay. Were you born in a village, or a town?",
           "RG-50.030.0703_trs_en_cleaned"
          ],
          [
           "Q: A colony?",
           "RG-50.030.0703_trs_en_cleaned"
          ],
          [
           "Q: So it's a newly established --",
           "RG-50.030.0703_trs_en_cleaned"
          ],
          [
           "Q: Yeah. Was it a agricultural place? Was it a farming colony?",
           "RG-50.030.0703_trs_en_cleaned"
          ],
          [
           "Q: Okay.",
           "RG-50.030.0703_trs_en_cleaned"
          ],
          [
           "Q: And about how large was it?",
           "RG-50.030.0703_trs_en_cleaned"
          ],
          [
           "Q: Sixty people, or 60 homes?",
           "RG-50.030.0703_trs_en_cleaned"
          ],
          [
           "Q: Okay, 60 houses.",
           "RG-50.030.0703_trs_en_cleaned"
          ],
          [
           "Q: Okay. And can you tell me just the name of the colony once more?",
           "RG-50.030.0703_trs_en_cleaned"
          ],
          [
           "Q: Niedzwiedza.",
           "RG-50.030.0703_trs_en_cleaned"
          ],
          [
           "Q: Okay. And where -- fr-from what part of Poland did your parents come to this colony?",
           "RG-50.030.0703_trs_en_cleaned"
          ],
          [
           "Q: Lapanow.",
           "RG-50.030.0703_trs_en_cleaned"
          ],
          [
           "Q: Okay, and were they from the same place, or did they come from different places?",
           "RG-50.030.0703_trs_en_cleaned"
          ],
          [
           "Q: Kempanow(ph).",
           "RG-50.030.0703_trs_en_cleaned"
          ],
          [
           "Q: And what was the reason for it? Because this is something new for me, I've never heard of these colonies before.",
           "RG-50.030.0703_trs_en_cleaned"
          ],
          [
           "Q: So the land was good.",
           "RG-50.030.0703_trs_en_cleaned"
          ],
          [
           "Q: It's not like a village that is 200 years old. It's not the same thing.",
           "RG-50.030.0703_trs_en_cleaned"
          ],
          [
           "Q: Yeah.",
           "RG-50.030.0703_trs_en_cleaned"
          ],
          [
           "Q: Yeah.",
           "RG-50.030.0703_trs_en_cleaned"
          ],
          [
           "Q: Yeah.",
           "RG-50.030.0703_trs_en_cleaned"
          ],
          [
           "Q: Yeah.",
           "RG-50.030.0703_trs_en_cleaned"
          ],
          [
           "Q: What was your father's name?",
           "RG-50.030.0703_trs_en_cleaned"
          ],
          [
           "Q: Jan. And your mother's?",
           "RG-50.030.0703_trs_en_cleaned"
          ],
          [
           "Q: And her maiden name?",
           "RG-50.030.0703_trs_en_cleaned"
          ],
          [
           "Q: Stalmach(ph)?",
           "RG-50.030.0703_trs_en_cleaned"
          ],
          [
           "Q: That sounds German. Did she have German background?",
           "RG-50.030.0703_trs_en_cleaned"
          ],
          [
           "Q: Stalmach(ph) was her maiden name.",
           "RG-50.030.0703_trs_en_cleaned"
          ],
          [
           "Q: And were they -- were their parents farmers?",
           "RG-50.030.0703_trs_en_cleaned"
          ],
          [
           "Q: Okay.",
           "RG-50.030.0703_trs_en_cleaned"
          ],
          [
           "Q: Your mother --",
           "RG-50.030.0703_trs_en_cleaned"
          ],
          [
           "Q: Your -- your grandfather on your mother's side.Interview with Helena Knapcezyk deg May 10, 2013",
           "RG-50.030.0703_trs_en_cleaned"
          ],
          [
           "Q: Was a builder.",
           "RG-50.030.0703_trs_en_cleaned"
          ],
          [
           "Q: Okay. And when they came, and they joined the colony, and I take it must have built themselves a house, how many children did they have?",
           "RG-50.030.0703_trs_en_cleaned"
          ],
          [
           "Q: So 10?",
           "RG-50.030.0703_trs_en_cleaned"
          ],
          [
           "Q: Five more.",
           "RG-50.030.0703_trs_en_cleaned"
          ],
          [
           "Q: So, eight children in total?",
           "RG-50.030.0703_trs_en_cleaned"
          ],
          [
           "Q: Can you tell me their names from oldest to youngest, and if you remember, when they were born?",
           "RG-50.030.0703_trs_en_cleaned"
          ],
          [
           "Q: Okay.",
           "RG-50.030.0703_trs_en_cleaned"
          ],
          [
           "Q: And Franciszek and Jusef(ph) then, are boys?",
           "RG-50.030.0703_trs_en_cleaned"
          ],
          [
           "Q: Franciszek, is that a boy's name or a girl's name?",
           "RG-50.030.0703_trs_en_cleaned"
          ],
          [
           "Q: Boy.",
           "RG-50.030.0703_trs_en_cleaned"
          ],
          [
           "Q: That's what I thought.",
           "RG-50.030.0703_trs_en_cleaned"
          ],
          [
           "Q: That's what I thought, yeah.",
           "RG-50.030.0703_trs_en_cleaned"
          ],
          [
           "Q: Okay, so two boys, a girl.",
           "RG-50.030.0703_trs_en_cleaned"
          ],
          [
           "Q: Okay.",
           "RG-50.030.0703_trs_en_cleaned"
          ],
          [
           "Q: So you're the third youngest.",
           "RG-50.030.0703_trs_en_cleaned"
          ],
          [
           "Q: So after you, there are younger, Mikhelina(ph) and Honorata(ph).Interview with Helena Knapcezyk \" May 10, 2013",
           "RG-50.030.0703_trs_en_cleaned"
          ],
          [
           "Q: Okay. And do you have any earliest memories?",
           "RG-50.030.0703_trs_en_cleaned"
          ],
          [
           "Q: What would they be?",
           "RG-50.030.0703_trs_en_cleaned"
          ],
          [
           "Q: We\" ll -- we'll talk about that in a little bit",
           "RG-50.030.0703_trs_en_cleaned"
          ],
          [
           "Q: Right -- right now -- I'm sorry to interrupt, but right now what I'm trying to get a sense of is what was the world you were born into? What was the life that you grew up in? What were your parents like, what was the village life like, the colony's life like, and things like that. So we'll dwell a while on this, and then we'll come to those things.",
           "RG-50.030.0703_trs_en_cleaned"
          ],
          [
           "Q: What are these?",
           "RG-50.030.0703_trs_en_cleaned"
          ],
          [
           "Q: I see. For children?",
           "RG-50.030.0703_trs_en_cleaned"
          ],
          [
           "Q: So this would be for young men? Yeah.",
           "RG-50.030.0703_trs_en_cleaned"
          ],
          [
           "Q: Army.",
           "RG-50.030.0703_trs_en_cleaned"
          ],
          [
           "Q: And was -- was there a church in the --",
           "RG-50.030.0703_trs_en_cleaned"
          ],
          [
           "Q: Oh, forest, mm-hm.",
           "RG-50.030.0703_trs_en_cleaned"
          ],
          [
           "Q: Violin.",
           "RG-50.030.0703_trs_en_cleaned"
          ],
          [
           "Q: What's that?",
           "RG-50.030.0703_trs_en_cleaned"
          ],
          [
           "Q: And who was he?",
           "RG-50.030.0703_trs_en_cleaned"
          ],
          [
           "Q: Hetman --",
           "RG-50.030.0703_trs_en_cleaned"
          ],
          [
           "Q: Was he a oh -- was he -- this would have been what century?",
           "RG-50.030.0703_trs_en_cleaned"
          ],
          [
           "Q: Okay, but he was -- he was somebody --",
           "RG-50.030.0703_trs_en_cleaned"
          ],
          [
           "Q: Okay, would have this been before the partition of Poland in 1795?",
           "RG-50.030.0703_trs_en_cleaned"
          ],
          [
           "Q: His what?",
           "RG-50.030.0703_trs_en_cleaned"
          ],
          [
           "Q: Oh, you mean his gr -- his grave?",
           "RG-50.030.0703_trs_en_cleaned"
          ],
          [
           "Q: Grave.",
           "RG-50.030.0703_trs_en_cleaned"
          ],
          [
           "Q: He was -- he was embalmed?Interview with Helena Knapcezyk \" May 10, 2013",
           "RG-50.030.0703_trs_en_cleaned"
          ],
          [
           "Q: You mean, he --",
           "RG-50.030.0703_trs_en_cleaned"
          ],
          [
           "Q: So-",
           "RG-50.030.0703_trs_en_cleaned"
          ],
          [
           "Q: So he was embalmed.",
           "RG-50.030.0703_trs_en_cleaned"
          ],
          [
           "Q: So you could see actual -- the actual person.",
           "RG-50.030.0703_trs_en_cleaned"
          ],
          [
           "Q: Wow. Wow.",
           "RG-50.030.0703_trs_en_cleaned"
          ],
          [
           "Q: Sure.",
           "RG-50.030.0703_trs_en_cleaned"
          ],
          [
           "Q: Were the roads -- tell me -- I want to get a sense of the layout and the geography of the village. Were the roads dirt roads, or were they paved? The roads, in -- in --in the colony.",
           "RG-50.030.0703_trs_en_cleaned"
          ],
          [
           "Q: So it's not paved. No asphalt.",
           "RG-50.030.0703_trs_en_cleaned"
          ],
          [
           "Q: No asphalt.Interview with Helena Knapcezyk 6 May 10, 2013",
           "RG-50.030.0703_trs_en_cleaned"
          ],
          [
           "Q: Normal means dirt roads?",
           "RG-50.030.0703_trs_en_cleaned"
          ],
          [
           "Q: Dirt or paved road with stones?",
           "RG-50.030.0703_trs_en_cleaned"
          ],
          [
           "Q: Dirt roads.",
           "RG-50.030.0703_trs_en_cleaned"
          ],
          [
           "Q: Not asphalt.",
           "RG-50.030.0703_trs_en_cleaned"
          ],
          [
           "Q: And then, did anybody in the colony have a car?",
           "RG-50.030.0703_trs_en_cleaned"
          ],
          [
           "Q: Okay.",
           "RG-50.030.0703_trs_en_cleaned"
          ],
          [
           "Q: Did your family have a radio?",
           "RG-50.030.0703_trs_en_cleaned"
          ],
          [
           "Q: Okay.",
           "RG-50.030.0703_trs_en_cleaned"
          ],
          [
           "Q: Did you --",
           "RG-50.030.0703_trs_en_cleaned"
          ],
          [
           "Q: Okay, I'm going to ask a lot of questions here now. How large was the farm that your family had?",
           "RG-50.030.0703_trs_en_cleaned"
          ],
          [
           "Q: Acres?",
           "RG-50.030.0703_trs_en_cleaned"
          ],
          [
           "Q: Hectares, would you know how many hectares that would be?",
           "RG-50.030.0703_trs_en_cleaned"
          ],
          [
           "Q: Twenty-five hectares?",
           "RG-50.030.0703_trs_en_cleaned"
          ],
          [
           "Q: Okay.",
           "RG-50.030.0703_trs_en_cleaned"
          ],
          [
           "Q: Well, what he do -- what did he do with those -- with the --",
           "RG-50.030.0703_trs_en_cleaned"
          ],
          [
           "Q: Yeah, the bull.",
           "RG-50.030.0703_trs_en_cleaned"
          ],
          [
           "Q: Got it. So he paired them with the -- with a --",
           "RG-50.030.0703_trs_en_cleaned"
          ],
          [
           "Q: Okay, so this was --",
           "RG-50.030.0703_trs_en_cleaned"
          ],
          [
           "Q: -- it wasn't that he was dairy production, as much as --",
           "RG-50.030.0703_trs_en_cleaned"
          ],
          [
           "Q: And did he sell --",
           "RG-50.030.0703_trs_en_cleaned"
          ],
          [
           "Q: He would sell the animals?",
           "RG-50.030.0703_trs_en_cleaned"
          ],
          [
           "Q: Okay.",
           "RG-50.030.0703_trs_en_cleaned"
          ],
          [
           "Q: So how many did you have at any one time?",
           "RG-50.030.0703_trs_en_cleaned"
          ],
          [
           "Q: Wow.",
           "RG-50.030.0703_trs_en_cleaned"
          ],
          [
           "Q: Okay.",
           "RG-50.030.0703_trs_en_cleaned"
          ],
          [
           "Q: You mean the -- in order for their cows to get bulls like this --",
           "RG-50.030.0703_trs_en_cleaned"
          ],
          [
           "Q: Okay.",
           "RG-50.030.0703_trs_en_cleaned"
          ],
          [
           "Q: A stud bull, maybe.",
           "RG-50.030.0703_trs_en_cleaned"
          ],
          [
           "Q: I don't know what it's called.",
           "RG-50.030.0703_trs_en_cleaned"
          ],
          [
           "Q: So did -- did he farm the land as well?",
           "RG-50.030.0703_trs_en_cleaned"
          ],
          [
           "Q: What did he produce?",
           "RG-50.030.0703_trs_en_cleaned"
          ],
          [
           "Q: Okay.",
           "RG-50.030.0703_trs_en_cleaned"
          ],
          [
           "Q: Four acres of fruit trees?",
           "RG-50.030.0703_trs_en_cleaned"
          ],
          [
           "Q: That's a lot.",
           "RG-50.030.0703_trs_en_cleaned"
          ],
          [
           "Q: Was it gray -- what -- what kind of fruit was it?",
           "RG-50.030.0703_trs_en_cleaned"
          ],
          [
           "Q: Just say in Polish then.",
           "RG-50.030.0703_trs_en_cleaned"
          ],
          [
           "Q: Plums.",
           "RG-50.030.0703_trs_en_cleaned"
          ],
          [
           "Q: It sounds -- it sound delicious.",
           "RG-50.030.0703_trs_en_cleaned"
          ],
          [
           "Q: And did he sell these products, or did -- was this to sustain the family, mostly?",
           "RG-50.030.0703_trs_en_cleaned"
          ],
          [
           "Q: I see.",
           "RG-50.030.0703_trs_en_cleaned"
          ],
          [
           "Q: Okay.",
           "RG-50.030.0703_trs_en_cleaned"
          ],
          [
           "Q: Did he sa -- what else did he grow? Did he have -- did he grow wheat, did he grow rye, did he grow --",
           "RG-50.030.0703_trs_en_cleaned"
          ],
          [
           "Q: Okay, so what of these grains did he grow? Which wa -- which one?",
           "RG-50.030.0703_trs_en_cleaned"
          ],
          [
           "Q: I don't -- is that wheat?",
           "RG-50.030.0703_trs_en_cleaned"
          ],
          [
           "Q: Okay.",
           "RG-50.030.0703_trs_en_cleaned"
          ],
          [
           "Q: And what's that?",
           "RG-50.030.0703_trs_en_cleaned"
          ],
          [
           "Q: It's okay.",
           "RG-50.030.0703_trs_en_cleaned"
          ],
          [
           "Q: And did he sell this, or was this also for the family?",
           "RG-50.030.0703_trs_en_cleaned"
          ],
          [
           "Q: Okay.Interview with Helena Knapcezyk s May 10, 2013",
           "RG-50.030.0703_trs_en_cleaned"
          ],
          [
           "Q: And i-- would it be accurate to say that most of the business from the family came from the cows, and --",
           "RG-50.030.0703_trs_en_cleaned"
          ],
          [
           "Q: Okay.",
           "RG-50.030.0703_trs_en_cleaned"
          ],
          [
           "Q: Okay.",
           "RG-50.030.0703_trs_en_cleaned"
          ],
          [
           "Q: Okay.",
           "RG-50.030.0703_trs_en_cleaned"
          ],
          [
           "Q: Okay. Oh, you owned the store.",
           "RG-50.030.0703_trs_en_cleaned"
          ],
          [
           "Q: We ow -- you owned the store.",
           "RG-50.030.0703_trs_en_cleaned"
          ],
          [
           "Q: Yeah.Interview with Helena Knapcezyk May 10, 2013",
           "RG-50.030.0703_trs_en_cleaned"
          ],
          [
           "Q: The sorts of things that you can't make yourself, or create yourself, that --",
           "RG-50.030.0703_trs_en_cleaned"
          ],
          [
           "Q: Okay. And would you have considered your -- your family, you know, on those circumstances, in those times, well-to-do? In other words, one of the better off farmers, not a poor farmer?",
           "RG-50.030.0703_trs_en_cleaned"
          ],
          [
           "Q: Middle class.",
           "RG-50.030.0703_trs_en_cleaned"
          ],
          [
           "Q: When you said German villages, were German villages generally mo -- richer?",
           "RG-50.030.0703_trs_en_cleaned"
          ],
          [
           "Q: I see. I see.",
           "RG-50.030.0703_trs_en_cleaned"
          ],
          [
           "Q: Yeah, of course, of course.Interview with Helena Knapcezyk 8 May 10, 2013",
           "RG-50.030.0703_trs_en_cleaned"
          ],
          [
           "Q: Did your fa -- did your father when he was -- when he was farming, did he have any equipment, or did he, for example, how did he harvest the wheat?",
           "RG-50.030.0703_trs_en_cleaned"
          ],
          [
           "Q: Okay.",
           "RG-50.030.0703_trs_en_cleaned"
          ],
          [
           "Q: With scythes? That -- that is with those curved blades, yeah. The scythes.",
           "RG-50.030.0703_trs_en_cleaned"
          ],
          [
           "Q: Threshing?",
           "RG-50.030.0703_trs_en_cleaned"
          ],
          [
           "Q: Okay.",
           "RG-50.030.0703_trs_en_cleaned"
          ],
          [
           "Q: Okay. And were most of the people in the colony, you know, well-off enough that they weren't hungry? Were there any poor people in there?",
           "RG-50.030.0703_trs_en_cleaned"
          ],
          [
           "Q: I see.",
           "RG-50.030.0703_trs_en_cleaned"
          ],
          [
           "Q: Okay. Let me gather my thoughts for a minute. [break] So -- so in the kolonia, it was, you know, people had enough to eat, they weren't poor, aside from that one family that you -- that you mentioned. And there was wonderful food, that was fresh. And there was a way of making one a living, you know, you -- for you -- for example, for your father through the -- the beef, the cows, the bulls, and so on. I want to turn now a little bit to your family itself. Tell me a little bit about your father and your mother as people. What do you remember about them as personalities? What kind of manner and nature did they have? Just let's start with your mother.",
           "RG-50.030.0703_trs_en_cleaned"
          ],
          [
           "Q: Yeah.",
           "RG-50.030.0703_trs_en_cleaned"
          ],
          [
           "Q: The Austrian.",
           "RG-50.030.0703_trs_en_cleaned"
          ],
          [
           "Q: The head of the house.",
           "RG-50.030.0703_trs_en_cleaned"
          ],
          [
           "Q: It's normal. Of course not.",
           "RG-50.030.0703_trs_en_cleaned"
          ],
          [
           "Q: Yeah.",
           "RG-50.030.0703_trs_en_cleaned"
          ],
          [
           "Q: Well, you had a lot of people.",
           "RG-50.030.0703_trs_en_cleaned"
          ],
          [
           "Q: And her name again, was Maria?",
           "RG-50.030.0703_trs_en_cleaned"
          ],
          [
           "Q: Maria.",
           "RG-50.030.0703_trs_en_cleaned"
          ],
          [
           "Q: Were there -- were you closer to some of your sisters and brothers than to others?",
           "RG-50.030.0703_trs_en_cleaned"
          ],
          [
           "Q: Your multiplication tables.",
           "RG-50.030.0703_trs_en_cleaned"
          ],
          [
           "Q: Okay, yeah.",
           "RG-50.030.0703_trs_en_cleaned"
          ],
          [
           "Q: Yeah.",
           "RG-50.030.0703_trs_en_cleaned"
          ],
          [
           "Q: With such a large family, did you -- did you ne -- have a need to have friends outside, that were your own age?",
           "RG-50.030.0703_trs_en_cleaned"
          ],
          [
           "Q: I see.",
           "RG-50.030.0703_trs_en_cleaned"
          ],
          [
           "Q: You had some -- some -- you played together.",
           "RG-50.030.0703_trs_en_cleaned"
          ],
          [
           "Q: Did everybody help at home as well?",
           "RG-50.030.0703_trs_en_cleaned"
          ],
          [
           "Q: Okay.",
           "RG-50.030.0703_trs_en_cleaned"
          ],
          [
           "Q: She was orderly.",
           "RG-50.030.0703_trs_en_cleaned"
          ],
          [
           "Q: You were a child.Interview with Helena Knapcezyk * May 10, 2013",
           "RG-50.030.0703_trs_en_cleaned"
          ],
          [
           "Q: In the colony -- in the colony, were they -- were -- was everybody who lived there, of the 60 houses you mentioned, was everybody Roman Catholic?",
           "RG-50.030.0703_trs_en_cleaned"
          ],
          [
           "Q: AIL.",
           "RG-50.030.0703_trs_en_cleaned"
          ],
          [
           "Q: So there weren't any other --",
           "RG-50.030.0703_trs_en_cleaned"
          ],
          [
           "Q: Okay, okay.",
           "RG-50.030.0703_trs_en_cleaned"
          ],
          [
           "Q: Okay.",
           "RG-50.030.0703_trs_en_cleaned"
          ],
          [
           "Q: So did you ever -- did you -- did you know that there were -- that there were a lot of Jews who lived in Poland? Had you --Interview with Helena Knapcezyk 8 May 10, 2013",
           "RG-50.030.0703_trs_en_cleaned"
          ],
          [
           "Q: Greek Catholics, yeah.",
           "RG-50.030.0703_trs_en_cleaned"
          ],
          [
           "Q: Okay.",
           "RG-50.030.0703_trs_en_cleaned"
          ],
          [
           "Q: It's not much.",
           "RG-50.030.0703_trs_en_cleaned"
          ],
          [
           "Q: Was it a city, or was it a town?",
           "RG-50.030.0703_trs_en_cleaned"
          ],
          [
           "Q: It's a town.",
           "RG-50.030.0703_trs_en_cleaned"
          ],
          [
           "Q: Small town.Interview with Helena Knapcezyk *deg May 10, 2013",
           "RG-50.030.0703_trs_en_cleaned"
          ],
          [
           "Q: Okay. And did your father have any -- or through the store, did you have like regular business contacts?",
           "RG-50.030.0703_trs_en_cleaned"
          ],
          [
           "Q: Okay.",
           "RG-50.030.0703_trs_en_cleaned"
          ],
          [
           "Q: Okay.",
           "RG-50.030.0703_trs_en_cleaned"
          ],
          [
           "Q: Okay.",
           "RG-50.030.0703_trs_en_cleaned"
          ],
          [
           "Q: And did you ever meet any of these -- of his business contacts?Interview with Helena Knapcezyk \" May 10, 2013",
           "RG-50.030.0703_trs_en_cleaned"
          ],
          [
           "Q: Around.",
           "RG-50.030.0703_trs_en_cleaned"
          ],
          [
           "Q: Of course.",
           "RG-50.030.0703_trs_en_cleaned"
          ],
          [
           "Q: And were there -- excuse me [break] What were the views in the village about Jewish people, and people who weren't Polish, in general.",
           "RG-50.030.0703_trs_en_cleaned"
          ],
          [
           "Q: I see. And tell me, what was it that they were -- was this area also populated with Ukrainians? Were there many Ukraine --",
           "RG-50.030.0703_trs_en_cleaned"
          ],
          [
           "Q: Okay.",
           "RG-50.030.0703_trs_en_cleaned"
          ],
          [
           "Q: Okay.",
           "RG-50.030.0703_trs_en_cleaned"
          ],
          [
           "Q: Yes, what I mean is, in the general region. In the general region, were there a lot of Ukrainian people? Was this a mixed region?",
           "RG-50.030.0703_trs_en_cleaned"
          ],
          [
           "Q: Not the colony, because we know that the colonies --",
           "RG-50.030.0703_trs_en_cleaned"
          ],
          [
           "Q: I see.Interview with Helena Knapcezyk *deg May 10, 2013",
           "RG-50.030.0703_trs_en_cleaned"
          ],
          [
           "Q: Much more.",
           "RG-50.030.0703_trs_en_cleaned"
          ],
          [
           "Q: I see.",
           "RG-50.030.0703_trs_en_cleaned"
          ],
          [
           "Q: I see.",
           "RG-50.030.0703_trs_en_cleaned"
          ],
          [
           "Q: And were there any relations with the Ukrainians at all?",
           "RG-50.030.0703_trs_en_cleaned"
          ],
          [
           "Q: But not in the colony, because they -- there weren't any living in the colony.",
           "RG-50.030.0703_trs_en_cleaned"
          ],
          [
           "Q: Okay.",
           "RG-50.030.0703_trs_en_cleaned"
          ],
          [
           "Q: Was that something -- was that something done on purpose? To build that colony, that i-- that it was that way, or was it -- just turned out that way?",
           "RG-50.030.0703_trs_en_cleaned"
          ],
          [
           "Q: That there's a person who owns all this land and is selling them?",
           "RG-50.030.0703_trs_en_cleaned"
          ],
          [
           "Q: Was she an aristocratic lady, Rabin(ph)?",
           "RG-50.030.0703_trs_en_cleaned"
          ],
          [
           "Q: I see.",
           "RG-50.030.0703_trs_en_cleaned"
          ],
          [
           "Q: Okay. And when people in the village were talking about Ukrainians, in what way? What were the types of conversation?",
           "RG-50.030.0703_trs_en_cleaned"
          ],
          [
           "Q: Rumors.",
           "RG-50.030.0703_trs_en_cleaned"
          ],
          [
           "Q: Yeah, rumors.",
           "RG-50.030.0703_trs_en_cleaned"
          ],
          [
           "Q: I see.ontactrefiranneGaushariarg a hither atrmedortabeattfiexaliaton Interview with Helena Knapcezyk * May 10, 2013",
           "RG-50.030.0703_trs_en_cleaned"
          ],
          [
           "Q: Uh-huh?",
           "RG-50.030.0703_trs_en_cleaned"
          ],
          [
           "Q: So --so you spoke both Ukrainian and Polish at home?",
           "RG-50.030.0703_trs_en_cleaned"
          ],
          [
           "Q: Oh no, I mean, you spoke both languages.",
           "RG-50.030.0703_trs_en_cleaned"
          ],
          [
           "Q: Polish.",
           "RG-50.030.0703_trs_en_cleaned"
          ],
          [
           "Q: Okay.",
           "RG-50.030.0703_trs_en_cleaned"
          ],
          [
           "Q: Uh-huh. I see.",
           "RG-50.030.0703_trs_en_cleaned"
          ],
          [
           "Q: Okay. Is there anything about your school life that you remember, that you know, was particularly important to you? Were there subjects that you liked, or teachers that you liked?Interview with Helena Knapcezyk 8 May 10, 2013",
           "RG-50.030.0703_trs_en_cleaned"
          ],
          [
           "Q: The -- the tables, the mult-multiplication tables.",
           "RG-50.030.0703_trs_en_cleaned"
          ],
          [
           "Q: So you would be educated.",
           "RG-50.030.0703_trs_en_cleaned"
          ],
          [
           "Q: So tell me -- now let's turn a little bit, towards the wider world. In the 1930s, the -- you know, when you're in a small place like the colony you're talking about.",
           "RG-50.030.0703_trs_en_cleaned"
          ],
          [
           "Q: How much did the events that were going on in Germany, or in Russia, or in -- or even in Warsaw, how much did that matter? How much did people talk about such things?",
           "RG-50.030.0703_trs_en_cleaned"
          ],
          [
           "Q: Well now, that's my next question, it was going to be my next question, is do you remember where you were when you learned that Poland was invaded?",
           "RG-50.030.0703_trs_en_cleaned"
          ],
          [
           "Q: Tell me.",
           "RG-50.030.0703_trs_en_cleaned"
          ],
          [
           "Q: Border.",
           "RG-50.030.0703_trs_en_cleaned"
          ],
          [
           "Q: From where?",
           "RG-50.030.0703_trs_en_cleaned"
          ],
          [
           "Q: From the -- from the west?",
           "RG-50.030.0703_trs_en_cleaned"
          ],
          [
           "Q: [indecipherable] east.",
           "RG-50.030.0703_trs_en_cleaned"
          ],
          [
           "Q: Hang on a second. So you never saw any Germans, at all?",
           "RG-50.030.0703_trs_en_cleaned"
          ],
          [
           "Q: You saw?",
           "RG-50.030.0703_trs_en_cleaned"
          ],
          [
           "Q: So first -- so tell me, did they come before the Russians?",
           "RG-50.030.0703_trs_en_cleaned"
          ],
          [
           "Q: Okay, so let's talk about that first. Tell me first about, the war starts, you have refugees. When's the first time you saw -- when's the first time the war really came to your colony?",
           "RG-50.030.0703_trs_en_cleaned"
          ],
          [
           "Q: Bomber.",
           "RG-50.030.0703_trs_en_cleaned"
          ],
          [
           "Q: Soldiers?",
           "RG-50.030.0703_trs_en_cleaned"
          ],
          [
           "Q: Was it that they s -- did your mother speak German?",
           "RG-50.030.0703_trs_en_cleaned"
          ],
          [
           "Q: Did your father speak --",
           "RG-50.030.0703_trs_en_cleaned"
          ],
          [
           "Q: Right.",
           "RG-50.030.0703_trs_en_cleaned"
          ],
          [
           "Q: Okay.",
           "RG-50.030.0703_trs_en_cleaned"
          ],
          [
           "Q: Okay.",
           "RG-50.030.0703_trs_en_cleaned"
          ],
          [
           "Q: Not Australian, Austrian.",
           "RG-50.030.0703_trs_en_cleaned"
          ],
          [
           "Q: Yeah. The soldiers were -- did -- were -- were they -- they must have been part of a military unit.",
           "RG-50.030.0703_trs_en_cleaned"
          ],
          [
           "Q: Did you see any more, or was this it?",
           "RG-50.030.0703_trs_en_cleaned"
          ],
          [
           "Q: Only two of them.",
           "RG-50.030.0703_trs_en_cleaned"
          ],
          [
           "Q: Okay. And then what happened?",
           "RG-50.030.0703_trs_en_cleaned"
          ],
          [
           "Q: Well what ha -- how did that -- wa -- how did that happen? What was -- how did that develop?",
           "RG-50.030.0703_trs_en_cleaned"
          ],
          [
           "Q: What's that?",
           "RG-50.030.0703_trs_en_cleaned"
          ],
          [
           "Q: Is it a gun, is it a tank?",
           "RG-50.030.0703_trs_en_cleaned"
          ],
          [
           "Q: Oh you -- okay.",
           "RG-50.030.0703_trs_en_cleaned"
          ],
          [
           "Q: Well, did you ex -- were you surprised to see Russians?",
           "RG-50.030.0703_trs_en_cleaned"
          ],
          [
           "Q: Well tell -- well, let's get to that point. You say the Russians were going by tanks towards Lwew. How -- what things happened after that?) What happened as time went on?",
           "RG-50.030.0703_trs_en_cleaned"
          ],
          [
           "Q: Who arrested them? Who wa --",
           "RG-50.030.0703_trs_en_cleaned"
          ],
          [
           "Q: Okay.",
           "RG-50.030.0703_trs_en_cleaned"
          ],
          [
           "Q: So -- but if the whole village was just Polish, how did they know who to arrest?",
           "RG-50.030.0703_trs_en_cleaned"
          ],
          [
           "Q: No, how did they know? The Russians are coming in --",
           "RG-50.030.0703_trs_en_cleaned"
          ],
          [
           "Q: No, no, no -- yeah, who told them, arrest this one, arrest that one? How --",
           "RG-50.030.0703_trs_en_cleaned"
          ],
          [
           "Q: No. No. Russians are foreign troops.",
           "RG-50.030.0703_trs_en_cleaned"
          ],
          [
           "Q: And they're coming into your colony, and you're saying that the soldiers arrested the teacher, the priest and so on? How did they know that this was a teacher, and this was a priest and this was somebody else?",
           "RG-50.030.0703_trs_en_cleaned"
          ],
          [
           "Q: Okay.",
           "RG-50.030.0703_trs_en_cleaned"
          ],
          [
           "Q: So it wasn't anybody local who helped them at all?",
           "RG-50.030.0703_trs_en_cleaned"
          ],
          [
           "Q: And you heard about these things? Or did you see them?",
           "RG-50.030.0703_trs_en_cleaned"
          ],
          [
           "Q: Mm-hm.",
           "RG-50.030.0703_trs_en_cleaned"
          ],
          [
           "Q: They disappeared.Interview with Helena Knapcezyk \" May 10, 2013",
           "RG-50.030.0703_trs_en_cleaned"
          ],
          [
           "Q: And was this -- how soon after the war started, did these things start happening?",
           "RG-50.030.0703_trs_en_cleaned"
          ],
          [
           "Q: Yeah, well, the war started September 1\", 1939.",
           "RG-50.030.0703_trs_en_cleaned"
          ],
          [
           "Q: Then it took a while for the Russians to come in.",
           "RG-50.030.0703_trs_en_cleaned"
          ],
          [
           "Q: Right.",
           "RG-50.030.0703_trs_en_cleaned"
          ],
          [
           "Q: Right.",
           "RG-50.030.0703_trs_en_cleaned"
          ],
          [
           "Q: What is Sowiecki sojusz in English? Yeah, we -- how do you say it in English?",
           "RG-50.030.0703_trs_en_cleaned"
          ],
          [
           "Q: Sowiecki sojusz in English?Interview with Helena Knapcezyk 8 May 10, 2013",
           "RG-50.030.0703_trs_en_cleaned"
          ],
          [
           "Q: Well, well, the Soviet Union, you mean?",
           "RG-50.030.0703_trs_en_cleaned"
          ],
          [
           "Q: Soviet Union.",
           "RG-50.030.0703_trs_en_cleaned"
          ],
          [
           "Q: So he was talking about that, okay.",
           "RG-50.030.0703_trs_en_cleaned"
          ],
          [
           "Q: Soviet -- Soviet Union.",
           "RG-50.030.0703_trs_en_cleaned"
          ],
          [
           "Q: Okay.",
           "RG-50.030.0703_trs_en_cleaned"
          ],
          [
           "Q: What happened in the 10\" of February?",
           "RG-50.030.0703_trs_en_cleaned"
          ],
          [
           "Q: Well tell me, what happened? How did it happen?",
           "RG-50.030.0703_trs_en_cleaned"
          ],
          [
           "Q: Who? Who came?",
           "RG-50.030.0703_trs_en_cleaned"
          ],
          [
           "Q: Soldiers?",
           "RG-50.030.0703_trs_en_cleaned"
          ],
          [
           "Q: Now I want to interrupt at this point. Up until then, had anybody come before, to deport other families, earlier? No.",
           "RG-50.030.0703_trs_en_cleaned"
          ],
          [
           "Q: So at first they arrested the teacher, the priest, the policeman.",
           "RG-50.030.0703_trs_en_cleaned"
          ],
          [
           "Q: Wait a minute. N-N-N -- no.",
           "RG-50.030.0703_trs_en_cleaned"
          ],
          [
           "Q: No. They arrested those individuals, maybe one or two farmers, but everybody else was left alone.",
           "RG-50.030.0703_trs_en_cleaned"
          ],
          [
           "Q: Okay. And then, on the 10\" of February, then everybody was arrested. And yet, your parents were more nervous. So the last thing you told me about is about this man who tells you in school about Stalin and Lenin and the wonderful Soviet Union, but what happened in those months? What happened in those weeksInterview with Helena Knapcezyk ~ May 10, 2013",
           "RG-50.030.0703_trs_en_cleaned"
          ],
          [
           "Q: What th -- how did things develop?",
           "RG-50.030.0703_trs_en_cleaned"
          ],
          [
           "Q: Did this also affect your Christmas?",
           "RG-50.030.0703_trs_en_cleaned"
          ],
          [
           "Q: Why was he hiding?",
           "RG-50.030.0703_trs_en_cleaned"
          ],
          [
           "Q: For why?",
           "RG-50.030.0703_trs_en_cleaned"
          ],
          [
           "Q: Yeah, why?",
           "RG-50.030.0703_trs_en_cleaned"
          ],
          [
           "Q: Why would they arrest him?",
           "RG-50.030.0703_trs_en_cleaned"
          ],
          [
           "Q: Okay.",
           "RG-50.030.0703_trs_en_cleaned"
          ],
          [
           "Q: Did -- did anybody tell you? When they came in, in the middle of your house, did they say why you had to leave?",
           "RG-50.030.0703_trs_en_cleaned"
          ],
          [
           "Q: I see. And that's it?",
           "RG-50.030.0703_trs_en_cleaned"
          ],
          [
           "Q: And they said this in Polish, or in Russian?",
           "RG-50.030.0703_trs_en_cleaned"
          ],
          [
           "Q: Russian.",
           "RG-50.030.0703_trs_en_cleaned"
          ],
          [
           "Q: Okay. So you're on this truck, and you're going towards Lwow. Pick up the story from there, what happens then?Interview with Helena Knapcezyk \" May 10, 2013",
           "RG-50.030.0703_trs_en_cleaned"
          ],
          [
           "Q: Cattle cars.",
           "RG-50.030.0703_trs_en_cleaned"
          ],
          [
           "Q: Seventy people in one car.",
           "RG-50.030.0703_trs_en_cleaned"
          ],
          [
           "Q: So they emptied out the place?",
           "RG-50.030.0703_trs_en_cleaned"
          ],
          [
           "Q: When you say two -- on the -- on the sides, were these like planks?",
           "RG-50.030.0703_trs_en_cleaned"
          ],
          [
           "Q: Got it.",
           "RG-50.030.0703_trs_en_cleaned"
          ],
          [
           "Q: Got it.",
           "RG-50.030.0703_trs_en_cleaned"
          ],
          [
           "Q: Probably bunks, or -- or --",
           "RG-50.030.0703_trs_en_cleaned"
          ],
          [
           "Q: Bun -- bunks, bunks, yeah.",
           "RG-50.030.0703_trs_en_cleaned"
          ],
          [
           "Q: Stop the camera please. [break] Okay, all right, so they took everybody.",
           "RG-50.030.0703_trs_en_cleaned"
          ],
          [
           "Q: Middle of winter.",
           "RG-50.030.0703_trs_en_cleaned"
          ],
          [
           "Q: Were there a lot of dead -- were -- were there people dying?Interview with Helena Knapcezyk \"8 May 10, 2013",
           "RG-50.030.0703_trs_en_cleaned"
          ],
          [
           "Q: So you're walking on top of the river?",
           "RG-50.030.0703_trs_en_cleaned"
          ],
          [
           "Q: And were you guarded, were there guards with you?",
           "RG-50.030.0703_trs_en_cleaned"
          ],
          [
           "Q: Was anybody who tried?",
           "RG-50.030.0703_trs_en_cleaned"
          ],
          [
           "Q: Okay.",
           "RG-50.030.0703_trs_en_cleaned"
          ],
          [
           "Q: Were there guards -- were there guards while you were walking? When you were on --",
           "RG-50.030.0703_trs_en_cleaned"
          ],
          [
           "Q: And were they --",
           "RG-50.030.0703_trs_en_cleaned"
          ],
          [
           "Q: Okay, but were they official, were they policemen, were they just --",
           "RG-50.030.0703_trs_en_cleaned"
          ],
          [
           "Q: Okay.",
           "RG-50.030.0703_trs_en_cleaned"
          ],
          [
           "Q: Sleds?",
           "RG-50.030.0703_trs_en_cleaned"
          ],
          [
           "Q: Yeah.",
           "RG-50.030.0703_trs_en_cleaned"
          ],
          [
           "Q: Okay.",
           "RG-50.030.0703_trs_en_cleaned"
          ],
          [
           "Q: On the valley.",
           "RG-50.030.0703_trs_en_cleaned"
          ],
          [
           "Q: Okay, so it's [indecipherable] okay.",
           "RG-50.030.0703_trs_en_cleaned"
          ],
          [
           "Q: What was it made of?",
           "RG-50.030.0703_trs_en_cleaned"
          ],
          [
           "Q: Was it wooden?",
           "RG-50.030.0703_trs_en_cleaned"
          ],
          [
           "Q: It was wood, okay.",
           "RG-50.030.0703_trs_en_cleaned"
          ],
          [
           "Q: Logs.",
           "RG-50.030.0703_trs_en_cleaned"
          ],
          [
           "Q: Logs, okay.Interview with Helena Knapcezyk \" May 10, 2013",
           "RG-50.030.0703_trs_en_cleaned"
          ],
          [
           "Q: Bunks, bunks.",
           "RG-50.030.0703_trs_en_cleaned"
          ],
          [
           "Q: Bunks.",
           "RG-50.030.0703_trs_en_cleaned"
          ],
          [
           "Q: No, bunks. B-u-n-k-s.",
           "RG-50.030.0703_trs_en_cleaned"
          ],
          [
           "Q: Bunkbed.",
           "RG-50.030.0703_trs_en_cleaned"
          ],
          [
           "Q: Bunks. Bunkbeds, mm-hm.",
           "RG-50.030.0703_trs_en_cleaned"
          ],
          [
           "Q: Kettle? A kettle?",
           "RG-50.030.0703_trs_en_cleaned"
          ],
          [
           "Q: I don't understand.",
           "RG-50.030.0703_trs_en_cleaned"
          ],
          [
           "Q: Well, you're burning --",
           "RG-50.030.0703_trs_en_cleaned"
          ],
          [
           "Q: Okay.",
           "RG-50.030.0703_trs_en_cleaned"
          ],
          [
           "Q: Heat?",
           "RG-50.030.0703_trs_en_cleaned"
          ],
          [
           "Q: Wait, I don't -- you see, if you're burning wood, it just burns.",
           "RG-50.030.0703_trs_en_cleaned"
          ],
          [
           "Q: No.",
           "RG-50.030.0703_trs_en_cleaned"
          ],
          [
           "Q: Ah, okay, so he's creating something --Interview with Helena Knapcezyk ms May 10, 2013",
           "RG-50.030.0703_trs_en_cleaned"
          ],
          [
           "Q: -- that you can use to -- to heat, in the future. Okay.",
           "RG-50.030.0703_trs_en_cleaned"
          ],
          [
           "Q: I don't know.",
           "RG-50.030.0703_trs_en_cleaned"
          ],
          [
           "Q: Coal mine?",
           "RG-50.030.0703_trs_en_cleaned"
          ],
          [
           "Q: A coal mine.",
           "RG-50.030.0703_trs_en_cleaned"
          ],
          [
           "Q: Gold mine.",
           "RG-50.030.0703_trs_en_cleaned"
          ],
          [
           "Q: Mine.",
           "RG-50.030.0703_trs_en_cleaned"
          ],
          [
           "Q: Yeah, okay. Okay.http://collections.ushmm.org",
           "RG-50.030.0703_trs_en_cleaned"
          ],
          [
           "Q: You're 11 years old.",
           "RG-50.030.0703_trs_en_cleaned"
          ],
          [
           "Q: Twelve.",
           "RG-50.030.0703_trs_en_cleaned"
          ],
          [
           "Q: With a saw.",
           "RG-50.030.0703_trs_en_cleaned"
          ],
          [
           "Q: You were the courier.Interview with Helena Knapcezyk (tm) May 10, 2013",
           "RG-50.030.0703_trs_en_cleaned"
          ],
          [
           "Q: Did that -- did that pritsudatel(ph), the one who was the head of the camp, did he ever give an explanation as to why you were there?",
           "RG-50.030.0703_trs_en_cleaned"
          ],
          [
           "Q: Gold mine.",
           "RG-50.030.0703_trs_en_cleaned"
          ],
          [
           "Q: Yeah.",
           "RG-50.030.0703_trs_en_cleaned"
          ],
          [
           "Q: Washing.",
           "RG-50.030.0703_trs_en_cleaned"
          ],
          [
           "Q: What's a kolkhoz?",
           "RG-50.030.0703_trs_en_cleaned"
          ],
          [
           "Q: Okay.Interview with Helena Knapcezyk ia May 10, 2013",
           "RG-50.030.0703_trs_en_cleaned"
          ],
          [
           "Q: I think in English it's called a collective farm.",
           "RG-50.030.0703_trs_en_cleaned"
          ],
          [
           "Q: Yeah.",
           "RG-50.030.0703_trs_en_cleaned"
          ],
          [
           "Q: The crust.",
           "RG-50.030.0703_trs_en_cleaned"
          ],
          [
           "Q: The crust.",
           "RG-50.030.0703_trs_en_cleaned"
          ],
          [
           "Q: Boat.",
           "RG-50.030.0703_trs_en_cleaned"
          ],
          [
           "Q: The boat.",
           "RG-50.030.0703_trs_en_cleaned"
          ],
          [
           "Q: That poor horse.",
           "RG-50.030.0703_trs_en_cleaned"
          ],
          [
           "Q: Okay.",
           "RG-50.030.0703_trs_en_cleaned"
          ],
          [
           "Q: Do you know why they set you free?ontactrefiranneGaushariarg a hither atrmedortabeattfiexaliaton Interview with Helena Knapcezyk ia May 10, 2013",
           "RG-50.030.0703_trs_en_cleaned"
          ],
          [
           "Q: Did he have money?",
           "RG-50.030.0703_trs_en_cleaned"
          ],
          [
           "Q: You can't go home.",
           "RG-50.030.0703_trs_en_cleaned"
          ],
          [
           "Q: How did he have money?",
           "RG-50.030.0703_trs_en_cleaned"
          ],
          [
           "Q: Ah, so he kept it with him.",
           "RG-50.030.0703_trs_en_cleaned"
          ],
          [
           "Q: Okay.",
           "RG-50.030.0703_trs_en_cleaned"
          ],
          [
           "Q: Samarkand.",
           "RG-50.030.0703_trs_en_cleaned"
          ],
          [
           "Q: And when was this? When did this take place? When wi -- wi--",
           "RG-50.030.0703_trs_en_cleaned"
          ],
          [
           "Q: -- what -- do you remember the month?",
           "RG-50.030.0703_trs_en_cleaned"
          ],
          [
           "Q: And so this was what year?",
           "RG-50.030.0703_trs_en_cleaned"
          ],
          [
           "Q: 1942?",
           "RG-50.030.0703_trs_en_cleaned"
          ],
          [
           "Q: 1941.",
           "RG-50.030.0703_trs_en_cleaned"
          ],
          [
           "Q: Okay.",
           "RG-50.030.0703_trs_en_cleaned"
          ],
          [
           "Q: Okay.Interview with Helena Knapcezyk 6 May 10, 2013",
           "RG-50.030.0703_trs_en_cleaned"
          ],
          [
           "Q: Okay.",
           "RG-50.030.0703_trs_en_cleaned"
          ],
          [
           "Q: Collective farms",
           "RG-50.030.0703_trs_en_cleaned"
          ],
          [
           "Q: Okay.",
           "RG-50.030.0703_trs_en_cleaned"
          ],
          [
           "Q: Okay.",
           "RG-50.030.0703_trs_en_cleaned"
          ],
          [
           "Q: Tell me what it looks like.",
           "RG-50.030.0703_trs_en_cleaned"
          ],
          [
           "Q: Mud?",
           "RG-50.030.0703_trs_en_cleaned"
          ],
          [
           "Q: Okay.",
           "RG-50.030.0703_trs_en_cleaned"
          ],
          [
           "Q: Okay.Interview with Helena Knapcezyk * May 10, 2013",
           "RG-50.030.0703_trs_en_cleaned"
          ],
          [
           "Q: Did you understand Russian?",
           "RG-50.030.0703_trs_en_cleaned"
          ],
          [
           "Q: How did you learn it?",
           "RG-50.030.0703_trs_en_cleaned"
          ],
          [
           "Q: Well, you see --",
           "RG-50.030.0703_trs_en_cleaned"
          ],
          [
           "Q: Oh, I see. So when you were --",
           "RG-50.030.0703_trs_en_cleaned"
          ],
          [
           "Q: Okay.",
           "RG-50.030.0703_trs_en_cleaned"
          ],
          [
           "Q: Where?",
           "RG-50.030.0703_trs_en_cleaned"
          ],
          [
           "Q: Ah, that teacher who had been -- yeah, yeah, yeah.",
           "RG-50.030.0703_trs_en_cleaned"
          ],
          [
           "Q: Okay.",
           "RG-50.030.0703_trs_en_cleaned"
          ],
          [
           "Q: Okay.",
           "RG-50.030.0703_trs_en_cleaned"
          ],
          [
           "Q: I see.",
           "RG-50.030.0703_trs_en_cleaned"
          ],
          [
           "Q: Skeletons, yeah.",
           "RG-50.030.0703_trs_en_cleaned"
          ],
          [
           "Q: Say it in Polish.",
           "RG-50.030.0703_trs_en_cleaned"
          ],
          [
           "Q: Flu.",
           "RG-50.030.0703_trs_en_cleaned"
          ],
          [
           "Q: Influenza.",
           "RG-50.030.0703_trs_en_cleaned"
          ],
          [
           "Q: Okay.",
           "RG-50.030.0703_trs_en_cleaned"
          ],
          [
           "Q: Sisters.Interview with Helena Knapcezyk * May 10, 2013",
           "RG-50.030.0703_trs_en_cleaned"
          ],
          [
           "Q: Collective farm",
           "RG-50.030.0703_trs_en_cleaned"
          ],
          [
           "Q: Right.",
           "RG-50.030.0703_trs_en_cleaned"
          ],
          [
           "Q: Knapsack, yeah.",
           "RG-50.030.0703_trs_en_cleaned"
          ],
          [
           "Q: The what? The terminal?",
           "RG-50.030.0703_trs_en_cleaned"
          ],
          [
           "Q: Kermine?",
           "RG-50.030.0703_trs_en_cleaned"
          ],
          [
           "Q: Okay, okay.",
           "RG-50.030.0703_trs_en_cleaned"
          ],
          [
           "Q: How do you say it in Russian?",
           "RG-50.030.0703_trs_en_cleaned"
          ],
          [
           "Q: Okay.",
           "RG-50.030.0703_trs_en_cleaned"
          ],
          [
           "Q: Ah, o-okay, it was a -- it was something on wheels?",
           "RG-50.030.0703_trs_en_cleaned"
          ],
          [
           "Q: Okay.",
           "RG-50.030.0703_trs_en_cleaned"
          ],
          [
           "Q: Uh-huh, the camel.",
           "RG-50.030.0703_trs_en_cleaned"
          ],
          [
           "Q: The camel pulls it.",
           "RG-50.030.0703_trs_en_cleaned"
          ],
          [
           "Q: Okay.",
           "RG-50.030.0703_trs_en_cleaned"
          ],
          [
           "Q: I've never seen it.",
           "RG-50.030.0703_trs_en_cleaned"
          ],
          [
           "Q: I can't picture it in my mind. But any rate, it's something that you either sit in, or that you put your things in?",
           "RG-50.030.0703_trs_en_cleaned"
          ],
          [
           "Q: Got it.",
           "RG-50.030.0703_trs_en_cleaned"
          ],
          [
           "Q: Yeah.",
           "RG-50.030.0703_trs_en_cleaned"
          ],
          [
           "Q: I see.",
           "RG-50.030.0703_trs_en_cleaned"
          ],
          [
           "Q: What happened with your younger brother?",
           "RG-50.030.0703_trs_en_cleaned"
          ],
          [
           "Q: That's the older brother. When --",
           "RG-50.030.0703_trs_en_cleaned"
          ],
          [
           "Q: Right.",
           "RG-50.030.0703_trs_en_cleaned"
          ],
          [
           "Q: You never --",
           "RG-50.030.0703_trs_en_cleaned"
          ],
          [
           "Q: Yeah.Interview with Helena Knapcezyk \" May 10, 2013",
           "RG-50.030.0703_trs_en_cleaned"
          ],
          [
           "Q: It's okay, it's difficult to --",
           "RG-50.030.0703_trs_en_cleaned"
          ],
          [
           "Q: E-Excuse me. Is this a person who actually knew this?",
           "RG-50.030.0703_trs_en_cleaned"
          ],
          [
           "Q: Got it. Okay.",
           "RG-50.030.0703_trs_en_cleaned"
          ],
          [
           "Q: Got it.",
           "RG-50.030.0703_trs_en_cleaned"
          ],
          [
           "Q: He could -- he couldn't vouch.",
           "RG-50.030.0703_trs_en_cleaned"
          ],
          [
           "Q: He couldn't vouch for her.",
           "RG-50.030.0703_trs_en_cleaned"
          ],
          [
           "Q: She rolls down.",
           "RG-50.030.0703_trs_en_cleaned"
          ],
          [
           "Q: Okay.",
           "RG-50.030.0703_trs_en_cleaned"
          ],
          [
           "Q: On the platform?102 Interview with Helena Knapcezyk May 10, 2013",
           "RG-50.030.0703_trs_en_cleaned"
          ],
          [
           "Q: Transport.",
           "RG-50.030.0703_trs_en_cleaned"
          ],
          [
           "Q: Who were -- who -- who were -- who was they? Was that the British authorities?",
           "RG-50.030.0703_trs_en_cleaned"
          ],
          [
           "Q: I see.",
           "RG-50.030.0703_trs_en_cleaned"
          ],
          [
           "Q: Yeah, yeah, yeah.",
           "RG-50.030.0703_trs_en_cleaned"
          ],
          [
           "Q: Okay, I have to -- I have to interrupt here for a second, because I want to find out, very briefly, what happened to various family members. Because you have such a large family, and now, by the time you're telling me this part of the story, so many of them aren't there any more.104 Interview with Helena Knapcezyk May 10, 2013",
           "RG-50.030.0703_trs_en_cleaned"
          ],
          [
           "Q: So I want to go back --",
           "RG-50.030.0703_trs_en_cleaned"
          ],
          [
           "Q: -- and I will repeat what I think you've told me.",
           "RG-50.030.0703_trs_en_cleaned"
          ],
          [
           "Q: So, your younger brother escaped, and he never went -- was deported to Siberia, he was somebody who ran to Romania and joined the Polish army.",
           "RG-50.030.0703_trs_en_cleaned"
          ],
          [
           "Q: The second brother. And he ended up in England.",
           "RG-50.030.0703_trs_en_cleaned"
          ],
          [
           "Q: But you didn't know that then.",
           "RG-50.030.0703_trs_en_cleaned"
          ],
          [
           "Q: Your oldest brother, when your mother told him to run --",
           "RG-50.030.0703_trs_en_cleaned"
          ],
          [
           "Q: -- did not. Came with you --",
           "RG-50.030.0703_trs_en_cleaned"
          ],
          [
           "Q: -- was there at the camp, and couldn't fit on the boat --",
           "RG-50.030.0703_trs_en_cleaned"
          ],
          [
           "Q: -- to come with you.ontectnetonancedjusetneey for tarher biormatoerabouttfisestecion Interview with Helena Knapcezyk \" May 10, 2013",
           "RG-50.030.0703_trs_en_cleaned"
          ],
          [
           "Q: And so he was going to come later, and you never heard from him again.",
           "RG-50.030.0703_trs_en_cleaned"
          ],
          [
           "Q: Okay. So that leaves six children --",
           "RG-50.030.0703_trs_en_cleaned"
          ],
          [
           "Q: -- and your parents.",
           "RG-50.030.0703_trs_en_cleaned"
          ],
          [
           "Q: All right. So you come to Samarkand and you're so hungry, you can't feed them all. So two girls are in the orphanage.",
           "RG-50.030.0703_trs_en_cleaned"
          ],
          [
           "Q: Okay. And you -- they're the youngest two?",
           "RG-50.030.0703_trs_en_cleaned"
          ],
          [
           "Q: Okay.",
           "RG-50.030.0703_trs_en_cleaned"
          ],
          [
           "Q: Okay, wait a minute now, no, I'm still --",
           "RG-50.030.0703_trs_en_cleaned"
          ],
          [
           "Q: [indecipherable] it's still -- so there's six girls, and two parents, eight people.",
           "RG-50.030.0703_trs_en_cleaned"
          ],
          [
           "Q: Two are in the orphanage.",
           "RG-50.030.0703_trs_en_cleaned"
          ],
          [
           "Q: So that makes six people.",
           "RG-50.030.0703_trs_en_cleaned"
          ],
          [
           "Q: Then that's four girls.",
           "RG-50.030.0703_trs_en_cleaned"
          ],
          [
           "Q: And two of those four girls are sick.",
           "RG-50.030.0703_trs_en_cleaned"
          ],
          [
           "Q: Oh, she was married?",
           "RG-50.030.0703_trs_en_cleaned"
          ],
          [
           "Q: She was married.",
           "RG-50.030.0703_trs_en_cleaned"
          ],
          [
           "Q: And she was in another kolkhoz. And --",
           "RG-50.030.0703_trs_en_cleaned"
          ],
          [
           "Q: Yeah?",
           "RG-50.030.0703_trs_en_cleaned"
          ],
          [
           "Q: In the kolkhoz.",
           "RG-50.030.0703_trs_en_cleaned"
          ],
          [
           "Q: Okay.Interview with Helena Knapezyk m7 May 10, 2013",
           "RG-50.030.0703_trs_en_cleaned"
          ],
          [
           "Q: Right.",
           "RG-50.030.0703_trs_en_cleaned"
          ],
          [
           "Q: Okay.",
           "RG-50.030.0703_trs_en_cleaned"
          ],
          [
           "Q: And these two.",
           "RG-50.030.0703_trs_en_cleaned"
          ],
          [
           "Q: Yeah.",
           "RG-50.030.0703_trs_en_cleaned"
          ],
          [
           "Q: So we have six, but two of them are left in the orphanage.",
           "RG-50.030.0703_trs_en_cleaned"
          ],
          [
           "Q: Yes, they're left in the orphanage, so --",
           "RG-50.030.0703_trs_en_cleaned"
          ],
          [
           "Q: Okay, got it.",
           "RG-50.030.0703_trs_en_cleaned"
          ],
          [
           "Q: Right. And so there are three girls left.Interview with Helena Knapcezyk ee May 10, 2013",
           "RG-50.030.0703_trs_en_cleaned"
          ],
          [
           "Q: That's where I get confused.",
           "RG-50.030.0703_trs_en_cleaned"
          ],
          [
           "Q: That's where I get confused.",
           "RG-50.030.0703_trs_en_cleaned"
          ],
          [
           "Q: Maria, and you are together with your father?",
           "RG-50.030.0703_trs_en_cleaned"
          ],
          [
           "Q: Uh-huh, okay, got it.",
           "RG-50.030.0703_trs_en_cleaned"
          ],
          [
           "Q: Got it.",
           "RG-50.030.0703_trs_en_cleaned"
          ],
          [
           "Q: Got it, got it.",
           "RG-50.030.0703_trs_en_cleaned"
          ],
          [
           "Q: Now I understand.",
           "RG-50.030.0703_trs_en_cleaned"
          ],
          [
           "Q: Got it, okay.",
           "RG-50.030.0703_trs_en_cleaned"
          ],
          [
           "Q: Right.",
           "RG-50.030.0703_trs_en_cleaned"
          ],
          [
           "Q: Caspian Sea, mm-hm.",
           "RG-50.030.0703_trs_en_cleaned"
          ],
          [
           "Q: Right.",
           "RG-50.030.0703_trs_en_cleaned"
          ],
          [
           "Q: And what about the sick sister?",
           "RG-50.030.0703_trs_en_cleaned"
          ],
          [
           "Q: You mean, she was left there?",
           "RG-50.030.0703_trs_en_cleaned"
          ],
          [
           "Q: And where is Pahlevi, what --",
           "RG-50.030.0703_trs_en_cleaned"
          ],
          [
           "Q: It's in India?",
           "RG-50.030.0703_trs_en_cleaned"
          ],
          [
           "Q: Okay.",
           "RG-50.030.0703_trs_en_cleaned"
          ],
          [
           "Q: That's right, Caspian Sea.",
           "RG-50.030.0703_trs_en_cleaned"
          ],
          [
           "Q: Okay. I want to interrupt right now. How is it that your mother didn't take the two little girls in the orphanage with her?",
           "RG-50.030.0703_trs_en_cleaned"
          ],
          [
           "Q: Why not stop and just take them with you?",
           "RG-50.030.0703_trs_en_cleaned"
          ],
          [
           "Q: Why?",
           "RG-50.030.0703_trs_en_cleaned"
          ],
          [
           "Q: Right.",
           "RG-50.030.0703_trs_en_cleaned"
          ],
          [
           "Q: Bring them.",
           "RG-50.030.0703_trs_en_cleaned"
          ],
          [
           "Q: Yeah.",
           "RG-50.030.0703_trs_en_cleaned"
          ],
          [
           "Q: So there was no adult with you?",
           "RG-50.030.0703_trs_en_cleaned"
          ],
          [
           "Q: No adult?",
           "RG-50.030.0703_trs_en_cleaned"
          ],
          [
           "Q: Wait, excuse me again. When you say only her, and you're waiting for her, that means there was no adult with you --",
           "RG-50.030.0703_trs_en_cleaned"
          ],
          [
           "Q: -- for those children? Was only --",
           "RG-50.030.0703_trs_en_cleaned"
          ],
          [
           "Q: That is, only the children themselves were there.",
           "RG-50.030.0703_trs_en_cleaned"
          ],
          [
           "Q: Yeah.",
           "RG-50.030.0703_trs_en_cleaned"
          ],
          [
           "Q: Right. Right.",
           "RG-50.030.0703_trs_en_cleaned"
          ],
          [
           "Q: And she's not coming back.",
           "RG-50.030.0703_trs_en_cleaned"
          ],
          [
           "Q: Right.",
           "RG-50.030.0703_trs_en_cleaned"
          ],
          [
           "Q: What language did you speak?",
           "RG-50.030.0703_trs_en_cleaned"
          ],
          [
           "Q: Oh, so --",
           "RG-50.030.0703_trs_en_cleaned"
          ],
          [
           "Q: So, was this a camp, or a city?",
           "RG-50.030.0703_trs_en_cleaned"
          ],
          [
           "Q: Okay. So you --",
           "RG-50.030.0703_trs_en_cleaned"
          ],
          [
           "Q: Okay, so you were --",
           "RG-50.030.0703_trs_en_cleaned"
          ],
          [
           "Q: Got it.",
           "RG-50.030.0703_trs_en_cleaned"
          ],
          [
           "Q: We got it.",
           "RG-50.030.0703_trs_en_cleaned"
          ],
          [
           "Q: Okay, okay.Interview with Helena Knapcezyk ue May 10, 2013",
           "RG-50.030.0703_trs_en_cleaned"
          ],
          [
           "Q: Okay.",
           "RG-50.030.0703_trs_en_cleaned"
          ],
          [
           "Q: This is the first one, the one who left you?",
           "RG-50.030.0703_trs_en_cleaned"
          ],
          [
           "Q: The second one.",
           "RG-50.030.0703_trs_en_cleaned"
          ],
          [
           "Q: Right.",
           "RG-50.030.0703_trs_en_cleaned"
          ],
          [
           "Q: Okay.",
           "RG-50.030.0703_trs_en_cleaned"
          ],
          [
           "Q: So, she took the money that was supposed to go to the children?",
           "RG-50.030.0703_trs_en_cleaned"
          ],
          [
           "Q: Africa.",
           "RG-50.030.0703_trs_en_cleaned"
          ],
          [
           "Q: Uh-huh.",
           "RG-50.030.0703_trs_en_cleaned"
          ],
          [
           "Q: That's right.",
           "RG-50.030.0703_trs_en_cleaned"
          ],
          [
           "Q: And what happened with your father and your other sister?",
           "RG-50.030.0703_trs_en_cleaned"
          ],
          [
           "Q: Chaos.",
           "RG-50.030.0703_trs_en_cleaned"
          ],
          [
           "Q: Orphanage lady, yeah.",
           "RG-50.030.0703_trs_en_cleaned"
          ],
          [
           "Q: Near Teheran.",
           "RG-50.030.0703_trs_en_cleaned"
          ],
          [
           "Q: Parlevy(ph)? Parlevy(ph)?",
           "RG-50.030.0703_trs_en_cleaned"
          ],
          [
           "Q: What's Tengeru?",
           "RG-50.030.0703_trs_en_cleaned"
          ],
          [
           "Q: Tanzania, okay.",
           "RG-50.030.0703_trs_en_cleaned"
          ],
          [
           "Q: Okay.",
           "RG-50.030.0703_trs_en_cleaned"
          ],
          [
           "Q: Do you remember her name?",
           "RG-50.030.0703_trs_en_cleaned"
          ],
          [
           "Q: Eugenia(ph) Groszetcka(ph).",
           "RG-50.030.0703_trs_en_cleaned"
          ],
          [
           "Q: Tropical sickness -- sickness, yeah.",
           "RG-50.030.0703_trs_en_cleaned"
          ],
          [
           "Q: You mean from your colony?",
           "RG-50.030.0703_trs_en_cleaned"
          ],
          [
           "Q: No.",
           "RG-50.030.0703_trs_en_cleaned"
          ],
          [
           "Q: She stole the money -- she came and she taught Polish in your class?",
           "RG-50.030.0703_trs_en_cleaned"
          ],
          [
           "Q: Was she a good teacher?",
           "RG-50.030.0703_trs_en_cleaned"
          ],
          [
           "Q: F?126 Interview with Helena Knapcezyk May 10, 2013",
           "RG-50.030.0703_trs_en_cleaned"
          ],
          [
           "Q: Yeah.",
           "RG-50.030.0703_trs_en_cleaned"
          ],
          [
           "Q: Yeah.",
           "RG-50.030.0703_trs_en_cleaned"
          ],
          [
           "Q: So, where -- where did your f-- when did your father appear?",
           "RG-50.030.0703_trs_en_cleaned"
          ],
          [
           "Q: And that was you and your two other sisters?",
           "RG-50.030.0703_trs_en_cleaned"
          ],
          [
           "Q: Okay.ontactrefiranneGaushariarg a hither atrmedortabeattfiexaliaton",
           "RG-50.030.0703_trs_en_cleaned"
          ],
          [
           "Q: Well, I want to find out; do you remember what it -- where you were when you learned that the war is over?",
           "RG-50.030.0703_trs_en_cleaned"
          ],
          [
           "Q: Okay.",
           "RG-50.030.0703_trs_en_cleaned"
          ],
          [
           "Q: Okay.",
           "RG-50.030.0703_trs_en_cleaned"
          ],
          [
           "Q: So where was your father?",
           "RG-50.030.0703_trs_en_cleaned"
          ],
          [
           "Q: Earlier.",
           "RG-50.030.0703_trs_en_cleaned"
          ],
          [
           "Q: Yeah.Interview with Helena Knapcezyk \" May 10, 2013",
           "RG-50.030.0703_trs_en_cleaned"
          ],
          [
           "Q: And what -- what year was this? What year was this?",
           "RG-50.030.0703_trs_en_cleaned"
          ],
          [
           "Q: Fifty-one.",
           "RG-50.030.0703_trs_en_cleaned"
          ],
          [
           "Q: Did he change after you left your mother? Is this what happened?",
           "RG-50.030.0703_trs_en_cleaned"
          ],
          [
           "Q: So, what -- your family left four people in Russia, in the Soviet Union. Your brother who disappeared, he was supposed to --",
           "RG-50.030.0703_trs_en_cleaned"
          ],
          [
           "Q: -- in the army. Your mother.",
           "RG-50.030.0703_trs_en_cleaned"
          ],
          [
           "Q: And then the sister who married, who was in the kolkhoz.",
           "RG-50.030.0703_trs_en_cleaned"
          ],
          [
           "Q: Okay.",
           "RG-50.030.0703_trs_en_cleaned"
          ],
          [
           "Q: You left three.",
           "RG-50.030.0703_trs_en_cleaned"
          ],
          [
           "Q: Okay.",
           "RG-50.030.0703_trs_en_cleaned"
          ],
          [
           "Q: He found you.",
           "RG-50.030.0703_trs_en_cleaned"
          ],
          [
           "Q: I see. And --",
           "RG-50.030.0703_trs_en_cleaned"
          ],
          [
           "Q: Air forceontectnetonancedjusetneey for tarher biormatoerabouttfisestecion Interview with Helena Knapcezyk \" May 10, 2013",
           "RG-50.030.0703_trs_en_cleaned"
          ],
          [
           "Q: And he was in the air force as well?",
           "RG-50.030.0703_trs_en_cleaned"
          ],
          [
           "Q: He was an a -- he was a policeman.",
           "RG-50.030.0703_trs_en_cleaned"
          ],
          [
           "Q: He was an army policeman.",
           "RG-50.030.0703_trs_en_cleaned"
          ],
          [
           "Q: Okay.",
           "RG-50.030.0703_trs_en_cleaned"
          ],
          [
           "Q: So, he was in the British army?",
           "RG-50.030.0703_trs_en_cleaned"
          ],
          [
           "Q: Oh.",
           "RG-50.030.0703_trs_en_cleaned"
          ],
          [
           "Q: I thought that the Poles worked with the Britains -- with -- with the British.",
           "RG-50.030.0703_trs_en_cleaned"
          ],
          [
           "Q: British.",
           "RG-50.030.0703_trs_en_cleaned"
          ],
          [
           "Q: No?ontectnetonancedjusetneey for tarher biormatoerabouttfisestecion",
           "RG-50.030.0703_trs_en_cleaned"
          ],
          [
           "Q: That's right, that's right. But I mean, under the British --",
           "RG-50.030.0703_trs_en_cleaned"
          ],
          [
           "Q: [indecipherable] yeah.",
           "RG-50.030.0703_trs_en_cleaned"
          ],
          [
           "Q: Yeah. That's what I --",
           "RG-50.030.0703_trs_en_cleaned"
          ],
          [
           "Q: Under the British.",
           "RG-50.030.0703_trs_en_cleaned"
          ],
          [
           "Q: Yeah, okay.",
           "RG-50.030.0703_trs_en_cleaned"
          ],
          [
           "Q: I see.",
           "RG-50.030.0703_trs_en_cleaned"
          ],
          [
           "Q: Yeah.",
           "RG-50.030.0703_trs_en_cleaned"
          ],
          [
           "Q: Yeah.",
           "RG-50.030.0703_trs_en_cleaned"
          ],
          [
           "Q: Yeah.",
           "RG-50.030.0703_trs_en_cleaned"
          ],
          [
           "Q: And you met -- you met your husband in England?",
           "RG-50.030.0703_trs_en_cleaned"
          ],
          [
           "Q: And you were -- got married?Interview with Helena Knapcezyk \"e May 10, 2013",
           "RG-50.030.0703_trs_en_cleaned"
          ],
          [
           "Q: Okay.",
           "RG-50.030.0703_trs_en_cleaned"
          ],
          [
           "Q: We'll talk with him about his experience.",
           "RG-50.030.0703_trs_en_cleaned"
          ],
          [
           "Q: But, when you met in England, did you marry soon? How long did you --",
           "RG-50.030.0703_trs_en_cleaned"
          ],
          [
           "Q: Okay.",
           "RG-50.030.0703_trs_en_cleaned"
          ],
          [
           "Q: This is which camp?",
           "RG-50.030.0703_trs_en_cleaned"
          ],
          [
           "Q: Yeah.",
           "RG-50.030.0703_trs_en_cleaned"
          ],
          [
           "Q: In Cornwall.",
           "RG-50.030.0703_trs_en_cleaned"
          ],
          [
           "Q: Is that where the camp was?",
           "RG-50.030.0703_trs_en_cleaned"
          ],
          [
           "Q: Okay.",
           "RG-50.030.0703_trs_en_cleaned"
          ],
          [
           "Q: What was the name of the camp? Do you remember?",
           "RG-50.030.0703_trs_en_cleaned"
          ],
          [
           "Q: No, no, no, Cornwall's the place.",
           "RG-50.030.0703_trs_en_cleaned"
          ],
          [
           "Q: You don't remember. Okay.",
           "RG-50.030.0703_trs_en_cleaned"
          ],
          [
           "Q: Okay.",
           "RG-50.030.0703_trs_en_cleaned"
          ],
          [
           "Q: Okay.",
           "RG-50.030.0703_trs_en_cleaned"
          ],
          [
           "Q: Yeah.",
           "RG-50.030.0703_trs_en_cleaned"
          ],
          [
           "Q: Congratulations. Congratulations. That's -- that's quite a while.",
           "RG-50.030.0703_trs_en_cleaned"
          ],
          [
           "Q: Yeah.",
           "RG-50.030.0703_trs_en_cleaned"
          ],
          [
           "Q: How long did you live in England?",
           "RG-50.030.0703_trs_en_cleaned"
          ],
          [
           "Q: That's quite a while.",
           "RG-50.030.0703_trs_en_cleaned"
          ],
          [
           "Q: So you arrived when? You arrived which year?",
           "RG-50.030.0703_trs_en_cleaned"
          ],
          [
           "Q: Uh-huh. And then you came here to the United States.",
           "RG-50.030.0703_trs_en_cleaned"
          ],
          [
           "Q: Okay. Well, I think we've come close to the end of the interview. I'd like to ask you, from all of those things that you went through, that you experienced, what would you want people to know and understand about all that? What would you want them to try and fathom?",
           "RG-50.030.0703_trs_en_cleaned"
          ],
          [
           "Q: Siberia.",
           "RG-50.030.0703_trs_en_cleaned"
          ]
         ],
         "hovertemplate": "<b>Question:</b> %{customdata[0]}<br><b>RG Number:</b> %{customdata[1]}<extra></extra>",
         "legendgroup": "RG-50.030.0703_trs_en_cleaned",
         "marker": {
          "color": "#FFA15A",
          "symbol": "circle"
         },
         "mode": "markers",
         "name": "RG-50.030.0703_trs_en_cleaned",
         "showlegend": true,
         "type": "scattergl",
         "x": [
          5.4910707,
          6.3747225,
          5.6073084,
          8.527883,
          6.600069,
          4.061421,
          4.373621,
          6.0863314,
          7.765657,
          -0.18126862,
          5.075922,
          -10.481386,
          3.5563712,
          2.9496942,
          2.3998146,
          7.841445,
          7.735563,
          6.563729,
          6.5259833,
          4.8004866,
          5.762683,
          7.933983,
          4.248567,
          6.024727,
          18.263443,
          18.57291,
          18.247814,
          18.731585,
          5.6972795,
          5.763483,
          2.5941947,
          5.220386,
          5.763999,
          3.8827808,
          4.387824,
          -10.421498,
          5.898711,
          6.2538857,
          1.6668562,
          7.6865644,
          2.0866838,
          0.72750926,
          4.933209,
          4.8800316,
          -10.406015,
          4.31464,
          4.086508,
          -2.5916646,
          -4.367904,
          -4.5630364,
          4.024809,
          -10.590698,
          4.7396197,
          4.8035064,
          0.07825118,
          1.3804529,
          -1.5408732,
          5.941886,
          1.1342859,
          4.5036716,
          4.0408154,
          4.1973243,
          3.2852569,
          -3.7123113,
          0.9360524,
          -0.15623952,
          1.5334508,
          -1.138725,
          1.2675718,
          0.85590965,
          6.6495495,
          0.48506844,
          2.976375,
          2.799935,
          3.0518823,
          -1.4381098,
          -2.9960985,
          2.9075284,
          -0.8810196,
          6.4947968,
          3.515747,
          5.272913,
          6.091854,
          6.5806313,
          5.789642,
          5.9293327,
          5.6346955,
          6.097709,
          7.48526,
          -10.506889,
          5.317597,
          -10.243572,
          -0.28995097,
          4.3201523,
          4.461659,
          4.349593,
          4.145542,
          -10.441862,
          1.7487863,
          3.661463,
          -0.46324474,
          -0.23162952,
          3.7333992,
          3.0737526,
          3.4092402,
          -10.534734,
          2.9900515,
          6.678842,
          -10.440223,
          3.7171085,
          -10.441913,
          3.6587603,
          0.28229567,
          4.397842,
          3.459746,
          -10.309737,
          4.196918,
          -0.28209898,
          2.433972,
          7.735698,
          1.3557736,
          -1.2731028,
          3.1301632,
          3.6927068,
          -10.577142,
          3.8246918,
          3.862236,
          3.4806125,
          -10.636982,
          -0.22008538,
          -1.5071027,
          3.0607674,
          8.045924,
          3.7063608,
          -10.515619,
          -10.795179,
          -10.445556,
          1.8005195,
          1.6679084,
          8.612408,
          -0.37311393,
          4.8201933,
          1.2050387,
          5.812368,
          3.239312,
          8.729655,
          3.934591,
          -10.615898,
          2.084628,
          1.3739043,
          -10.673572,
          7.6347256,
          3.3861156,
          5.7539024,
          18.650728,
          6.2679133,
          1.8610048,
          -1.1730431,
          18.464067,
          2.2736456,
          1.7460155,
          1.5691057,
          6.8596926,
          1.0290705,
          -2.0241103,
          18.493746,
          7.3194227,
          3.6228878,
          -0.009779736,
          2.3284707,
          -10.848319,
          1.3305839,
          8.200225,
          3.2358918,
          0.67720354,
          1.7391667,
          -2.316487,
          -10.376847,
          5.5644565,
          3.1109626,
          -10.722441,
          -0.32781163,
          5.7559023,
          5.8742514,
          8.169156,
          3.8732498,
          -10.537153,
          -10.511976,
          -10.55541,
          8.790402,
          1.1829445,
          -0.6484207,
          6.5236497,
          8.223528,
          -10.712498,
          -10.41672,
          8.162499,
          7.862252,
          8.31148,
          0.22266027,
          3.4994657,
          3.485768,
          8.28955,
          7.8257985,
          -10.778094,
          7.9566455,
          4.4451385,
          2.00678,
          3.4918046,
          8.008551,
          2.553923,
          2.5913188,
          3.3256476,
          -1.4597462,
          7.414278,
          5.6239076,
          7.5139585,
          -10.620688,
          3.6493928,
          3.655313,
          0.22228773,
          3.2226455,
          7.633536,
          4.2452445,
          6.194464,
          -2.175563,
          1.5435239,
          3.5657053,
          3.8388598,
          1.157147,
          4.454145,
          0.78536195,
          5.6267796,
          7.385318,
          4.605001,
          4.241349,
          5.644568,
          5.3972907,
          -9.044321,
          -10.592366,
          -10.520562,
          6.1122203,
          4.2370224,
          1.0026368,
          1.0192143,
          1.3200423,
          1.2173172,
          -0.18696068,
          4.4881005,
          -1.8740478,
          6.5855,
          5.6360726,
          3.1836982,
          -10.648297,
          6.7306733,
          6.1434383,
          3.0597508,
          6.5419197,
          3.539584,
          -10.738125,
          2.4232512,
          0.547914,
          -3.5989265,
          8.438343,
          5.105904,
          5.160172,
          6.09397,
          -9.337301,
          -9.139147,
          7.967273,
          8.37865,
          6.4722466,
          6.43143,
          -1.6964077,
          6.3276973,
          -10.412339,
          4.8383374,
          1.4207872,
          0.39185128,
          4.240716,
          5.3568015,
          3.4296556,
          -1.836634,
          3.0508392,
          5.3532696,
          0.44163552,
          1.6132627,
          1.5307283,
          0.7861552,
          0.6678015,
          3.2843187,
          -10.940531,
          3.6260066,
          3.212613,
          7.6774592,
          6.7902303,
          7.4463634,
          3.6607225,
          3.1273406,
          2.500131,
          2.2188225,
          15.085318,
          15.003248,
          -2.4138668,
          -2.3196552,
          -0.108071916,
          6.3164825,
          2.73282,
          3.0988002,
          4.9107094,
          1.3409544,
          -10.431965,
          5.0207357,
          2.3898177,
          3.3220377,
          -10.786545,
          -0.74603295,
          18.371908,
          -10.626563,
          4.49557,
          0.3670879,
          2.682566,
          2.864974,
          2.7185168,
          7.394413,
          7.763816,
          -2.3696039,
          -2.3304343,
          -2.30747,
          -2.3074255,
          -2.2496858,
          3.4328067,
          -2.4333029,
          7.501222,
          -10.553647,
          7.1927295,
          7.426555,
          -1.249225,
          8.051283,
          7.2847576,
          -2.974455,
          4.3363624,
          4.123453,
          4.4961824,
          4.6670337,
          17.061111,
          3.981638,
          2.953339,
          1.8751765,
          8.452943,
          3.9401512,
          4.484758,
          18.772217,
          1.496369,
          2.3341887,
          8.2118635,
          4.19815,
          18.61009,
          1.8769274,
          1.9697367,
          3.9523165,
          3.7770784,
          3.6230855,
          -10.897353,
          3.3104331,
          2.8496644,
          1.9587308,
          2.8947291,
          1.1508247,
          -10.529832,
          5.4488463,
          4.465593,
          0.5377724,
          4.618689,
          5.075205,
          5.1146994,
          -10.754761,
          8.083019,
          -10.70289,
          4.115625,
          -10.804462,
          -10.601204,
          0.10908057,
          3.008782,
          -10.853852,
          8.201973,
          6.9351525,
          0.73429435,
          -1.5631336,
          -0.53747493,
          -10.689366,
          3.669581,
          3.353693,
          -11.0320015,
          -10.783341,
          3.525817,
          2.8782434,
          7.73357,
          6.830134,
          6.8680844,
          -10.856099,
          8.557183,
          4.2028275,
          -9.504437,
          2.0324392,
          0.74413335,
          5.460652,
          -2.2705967,
          7.2973723,
          -11.158055,
          0.47017798,
          -11.016028,
          3.469031,
          3.673502,
          -10.8014345,
          0.44154194,
          1.3372083,
          14.964966,
          18.593117,
          3.7047567,
          6.908923,
          6.6849713,
          -8.963512,
          -0.65272295,
          8.577169,
          -1.7459173,
          -0.35935935,
          14.444131,
          15.043266,
          0.70946676,
          0.92157835,
          0.7143324,
          -10.912966,
          8.492062,
          4.3123755,
          3.6321785,
          3.5024083,
          -0.23943394,
          8.249879,
          -1.448897,
          -1.6105039,
          5.7897606,
          7.3320355,
          -0.7046118,
          6.9039617,
          -0.21246521,
          3.6825132,
          4.030052,
          1.4634553,
          4.5744576,
          5.4052935,
          5.566918,
          4.7705255,
          -10.960715,
          -1.8313655,
          0.683336,
          5.5478864,
          3.3162973,
          3.7568047,
          4.575626,
          1.552888,
          1.6711924,
          2.0092,
          0.9720206,
          2.2181938,
          8.1129265,
          -9.316248,
          -10.929269,
          0.4938302,
          18.612406,
          5.300158,
          5.6290565,
          14.32698,
          8.642512,
          -2.3690405,
          -2.6088083,
          2.0464332,
          14.362303,
          15.089208,
          14.94459,
          -2.8077102,
          14.419834,
          -9.330388,
          4.574811,
          -9.456325,
          6.207182,
          1.1706299,
          2.3331585,
          3.9622333,
          -11.027482,
          4.6166162,
          5.364637,
          0.4223292,
          0.66948706,
          -9.57813,
          1.2690163,
          18.698555,
          4.2399397,
          3.919187,
          3.9274657,
          4.343371,
          4.526529,
          18.804777,
          -6.341968,
          1.0448071,
          -9.42945,
          5.620708,
          -2.2909548,
          3.9314103,
          -1.9458874,
          -0.5360984,
          15.080167,
          14.94462,
          7.955884,
          -11.035422,
          1.4452372,
          0.89738625,
          -9.306465,
          -10.878229,
          4.437043,
          4.905711,
          -2.1561334,
          -4.4025435,
          6.488489,
          0.47663814,
          5.6218505,
          3.948478,
          5.4138465,
          4.3534,
          4.773005,
          -10.998072,
          0.58413076,
          5.446568,
          6.8563766,
          7.8200145,
          -1.313644,
          7.359387,
          3.365454,
          8.354739,
          18.5337,
          18.722475,
          5.2097025,
          6.556038,
          2.8632748,
          5.450365,
          -10.976701,
          -10.965853,
          5.2931433,
          0.88013935,
          8.4759,
          4.573535,
          1.7372892,
          5.997224,
          6.0399275,
          5.941385,
          2.1891987,
          -10.858733,
          1.9505703,
          -11.084358,
          0.73761433,
          -1.774804,
          4.061529,
          4.4904866,
          2.8304124,
          3.6148872,
          -11.230783,
          4.1060247,
          3.4948015,
          4.169515,
          4.710083,
          4.0234213,
          4.4075227,
          0.47917193,
          -2.22652,
          4.591369,
          -2.1087277,
          3.6835525,
          18.635715,
          18.492558,
          18.663996,
          2.4564195,
          8.658638,
          -11.02185,
          -1.7772884,
          2.9270864,
          -11.204904,
          3.7804303,
          18.221197,
          4.4481096,
          3.779695,
          -11.02662,
          3.7699394,
          4.547641,
          -0.5077968,
          -11.0756,
          -11.113016,
          18.837788,
          3.8732772,
          18.352367,
          3.5103896,
          0.74441206,
          4.502253,
          5.1262136,
          6.7293196,
          5.8575215
         ],
         "xaxis": "x",
         "y": [
          -2.3336883,
          4.773631,
          6.265148,
          1.8382767,
          0.4358718,
          2.7961242,
          2.9268544,
          3.5976238,
          4.1676345,
          5.427175,
          4.462509,
          -1.4066863,
          4.297919,
          3.4473705,
          4.686782,
          4.066098,
          -0.28933272,
          0.3232515,
          0.018742433,
          4.3642163,
          0.30854353,
          4.1457844,
          4.006275,
          3.3531768,
          9.681846,
          9.576348,
          9.473047,
          9.431256,
          6.8599844,
          6.6561356,
          0.3807046,
          0.23923722,
          -0.1816318,
          0.18127556,
          4.8801594,
          -1.3850905,
          6.615245,
          6.5892043,
          4.7467337,
          4.3845696,
          5.6300607,
          7.1386576,
          4.980949,
          5.694617,
          -1.349726,
          6.169086,
          5.926052,
          11.606537,
          7.09342,
          7.5956874,
          6.07486,
          -1.5912739,
          5.6184883,
          5.2309546,
          0.7580566,
          2.9085114,
          4.267012,
          4.29861,
          2.9234123,
          5.5246005,
          5.775328,
          1.0161574,
          0.3480114,
          8.500731,
          5.334297,
          3.4416664,
          1.9426503,
          5.0498343,
          1.9719623,
          2.3520322,
          0.31341094,
          4.2124114,
          0.28435907,
          0.020301832,
          0.7608145,
          5.161544,
          5.5480056,
          0.31533927,
          4.165399,
          -10.565984,
          -13.431115,
          3.9837425,
          3.404849,
          3.3148592,
          3.7067957,
          3.4749897,
          3.5802937,
          3.488807,
          4.1758657,
          -1.3983902,
          1.1485035,
          -1.1996063,
          4.3715796,
          4.7435203,
          4.6177974,
          4.560217,
          4.547095,
          -1.5000416,
          3.408725,
          7.449754,
          4.927707,
          5.0100946,
          5.4005847,
          5.3457923,
          5.5809636,
          -1.3543488,
          4.4253907,
          -10.835143,
          -1.473716,
          6.976517,
          -1.3726798,
          7.4032,
          2.7869453,
          4.447446,
          5.190465,
          -1.2886068,
          4.6160655,
          7.021883,
          4.392656,
          -0.24178924,
          5.782455,
          4.768707,
          5.552426,
          16.845125,
          -1.1031375,
          5.0419607,
          4.9596453,
          5.024156,
          -1.2841505,
          3.2700412,
          3.6460295,
          5.517226,
          1.8536367,
          5.8065796,
          -1.2192602,
          -0.99894357,
          -1.2285253,
          6.197583,
          5.897729,
          1.9370201,
          5.371843,
          5.411092,
          6.2251515,
          3.1759965,
          15.65588,
          1.9894162,
          5.0096893,
          -1.2345252,
          4.7670183,
          7.01324,
          -1.4036804,
          4.1098366,
          16.539913,
          7.1535645,
          9.814116,
          -0.91148657,
          5.525267,
          2.1772602,
          9.212062,
          2.6857817,
          1.5071434,
          1.7609261,
          5.8665257,
          5.818042,
          7.691235,
          9.446287,
          5.6784596,
          16.815933,
          3.7499282,
          4.340439,
          -1.2520127,
          0.9338109,
          1.6796141,
          0.18561389,
          6.5483246,
          3.079542,
          7.986333,
          -1.2923278,
          -0.23152345,
          -0.11958347,
          -1.125958,
          6.86099,
          3.198643,
          3.1102698,
          2.0589578,
          6.123561,
          -1.3229456,
          -1.0596334,
          -1.2443423,
          2.0485938,
          6.9015527,
          6.853147,
          -0.10718835,
          -0.041480567,
          -1.2643933,
          -1.2947334,
          -0.061002508,
          4.149523,
          1.7758628,
          7.250335,
          16.79165,
          16.771944,
          -0.0087687895,
          4.229742,
          -1.1235628,
          4.210899,
          5.712852,
          0.83491236,
          16.734632,
          0.14066508,
          1.7585534,
          1.8205687,
          -2.487862,
          8.706976,
          -0.24375816,
          -1.0981123,
          -0.2563749,
          -1.1255165,
          15.771186,
          6.120804,
          5.6291122,
          6.9307394,
          4.1261106,
          -0.076740354,
          0.5724505,
          2.370971,
          6.7745934,
          3.270109,
          2.91821,
          -2.495543,
          -0.059564732,
          3.1523619,
          2.7267108,
          3.728446,
          2.3851552,
          0.73480386,
          -0.35506946,
          6.9749327,
          13.053722,
          -1.1405312,
          -1.0053427,
          -0.7163444,
          0.5054912,
          2.7344084,
          5.506934,
          3.421885,
          3.5756567,
          3.3922205,
          0.35382172,
          5.2383685,
          1.9650453,
          2.5052207,
          2.141009,
          -1.0231252,
          -0.05553871,
          2.2162077,
          2.0080028,
          2.0248232,
          6.8635087,
          -1.1251254,
          3.7327995,
          2.747515,
          8.2864065,
          2.2383828,
          2.031425,
          2.4149287,
          2.5416212,
          13.234753,
          13.248217,
          0.87292385,
          1.3192911,
          2.5725458,
          2.3351789,
          7.2582603,
          2.576208,
          -1.1246424,
          3.5913823,
          3.504869,
          3.429522,
          0.7279018,
          2.9959543,
          6.8052616,
          5.604786,
          2.3092544,
          3.3819509,
          3.592846,
          9.100721,
          2.6903586,
          7.6262255,
          8.350596,
          2.0206487,
          -1.4150394,
          4.0752783,
          15.434306,
          0.24495837,
          1.9053274,
          2.14175,
          7.215569,
          2.8808918,
          2.5973632,
          3.6878047,
          -7.5203934,
          -7.4375196,
          -5.729824,
          -5.6387167,
          2.7473063,
          3.5791533,
          1.2134914,
          3.0045965,
          0.47394264,
          3.3012989,
          -1.2361132,
          0.24737601,
          3.1928115,
          1.7609122,
          -1.5082378,
          8.0195465,
          9.710185,
          -1.2228315,
          3.499286,
          -1.8079815,
          4.1974196,
          4.181981,
          4.2275887,
          2.147158,
          1.9735354,
          -5.640916,
          -5.6775794,
          -5.6777,
          -5.684355,
          -5.7617555,
          3.5118184,
          3.6501653,
          3.4606159,
          -1.1448714,
          3.4521055,
          3.472485,
          20.117792,
          1.8055768,
          3.4810338,
          3.4955447,
          6.815463,
          6.834014,
          7.4610205,
          7.9041033,
          3.1933608,
          6.2399635,
          6.0437965,
          4.5804777,
          1.9072163,
          0.96157837,
          7.4528446,
          9.558154,
          -0.76235646,
          0.3525106,
          1.7738917,
          6.893461,
          9.668907,
          5.8303037,
          5.7924905,
          2.282907,
          2.1401126,
          7.7322917,
          -1.2192415,
          -2.2576642,
          5.21917,
          5.094461,
          5.401255,
          3.678332,
          -1.3514941,
          -0.3841501,
          2.171131,
          0.20134364,
          4.314676,
          3.1008606,
          2.9808881,
          -1.0373533,
          1.9334025,
          -1.0941877,
          6.9374166,
          -1.4524008,
          -1.2205086,
          3.264758,
          7.922448,
          -1.2612591,
          1.8427458,
          1.723894,
          4.1267414,
          5.4628916,
          5.3090754,
          -1.0603408,
          3.4382424,
          7.122004,
          -1.1957698,
          -1.0784532,
          16.85685,
          0.14568603,
          -0.024207719,
          5.0955334,
          4.952318,
          -1.0898424,
          2.1266332,
          7.04963,
          13.2872925,
          5.1142564,
          6.0640655,
          0.15990172,
          7.933208,
          1.3529347,
          -1.015273,
          5.0530334,
          -1.1549505,
          7.7193336,
          7.543551,
          -1.0401391,
          3.1293263,
          6.2607474,
          -7.3994675,
          9.736864,
          16.99345,
          6.311227,
          6.550985,
          13.028706,
          4.9683986,
          2.0111797,
          3.8880599,
          -3.502616,
          -6.7351336,
          -7.474883,
          0.84298617,
          0.6627092,
          1.341886,
          -1.2674354,
          1.7319089,
          2.643248,
          1.7294133,
          16.952654,
          8.965278,
          2.6144803,
          5.460709,
          5.09478,
          2.7715056,
          6.457511,
          1.5886949,
          6.5529017,
          4.344216,
          1.6245621,
          -3.6025133,
          2.713114,
          4.628514,
          6.648756,
          4.2895765,
          5.6891856,
          -1.1655853,
          5.17267,
          -2.2733269,
          4.494511,
          3.6361961,
          5.9874125,
          6.00279,
          0.49928284,
          0.42993498,
          0.6117994,
          10.7982235,
          0.75385225,
          1.7574805,
          13.184922,
          -1.1047205,
          5.04808,
          9.787986,
          4.7299004,
          4.7367716,
          -6.6109138,
          2.1356156,
          3.8231726,
          3.7493978,
          1.951025,
          -6.5724187,
          -7.524942,
          -7.363904,
          3.6516328,
          -6.707648,
          12.873413,
          2.4650395,
          12.924004,
          5.62681,
          2.0019574,
          0.5929903,
          3.207307,
          -1.2119333,
          2.4016407,
          4.6008973,
          2.6813035,
          8.103739,
          13.173994,
          3.2011504,
          9.704792,
          5.240584,
          5.6576757,
          5.251574,
          5.4095945,
          5.251253,
          9.5985775,
          9.929642,
          1.7700944,
          13.342355,
          -1.0040475,
          5.165746,
          1.267811,
          5.271819,
          5.0623937,
          -7.512857,
          -7.39619,
          1.7432739,
          -1.1714624,
          2.4138803,
          5.052261,
          12.910066,
          -1.0816393,
          4.991697,
          2.5653238,
          11.255547,
          7.028892,
          6.007318,
          5.5919013,
          4.546942,
          2.9748843,
          0.31372648,
          2.8005214,
          2.5611393,
          -1.0474446,
          0.39450046,
          0.3153848,
          5.168229,
          4.0590386,
          20.074675,
          -0.31869894,
          7.0826125,
          1.8232051,
          9.870503,
          9.505986,
          7.2842183,
          5.930459,
          -2.3802357,
          1.4950398,
          -1.2607187,
          -1.169504,
          7.06453,
          6.339631,
          1.9108027,
          4.44489,
          5.775553,
          6.5747123,
          2.9563563,
          6.2088284,
          0.5811065,
          -1.3558981,
          2.4055011,
          -1.2215334,
          3.8848093,
          5.030009,
          -3.54172,
          1.5722392,
          1.8667526,
          1.5628088,
          -1.3859471,
          1.6080109,
          10.300819,
          1.3453052,
          1.5342892,
          -3.5108972,
          1.5871361,
          -1.7109076,
          5.907599,
          1.7256494,
          7.647357,
          16.81365,
          9.944307,
          9.921006,
          9.726332,
          1.2482709,
          1.7811635,
          -1.2009997,
          3.640432,
          1.5699215,
          -1.1454337,
          1.0848264,
          9.82699,
          3.3148024,
          1.1965463,
          -1.1691959,
          1.1437703,
          3.4164355,
          -0.05876196,
          -1.4480003,
          -1.2332917,
          9.352494,
          8.677463,
          9.512459,
          1.8503036,
          6.1394925,
          3.7113824,
          2.4640005,
          4.687692,
          2.169662
         ],
         "yaxis": "y"
        },
        {
         "customdata": [
          [
           "Q: OK. We're on. Would you tell me your name please?",
           "RG-50.030.0093_trs_en_cleaned"
          ],
          [
           "Q: And where and when were you born?",
           "RG-50.030.0093_trs_en_cleaned"
          ],
          [
           "Q: Tell me about Teplice.",
           "RG-50.030.0093_trs_en_cleaned"
          ],
          [
           "Q: Tell us about Budapest, and what you did there as a young man.",
           "RG-50.030.0093_trs_en_cleaned"
          ],
          [
           "Q: What was happening to your parents?",
           "RG-50.030.0093_trs_en_cleaned"
          ],
          [
           "Q: I'm sorry. I can't hear you.",
           "RG-50.030.0093_trs_en_cleaned"
          ],
          [
           "Q: I'm sorry. Smuggling what?",
           "RG-50.030.0093_trs_en_cleaned"
          ],
          [
           "Q: Tell us about...tell us about life in the ghetto, in addition to the attic. What was your daily life like?",
           "RG-50.030.0093_trs_en_cleaned"
          ],
          [
           "Q: A street?",
           "RG-50.030.0093_trs_en_cleaned"
          ],
          [
           "Q: How long did... Slow down a little bit.",
           "RG-50.030.0093_trs_en_cleaned"
          ],
          [
           "Q: How long was your father under the floorboards.",
           "RG-50.030.0093_trs_en_cleaned"
          ],
          [
           "Q: Had you been doing work for the underground while you were in_6d_?",
           "RG-50.030.0093_trs_en_cleaned"
          ],
          [
           "Q: Tell me now, if you would, about that...the deportation. The train ride. How...? You were together with your family?",
           "RG-50.030.0093_trs_en_cleaned"
          ],
          [
           "Q: No.",
           "RG-50.030.0093_trs_en_cleaned"
          ],
          [
           "Q: Tell us.",
           "RG-50.030.0093_trs_en_cleaned"
          ],
          [
           "Q: It's okay. It's okay. It's okay.] [NB: TEXT IN PRECEDING BRACKETS IS NOT ON VIDEOTAPE] TECHNICAL CONVERSATION. All right. We're back on camera. Just tell us about the selection as best you can.",
           "RG-50.030.0093_trs_en_cleaned"
          ],
          [
           "Q: Yah. So there was...uh, there was...uh...uh, they separate us. All the family went together.",
           "RG-50.030.0093_trs_en_cleaned"
          ],
          [
           "Q: Tell us about the Gypsies you met. What were they like, and what were they doing?",
           "RG-50.030.0093_trs_en_cleaned"
          ],
          [
           "Q: Your family, you mean?",
           "RG-50.030.0093_trs_en_cleaned"
          ],
          [
           "Q: Hold on. Excuse me.",
           "RG-50.030.0093_trs_en_cleaned"
          ],
          [
           "Q: What was it like in the Kruppwerke?",
           "RG-50.030.0093_trs_en_cleaned"
          ],
          [
           "Q: How long were you in Buchenwald?",
           "RG-50.030.0093_trs_en_cleaned"
          ],
          [
           "Q: Can you...can you tell me some of the work that you did in Buchenwald.",
           "RG-50.030.0093_trs_en_cleaned"
          ],
          [
           "Q: Who used to take the shoes?",
           "RG-50.030.0093_trs_en_cleaned"
          ],
          [
           "Q: This is a good time to stop and change tapes, anyways.",
           "RG-50.030.0093_trs_en_cleaned"
          ],
          [
           "Q: So let's do that.TAPE #2",
           "RG-50.030.0093_trs_en_cleaned"
          ],
          [
           "Q: The day of liberation.",
           "RG-50.030.0093_trs_en_cleaned"
          ],
          [
           "Q: Did you... Excuse me. Did you explain to the Americans that you were Jewish? You were still in this German uniform.",
           "RG-50.030.0093_trs_en_cleaned"
          ],
          [
           "Q: I'm sorry. I don't understand.",
           "RG-50.030.0093_trs_en_cleaned"
          ],
          [
           "Q: What was the Nazi's name?",
           "RG-50.030.0093_trs_en_cleaned"
          ],
          [
           "Q: What about Sonia?",
           "RG-50.030.0093_trs_en_cleaned"
          ],
          [
           "Q: Beno.",
           "RG-50.030.0093_trs_en_cleaned"
          ],
          [
           "Q: What do you think the effect of...of all this has been on you?",
           "RG-50.030.0093_trs_en_cleaned"
          ],
          [
           "Q: Yes.",
           "RG-50.030.0093_trs_en_cleaned"
          ],
          [
           "Q: Thank you.",
           "RG-50.030.0093_trs_en_cleaned"
          ],
          [
           "Q: Yes, please. Bonnie, let's turn the tape back on.",
           "RG-50.030.0093_trs_en_cleaned"
          ],
          [
           "Q: Okay. We're on. Tell us about your children.",
           "RG-50.030.0093_trs_en_cleaned"
          ],
          [
           "Q: Wonderful. I'm glad you told us.",
           "RG-50.030.0093_trs_en_cleaned"
          ]
         ],
         "hovertemplate": "<b>Question:</b> %{customdata[0]}<br><b>RG Number:</b> %{customdata[1]}<extra></extra>",
         "legendgroup": "RG-50.030.0093_trs_en_cleaned",
         "marker": {
          "color": "#19d3f3",
          "symbol": "circle"
         },
         "mode": "markers",
         "name": "RG-50.030.0093_trs_en_cleaned",
         "showlegend": true,
         "type": "scattergl",
         "x": [
          5.5499673,
          5.7983828,
          -1.7869366,
          6.399884,
          5.0561886,
          -2.252764,
          3.9882326,
          6.015775,
          4.912898,
          3.6805794,
          5.23728,
          5.2345743,
          5.5927114,
          -1.396214,
          -2.140533,
          -0.8183032,
          4.8352695,
          7.1666574,
          5.870014,
          -0.38569498,
          3.0883732,
          6.781675,
          6.946296,
          2.598348,
          -2.177173,
          -2.3565722,
          3.663281,
          4.4138503,
          -2.0069525,
          4.295662,
          2.7565825,
          3.40362,
          -0.31572747,
          -8.879572,
          7.970178,
          -2.4292452,
          4.973593,
          -0.3053837
         ],
         "xaxis": "x",
         "y": [
          5.7967086,
          4.7317066,
          1.5651872,
          -0.5708523,
          5.74852,
          3.8016176,
          2.1213977,
          4.0663986,
          3.592039,
          4.0547338,
          6.8226647,
          4.2727504,
          2.9441864,
          20.016418,
          2.5174806,
          3.1471994,
          5.6632743,
          0.29929322,
          5.7469044,
          -3.662773,
          4.0234523,
          1.266361,
          1.0428828,
          7.346688,
          -1.9935566,
          -2.2059278,
          2.4930756,
          -1.1227094,
          3.5944686,
          0.3993592,
          -0.25637084,
          9.8952265,
          3.6406603,
          6.329744,
          -2.458645,
          -2.2916458,
          5.952448,
          7.9821563
         ],
         "yaxis": "y"
        },
        {
         "customdata": [
          [
           "Q: Would you tell us your name, and where and when you were born?",
           "RG-50.030.0146_trs_en_cleaned"
          ],
          [
           "Q: Would you... Before you go on with the story of the war, tell us a little more about your childhood. What was the community like? What was your schooling like?",
           "RG-50.030.0146_trs_en_cleaned"
          ],
          [
           "Q: Did you go to school?",
           "RG-50.030.0146_trs_en_cleaned"
          ],
          [
           "Q: A convent?",
           "RG-50.030.0146_trs_en_cleaned"
          ],
          [
           "Q: We'll stop here, and they're going to change tapes.TAPE #2",
           "RG-50.030.0146_trs_en_cleaned"
          ],
          [
           "Q: We're on.",
           "RG-50.030.0146_trs_en_cleaned"
          ],
          [
           "Q: Can you tell us about that? How...how did your aunt discover where you were?",
           "RG-50.030.0146_trs_en_cleaned"
          ],
          [
           "Q: You need to tell this on the tape. You told me before, but we weren't on tape. Tell me the story again about it.",
           "RG-50.030.0146_trs_en_cleaned"
          ],
          [
           "Q: Do you want to tell how your father came to be in America?",
           "RG-50.030.0146_trs_en_cleaned"
          ],
          [
           "Q: And this lady in the cafe...?",
           "RG-50.030.0146_trs_en_cleaned"
          ],
          [
           "Q: Is there anything else you would like to add?",
           "RG-50.030.0146_trs_en_cleaned"
          ]
         ],
         "hovertemplate": "<b>Question:</b> %{customdata[0]}<br><b>RG Number:</b> %{customdata[1]}<extra></extra>",
         "legendgroup": "RG-50.030.0146_trs_en_cleaned",
         "marker": {
          "color": "#FF6692",
          "symbol": "circle"
         },
         "mode": "markers",
         "name": "RG-50.030.0146_trs_en_cleaned",
         "showlegend": true,
         "type": "scattergl",
         "x": [
          6.037659,
          5.528946,
          3.5652888,
          4.2967954,
          -2.2694256,
          0.3734346,
          3.7830398,
          -2.369876,
          5.3267527,
          1.4397969,
          8.159183
         ],
         "xaxis": "x",
         "y": [
          5.015653,
          2.6687016,
          6.0431395,
          3.5473828,
          -2.107071,
          6.2474136,
          4.2336073,
          -2.2121062,
          6.7444587,
          1.7902365,
          4.951674
         ],
         "yaxis": "y"
        },
        {
         "customdata": [
          [
           "Q: Okay. This is a United States Holocaust Memorial Museum interview with Mr. Jacques Ribons on May 20th, 2014 by phone audio. Mr. Ribons is in Las Vegas, Nevada, and Interviewer Ina Navazelskis is in Washington, D.C. Thank you, Mr. Ribons, for agreeing to speak with us today.",
           "RG-50.030.0752_trs_en_cleaned"
          ],
          [
           "Q: I'm going to begin our interview at the very beginning. I'd like to find out a little bit about your your childhood, the family you were born into, the world you were born into. So I'll start with my first question. Can you give me your date of birth and place of birth.",
           "RG-50.030.0752_trs_en_cleaned"
          ],
          [
           "Q: Uh huh.",
           "RG-50.030.0752_trs_en_cleaned"
          ],
          [
           "Q: A small town",
           "RG-50.030.0752_trs_en_cleaned"
          ],
          [
           "Q: Okay. Outside of Bedzin. And what part of Poland was was this in? Was it the western? The eastern? How",
           "RG-50.030.0752_trs_en_cleaned"
          ],
          [
           "Q: Oh, if it's Oberschlesien, then it would be the western part close to Germany; right?",
           "RG-50.030.0752_trs_en_cleaned"
          ],
          [
           "Q: Okay. So it's eastern Germany but western Poland.",
           "RG-50.030.0752_trs_en_cleaned"
          ],
          [
           "Q: Okay. And what was your name at birth?",
           "RG-50.030.0752_trs_en_cleaned"
          ],
          [
           "Q: Jacob.",
           "RG-50.030.0752_trs_en_cleaned"
          ],
          [
           "Q:Ribstein?",
           "RG-50.030.0752_trs_en_cleaned"
          ],
          [
           "Q: Well, maybe it's a long story, but how did Jacob Ribstein become Jacques Ribons?",
           "RG-50.030.0752_trs_en_cleaned"
          ],
          [
           "Q: Really?",
           "RG-50.030.0752_trs_en_cleaned"
          ],
          [
           "Q: Uh huh. Okay.",
           "RG-50.030.0752_trs_en_cleaned"
          ],
          [
           "Q: Uh huh.",
           "RG-50.030.0752_trs_en_cleaned"
          ],
          [
           "Q: Okay.",
           "RG-50.030.0752_trs_en_cleaned"
          ],
          [
           "Q: You're talking about the U.S. military?",
           "RG-50.030.0752_trs_en_cleaned"
          ],
          [
           "Q: Uh huh.",
           "RG-50.030.0752_trs_en_cleaned"
          ],
          [
           "Q: Oh, okay. So this is when you were already in the United States after the war?",
           "RG-50.030.0752_trs_en_cleaned"
          ],
          [
           "Q: Okay. So until then, you were Jacob Ribstein?",
           "RG-50.030.0752_trs_en_cleaned"
          ],
          [
           "Q: Okay. So tell me tell me, did you have any brothers and sisters?",
           "RG-50.030.0752_trs_en_cleaned"
          ],
          [
           "Q: What was his name?",
           "RG-50.030.0752_trs_en_cleaned"
          ],
          [
           "Q: Uh huh.",
           "RG-50.030.0752_trs_en_cleaned"
          ],
          [
           "Q: To what?",
           "RG-50.030.0752_trs_en_cleaned"
          ],
          [
           "Q: Oh, how sad. How terrible. So so he survived the war but",
           "RG-50.030.0752_trs_en_cleaned"
          ],
          [
           "Q: With you.",
           "RG-50.030.0752_trs_en_cleaned"
          ],
          [
           "Q: Well, my sympathies for your loss.",
           "RG-50.030.0752_trs_en_cleaned"
          ],
          [
           "Q: And did you and did you say you had another sibling?",
           "RG-50.030.0752_trs_en_cleaned"
          ],
          [
           "Q: Okay.",
           "RG-50.030.0752_trs_en_cleaned"
          ],
          [
           "Q: Uh huh.",
           "RG-50.030.0752_trs_en_cleaned"
          ],
          [
           "Q: Oh.",
           "RG-50.030.0752_trs_en_cleaned"
          ],
          [
           "Q: You're talking about who?",
           "RG-50.030.0752_trs_en_cleaned"
          ],
          [
           "Q: Your mother said, \"I cannot\" \"I cannot let them die alone\"?",
           "RG-50.030.0752_trs_en_cleaned"
          ],
          [
           "Q: Wow. What was your sister's name?",
           "RG-50.030.0752_trs_en_cleaned"
          ],
          [
           "Q: That's okay?",
           "RG-50.030.0752_trs_en_cleaned"
          ],
          [
           "Q: Esther. She was the youngest?",
           "RG-50.030.0752_trs_en_cleaned"
          ],
          [
           "Q: Okay. What was your mother's name?",
           "RG-50.030.0752_trs_en_cleaned"
          ],
          [
           "Q: Okay. Vera in English, Weira in Polish?",
           "RG-50.030.0752_trs_en_cleaned"
          ],
          [
           "Q: And her maiden name, also Ribstein?",
           "RG-50.030.0752_trs_en_cleaned"
          ],
          [
           "Q: And your father's name?",
           "RG-50.030.0752_trs_en_cleaned"
          ],
          [
           "Q: Okay. Tell me a little bit about your home life. How did you father support the family?",
           "RG-50.030.0752_trs_en_cleaned"
          ],
          [
           "Q: Then was he away on business or was he away for different reasons?",
           "RG-50.030.0752_trs_en_cleaned"
          ],
          [
           "Q: Okay. Okay. So do you remember the business that he was in?",
           "RG-50.030.0752_trs_en_cleaned"
          ],
          [
           "Q: Textile. Does that mean did he have his own factory or his own store or",
           "RG-50.030.0752_trs_en_cleaned"
          ],
          [
           "Q: And how did your mother also work to support the family?",
           "RG-50.030.0752_trs_en_cleaned"
          ],
          [
           "Q: Okay. What kind of work did she do?",
           "RG-50.030.0752_trs_en_cleaned"
          ],
          [
           "Q: I see.",
           "RG-50.030.0752_trs_en_cleaned"
          ],
          [
           "Q: Uh huh.",
           "RG-50.030.0752_trs_en_cleaned"
          ],
          [
           "Q: Really? So he was away from the house that much?",
           "RG-50.030.0752_trs_en_cleaned"
          ],
          [
           "Q: So is it would it be fair to say that you didn't get to know your father very well?",
           "RG-50.030.0752_trs_en_cleaned"
          ],
          [
           "Q: Uh huh.",
           "RG-50.030.0752_trs_en_cleaned"
          ],
          [
           "Q: It was not or it was",
           "RG-50.030.0752_trs_en_cleaned"
          ],
          [
           "Q: It was not.",
           "RG-50.030.0752_trs_en_cleaned"
          ],
          [
           "Q: What how do you come to that conclusion now when you say it was not a good life?",
           "RG-50.030.0752_trs_en_cleaned"
          ],
          [
           "Q: Did you really?",
           "RG-50.030.0752_trs_en_cleaned"
          ],
          [
           "Q: It must have been hard for you.",
           "RG-50.030.0752_trs_en_cleaned"
          ],
          [
           "Q: I can also imagine other kids making fun of of a child wearing a grownup's shoes?",
           "RG-50.030.0752_trs_en_cleaned"
          ],
          [
           "Q: What kind of a place did you did you live in the same place as a child in the 1930s or did you move around?",
           "RG-50.030.0752_trs_en_cleaned"
          ],
          [
           "Q: Okay.",
           "RG-50.030.0752_trs_en_cleaned"
          ],
          [
           "Q: Yeah. And can you describe to me the _ the living quarters you remember the best?",
           "RG-50.030.0752_trs_en_cleaned"
          ],
          [
           "Q: Uh huh.",
           "RG-50.030.0752_trs_en_cleaned"
          ],
          [
           "Q: And was it a self standing house or was there another apartment in it or",
           "RG-50.030.0752_trs_en_cleaned"
          ],
          [
           "Q: I see.",
           "RG-50.030.0752_trs_en_cleaned"
          ],
          [
           "Q: Uh huh. And was this still in that town of what did you say its name was?",
           "RG-50.030.0752_trs_en_cleaned"
          ],
          [
           "Q: Sulmierzyce?",
           "RG-50.030.0752_trs_en_cleaned"
          ],
          [
           "Q: Was it still in the same town?",
           "RG-50.030.0752_trs_en_cleaned"
          ],
          [
           "Q: Did you have electricity?",
           "RG-50.030.0752_trs_en_cleaned"
          ],
          [
           "Q: Did anybody else live with you or was it just you, your mother, and your brother and sister and father?",
           "RG-50.030.0752_trs_en_cleaned"
          ],
          [
           "Q: That's it. No grandparents? No aunts? No uncles?",
           "RG-50.030.0752_trs_en_cleaned"
          ],
          [
           "Q: Did they both come did they both have brothers and sisters, your parents?",
           "RG-50.030.0752_trs_en_cleaned"
          ],
          [
           "Q: Wow.",
           "RG-50.030.0752_trs_en_cleaned"
          ],
          [
           "Q: And what did their families do? What did what was their you would say your grandparents?",
           "RG-50.030.0752_trs_en_cleaned"
          ],
          [
           "Q: Uh huh.",
           "RG-50.030.0752_trs_en_cleaned"
          ],
          [
           "Q: Uh huh.",
           "RG-50.030.0752_trs_en_cleaned"
          ],
          [
           "Q: When",
           "RG-50.030.0752_trs_en_cleaned"
          ],
          [
           "Q: You mother's father, you don't remember?",
           "RG-50.030.0752_trs_en_cleaned"
          ],
          [
           "Q: Okay. Were your grandparents well to do or were they kind of poor?",
           "RG-50.030.0752_trs_en_cleaned"
          ],
          [
           "Q: Uh huh. And your parents? You say your mother struggled. So it wasn't a very good life. Does that mean",
           "RG-50.030.0752_trs_en_cleaned"
          ],
          [
           "Q: Oh. So so you struggled? In other words, it had repercussions financially as well?",
           "RG-50.030.0752_trs_en_cleaned"
          ],
          [
           "Q: Were you close to her?",
           "RG-50.030.0752_trs_en_cleaned"
          ],
          [
           "Q: Tell me a little bit about what kind of a person she was.",
           "RG-50.030.0752_trs_en_cleaned"
          ],
          [
           "Q: Was she?",
           "RG-50.030.0752_trs_en_cleaned"
          ],
          [
           "Q: Oh.",
           "RG-50.030.0752_trs_en_cleaned"
          ],
          [
           "Q: Okay. Yeah, we'll get there. We'll get there.",
           "RG-50.030.0752_trs_en_cleaned"
          ],
          [
           "Q: Your what kind of values did she have that that you feel she kind of also bequeathed to you?",
           "RG-50.030.0752_trs_en_cleaned"
          ],
          [
           "Q: She was. Yes?",
           "RG-50.030.0752_trs_en_cleaned"
          ],
          [
           "Q: Uh huh?",
           "RG-50.030.0752_trs_en_cleaned"
          ],
          [
           "Q: You did?",
           "RG-50.030.0752_trs_en_cleaned"
          ],
          [
           "Q: Okay. Was she somebody that you could talk to easily?",
           "RG-50.030.0752_trs_en_cleaned"
          ],
          [
           "Q: Uh huh.",
           "RG-50.030.0752_trs_en_cleaned"
          ],
          [
           "Q: Could she read and write, though?",
           "RG-50.030.0752_trs_en_cleaned"
          ],
          [
           "Q: Just in Yiddish. Okay. That is another one of my questions is what language did you speak at home?",
           "RG-50.030.0752_trs_en_cleaned"
          ],
          [
           "Q: Yiddish. And you said you lived in a kind of non Jewish neighborhood?",
           "RG-50.030.0752_trs_en_cleaned"
          ],
          [
           "Q: Did you also speak Polish or German?",
           "RG-50.030.0752_trs_en_cleaned"
          ],
          [
           "Q: Uh huh. Okay.",
           "RG-50.030.0752_trs_en_cleaned"
          ],
          [
           "Q: Uh huh.",
           "RG-50.030.0752_trs_en_cleaned"
          ],
          [
           "Q: Uh huh.",
           "RG-50.030.0752_trs_en_cleaned"
          ],
          [
           "Q: Did was she also born and grew up in the same area or had she come from someplace else?",
           "RG-50.030.0752_trs_en_cleaned"
          ],
          [
           "Q: Okay. Okay. And your father?",
           "RG-50.030.0752_trs_en_cleaned"
          ],
          [
           "Q: Okay. So she moved to where he where his roots were?",
           "RG-50.030.0752_trs_en_cleaned"
          ],
          [
           "Q: Okay.",
           "RG-50.030.0752_trs_en_cleaned"
          ],
          [
           "Q: Was it an arranged marriage?",
           "RG-50.030.0752_trs_en_cleaned"
          ],
          [
           "Q: Was she",
           "RG-50.030.0752_trs_en_cleaned"
          ],
          [
           "Q: Were either of your parents storytellers? For example, they told you about their own childhood, their own lives, their own families?",
           "RG-50.030.0752_trs_en_cleaned"
          ],
          [
           "Q: Uh huh. As you were growing up before the war?",
           "RG-50.030.0752_trs_en_cleaned"
          ],
          [
           "Q: Well, tell me a little bit about that life. What was the name that was the town itself a modern town or a very old fashioned town?",
           "RG-50.030.0752_trs_en_cleaned"
          ],
          [
           "Q: How many people?",
           "RG-50.030.0752_trs_en_cleaned"
          ],
          [
           "Q: Uh huh.",
           "RG-50.030.0752_trs_en_cleaned"
          ],
          [
           "Q: How many synagogues did it have?",
           "RG-50.030.0752_trs_en_cleaned"
          ],
          [
           "Q: And same amount of churches?",
           "RG-50.030.0752_trs_en_cleaned"
          ],
          [
           "Q: Uh huh.",
           "RG-50.030.0752_trs_en_cleaned"
          ],
          [
           "Q: Was there any interaction between, you know, kids who were Jews and non Jews?",
           "RG-50.030.0752_trs_en_cleaned"
          ],
          [
           "Q: Okay.",
           "RG-50.030.0752_trs_en_cleaned"
          ],
          [
           "Q: And you saw that? You experienced that every day?",
           "RG-50.030.0752_trs_en_cleaned"
          ],
          [
           "Q: Uh huh.",
           "RG-50.030.0752_trs_en_cleaned"
          ],
          [
           "Q: Can you tell me what how?",
           "RG-50.030.0752_trs_en_cleaned"
          ],
          [
           "Q: Well, would they call you names? I'd like to have a little bit of a sense of how you experienced it.",
           "RG-50.030.0752_trs_en_cleaned"
          ],
          [
           "Q: Oh, really?",
           "RG-50.030.0752_trs_en_cleaned"
          ],
          [
           "Q: Okay.",
           "RG-50.030.0752_trs_en_cleaned"
          ],
          [
           "Q: Okay.",
           "RG-50.030.0752_trs_en_cleaned"
          ],
          [
           "Q: Oh, that's charming.",
           "RG-50.030.0752_trs_en_cleaned"
          ],
          [
           "Q: Do you did you know who Hitler was or did people talk about Hitler or was he",
           "RG-50.030.0752_trs_en_cleaned"
          ],
          [
           "Q: Is this during the war or before?",
           "RG-50.030.0752_trs_en_cleaned"
          ],
          [
           "Q: When the war already started.",
           "RG-50.030.0752_trs_en_cleaned"
          ],
          [
           "Q: Did any Jews from Germany come to since you were close to the German border, did any Jews from Germany come to Poland before the war started?",
           "RG-50.030.0752_trs_en_cleaned"
          ],
          [
           "Q: Running away from Germany?",
           "RG-50.030.0752_trs_en_cleaned"
          ],
          [
           "Q: Some.",
           "RG-50.030.0752_trs_en_cleaned"
          ],
          [
           "Q: Uh huh. And did they fit into the community or did they look very different?",
           "RG-50.030.0752_trs_en_cleaned"
          ],
          [
           "Q: Yeah.",
           "RG-50.030.0752_trs_en_cleaned"
          ],
          [
           "Q: Yeah. Yeah. Such a human thing. What was the main economy in the town?",
           "RG-50.030.0752_trs_en_cleaned"
          ],
          [
           "Q: I see. I see. So did most people I mean, did most people work in the mines or have, you know, family members work in the mines and then also the support functions to that?",
           "RG-50.030.0752_trs_en_cleaned"
          ],
          [
           "Q: Uh huh.",
           "RG-50.030.0752_trs_en_cleaned"
          ],
          [
           "Q: So how did Jews support themselves?",
           "RG-50.030.0752_trs_en_cleaned"
          ],
          [
           "Q: What kind of clothing?",
           "RG-50.030.0752_trs_en_cleaned"
          ],
          [
           "Q: When you went to school, at that time you were old enough was she able to afford a pair of shoes for you?",
           "RG-50.030.0752_trs_en_cleaned"
          ],
          [
           "Q: You were already maybe, like, an 11 , 12 year old boy.",
           "RG-50.030.0752_trs_en_cleaned"
          ],
          [
           "Q: Did your younger brother and sister go to school? Maybe your sister not, but did",
           "RG-50.030.0752_trs_en_cleaned"
          ],
          [
           "Q: Were you hungry at any time? Did you have enough to eat when you were a kid?",
           "RG-50.030.0752_trs_en_cleaned"
          ],
          [
           "Q: Uh huh.",
           "RG-50.030.0752_trs_en_cleaned"
          ],
          [
           "Q: That's right. Did you also have any chores that you had to do as you were growing up?",
           "RG-50.030.0752_trs_en_cleaned"
          ],
          [
           "Q: What did people say? I mean, inthis in this small place or big village, as you say, but, you know, not one that had were there people who had cars?",
           "RG-50.030.0752_trs_en_cleaned"
          ],
          [
           "Q: Uh huh.",
           "RG-50.030.0752_trs_en_cleaned"
          ],
          [
           "Q: Well, what a car.",
           "RG-50.030.0752_trs_en_cleaned"
          ],
          [
           "Q: And so that's a rarity. Things like that were did anybody own a radio?",
           "RG-50.030.0752_trs_en_cleaned"
          ],
          [
           "Q: You had one too?",
           "RG-50.030.0752_trs_en_cleaned"
          ],
          [
           "Q: So you had they told you to turn it in rather than coming to the house?",
           "RG-50.030.0752_trs_en_cleaned"
          ],
          [
           "Q: I see.",
           "RG-50.030.0752_trs_en_cleaned"
          ],
          [
           "Q: Had you ever before the Germans came, before the World War started, did you listen to the radio outside of you know, radio broadcasts that came from London or other places outside of Poland?",
           "RG-50.030.0752_trs_en_cleaned"
          ],
          [
           "Q: Okay.",
           "RG-50.030.0752_trs_en_cleaned"
          ],
          [
           "Q: To the Czech border?",
           "RG-50.030.0752_trs_en_cleaned"
          ],
          [
           "Q: Okay.",
           "RG-50.030.0752_trs_en_cleaned"
          ],
          [
           "Q: Uh huh. In Czech or in German?",
           "RG-50.030.0752_trs_en_cleaned"
          ],
          [
           "Q: So you could understand what they were saying?",
           "RG-50.030.0752_trs_en_cleaned"
          ],
          [
           "Q: And was this about the time that Czechoslovakia was annexed to Germany or before?",
           "RG-50.030.0752_trs_en_cleaned"
          ],
          [
           "Q: Oh, really?",
           "RG-50.030.0752_trs_en_cleaned"
          ],
          [
           "Q: I guess what I'm trying to do is get a sense of how much information came into the town. How well informed were people about the larger historical, you know, things that were going on? The political developments that were going on? Were people afraid or did it all seem very distant?",
           "RG-50.030.0752_trs_en_cleaned"
          ],
          [
           "Q: Uh huh?",
           "RG-50.030.0752_trs_en_cleaned"
          ],
          [
           "Q: So there was talk of war, but there was also a confidence that you could beat somebody who invades your country?",
           "RG-50.030.0752_trs_en_cleaned"
          ],
          [
           "Q: There was no confidence?",
           "RG-50.030.0752_trs_en_cleaned"
          ],
          [
           "Q: Okay.",
           "RG-50.030.0752_trs_en_cleaned"
          ],
          [
           "Q: So you're saying there was some sort of sabotage from within?",
           "RG-50.030.0752_trs_en_cleaned"
          ],
          [
           "Q: Okay.",
           "RG-50.030.0752_trs_en_cleaned"
          ],
          [
           "Q: I see. So it was in that sense that you _ that there was talk that they were coming and they'll overrun us immediately? That sort of talk?",
           "RG-50.030.0752_trs_en_cleaned"
          ],
          [
           "Q: Tell me the first time that you do you remember where you were when you learned that the war had broken out?",
           "RG-50.030.0752_trs_en_cleaned"
          ],
          [
           "Q: So there was an as announcement over the radio?",
           "RG-50.030.0752_trs_en_cleaned"
          ],
          [
           "Q: Uh huh.",
           "RG-50.030.0752_trs_en_cleaned"
          ],
          [
           "Q: One yeah.",
           "RG-50.030.0752_trs_en_cleaned"
          ],
          [
           "Q: I see. So it was for his breath.",
           "RG-50.030.0752_trs_en_cleaned"
          ],
          [
           "Q: And when was the first time you saw any did you see German soldiers soon after that announcement came? When did you first have the war come to you?",
           "RG-50.030.0752_trs_en_cleaned"
          ],
          [
           "Q: Okay. What happened?",
           "RG-50.030.0752_trs_en_cleaned"
          ],
          [
           "Q: So this sounds like it was not based on whether you were Jewish or not but based more if you were, like, a community leader. \"Cause a priest or a rabbi would be a community leader.",
           "RG-50.030.0752_trs_en_cleaned"
          ],
          [
           "Q: Okay. And they were the ones who were being arrested and killed?",
           "RG-50.030.0752_trs_en_cleaned"
          ],
          [
           "Q: Did you see anything did you see any violence on the streets?",
           "RG-50.030.0752_trs_en_cleaned"
          ],
          [
           "Q: So you stayed at home. When you found out that the war was on, your mother and your brother and your sister you stayed inside the house?",
           "RG-50.030.0752_trs_en_cleaned"
          ],
          [
           "Q: And when did you first venture out?",
           "RG-50.030.0752_trs_en_cleaned"
          ],
          [
           "Q: Uh huh.",
           "RG-50.030.0752_trs_en_cleaned"
          ],
          [
           "Q: They did not. Okay.",
           "RG-50.030.0752_trs_en_cleaned"
          ],
          [
           "Q: Were you similar you said you mother was very religious. But in your dress and in your manners and so on, you were indistinguishable from anybody else?",
           "RG-50.030.0752_trs_en_cleaned"
          ],
          [
           "Q: I see. Okay. And what is the first thing that you noticed that was different?",
           "RG-50.030.0752_trs_en_cleaned"
          ],
          [
           "Q: So in other words, I get the sense that there's really no fighting that actually happened; that there was no fight that was put up in your area. They just ran in.",
           "RG-50.030.0752_trs_en_cleaned"
          ],
          [
           "Q: They just overran the place?",
           "RG-50.030.0752_trs_en_cleaned"
          ],
          [
           "Q: When you say they came in then, does that mean no soldiers were there? No Wehrmacht was there or",
           "RG-50.030.0752_trs_en_cleaned"
          ],
          [
           "Q: Yeah. Uh huh. But no Polish soldiers?",
           "RG-50.030.0752_trs_en_cleaned"
          ],
          [
           "Q: They were all gone. Yeah.",
           "RG-50.030.0752_trs_en_cleaned"
          ],
          [
           "Q: Yeah. So aside from aside from rationing and, you said, the ruthlessness of the German soldiers, how else did life change?",
           "RG-50.030.0752_trs_en_cleaned"
          ],
          [
           "Q: Was that across the board for everybody or was this particular targeted to the Jews?",
           "RG-50.030.0752_trs_en_cleaned"
          ],
          [
           "Q: Okay.",
           "RG-50.030.0752_trs_en_cleaned"
          ],
          [
           "Q: Was there in those early days, was there any discrimination against the Jews that was harsher or more different than, let's say, the Polish population?",
           "RG-50.030.0752_trs_en_cleaned"
          ],
          [
           "Q: Right.",
           "RG-50.030.0752_trs_en_cleaned"
          ],
          [
           "Q: Uh huh.",
           "RG-50.030.0752_trs_en_cleaned"
          ],
          [
           "Q: Well, when you would go, you know, I take it out of, like, a child's curiosity to see what was_ what are some of the things you saw?",
           "RG-50.030.0752_trs_en_cleaned"
          ],
          [
           "Q: Uh huh.",
           "RG-50.030.0752_trs_en_cleaned"
          ],
          [
           "Q: Did you see things like that? Did you see people being beaten?",
           "RG-50.030.0752_trs_en_cleaned"
          ],
          [
           "Q: Okay. We'll probably be there soon. Tell me, what happened with your mother and your father? How did they start how did they continue to put food on the table? I take it your father, when he came back, didn't leave again because, where would he go?",
           "RG-50.030.0752_trs_en_cleaned"
          ],
          [
           "Q: Okay.",
           "RG-50.030.0752_trs_en_cleaned"
          ],
          [
           "Q: Okay.",
           "RG-50.030.0752_trs_en_cleaned"
          ],
          [
           "Q: Uh huh.",
           "RG-50.030.0752_trs_en_cleaned"
          ],
          [
           "Q: Uh huh. That's quite impressive",
           "RG-50.030.0752_trs_en_cleaned"
          ],
          [
           "Q: to know that many languages.",
           "RG-50.030.0752_trs_en_cleaned"
          ],
          [
           "Q: Yeah. Yeah. I got",
           "RG-50.030.0752_trs_en_cleaned"
          ],
          [
           "Q: Okay.",
           "RG-50.030.0752_trs_en_cleaned"
          ],
          [
           "Q: That's very responsible.",
           "RG-50.030.0752_trs_en_cleaned"
          ],
          [
           "Q: Was he a harsh man?Interview with Jacques Ribons 28",
           "RG-50.030.0752_trs_en_cleaned"
          ],
          [
           "Q: Was he distant then? Decent but distant?",
           "RG-50.030.0752_trs_en_cleaned"
          ],
          [
           "Q: I got that. Okay. So he became a mediator, you know, between the Germans and the Jewish community.",
           "RG-50.030.0752_trs_en_cleaned"
          ],
          [
           "Q: And did I understand correctly that sometimes he would just perform some services for the Germans and then he was able to put food on the table because of that?",
           "RG-50.030.0752_trs_en_cleaned"
          ],
          [
           "Q: Okay.",
           "RG-50.030.0752_trs_en_cleaned"
          ],
          [
           "Q: Right.",
           "RG-50.030.0752_trs_en_cleaned"
          ],
          [
           "Q: Uh huh.",
           "RG-50.030.0752_trs_en_cleaned"
          ],
          [
           "Q: So did he come home and talk about all of these things or did",
           "RG-50.030.0752_trs_en_cleaned"
          ],
          [
           "Q: Never, huh?",
           "RG-50.030.0752_trs_en_cleaned"
          ],
          [
           "Q: For somebody.",
           "RG-50.030.0752_trs_en_cleaned"
          ],
          [
           "Q: For somebody's life.",
           "RG-50.030.0752_trs_en_cleaned"
          ],
          [
           "Q: Uh huh. How long did you all live in this kind of situation? How long did this kind of limbo situation last?",
           "RG-50.030.0752_trs_en_cleaned"
          ],
          [
           "Q: So were you in a ghetto or were you just",
           "RG-50.030.0752_trs_en_cleaned"
          ],
          [
           "Q: So in other words, for a year and a half or almost two years",
           "RG-50.030.0752_trs_en_cleaned"
          ],
          [
           "Q: Okay. So it would be from September \"39 to September \"40, one could say?",
           "RG-50.030.0752_trs_en_cleaned"
          ],
          [
           "Q: Yeah?",
           "RG-50.030.0752_trs_en_cleaned"
          ],
          [
           "Q: Something like that. Your you still lived in your own home. You were under this this occupation regime.",
           "RG-50.030.0752_trs_en_cleaned"
          ],
          [
           "Q: It was bad but there was no sense yet that the Jews are going to be targeted for some special special treatment in the negative sense? It was it was bad for everybody?",
           "RG-50.030.0752_trs_en_cleaned"
          ],
          [
           "Q: Yeah. Of course. Of course.",
           "RG-50.030.0752_trs_en_cleaned"
          ],
          [
           "Q: Yeah. Yeah. It would be clues. It's from your child's memories that I'm trying to get this picture of what things were like.",
           "RG-50.030.0752_trs_en_cleaned"
          ],
          [
           "Q: Yeah. So did life stay the same, pretty much, until the ghetto was formed or were there some incidents before it happened that",
           "RG-50.030.0752_trs_en_cleaned"
          ],
          [
           "Q: Tell me what those were.",
           "RG-50.030.0752_trs_en_cleaned"
          ],
          [
           "Q: Okay.",
           "RG-50.030.0752_trs_en_cleaned"
          ],
          [
           "Q: Uh huh.",
           "RG-50.030.0752_trs_en_cleaned"
          ],
          [
           "Q: So how did they round them up? Did they block off streets or did they go by a list of names? How did this happen?",
           "RG-50.030.0752_trs_en_cleaned"
          ],
          [
           "Q: I see.",
           "RG-50.030.0752_trs_en_cleaned"
          ],
          [
           "Q: So these why like public executions?",
           "RG-50.030.0752_trs_en_cleaned"
          ],
          [
           "Q: Sure.",
           "RG-50.030.0752_trs_en_cleaned"
          ],
          [
           "Q: And the ghetto was in the small town you were born and grew up in?",
           "RG-50.030.0752_trs_en_cleaned"
          ],
          [
           "Q: Okay. Okay. And so did you have to move into those two streets?",
           "RG-50.030.0752_trs_en_cleaned"
          ],
          [
           "Q: Was there indoor plumbing?",
           "RG-50.030.0752_trs_en_cleaned"
          ],
          [
           "Q: Okay.",
           "RG-50.030.0752_trs_en_cleaned"
          ],
          [
           "Q: Okay.",
           "RG-50.030.0752_trs_en_cleaned"
          ],
          [
           "Q: Before they formed the ghetto, were you going to school or was school suspended?",
           "RG-50.030.0752_trs_en_cleaned"
          ],
          [
           "Q: Okay. And what about the Polish kids?",
           "RG-50.030.0752_trs_en_cleaned"
          ],
          [
           "Q: Okay. So during the day, you just hung out at home?",
           "RG-50.030.0752_trs_en_cleaned"
          ],
          [
           "Q: Uh huh.",
           "RG-50.030.0752_trs_en_cleaned"
          ],
          [
           "Q: Exactly.",
           "RG-50.030.0752_trs_en_cleaned"
          ],
          [
           "Q: And your father was with you when you moved into the ghetto?",
           "RG-50.030.0752_trs_en_cleaned"
          ],
          [
           "Q: Okay.",
           "RG-50.030.0752_trs_en_cleaned"
          ],
          [
           "Q: Oh, my.",
           "RG-50.030.0752_trs_en_cleaned"
          ],
          [
           "Q: Uh huh.",
           "RG-50.030.0752_trs_en_cleaned"
          ],
          [
           "Q: And what was what did you have to do?",
           "RG-50.030.0752_trs_en_cleaned"
          ],
          [
           "Q: An electric welder?",
           "RG-50.030.0752_trs_en_cleaned"
          ],
          [
           "Q: You were welding wheelbarrows?",
           "RG-50.030.0752_trs_en_cleaned"
          ],
          [
           "Q: Uh huh.",
           "RG-50.030.0752_trs_en_cleaned"
          ],
          [
           "Q: Well, did you get any kind of pay for this? Any kind of",
           "RG-50.030.0752_trs_en_cleaned"
          ],
          [
           "Q: No. So this was this was forced labor?",
           "RG-50.030.0752_trs_en_cleaned"
          ],
          [
           "Q: And no food?",
           "RG-50.030.0752_trs_en_cleaned"
          ],
          [
           "Q: And no and no ability to say no?",
           "RG-50.030.0752_trs_en_cleaned"
          ],
          [
           "Q: Yeah. What kind of job did your father do? Was he continuing being a mediator?",
           "RG-50.030.0752_trs_en_cleaned"
          ],
          [
           "Q: And what did your mother do?",
           "RG-50.030.0752_trs_en_cleaned"
          ],
          [
           "Q: Did you when you went to work in the morning, did you leave the ghetto area?",
           "RG-50.030.0752_trs_en_cleaned"
          ],
          [
           "Q: I see.",
           "RG-50.030.0752_trs_en_cleaned"
          ],
          [
           "Q: And the Jewish kapos are these people that you recognized and knew or were they strangers?",
           "RG-50.030.0752_trs_en_cleaned"
          ],
          [
           "Q: And were they were they harsh? Were they",
           "RG-50.030.0752_trs_en_cleaned"
          ],
          [
           "Q: That's true.",
           "RG-50.030.0752_trs_en_cleaned"
          ],
          [
           "Q: Yeah.",
           "RG-50.030.0752_trs_en_cleaned"
          ],
          [
           "Q: That's when the ghetto gets liquidated?",
           "RG-50.030.0752_trs_en_cleaned"
          ],
          [
           "Q: A little bit at a time. Okay.",
           "RG-50.030.0752_trs_en_cleaned"
          ],
          [
           "Q: Okay. But and was that something everybody noticed, that another group was gone and another group is gone?",
           "RG-50.030.0752_trs_en_cleaned"
          ],
          [
           "Q: Uh huh.",
           "RG-50.030.0752_trs_en_cleaned"
          ],
          [
           "Q: And, again, how was this done when it was a little bit at a time? Was it by a list or was it you were called to a square and then they would say every tenth person? How did those people who get rounded up",
           "RG-50.030.0752_trs_en_cleaned"
          ],
          [
           "Q: I see. Were there more people who were doing the same thing as your father was doing as a mediator?",
           "RG-50.030.0752_trs_en_cleaned"
          ],
          [
           "Q: Yeah. Yeah. Well, you told me earlier that there was a story you had to tell me. It was when I was asking about did you see people being beaten up, did you see people you know, violence in the streets. And can you tell me what what happened?",
           "RG-50.030.0752_trs_en_cleaned"
          ],
          [
           "Q: So it was civilians who would do this, not just Army?",
           "RG-50.030.0752_trs_en_cleaned"
          ],
          [
           "Q: Did you see corpses in the streets?",
           "RG-50.030.0752_trs_en_cleaned"
          ],
          [
           "Q: Uh huh.",
           "RG-50.030.0752_trs_en_cleaned"
          ],
          [
           "Q: Except for those two Polish Jewish soldiers.",
           "RG-50.030.0752_trs_en_cleaned"
          ],
          [
           "Q: Isee. I see.",
           "RG-50.030.0752_trs_en_cleaned"
          ],
          [
           "Q: Okay. So but you didn't see this public execution?",
           "RG-50.030.0752_trs_en_cleaned"
          ],
          [
           "Q: Remember, you said that there were a couple who were executed publicly. So",
           "RG-50.030.0752_trs_en_cleaned"
          ],
          [
           "Q: You saw it?",
           "RG-50.030.0752_trs_en_cleaned"
          ],
          [
           "Q: Yeah. That's an awful lot of violence for a 13 year old to see.",
           "RG-50.030.0752_trs_en_cleaned"
          ],
          [
           "Q: Yeah. Yeah. Did you yourself ever get beat up?",
           "RG-50.030.0752_trs_en_cleaned"
          ],
          [
           "Q: Okay. Were there I remember in the interview that we did in Los Angeles, you know, where where we were only able to speak with you for a short amount of time",
           "RG-50.030.0752_trs_en_cleaned"
          ],
          [
           "Q: you did mention something about the son of the German police chief.",
           "RG-50.030.0752_trs_en_cleaned"
          ],
          [
           "Q: What was that about?",
           "RG-50.030.0752_trs_en_cleaned"
          ],
          [
           "Q: Okay.",
           "RG-50.030.0752_trs_en_cleaned"
          ],
          [
           "Q: The wrong side.",
           "RG-50.030.0752_trs_en_cleaned"
          ],
          [
           "Q: Oh, you wore the yellow star?",
           "RG-50.030.0752_trs_en_cleaned"
          ],
          [
           "Q: Okay.",
           "RG-50.030.0752_trs_en_cleaned"
          ],
          [
           "Q: Oh, my goodness.",
           "RG-50.030.0752_trs_en_cleaned"
          ],
          [
           "Q: It could have very easily been that way.",
           "RG-50.030.0752_trs_en_cleaned"
          ],
          [
           "Q: So was this before you had moved into the ghetto, before",
           "RG-50.030.0752_trs_en_cleaned"
          ],
          [
           "Q: Okay. And did you ever try and get food for the family or help in trying to trade things so that there would be food?",
           "RG-50.030.0752_trs_en_cleaned"
          ],
          [
           "Q: Okay.",
           "RG-50.030.0752_trs_en_cleaned"
          ],
          [
           "Q: Okay. Then let's get to the part where you say that that, little by little, people, you know, are rounded up and disappear and, you know, they're taken away. When did this affect your family? How did things develop that okay.",
           "RG-50.030.0752_trs_en_cleaned"
          ],
          [
           "Q: Okay.",
           "RG-50.030.0752_trs_en_cleaned"
          ],
          [
           "Q: Uh huh.",
           "RG-50.030.0752_trs_en_cleaned"
          ],
          [
           "Q: How long were you there?",
           "RG-50.030.0752_trs_en_cleaned"
          ],
          [
           "Q: Okay.",
           "RG-50.030.0752_trs_en_cleaned"
          ],
          [
           "Q: So you knew where were they going?",
           "RG-50.030.0752_trs_en_cleaned"
          ],
          [
           "Q: And how did you know about Auschwitz?",
           "RG-50.030.0752_trs_en_cleaned"
          ],
          [
           "Q: So this would have been what year? 1942 or \"43?",
           "RG-50.030.0752_trs_en_cleaned"
          ],
          [
           "Q: \"42.",
           "RG-50.030.0752_trs_en_cleaned"
          ],
          [
           "Q: Okay. So you already knew about Auschwitz's existence, and the Jews were being sent there.",
           "RG-50.030.0752_trs_en_cleaned"
          ],
          [
           "Q: Did you know that did you know about the gas and the",
           "RG-50.030.0752_trs_en_cleaned"
          ],
          [
           "Q: Yeah.",
           "RG-50.030.0752_trs_en_cleaned"
          ],
          [
           "Q: Okay.",
           "RG-50.030.0752_trs_en_cleaned"
          ],
          [
           "Q: Uh huh.",
           "RG-50.030.0752_trs_en_cleaned"
          ],
          [
           "Q: This place where you were waiting and hiding it was outside the ghetto?",
           "RG-50.030.0752_trs_en_cleaned"
          ],
          [
           "Q: Okay. And so it wasn't far away from the ghetto, or it was far away?",
           "RG-50.030.0752_trs_en_cleaned"
          ],
          [
           "Q: Okay. Okay.",
           "RG-50.030.0752_trs_en_cleaned"
          ],
          [
           "Q: It was still within the town?",
           "RG-50.030.0752_trs_en_cleaned"
          ],
          [
           "Q: Okay.",
           "RG-50.030.0752_trs_en_cleaned"
          ],
          [
           "Q: Okay.",
           "RG-50.030.0752_trs_en_cleaned"
          ],
          [
           "Q: Yeah.",
           "RG-50.030.0752_trs_en_cleaned"
          ],
          [
           "Q: Yeah.",
           "RG-50.030.0752_trs_en_cleaned"
          ],
          [
           "Q: Where was your father's here? Was he there too?",
           "RG-50.030.0752_trs_en_cleaned"
          ],
          [
           "Q: I'm here, but I'm kind of shocked. So he kind of abandoned his family?",
           "RG-50.030.0752_trs_en_cleaned"
          ],
          [
           "Q: I see.",
           "RG-50.030.0752_trs_en_cleaned"
          ],
          [
           "Q: I see.",
           "RG-50.030.0752_trs_en_cleaned"
          ],
          [
           "Q: Yeah.",
           "RG-50.030.0752_trs_en_cleaned"
          ],
          [
           "Q: Yeah. Yeah.",
           "RG-50.030.0752_trs_en_cleaned"
          ],
          [
           "Q: What a hard thing.",
           "RG-50.030.0752_trs_en_cleaned"
          ],
          [
           "Q: Yeah.",
           "RG-50.030.0752_trs_en_cleaned"
          ],
          [
           "Q: So did you walk the streets to turn yourselves in to the Germans or they were invited",
           "RG-50.030.0752_trs_en_cleaned"
          ],
          [
           "Q: Uh huh.",
           "RG-50.030.0752_trs_en_cleaned"
          ],
          [
           "Q: Uh huh.",
           "RG-50.030.0752_trs_en_cleaned"
          ],
          [
           "Q: Okay.",
           "RG-50.030.0752_trs_en_cleaned"
          ],
          [
           "Q: That's right.",
           "RG-50.030.0752_trs_en_cleaned"
          ],
          [
           "Q: Uh huh.",
           "RG-50.030.0752_trs_en_cleaned"
          ],
          [
           "Q: I'm you know something? Is the phone farther away from you? Because now the sound is not as good.",
           "RG-50.030.0752_trs_en_cleaned"
          ],
          [
           "Q: Now it's better. Now it's better.",
           "RG-50.030.0752_trs_en_cleaned"
          ],
          [
           "Q: Now I can't hear you at all.",
           "RG-50.030.0752_trs_en_cleaned"
          ],
          [
           "Q: Now I can hear you. Itis at some points, it's muffled and at some points it's clearer.",
           "RG-50.030.0752_trs_en_cleaned"
          ],
          [
           "Q: Okay.",
           "RG-50.030.0752_trs_en_cleaned"
          ],
          [
           "Q: Now excuse me. Now it's muffled again.",
           "RG-50.030.0752_trs_en_cleaned"
          ],
          [
           "Q: We were fine we were fine until just, like, when I started to say the sound is muffled. Did you switch or move the phone a little bit?",
           "RG-50.030.0752_trs_en_cleaned"
          ],
          [
           "Q: Now it's perfect.",
           "RG-50.030.0752_trs_en_cleaned"
          ],
          [
           "Q: Okay.",
           "RG-50.030.0752_trs_en_cleaned"
          ],
          [
           "Q: Okay.",
           "RG-50.030.0752_trs_en_cleaned"
          ],
          [
           "Q: In front of you?",
           "RG-50.030.0752_trs_en_cleaned"
          ],
          [
           "Q: Yeah.Interview with Jacques Ribons 45",
           "RG-50.030.0752_trs_en_cleaned"
          ],
          [
           "Q: Oh, my gosh.",
           "RG-50.030.0752_trs_en_cleaned"
          ],
          [
           "Q: Okay. To that larger place. The larger place",
           "RG-50.030.0752_trs_en_cleaned"
          ],
          [
           "Q: I see.",
           "RG-50.030.0752_trs_en_cleaned"
          ],
          [
           "Q: Yeah.",
           "RG-50.030.0752_trs_en_cleaned"
          ],
          [
           "Q: Okay. An abbey?",
           "RG-50.030.0752_trs_en_cleaned"
          ],
          [
           "Q: Okay.",
           "RG-50.030.0752_trs_en_cleaned"
          ],
          [
           "Q: A convent?",
           "RG-50.030.0752_trs_en_cleaned"
          ],
          [
           "Q: Okay.",
           "RG-50.030.0752_trs_en_cleaned"
          ],
          [
           "Q: Oh, my.",
           "RG-50.030.0752_trs_en_cleaned"
          ],
          [
           "Q: All of it.",
           "RG-50.030.0752_trs_en_cleaned"
          ],
          [
           "Q: All of it.",
           "RG-50.030.0752_trs_en_cleaned"
          ],
          [
           "Q: Oh, my gosh.",
           "RG-50.030.0752_trs_en_cleaned"
          ],
          [
           "Q: Yeah.",
           "RG-50.030.0752_trs_en_cleaned"
          ],
          [
           "Q: Okay. Sosnowiec.",
           "RG-50.030.0752_trs_en_cleaned"
          ],
          [
           "Q: Uh huh.",
           "RG-50.030.0752_trs_en_cleaned"
          ],
          [
           "Q: Uh huh.",
           "RG-50.030.0752_trs_en_cleaned"
          ],
          [
           "Q: Yeah.",
           "RG-50.030.0752_trs_en_cleaned"
          ],
          [
           "Q: How did you do that?",
           "RG-50.030.0752_trs_en_cleaned"
          ],
          [
           "Q: Yeah.",
           "RG-50.030.0752_trs_en_cleaned"
          ],
          [
           "Q: Uh huh.",
           "RG-50.030.0752_trs_en_cleaned"
          ],
          [
           "Q: Uh huh.",
           "RG-50.030.0752_trs_en_cleaned"
          ],
          [
           "Q: So they put you in a different room and they took then your mother and your sister and your grandmother and niece they took them away to another camp?",
           "RG-50.030.0752_trs_en_cleaned"
          ],
          [
           "Q: They took them to Auschwitz.",
           "RG-50.030.0752_trs_en_cleaned"
          ],
          [
           "Q: Okay.",
           "RG-50.030.0752_trs_en_cleaned"
          ],
          [
           "Q: I see. Andontectrefieanneaushariarg tr hither btrmedortabeattfiealiaton Interview with Jacques Ribons 48",
           "RG-50.030.0752_trs_en_cleaned"
          ],
          [
           "Q: How do you say that again?",
           "RG-50.030.0752_trs_en_cleaned"
          ],
          [
           "Q: Blechhammen?",
           "RG-50.030.0752_trs_en_cleaned"
          ],
          [
           "Q: Blechhammer?",
           "RG-50.030.0752_trs_en_cleaned"
          ],
          [
           "Q: Yeah.",
           "RG-50.030.0752_trs_en_cleaned"
          ],
          [
           "Q: Which was a Yiddish what?",
           "RG-50.030.0752_trs_en_cleaned"
          ],
          [
           "Q: Arbeitzlager.Forced labor?",
           "RG-50.030.0752_trs_en_cleaned"
          ],
          [
           "Q: So",
           "RG-50.030.0752_trs_en_cleaned"
          ],
          [
           "Q: So",
           "RG-50.030.0752_trs_en_cleaned"
          ],
          [
           "Q: So you that conversation that you had with",
           "RG-50.030.0752_trs_en_cleaned"
          ],
          [
           "Q: The conversation you had with your mother where it was you know, you kind of decided that you would try to save yourself and your brother.",
           "RG-50.030.0752_trs_en_cleaned"
          ],
          [
           "Q: Well, that was that was I mean, that's an amazing what an amazing person that",
           "RG-50.030.0752_trs_en_cleaned"
          ],
          [
           "Q: that she said",
           "RG-50.030.0752_trs_en_cleaned"
          ],
          [
           "Q: Yeah. Yeah.",
           "RG-50.030.0752_trs_en_cleaned"
          ],
          [
           "Q: Well, but here's my other",
           "RG-50.030.0752_trs_en_cleaned"
          ],
          [
           "Q: Did you have much choice in being split apart or were you split apart by the authorities?",
           "RG-50.030.0752_trs_en_cleaned"
          ],
          [
           "Q: Isee. I see.",
           "RG-50.030.0752_trs_en_cleaned"
          ],
          [
           "Q: Okay. Okay. So that was the that was the situation that you found yourself in.",
           "RG-50.030.0752_trs_en_cleaned"
          ],
          [
           "Q: Really?",
           "RG-50.030.0752_trs_en_cleaned"
          ],
          [
           "Q: Hello? Hello?",
           "RG-50.030.0752_trs_en_cleaned"
          ],
          [
           "Q: Hello?",
           "RG-50.030.0752_trs_en_cleaned"
          ],
          [
           "Q: Yes. I'm here.",
           "RG-50.030.0752_trs_en_cleaned"
          ],
          [
           "Q: In the pentplas.",
           "RG-50.030.0752_trs_en_cleaned"
          ],
          [
           "Q: So you would be forced to see these things?",
           "RG-50.030.0752_trs_en_cleaned"
          ],
          [
           "Q: Oh.",
           "RG-50.030.0752_trs_en_cleaned"
          ],
          [
           "Q: Tell me, what kind of work did you do?",
           "RG-50.030.0752_trs_en_cleaned"
          ],
          [
           "Q: So you were there from 1942 to 1944?",
           "RG-50.030.0752_trs_en_cleaned"
          ],
          [
           "Q: Of course. Of course. Of course. But do you remember if you got there in the fall or in the winter? Do you remember the time of year that it was that you finally ended up there?",
           "RG-50.030.0752_trs_en_cleaned"
          ],
          [
           "Q: Okay. So it could have been harvest time? Could it have been",
           "RG-50.030.0752_trs_en_cleaned"
          ],
          [
           "Q: And tell me",
           "RG-50.030.0752_trs_en_cleaned"
          ],
          [
           "Q: It must have been hell on earth.",
           "RG-50.030.0752_trs_en_cleaned"
          ],
          [
           "Q: What did you eat? What did they give you to eat?",
           "RG-50.030.0752_trs_en_cleaned"
          ],
          [
           "Q: Uh huh.",
           "RG-50.030.0752_trs_en_cleaned"
          ],
          [
           "Q: Did a lot of people die just naturally because of exhaustion and hunger?",
           "RG-50.030.0752_trs_en_cleaned"
          ],
          [
           "Q: Uh huh.",
           "RG-50.030.0752_trs_en_cleaned"
          ],
          [
           "Q: He came back to the concentration camp?",
           "RG-50.030.0752_trs_en_cleaned"
          ],
          [
           "Q: To the labor camp. Excuse me.",
           "RG-50.030.0752_trs_en_cleaned"
          ],
          [
           "Q: Oh, my gosh.",
           "RG-50.030.0752_trs_en_cleaned"
          ],
          [
           "Q: Yeah.",
           "RG-50.030.0752_trs_en_cleaned"
          ],
          [
           "Q: Tell me, did your brother and you stay together? Were you able to stay together during this time?",
           "RG-50.030.0752_trs_en_cleaned"
          ],
          [
           "Q: What was",
           "RG-50.030.0752_trs_en_cleaned"
          ],
          [
           "Q: Do you think that yeah, how do you how do you explain that you survived?",
           "RG-50.030.0752_trs_en_cleaned"
          ],
          [
           "Q: I see.",
           "RG-50.030.0752_trs_en_cleaned"
          ],
          [
           "Q: Really?",
           "RG-50.030.0752_trs_en_cleaned"
          ],
          [
           "Q: He was Austrian rather than from Germany proper itself?",
           "RG-50.030.0752_trs_en_cleaned"
          ],
          [
           "Q: Did he?",
           "RG-50.030.0752_trs_en_cleaned"
          ],
          [
           "Q: So you met",
           "RG-50.030.0752_trs_en_cleaned"
          ],
          [
           "Q: But it's so unusual to here have a guard in the forced labor camp do that.",
           "RG-50.030.0752_trs_en_cleaned"
          ],
          [
           "Q: But let's just stay those two years in this camp. Tell me a little bit about the barracks that you that you lived in and about the daily routine and, you know, how large it was.",
           "RG-50.030.0752_trs_en_cleaned"
          ],
          [
           "Q: Oh, did you?",
           "RG-50.030.0752_trs_en_cleaned"
          ],
          [
           "Q: Uh huh. With your daughter.",
           "RG-50.030.0752_trs_en_cleaned"
          ],
          [
           "Q: So you think it was a part of Poland that had been annexed?",
           "RG-50.030.0752_trs_en_cleaned"
          ],
          [
           "Q: Yeah. Yeah.",
           "RG-50.030.0752_trs_en_cleaned"
          ],
          [
           "Q: Yeah.",
           "RG-50.030.0752_trs_en_cleaned"
          ],
          [
           "Q: When you were you were about to talk about after those two years, and I still wanted to talk some more details about those two years.",
           "RG-50.030.0752_trs_en_cleaned"
          ],
          [
           "Q: A Yiddish esvangzva arbeitzlager, yeah.",
           "RG-50.030.0752_trs_en_cleaned"
          ],
          [
           "Q: Okay. This is a continuation of the United States Holocaust Memorial Museum interview with Mr. Jacques Ribons. And so we were talking about the Yiddish Itzvongzaviteslaza (phonetic), which is a Jewish forced labor camp --",
           "RG-50.030.0752_trs_en_cleaned"
          ],
          [
           "Q: -- that you were part of. And I was asking things like what was the living situation.",
           "RG-50.030.0752_trs_en_cleaned"
          ],
          [
           "Q: Okay.",
           "RG-50.030.0752_trs_en_cleaned"
          ],
          [
           "Q: With straw mattresses, uh-huh.",
           "RG-50.030.0752_trs_en_cleaned"
          ],
          [
           "Q: Okay.",
           "RG-50.030.0752_trs_en_cleaned"
          ],
          [
           "Q: I see.",
           "RG-50.030.0752_trs_en_cleaned"
          ],
          [
           "Q: And of course --",
           "RG-50.030.0752_trs_en_cleaned"
          ],
          [
           "Q: (Laughing) Yeah, yeah.",
           "RG-50.030.0752_trs_en_cleaned"
          ],
          [
           "Q: So they never really found out anything, did they?",
           "RG-50.030.0752_trs_en_cleaned"
          ],
          [
           "Q: Yeah.",
           "RG-50.030.0752_trs_en_cleaned"
          ],
          [
           "Q: So, tell me, was it the same camp commandants the entire time or was there a change?",
           "RG-50.030.0752_trs_en_cleaned"
          ],
          [
           "Q: I was going ask you --",
           "RG-50.030.0752_trs_en_cleaned"
          ],
          [
           "Q: I was going to ask you were there any women in the camp.",
           "RG-50.030.0752_trs_en_cleaned"
          ],
          [
           "Q: Isee. I see.",
           "RG-50.030.0752_trs_en_cleaned"
          ],
          [
           "Q: So you were tattooed?",
           "RG-50.030.0752_trs_en_cleaned"
          ],
          [
           "Q: What's your number?",
           "RG-50.030.0752_trs_en_cleaned"
          ],
          [
           "Q: 178212.",
           "RG-50.030.0752_trs_en_cleaned"
          ],
          [
           "Q: Did that mean that there were -- you were -- there were at least 17,212 prisoners?",
           "RG-50.030.0752_trs_en_cleaned"
          ],
          [
           "Q: Were the women ever used for anything else? I mean, did they ever have actual jobs or was it they --",
           "RG-50.030.0752_trs_en_cleaned"
          ],
          [
           "Q: -- they were prostituted?",
           "RG-50.030.0752_trs_en_cleaned"
          ],
          [
           "Q: I know, I know. But it --",
           "RG-50.030.0752_trs_en_cleaned"
          ],
          [
           "Q: Well, it's a tragedy and a catastrophe all the way around.",
           "RG-50.030.0752_trs_en_cleaned"
          ],
          [
           "Q: Yeah.",
           "RG-50.030.0752_trs_en_cleaned"
          ],
          [
           "Q: Oh, really? So then you became one of the subcamps of Auschwitz.",
           "RG-50.030.0752_trs_en_cleaned"
          ],
          [
           "Q: Uh-huh. Uh-huh. And so you -- did your treatment change? Did the food change?",
           "RG-50.030.0752_trs_en_cleaned"
          ],
          [
           "Q: Oh, my goodness.",
           "RG-50.030.0752_trs_en_cleaned"
          ],
          [
           "Q: Yeah.",
           "RG-50.030.0752_trs_en_cleaned"
          ],
          [
           "Q: Do you remember the kind of music they were forced to play?",
           "RG-50.030.0752_trs_en_cleaned"
          ],
          [
           "Q: Marching music.",
           "RG-50.030.0752_trs_en_cleaned"
          ],
          [
           "Q: Was there anybody, in addition to that old guard, was there anybody who behaved in a more humane way towards the prisoners amongst the guards or the, you know, the army or even the SS or were they all pretty brutal?",
           "RG-50.030.0752_trs_en_cleaned"
          ],
          [
           "Q: Okay.",
           "RG-50.030.0752_trs_en_cleaned"
          ],
          [
           "Q: Right.",
           "RG-50.030.0752_trs_en_cleaned"
          ],
          [
           "Q: Uh-huh.",
           "RG-50.030.0752_trs_en_cleaned"
          ],
          [
           "Q: Oh, my dear. Oh, my dear.",
           "RG-50.030.0752_trs_en_cleaned"
          ],
          [
           "Q: I can hear you. Ican hear you. Again, but I'm just speechless because I'm trying to imagine a young kid -- I mean, for anybody this would be, this would be horrifying but particularly for young teenage boys, you know, young teenagers.",
           "RG-50.030.0752_trs_en_cleaned"
          ],
          [
           "Q: Excuse me?",
           "RG-50.030.0752_trs_en_cleaned"
          ],
          [
           "Q: Yeah.",
           "RG-50.030.0752_trs_en_cleaned"
          ],
          [
           "Q: And your brother too?",
           "RG-50.030.0752_trs_en_cleaned"
          ],
          [
           "Q: Okay.",
           "RG-50.030.0752_trs_en_cleaned"
          ],
          [
           "Q: Uh-huh. On the bottom bunk.",
           "RG-50.030.0752_trs_en_cleaned"
          ],
          [
           "Q: Did he do the same work that you did?",
           "RG-50.030.0752_trs_en_cleaned"
          ],
          [
           "Q: Uh-huh.",
           "RG-50.030.0752_trs_en_cleaned"
          ],
          [
           "Q: Three sets of brothers.",
           "RG-50.030.0752_trs_en_cleaned"
          ],
          [
           "Q: Wow.",
           "RG-50.030.0752_trs_en_cleaned"
          ],
          [
           "Q: I see. And you were in that camp.",
           "RG-50.030.0752_trs_en_cleaned"
          ],
          [
           "Q: So you kept in touch with them after the war.",
           "RG-50.030.0752_trs_en_cleaned"
          ],
          [
           "Q: But was he in this camp with you?",
           "RG-50.030.0752_trs_en_cleaned"
          ],
          [
           "Q: No.",
           "RG-50.030.0752_trs_en_cleaned"
          ],
          [
           "Q: So were you transferred at some point?",
           "RG-50.030.0752_trs_en_cleaned"
          ],
          [
           "Q: Yeah, let's go back to the story.",
           "RG-50.030.0752_trs_en_cleaned"
          ],
          [
           "Q: Yeah.",
           "RG-50.030.0752_trs_en_cleaned"
          ],
          [
           "Q: Yeah.",
           "RG-50.030.0752_trs_en_cleaned"
          ],
          [
           "Q: Yeah.",
           "RG-50.030.0752_trs_en_cleaned"
          ],
          [
           "Q: My goodness.",
           "RG-50.030.0752_trs_en_cleaned"
          ],
          [
           "Q: Yeah, of course.",
           "RG-50.030.0752_trs_en_cleaned"
          ],
          [
           "Q: Gross-Rosen, okay.",
           "RG-50.030.0752_trs_en_cleaned"
          ],
          [
           "Q: Right.",
           "RG-50.030.0752_trs_en_cleaned"
          ],
          [
           "Q: Okay.",
           "RG-50.030.0752_trs_en_cleaned"
          ],
          [
           "Q: Right. And Buchenwald is really close to Weimar.",
           "RG-50.030.0752_trs_en_cleaned"
          ],
          [
           "Q: Oh. My goodness.",
           "RG-50.030.0752_trs_en_cleaned"
          ],
          [
           "Q: So those that survived were taken to Buchenwald.",
           "RG-50.030.0752_trs_en_cleaned"
          ],
          [
           "Q: Okay.",
           "RG-50.030.0752_trs_en_cleaned"
          ],
          [
           "Q: Yeah.",
           "RG-50.030.0752_trs_en_cleaned"
          ],
          [
           "Q: Uh-huh. What makes them famous?",
           "RG-50.030.0752_trs_en_cleaned"
          ],
          [
           "Q: Huh. Okay.",
           "RG-50.030.0752_trs_en_cleaned"
          ],
          [
           "Q: Okay.",
           "RG-50.030.0752_trs_en_cleaned"
          ],
          [
           "Q: Oh, dear.",
           "RG-50.030.0752_trs_en_cleaned"
          ],
          [
           "Q: Oh, dear.",
           "RG-50.030.0752_trs_en_cleaned"
          ],
          [
           "Q: Was it an infirmary or what should have been an infirmary?",
           "RG-50.030.0752_trs_en_cleaned"
          ],
          [
           "Q: Oh, my goodnesses.",
           "RG-50.030.0752_trs_en_cleaned"
          ],
          [
           "Q: I see.",
           "RG-50.030.0752_trs_en_cleaned"
          ],
          [
           "Q: Oh, my goodness. So what did he do?",
           "RG-50.030.0752_trs_en_cleaned"
          ],
          [
           "Q: Shall we pause for a little bit?",
           "RG-50.030.0752_trs_en_cleaned"
          ],
          [
           "Q: Okay. I'm going to pause.",
           "RG-50.030.0752_trs_en_cleaned"
          ],
          [
           "Q: Okay. I'll pause.",
           "RG-50.030.0752_trs_en_cleaned"
          ],
          [
           "Q: Okay. This is a continuation of the United States Holocaust Memorial Museum interview with Mr. Jacques Ribons. Okay. I'm back. So he came -- I was asking you, what did this man do to help save you?",
           "RG-50.030.0752_trs_en_cleaned"
          ],
          [
           "Q: Okay.",
           "RG-50.030.0752_trs_en_cleaned"
          ],
          [
           "Q: Yeah.",
           "RG-50.030.0752_trs_en_cleaned"
          ],
          [
           "Q: Yeah.",
           "RG-50.030.0752_trs_en_cleaned"
          ],
          [
           "Q: Yeah.",
           "RG-50.030.0752_trs_en_cleaned"
          ],
          [
           "Q: Within Buchenwald?",
           "RG-50.030.0752_trs_en_cleaned"
          ],
          [
           "Q: It was --",
           "RG-50.030.0752_trs_en_cleaned"
          ],
          [
           "Q: I see.",
           "RG-50.030.0752_trs_en_cleaned"
          ],
          [
           "Q: Okay.",
           "RG-50.030.0752_trs_en_cleaned"
          ],
          [
           "Q: Oh. Could it have been, like, farina or cream of wheat? I mean, whatever --",
           "RG-50.030.0752_trs_en_cleaned"
          ],
          [
           "Q:-- the generic name would be?",
           "RG-50.030.0752_trs_en_cleaned"
          ],
          [
           "Q: Okay.",
           "RG-50.030.0752_trs_en_cleaned"
          ],
          [
           "Q: Uh-huh. How long did you stay there in that room with those --",
           "RG-50.030.0752_trs_en_cleaned"
          ],
          [
           "Q: Okay.",
           "RG-50.030.0752_trs_en_cleaned"
          ],
          [
           "Q: Yeah.",
           "RG-50.030.0752_trs_en_cleaned"
          ],
          [
           "Q: Uh-huh.",
           "RG-50.030.0752_trs_en_cleaned"
          ],
          [
           "Q: Erfurt is a town, yes, a small city.",
           "RG-50.030.0752_trs_en_cleaned"
          ],
          [
           "Q: That's right.",
           "RG-50.030.0752_trs_en_cleaned"
          ],
          [
           "Q: So this is a tank, a German tank.",
           "RG-50.030.0752_trs_en_cleaned"
          ],
          [
           "Q: This is a U.S. tank?",
           "RG-50.030.0752_trs_en_cleaned"
          ],
          [
           "Q: Uh-huh.",
           "RG-50.030.0752_trs_en_cleaned"
          ],
          [
           "Q: Yeah.",
           "RG-50.030.0752_trs_en_cleaned"
          ],
          [
           "Q: So, in other words, the Americans liberated you in Buchenwald.",
           "RG-50.030.0752_trs_en_cleaned"
          ],
          [
           "Q: When you're talking about they took them out, who took them out?",
           "RG-50.030.0752_trs_en_cleaned"
          ],
          [
           "Q: That's what I thought. Okay. So the Germans --",
           "RG-50.030.0752_trs_en_cleaned"
          ],
          [
           "Q: Before they came.",
           "RG-50.030.0752_trs_en_cleaned"
          ],
          [
           "Q: Yeah, yeah.",
           "RG-50.030.0752_trs_en_cleaned"
          ],
          [
           "Q: Really?",
           "RG-50.030.0752_trs_en_cleaned"
          ],
          [
           "Q: What was that like? My God, three, almost three years then that you had been in the camp system, that you had been under such conditions. And all of a sudden, these Gls appear.",
           "RG-50.030.0752_trs_en_cleaned"
          ],
          [
           "Q: We can stop. Hang on.ontectnetonancedjusietneey for ther biormatierabouttfisstecion Interview with Jacques Ribons 69",
           "RG-50.030.0752_trs_en_cleaned"
          ],
          [
           "Q: Okay. They came in.",
           "RG-50.030.0752_trs_en_cleaned"
          ],
          [
           "Q: I see.",
           "RG-50.030.0752_trs_en_cleaned"
          ],
          [
           "Q: Yeah.",
           "RG-50.030.0752_trs_en_cleaned"
          ],
          [
           "Q: So you went to France?",
           "RG-50.030.0752_trs_en_cleaned"
          ],
          [
           "Q: With your brother?",
           "RG-50.030.0752_trs_en_cleaned"
          ],
          [
           "Q: Who also went to France.",
           "RG-50.030.0752_trs_en_cleaned"
          ],
          [
           "Q: How did you get there?",
           "RG-50.030.0752_trs_en_cleaned"
          ],
          [
           "Q: They took you by train.",
           "RG-50.030.0752_trs_en_cleaned"
          ],
          [
           "Q: Okay. So you end up in France.",
           "RG-50.030.0752_trs_en_cleaned"
          ],
          [
           "Q: Before we go to France, what was in France, tell me, when you were in Buchenwald and right before the Americans come, what happened with the German guards and the German authorities?",
           "RG-50.030.0752_trs_en_cleaned"
          ],
          [
           "Q: Yeah.",
           "RG-50.030.0752_trs_en_cleaned"
          ],
          [
           "Q: Right.",
           "RG-50.030.0752_trs_en_cleaned"
          ],
          [
           "Q: Yes.",
           "RG-50.030.0752_trs_en_cleaned"
          ],
          [
           "Q: Yes.",
           "RG-50.030.0752_trs_en_cleaned"
          ],
          [
           "Q: But I was backing up to ask you what had happened to all of the German guards. Did they disappear? Were they arrested? Did they run away?",
           "RG-50.030.0752_trs_en_cleaned"
          ],
          [
           "Q: Pardon?",
           "RG-50.030.0752_trs_en_cleaned"
          ],
          [
           "Q: Uh-huh.",
           "RG-50.030.0752_trs_en_cleaned"
          ],
          [
           "Q: I see.",
           "RG-50.030.0752_trs_en_cleaned"
          ],
          [
           "Q: Got it.",
           "RG-50.030.0752_trs_en_cleaned"
          ],
          [
           "Q: Yeah.",
           "RG-50.030.0752_trs_en_cleaned"
          ],
          [
           "Q: That's right. Political prisoners. There were a lot of political prisoners.",
           "RG-50.030.0752_trs_en_cleaned"
          ],
          [
           "Q: Yeah. And so --",
           "RG-50.030.0752_trs_en_cleaned"
          ],
          [
           "Q: Yeah. Did --",
           "RG-50.030.0752_trs_en_cleaned"
          ],
          [
           "Q: Yeah.",
           "RG-50.030.0752_trs_en_cleaned"
          ],
          [
           "Q: Really? Well, I --",
           "RG-50.030.0752_trs_en_cleaned"
          ],
          [
           "Q: Yeah.",
           "RG-50.030.0752_trs_en_cleaned"
          ],
          [
           "Q: Yeah.",
           "RG-50.030.0752_trs_en_cleaned"
          ],
          [
           "Q: Yeah. Yeah. So you end up in Paris. I mean, excuse me, in France. Was it Paris or was it somewhere else?",
           "RG-50.030.0752_trs_en_cleaned"
          ],
          [
           "Q: Excuse me?",
           "RG-50.030.0752_trs_en_cleaned"
          ],
          [
           "Q: Okay.",
           "RG-50.030.0752_trs_en_cleaned"
          ],
          [
           "Q: Yeah.Interview with Jacques Ribons 73",
           "RG-50.030.0752_trs_en_cleaned"
          ],
          [
           "Q: Okay.",
           "RG-50.030.0752_trs_en_cleaned"
          ],
          [
           "Q: That's right.",
           "RG-50.030.0752_trs_en_cleaned"
          ],
          [
           "Q: Okay.",
           "RG-50.030.0752_trs_en_cleaned"
          ],
          [
           "Q: Well, tell me about it. What is it?",
           "RG-50.030.0752_trs_en_cleaned"
          ],
          [
           "Q: Was it a government organization?",
           "RG-50.030.0752_trs_en_cleaned"
          ],
          [
           "Q: Was it a Jewish organization?",
           "RG-50.030.0752_trs_en_cleaned"
          ],
          [
           "Q: Okay.",
           "RG-50.030.0752_trs_en_cleaned"
          ],
          [
           "Q: How do you spell the acronym?",
           "RG-50.030.0752_trs_en_cleaned"
          ],
          [
           "Q: O-S-E, okay. Okay. OSE. And --",
           "RG-50.030.0752_trs_en_cleaned"
          ],
          [
           "Q: Wow. And what about you? When you got off the train, what kind of a place were you --",
           "RG-50.030.0752_trs_en_cleaned"
          ],
          [
           "Q: Okay.",
           "RG-50.030.0752_trs_en_cleaned"
          ],
          [
           "Q: Okay.",
           "RG-50.030.0752_trs_en_cleaned"
          ],
          [
           "Q: So you were in France for, let's say, almost two years?",
           "RG-50.030.0752_trs_en_cleaned"
          ],
          [
           "Q: Did you learn --",
           "RG-50.030.0752_trs_en_cleaned"
          ],
          [
           "Q: Well, those kind of dates you don't forget.",
           "RG-50.030.0752_trs_en_cleaned"
          ],
          [
           "Q: April 11th was freedom. And was your brother with you?",
           "RG-50.030.0752_trs_en_cleaned"
          ],
          [
           "Q: That's right. That's right. So did your brother go with you to France as well?",
           "RG-50.030.0752_trs_en_cleaned"
          ],
          [
           "Q: Okay.",
           "RG-50.030.0752_trs_en_cleaned"
          ],
          [
           "Q: Same school, same everything?",
           "RG-50.030.0752_trs_en_cleaned"
          ],
          [
           "Q: He was in the same religious family, then?",
           "RG-50.030.0752_trs_en_cleaned"
          ],
          [
           "Q: It was ahome. Excuse me. Uh-huh.",
           "RG-50.030.0752_trs_en_cleaned"
          ],
          [
           "Q: I see.",
           "RG-50.030.0752_trs_en_cleaned"
          ],
          [
           "Q: Yeah. The Rothschilds, yeah.",
           "RG-50.030.0752_trs_en_cleaned"
          ],
          [
           "Q: Oh. So is that where you met him?",
           "RG-50.030.0752_trs_en_cleaned"
          ],
          [
           "Q: Okay. Okay. Did you learn French?",
           "RG-50.030.0752_trs_en_cleaned"
          ],
          [
           "Q: Did you learn French?",
           "RG-50.030.0752_trs_en_cleaned"
          ],
          [
           "Q: Well, but it's such a huge change, where one month you were a prisoner in a concentration camp and month and a half later you're in a home in France and the following September you go to school.",
           "RG-50.030.0752_trs_en_cleaned"
          ],
          [
           "Q: Right.",
           "RG-50.030.0752_trs_en_cleaned"
          ],
          [
           "Q: Right.",
           "RG-50.030.0752_trs_en_cleaned"
          ],
          [
           "Q: Right.",
           "RG-50.030.0752_trs_en_cleaned"
          ],
          [
           "Q: Oh, really.",
           "RG-50.030.0752_trs_en_cleaned"
          ],
          [
           "Q: Yeah. But you were there for a while.",
           "RG-50.030.0752_trs_en_cleaned"
          ],
          [
           "Q: Yeah.",
           "RG-50.030.0752_trs_en_cleaned"
          ],
          [
           "Q: No.",
           "RG-50.030.0752_trs_en_cleaned"
          ],
          [
           "Q: Yes.",
           "RG-50.030.0752_trs_en_cleaned"
          ],
          [
           "Q: Yeah?",
           "RG-50.030.0752_trs_en_cleaned"
          ],
          [
           "Q: I see.",
           "RG-50.030.0752_trs_en_cleaned"
          ],
          [
           "Q: Okay. That's okay.",
           "RG-50.030.0752_trs_en_cleaned"
          ],
          [
           "Q: Well, in 1945 -- you say your birthday is in August. So in 1945 you turned 18 years old, right?",
           "RG-50.030.0752_trs_en_cleaned"
          ],
          [
           "Q: Excuse me. You born in October.",
           "RG-50.030.0752_trs_en_cleaned"
          ],
          [
           "Q: Okay. So it's October --",
           "RG-50.030.0752_trs_en_cleaned"
          ],
          [
           "Q: Right.",
           "RG-50.030.0752_trs_en_cleaned"
          ],
          [
           "Q: Ah, I see.",
           "RG-50.030.0752_trs_en_cleaned"
          ],
          [
           "Q: Okay. So you --",
           "RG-50.030.0752_trs_en_cleaned"
          ],
          [
           "Q: Okay. Okay. So officially you were born --",
           "RG-50.030.0752_trs_en_cleaned"
          ],
          [
           "Q: -- August 15th but in reality you were born October 15th?",
           "RG-50.030.0752_trs_en_cleaned"
          ],
          [
           "Q: Okay. 1927.",
           "RG-50.030.0752_trs_en_cleaned"
          ],
          [
           "Q: Okay.",
           "RG-50.030.0752_trs_en_cleaned"
          ],
          [
           "Q: So here's my question. By August 15th, 1945, you are free.",
           "RG-50.030.0752_trs_en_cleaned"
          ],
          [
           "Q: And -- but for one --",
           "RG-50.030.0752_trs_en_cleaned"
          ],
          [
           "Q: Correct. Correct. But what I want to say is, at age 18, one-third of your life had been spent in, one could say, absolute fear from the time the war started, when you were 12, and it started just a -- you know, just before your 12th birthday --",
           "RG-50.030.0752_trs_en_cleaned"
          ],
          [
           "Q: -- on September Ist. And I wonder what kind of a person you were at age 18, you know, having gone through all that. How would you describe yourself at the time?",
           "RG-50.030.0752_trs_en_cleaned"
          ],
          [
           "Q: Okay.",
           "RG-50.030.0752_trs_en_cleaned"
          ],
          [
           "Q: Okay.",
           "RG-50.030.0752_trs_en_cleaned"
          ],
          [
           "Q: Okay.",
           "RG-50.030.0752_trs_en_cleaned"
          ],
          [
           "Q: Okay.",
           "RG-50.030.0752_trs_en_cleaned"
          ],
          [
           "Q: Yeah.",
           "RG-50.030.0752_trs_en_cleaned"
          ],
          [
           "Q: So, in other words, your mother's brother?",
           "RG-50.030.0752_trs_en_cleaned"
          ],
          [
           "Q: Oh, my goodness. Had you known about him before?",
           "RG-50.030.0752_trs_en_cleaned"
          ],
          [
           "Q: Yeah.",
           "RG-50.030.0752_trs_en_cleaned"
          ],
          [
           "Q: Sure.(Pause)",
           "RG-50.030.0752_trs_en_cleaned"
          ],
          [
           "Q: Okay.",
           "RG-50.030.0752_trs_en_cleaned"
          ],
          [
           "Q: I'm on. I'm here.",
           "RG-50.030.0752_trs_en_cleaned"
          ],
          [
           "Q: Okay.",
           "RG-50.030.0752_trs_en_cleaned"
          ],
          [
           "Q: That's right, uh-huh.",
           "RG-50.030.0752_trs_en_cleaned"
          ],
          [
           "Q: What kind of company?",
           "RG-50.030.0752_trs_en_cleaned"
          ],
          [
           "Q: Botany 500?",
           "RG-50.030.0752_trs_en_cleaned"
          ],
          [
           "Q: Okay.",
           "RG-50.030.0752_trs_en_cleaned"
          ],
          [
           "Q: I see.",
           "RG-50.030.0752_trs_en_cleaned"
          ],
          [
           "Q: That's okay. Do you want to take a pause?",
           "RG-50.030.0752_trs_en_cleaned"
          ],
          [
           "Q: Okay. We'll pause a little bit.",
           "RG-50.030.0752_trs_en_cleaned"
          ],
          [
           "Q: Okay.",
           "RG-50.030.0752_trs_en_cleaned"
          ],
          [
           "Q: Okay. So we're continuing. And you're saying your uncle was a weaver here for many years in the United States. And he found you through a newspaper.",
           "RG-50.030.0752_trs_en_cleaned"
          ],
          [
           "Q: He spoke to you and asked if you were so and so's son and it turns out that he was your mother's brother.",
           "RG-50.030.0752_trs_en_cleaned"
          ],
          [
           "Q: So what happened after that?",
           "RG-50.030.0752_trs_en_cleaned"
          ],
          [
           "Q: Yes.",
           "RG-50.030.0752_trs_en_cleaned"
          ],
          [
           "Q: Yes.",
           "RG-50.030.0752_trs_en_cleaned"
          ],
          [
           "Q: So they guaranteed you. The matzo company gave their guarantee.",
           "RG-50.030.0752_trs_en_cleaned"
          ],
          [
           "Q: They were like your official sponsors.",
           "RG-50.030.0752_trs_en_cleaned"
          ],
          [
           "Q: Yeah.",
           "RG-50.030.0752_trs_en_cleaned"
          ],
          [
           "Q: Okay.",
           "RG-50.030.0752_trs_en_cleaned"
          ],
          [
           "Q: Okay.",
           "RG-50.030.0752_trs_en_cleaned"
          ],
          [
           "Q: Okay.",
           "RG-50.030.0752_trs_en_cleaned"
          ],
          [
           "Q: Do you remember the name of it?",
           "RG-50.030.0752_trs_en_cleaned"
          ],
          [
           "Q: Not right now. That's okay. That's not a problem. So, anyway, they put you on this ship and you're on your way to the United States.",
           "RG-50.030.0752_trs_en_cleaned"
          ],
          [
           "Q: Okay.",
           "RG-50.030.0752_trs_en_cleaned"
          ],
          [
           "Q: There are a couple of them that were pretty famous but the names slips my mind as well. One of the first ships out of Europe was used for military purposes. Anyway, was ita --",
           "RG-50.030.0752_trs_en_cleaned"
          ],
          [
           "Q: -- Swedish ship or a U.S. ship?",
           "RG-50.030.0752_trs_en_cleaned"
          ],
          [
           "Q: Yes, but was it -- belonged to the Americans?",
           "RG-50.030.0752_trs_en_cleaned"
          ],
          [
           "Q: Okay.",
           "RG-50.030.0752_trs_en_cleaned"
          ],
          [
           "Q: Okay.",
           "RG-50.030.0752_trs_en_cleaned"
          ],
          [
           "Q: Okay. Got it.",
           "RG-50.030.0752_trs_en_cleaned"
          ],
          [
           "Q: Okay.",
           "RG-50.030.0752_trs_en_cleaned"
          ],
          [
           "Q: Yeah.",
           "RG-50.030.0752_trs_en_cleaned"
          ],
          [
           "Q: I remember, yes, it's the tip of Sweden. The bottom part, yes.",
           "RG-50.030.0752_trs_en_cleaned"
          ],
          [
           "Q: Yeah.",
           "RG-50.030.0752_trs_en_cleaned"
          ],
          [
           "Q: What did you do?",
           "RG-50.030.0752_trs_en_cleaned"
          ],
          [
           "Q: Yeah.",
           "RG-50.030.0752_trs_en_cleaned"
          ],
          [
           "Q: Where did your uncle live, by the way? What part of the U.S.?",
           "RG-50.030.0752_trs_en_cleaned"
          ],
          [
           "Q: Your uncle lived in New York but he wasn't able to --",
           "RG-50.030.0752_trs_en_cleaned"
          ],
          [
           "Q: He lived in Paterson, New Jersey?",
           "RG-50.030.0752_trs_en_cleaned"
          ],
          [
           "Q: I see.",
           "RG-50.030.0752_trs_en_cleaned"
          ],
          [
           "Q: HIAS could very well be it.",
           "RG-50.030.0752_trs_en_cleaned"
          ],
          [
           "Q: Oh.",
           "RG-50.030.0752_trs_en_cleaned"
          ],
          [
           "Q: Of course.",
           "RG-50.030.0752_trs_en_cleaned"
          ],
          [
           "Q: Oh, my goodness. Oh, my goodness.",
           "RG-50.030.0752_trs_en_cleaned"
          ],
          [
           "Q: Yeah.",
           "RG-50.030.0752_trs_en_cleaned"
          ],
          [
           "Q: Yeah.",
           "RG-50.030.0752_trs_en_cleaned"
          ],
          [
           "Q: Yeah.",
           "RG-50.030.0752_trs_en_cleaned"
          ],
          [
           "Q: And you didn't speak any English.",
           "RG-50.030.0752_trs_en_cleaned"
          ],
          [
           "Q: Oh, dear. Oh, dear. So you were in New Jersey and you started looking for work.",
           "RG-50.030.0752_trs_en_cleaned"
          ],
          [
           "Q: Clear across the country.",
           "RG-50.030.0752_trs_en_cleaned"
          ],
          [
           "Q: Yeah.",
           "RG-50.030.0752_trs_en_cleaned"
          ],
          [
           "Q: Okay.",
           "RG-50.030.0752_trs_en_cleaned"
          ],
          [
           "Q: Yeah.",
           "RG-50.030.0752_trs_en_cleaned"
          ],
          [
           "Q: Yeah.",
           "RG-50.030.0752_trs_en_cleaned"
          ],
          [
           "Q: Yeah.",
           "RG-50.030.0752_trs_en_cleaned"
          ],
          [
           "Q: Really?",
           "RG-50.030.0752_trs_en_cleaned"
          ],
          [
           "Q: Really? In the newspaper at the time?",
           "RG-50.030.0752_trs_en_cleaned"
          ],
          [
           "Q: Paterson Evening News.",
           "RG-50.030.0752_trs_en_cleaned"
          ],
          [
           "Q: Well, if I can look online, I might just find one. You never know.",
           "RG-50.030.0752_trs_en_cleaned"
          ],
          [
           "Q: I'll take a look. I'll take a look in your folder. I don't remember seeing one but I'll take a look.",
           "RG-50.030.0752_trs_en_cleaned"
          ],
          [
           "Q: Okay.",
           "RG-50.030.0752_trs_en_cleaned"
          ],
          [
           "Q: But I had a question.",
           "RG-50.030.0752_trs_en_cleaned"
          ],
          [
           "Q: I know I'm interrupting but I had a question.",
           "RG-50.030.0752_trs_en_cleaned"
          ],
          [
           "Q: And it was when you were still back in 1945 --",
           "RG-50.030.0752_trs_en_cleaned"
          ],
          [
           "Q: -- before you come to the United States.",
           "RG-50.030.0752_trs_en_cleaned"
          ],
          [
           "Q: When you turned 18, tell me, what kind of a person were you? I mean, most 18-year- olds today are still -- you can't call them kids anymore but they're not yet adults and yet you had seen so much. You had been through so much. How do you describe the person who turned 18 years old in 1945?",
           "RG-50.030.0752_trs_en_cleaned"
          ],
          [
           "Q: Yeah.",
           "RG-50.030.0752_trs_en_cleaned"
          ],
          [
           "Q: Yeah.",
           "RG-50.030.0752_trs_en_cleaned"
          ],
          [
           "Q: Yes.",
           "RG-50.030.0752_trs_en_cleaned"
          ],
          [
           "Q: Okay.",
           "RG-50.030.0752_trs_en_cleaned"
          ],
          [
           "Q: Right.",
           "RG-50.030.0752_trs_en_cleaned"
          ],
          [
           "Q: Yeah.",
           "RG-50.030.0752_trs_en_cleaned"
          ],
          [
           "Q: Yes.",
           "RG-50.030.0752_trs_en_cleaned"
          ],
          [
           "Q: So you didn't have much privacy.",
           "RG-50.030.0752_trs_en_cleaned"
          ],
          [
           "Q: Yeah.",
           "RG-50.030.0752_trs_en_cleaned"
          ],
          [
           "Q: Yeah.",
           "RG-50.030.0752_trs_en_cleaned"
          ],
          [
           "Q: No privacy at all.",
           "RG-50.030.0752_trs_en_cleaned"
          ],
          [
           "Q: Yeah.",
           "RG-50.030.0752_trs_en_cleaned"
          ],
          [
           "Q: How did you get there?",
           "RG-50.030.0752_trs_en_cleaned"
          ],
          [
           "Q: On a bus?",
           "RG-50.030.0752_trs_en_cleaned"
          ],
          [
           "Q: Yeah.",
           "RG-50.030.0752_trs_en_cleaned"
          ],
          [
           "Q: Wow.",
           "RG-50.030.0752_trs_en_cleaned"
          ],
          [
           "Q: Okay.",
           "RG-50.030.0752_trs_en_cleaned"
          ],
          [
           "Q: And did he fight for Israeli independence?",
           "RG-50.030.0752_trs_en_cleaned"
          ],
          [
           "Q: Okay.",
           "RG-50.030.0752_trs_en_cleaned"
          ],
          [
           "Q: Right.",
           "RG-50.030.0752_trs_en_cleaned"
          ],
          [
           "Q: Yeah.",
           "RG-50.030.0752_trs_en_cleaned"
          ],
          [
           "Q: That's right.",
           "RG-50.030.0752_trs_en_cleaned"
          ],
          [
           "Q: You told me, you said this was the early 1950s when the Korean War --",
           "RG-50.030.0752_trs_en_cleaned"
          ],
          [
           "Q: Yeah.",
           "RG-50.030.0752_trs_en_cleaned"
          ],
          [
           "Q: Yeah.",
           "RG-50.030.0752_trs_en_cleaned"
          ],
          [
           "Q: And did you fight in the Korean War?",
           "RG-50.030.0752_trs_en_cleaned"
          ],
          [
           "Q: Okay. I see.",
           "RG-50.030.0752_trs_en_cleaned"
          ],
          [
           "Q: Excuse me. The sound is now muffled again.",
           "RG-50.030.0752_trs_en_cleaned"
          ],
          [
           "Q: Now it's better.",
           "RG-50.030.0752_trs_en_cleaned"
          ],
          [
           "Q: After Los Angeles and back to school?",
           "RG-50.030.0752_trs_en_cleaned"
          ],
          [
           "Q: Okay. And this was high school or were you already in college?",
           "RG-50.030.0752_trs_en_cleaned"
          ],
          [
           "Q: Okay.",
           "RG-50.030.0752_trs_en_cleaned"
          ],
          [
           "Q: Okay. So this was finishing up school.",
           "RG-50.030.0752_trs_en_cleaned"
          ],
          [
           "Q: That's right. Okay. Okay. So you came back to Los Angeles and you started working as well?",
           "RG-50.030.0752_trs_en_cleaned"
          ],
          [
           "Q: Uh-huh.",
           "RG-50.030.0752_trs_en_cleaned"
          ],
          [
           "Q: You met your wife, yes?",
           "RG-50.030.0752_trs_en_cleaned"
          ],
          [
           "Q: Your ex-wife. Okay.",
           "RG-50.030.0752_trs_en_cleaned"
          ],
          [
           "Q: Oh.",
           "RG-50.030.0752_trs_en_cleaned"
          ],
          [
           "Q: You have four children.",
           "RG-50.030.0752_trs_en_cleaned"
          ],
          [
           "Q: So Lisa is one of those four children?",
           "RG-50.030.0752_trs_en_cleaned"
          ],
          [
           "Q: So she's the second oldest.",
           "RG-50.030.0752_trs_en_cleaned"
          ],
          [
           "Q: How many girls and how many boys?",
           "RG-50.030.0752_trs_en_cleaned"
          ],
          [
           "Q: Okay. One boy, three girls?",
           "RG-50.030.0752_trs_en_cleaned"
          ],
          [
           "Q: No.",
           "RG-50.030.0752_trs_en_cleaned"
          ],
          [
           "Q: Oh, dear.",
           "RG-50.030.0752_trs_en_cleaned"
          ],
          [
           "Q: Oh, dear.",
           "RG-50.030.0752_trs_en_cleaned"
          ],
          [
           "Q: Yeah.",
           "RG-50.030.0752_trs_en_cleaned"
          ],
          [
           "Q: Yeah.",
           "RG-50.030.0752_trs_en_cleaned"
          ],
          [
           "Q: We should probably -- hang on just a second. I want to pause for a minute.",
           "RG-50.030.0752_trs_en_cleaned"
          ],
          [
           "Q: Okay. So you were -- you had quite an odyssey. You, you know, at age 12, not even 12, you experience war and by the time you were 18, you have been through a forced labor camp. You've lost your mother, your sister, your father. You have only your brother. And you'd been through two concentration camps and through hell. And you end up in Los Angeles, where you marry and have four children. Tell me, when did you start talking about what you had gone through? Did you tell your kids when they were growing up --",
           "RG-50.030.0752_trs_en_cleaned"
          ],
          [
           "Q: -- about what your experiences were?",
           "RG-50.030.0752_trs_en_cleaned"
          ],
          [
           "Q: Or did you keep it from them?",
           "RG-50.030.0752_trs_en_cleaned"
          ],
          [
           "Q: You know, it's the muffled voice again. Can we --",
           "RG-50.030.0752_trs_en_cleaned"
          ],
          [
           "Q: Yeah.",
           "RG-50.030.0752_trs_en_cleaned"
          ],
          [
           "Q: Yeah.",
           "RG-50.030.0752_trs_en_cleaned"
          ],
          [
           "Q: Yeah.",
           "RG-50.030.0752_trs_en_cleaned"
          ],
          [
           "Q: You didn't -- did you tell your ex-wife?",
           "RG-50.030.0752_trs_en_cleaned"
          ],
          [
           "Q: No. Okay.",
           "RG-50.030.0752_trs_en_cleaned"
          ],
          [
           "Q: Yeah.",
           "RG-50.030.0752_trs_en_cleaned"
          ],
          [
           "Q: Oh, I see. I see. So in other words, there wasn't any interest on that part and so your children, you wanted to protect them from this --",
           "RG-50.030.0752_trs_en_cleaned"
          ],
          [
           "Q: Yeah. Did that change at some point?",
           "RG-50.030.0752_trs_en_cleaned"
          ],
          [
           "Q: When did it change?",
           "RG-50.030.0752_trs_en_cleaned"
          ],
          [
           "Q: Uh-huh.",
           "RG-50.030.0752_trs_en_cleaned"
          ],
          [
           "Q: And when did you start doing that?Interview with Jacques Ribons 96",
           "RG-50.030.0752_trs_en_cleaned"
          ],
          [
           "Q: Yeah.",
           "RG-50.030.0752_trs_en_cleaned"
          ],
          [
           "Q: Were they already grown up when they started asking questions?",
           "RG-50.030.0752_trs_en_cleaned"
          ],
          [
           "Q: Okay.",
           "RG-50.030.0752_trs_en_cleaned"
          ],
          [
           "Q: Do you have grandchildren?",
           "RG-50.030.0752_trs_en_cleaned"
          ],
          [
           "Q: Are the grandchildren interested?",
           "RG-50.030.0752_trs_en_cleaned"
          ],
          [
           "Q: I see. Okay.",
           "RG-50.030.0752_trs_en_cleaned"
          ],
          [
           "Q: I see.",
           "RG-50.030.0752_trs_en_cleaned"
          ],
          [
           "Q: That's right. It's not, it's not --",
           "RG-50.030.0752_trs_en_cleaned"
          ],
          [
           "Q: Yeah.",
           "RG-50.030.0752_trs_en_cleaned"
          ],
          [
           "Q: When your brother was still alive, did you talk to him about the past, because you both had been through it together, or did you not talk about it?",
           "RG-50.030.0752_trs_en_cleaned"
          ],
          [
           "Q: You both knew it.",
           "RG-50.030.0752_trs_en_cleaned"
          ],
          [
           "Q: Yeah.",
           "RG-50.030.0752_trs_en_cleaned"
          ],
          [
           "Q: Tell me, when you did start talking and telling, did it change you?",
           "RG-50.030.0752_trs_en_cleaned"
          ],
          [
           "Q: I'm asking, did it?",
           "RG-50.030.0752_trs_en_cleaned"
          ],
          [
           "Q: Did it change your relationship with your kids?",
           "RG-50.030.0752_trs_en_cleaned"
          ],
          [
           "Q: Yeah.",
           "RG-50.030.0752_trs_en_cleaned"
          ],
          [
           "Q: Yeah.Interview with Jacques Ribons 98",
           "RG-50.030.0752_trs_en_cleaned"
          ],
          [
           "Q: Yeah.",
           "RG-50.030.0752_trs_en_cleaned"
          ],
          [
           "Q: So you went back with Lisa?",
           "RG-50.030.0752_trs_en_cleaned"
          ],
          [
           "Q: And what kind of -- you know, did you go back to your hometown?",
           "RG-50.030.0752_trs_en_cleaned"
          ],
          [
           "Q: Yeah.",
           "RG-50.030.0752_trs_en_cleaned"
          ],
          [
           "Q: No, it's so many years later but nevertheless, it's the same -- it is back in the area, back in the places where it all happened.",
           "RG-50.030.0752_trs_en_cleaned"
          ],
          [
           "Q: And I can't imagine that it wouldn't have made an impression on them, that it wouldn't have had great meaning for them.",
           "RG-50.030.0752_trs_en_cleaned"
          ],
          [
           "Q: I see.",
           "RG-50.030.0752_trs_en_cleaned"
          ],
          [
           "Q: Okay. Well, what about you? When you went back, was it like it was in your memory? What kind of impression did you have of your hometown?",
           "RG-50.030.0752_trs_en_cleaned"
          ],
          [
           "Q: Yeah.",
           "RG-50.030.0752_trs_en_cleaned"
          ],
          [
           "Q: Yeah.",
           "RG-50.030.0752_trs_en_cleaned"
          ],
          [
           "Q: Have you spoken at schools?",
           "RG-50.030.0752_trs_en_cleaned"
          ],
          [
           "Q: Have you spoken in classrooms to young kids?",
           "RG-50.030.0752_trs_en_cleaned"
          ],
          [
           "Q: No. Or to teenagers? Or has it been mostly when you talk now, it's been to your own family members?",
           "RG-50.030.0752_trs_en_cleaned"
          ],
          [
           "Q: Yeah.",
           "RG-50.030.0752_trs_en_cleaned"
          ],
          [
           "Q: Yeah. That's right.",
           "RG-50.030.0752_trs_en_cleaned"
          ],
          [
           "Q: Yeah.",
           "RG-50.030.0752_trs_en_cleaned"
          ],
          [
           "Q: Yes.",
           "RG-50.030.0752_trs_en_cleaned"
          ],
          [
           "Q: There's always a danger that that can be, you know. Sometimes people remember things differently but --",
           "RG-50.030.0752_trs_en_cleaned"
          ],
          [
           "Q: Yeah.",
           "RG-50.030.0752_trs_en_cleaned"
          ],
          [
           "Q: I think I know what you're saying, is that you found that a little bit distasteful.",
           "RG-50.030.0752_trs_en_cleaned"
          ],
          [
           "Q: Yeah.",
           "RG-50.030.0752_trs_en_cleaned"
          ],
          [
           "Q: Yeah.",
           "RG-50.030.0752_trs_en_cleaned"
          ],
          [
           "Q: Have you ever, have you ever given an interview to a newspaper before?",
           "RG-50.030.0752_trs_en_cleaned"
          ],
          [
           "Q: Okay.",
           "RG-50.030.0752_trs_en_cleaned"
          ],
          [
           "Q: He was a reporter.",
           "RG-50.030.0752_trs_en_cleaned"
          ],
          [
           "Q: Yeah.",
           "RG-50.030.0752_trs_en_cleaned"
          ],
          [
           "Q: Yeah.",
           "RG-50.030.0752_trs_en_cleaned"
          ],
          [
           "Q: In Dutch, Dutch?",
           "RG-50.030.0752_trs_en_cleaned"
          ],
          [
           "Q: Okay.",
           "RG-50.030.0752_trs_en_cleaned"
          ],
          [
           "Q: And this would be at Buchenwald?",
           "RG-50.030.0752_trs_en_cleaned"
          ],
          [
           "Q: Yeah.",
           "RG-50.030.0752_trs_en_cleaned"
          ],
          [
           "Q: Well, it could be that it was sold -- either they gave -- either they transported that jewelry and gave it up to the government or the soldiers themselves just took it.",
           "RG-50.030.0752_trs_en_cleaned"
          ],
          [
           "Q: So you --",
           "RG-50.030.0752_trs_en_cleaned"
          ],
          [
           "Q: So you're saying jewelry that was buried in the ground on the site of Buchenwald.",
           "RG-50.030.0752_trs_en_cleaned"
          ],
          [
           "Q: Yeah, in the quarry.",
           "RG-50.030.0752_trs_en_cleaned"
          ],
          [
           "Q: Yeah.",
           "RG-50.030.0752_trs_en_cleaned"
          ],
          [
           "Q: Yeah.",
           "RG-50.030.0752_trs_en_cleaned"
          ],
          [
           "Q: You're talking about the Germans who did this before the war.",
           "RG-50.030.0752_trs_en_cleaned"
          ],
          [
           "Q: I mean before the war ended.",
           "RG-50.030.0752_trs_en_cleaned"
          ],
          [
           "Q: Yeah.",
           "RG-50.030.0752_trs_en_cleaned"
          ],
          [
           "Q: Yeah.",
           "RG-50.030.0752_trs_en_cleaned"
          ],
          [
           "Q: Okay.",
           "RG-50.030.0752_trs_en_cleaned"
          ],
          [
           "Q: So this was the interview that you gave to a newspaper man.",
           "RG-50.030.0752_trs_en_cleaned"
          ],
          [
           "Q: Yeah. And it never went anywhere.",
           "RG-50.030.0752_trs_en_cleaned"
          ],
          [
           "Q: Well, I'm grateful that you have spoken with us today, you know, that you have wanted to get your story recorded by the Holocaust Museum here in Washington, D.C.We're very, very appreciative that you've done it.",
           "RG-50.030.0752_trs_en_cleaned"
          ],
          [
           "Q: Yeah.",
           "RG-50.030.0752_trs_en_cleaned"
          ],
          [
           "Q: Yeah. Those were amazing words, an amazing, and an amazing sacrifice.",
           "RG-50.030.0752_trs_en_cleaned"
          ],
          [
           "Q: Yeah. I'm glad that you shared that. And I'm glad that other people will be able to hear that and know that about her when they'll be able to listen to your story.",
           "RG-50.030.0752_trs_en_cleaned"
          ],
          [
           "Q: Is there anything else you would want to add to what we've talked about today?",
           "RG-50.030.0752_trs_en_cleaned"
          ],
          [
           "Q: You know, in one interview, you can never catch -- you can never get everything.",
           "RG-50.030.0752_trs_en_cleaned"
          ],
          [
           "Q: It's just like that in life. It's how -- we've talked for a couple of hours now but, you know, we're talking about your whole life so how can you put all that in a few hours.",
           "RG-50.030.0752_trs_en_cleaned"
          ],
          [
           "Q: Okay.",
           "RG-50.030.0752_trs_en_cleaned"
          ],
          [
           "Q: You mean the dying people make noises.",
           "RG-50.030.0752_trs_en_cleaned"
          ],
          [
           "Q: Okay.",
           "RG-50.030.0752_trs_en_cleaned"
          ],
          [
           "Q: Wow. Wow. So you couldn't even show that you were upset.",
           "RG-50.030.0752_trs_en_cleaned"
          ],
          [
           "Q: Yeah.",
           "RG-50.030.0752_trs_en_cleaned"
          ],
          [
           "Q: Oh, my God.",
           "RG-50.030.0752_trs_en_cleaned"
          ],
          [
           "Q: Oh, my God. Oh, my God. And there but for the grace of God it could have been you because you smoked as well.",
           "RG-50.030.0752_trs_en_cleaned"
          ],
          [
           "Q: Yeah?",
           "RG-50.030.0752_trs_en_cleaned"
          ],
          [
           "Q: Yeah?",
           "RG-50.030.0752_trs_en_cleaned"
          ],
          [
           "Q: Yeah.",
           "RG-50.030.0752_trs_en_cleaned"
          ],
          [
           "Q: So it was --",
           "RG-50.030.0752_trs_en_cleaned"
          ],
          [
           "Q: It was a target. It was, you know, trying to take up something that could help the German war effort --",
           "RG-50.030.0752_trs_en_cleaned"
          ],
          [
           "Q: Yeah.",
           "RG-50.030.0752_trs_en_cleaned"
          ],
          [
           "Q: Uh-huh.",
           "RG-50.030.0752_trs_en_cleaned"
          ],
          [
           "Q: Okay.",
           "RG-50.030.0752_trs_en_cleaned"
          ],
          [
           "Q: But it meant that you were a hair's breadth away from death so many times, so many times. And it's incredible. It's incredible. I mean, it gets me -- gives me the sense -- I mean, one of the questions that I have is did you ever not have fear? For the entire six years, was there anytime you were not afraid?",
           "RG-50.030.0752_trs_en_cleaned"
          ],
          [
           "Q: Yeah.",
           "RG-50.030.0752_trs_en_cleaned"
          ],
          [
           "Q: Yeah.",
           "RG-50.030.0752_trs_en_cleaned"
          ],
          [
           "Q: Oh, my goodness. Oh, my goodness.",
           "RG-50.030.0752_trs_en_cleaned"
          ],
          [
           "Q: Well, any final thoughts?",
           "RG-50.030.0752_trs_en_cleaned"
          ],
          [
           "Q: Yeah. Yeah. Well, as I say, I know that it cost -- I know that it's not easy to remember these things but I also, on behalf of the museum, I'm very appreciative that you've taken the time and that you have shared all of this with me today and through us to be able to share it with those who will research and those who will show interest in what happened to people, in the future. So with that, I'd like to say that this concludes --",
           "RG-50.030.0752_trs_en_cleaned"
          ],
          [
           "Q: Anything else you want to add?",
           "RG-50.030.0752_trs_en_cleaned"
          ],
          [
           "Q: Okay. Let's do that before I --",
           "RG-50.030.0752_trs_en_cleaned"
          ],
          [
           "Q: Okay.",
           "RG-50.030.0752_trs_en_cleaned"
          ],
          [
           "Q: The father?",
           "RG-50.030.0752_trs_en_cleaned"
          ],
          [
           "Q: The father of those .",
           "RG-50.030.0752_trs_en_cleaned"
          ],
          [
           "Q: Yes.",
           "RG-50.030.0752_trs_en_cleaned"
          ],
          [
           "Q: Are you talking when you were in the ghetto, you mean?",
           "RG-50.030.0752_trs_en_cleaned"
          ],
          [
           "Q: When the ghetto was closing. So was it a German soldier who was doing the shooting?",
           "RG-50.030.0752_trs_en_cleaned"
          ],
          [
           "Q: Okay.",
           "RG-50.030.0752_trs_en_cleaned"
          ],
          [
           "Q: Okay. And it was in a --",
           "RG-50.030.0752_trs_en_cleaned"
          ],
          [
           "Q: Excuse me. SA?",
           "RG-50.030.0752_trs_en_cleaned"
          ],
          [
           "Q: Yeah. SA, yeah.",
           "RG-50.030.0752_trs_en_cleaned"
          ],
          [
           "Q: There were SS and there were SA too, yeah.",
           "RG-50.030.0752_trs_en_cleaned"
          ],
          [
           "Q: I see. I see.",
           "RG-50.030.0752_trs_en_cleaned"
          ],
          [
           "Q: That's right, in the middle of the night.",
           "RG-50.030.0752_trs_en_cleaned"
          ],
          [
           "Q: Thank you. Thank you very much.",
           "RG-50.030.0752_trs_en_cleaned"
          ],
          [
           "Q: Well, it is -- I'll finish, I'll finish our final statement and we can then talk a little bit more. But what I'm going to say right now is that this concludes the United States Holocaust Memorial Museum interview with Mr. Jacques Ribons on May 20th, 2014.",
           "RG-50.030.0752_trs_en_cleaned"
          ],
          [
           "Q: Yeah.",
           "RG-50.030.0752_trs_en_cleaned"
          ],
          [
           "Q: Hello. This is the United States Holocaust Memorial Museum interview with Mr.Jacques Ribons on June 10, 2014, taking place between Washington, D.C. and Las Vegas, Nevada. It is a continuation and addition to the interview we conducted with Mr.Ribons on May 20, 2014. There were some topics that were omitted from the original interview, and Mr. Ribons would now like to complete that picture. So please, Mr.Interview with Jacques Ribons 110 Ribons, let me know what it is that you wanted to add to what you originally talked to us about.",
           "RG-50.030.0752_trs_en_cleaned"
          ],
          [
           "Q: Let's talk about it in detail, even if it might be in the original interview. Tell me about that march and as much as you remember. And what about it is significant in your mind?",
           "RG-50.030.0752_trs_en_cleaned"
          ],
          [
           "Q: Yeah.",
           "RG-50.030.0752_trs_en_cleaned"
          ],
          [
           "Q: So which camp was this?",
           "RG-50.030.0752_trs_en_cleaned"
          ],
          [
           "Q: Blechhammer. Okay.",
           "RG-50.030.0752_trs_en_cleaned"
          ],
          [
           "Q: And so what time of year was this?",
           "RG-50.030.0752_trs_en_cleaned"
          ],
          [
           "Q: Yeah. Was it winter?",
           "RG-50.030.0752_trs_en_cleaned"
          ],
          [
           "Q: So it was cold?",
           "RG-50.030.0752_trs_en_cleaned"
          ],
          [
           "Q: Okay. So was there snow on the ground?",
           "RG-50.030.0752_trs_en_cleaned"
          ],
          [
           "Q: Was it difficult to walk?",
           "RG-50.030.0752_trs_en_cleaned"
          ],
          [
           "Q: Can | interrupt just for a second?",
           "RG-50.030.0752_trs_en_cleaned"
          ],
          [
           "Q: When they machine gun, does that mean they were flying overhead and doing this?",
           "RG-50.030.0752_trs_en_cleaned"
          ],
          [
           "Q: Isee. So they must have been flying pretty low, and it was nevertheless dangerous because you were walking right next to them --",
           "RG-50.030.0752_trs_en_cleaned"
          ],
          [
           "Q: -- on the side of the road?",
           "RG-50.030.0752_trs_en_cleaned"
          ],
          [
           "Q: How were you dressed?",
           "RG-50.030.0752_trs_en_cleaned"
          ],
          [
           "Q: And you would wear that under the uniform?",
           "RG-50.030.0752_trs_en_cleaned"
          ],
          [
           "Q: And what kind of footwear did you have?",
           "RG-50.030.0752_trs_en_cleaned"
          ],
          [
           "Q: Oh, my.",
           "RG-50.030.0752_trs_en_cleaned"
          ],
          [
           "Q: So when you were walking along the side of the road, and it was January, and there was the machine gunning from the Soviets, and the Germans as well, were there snow drifts? Was it loud? Was it icy?",
           "RG-50.030.0752_trs_en_cleaned"
          ],
          [
           "Q: Isee.",
           "RG-50.030.0752_trs_en_cleaned"
          ],
          [
           "Q: Yes.",
           "RG-50.030.0752_trs_en_cleaned"
          ],
          [
           "Q: Isee. So the guards would realize this, and then they would intermingle with the prisoners?",
           "RG-50.030.0752_trs_en_cleaned"
          ],
          [
           "Q: Isee. And by that point, were there a lot of German guards, or was it few and far between?",
           "RG-50.030.0752_trs_en_cleaned"
          ],
          [
           "Q: So you were about to talk about one Sunday you ended up someplace.",
           "RG-50.030.0752_trs_en_cleaned"
          ],
          [
           "Q: Who was doing the shooting?",
           "RG-50.030.0752_trs_en_cleaned"
          ],
          [
           "Q: The Germans were shooting at the legs of the prisoners?",
           "RG-50.030.0752_trs_en_cleaned"
          ],
          [
           "Q: As you were drinking coffee?",
           "RG-50.030.0752_trs_en_cleaned"
          ],
          [
           "Q: Yeah.",
           "RG-50.030.0752_trs_en_cleaned"
          ],
          [
           "Q: Oh, my.",
           "RG-50.030.0752_trs_en_cleaned"
          ],
          [
           "Q: Ofcourse.",
           "RG-50.030.0752_trs_en_cleaned"
          ],
          [
           "Q: Yeah. Yeah. Did people die as they were marching?",
           "RG-50.030.0752_trs_en_cleaned"
          ],
          [
           "Q: So you were walking for at least three Sundays?",
           "RG-50.030.0752_trs_en_cleaned"
          ],
          [
           "Q: So that would mean at least two weeks, maybe more?",
           "RG-50.030.0752_trs_en_cleaned"
          ],
          [
           "Q: Three weeks?",
           "RG-50.030.0752_trs_en_cleaned"
          ],
          [
           "Q: Yeah.",
           "RG-50.030.0752_trs_en_cleaned"
          ],
          [
           "Q: No, I was going to say, it's the kind of stamina you would need in order to survive that would be very high, and some people just couldn't hold out.",
           "RG-50.030.0752_trs_en_cleaned"
          ],
          [
           "Q: Yeah.",
           "RG-50.030.0752_trs_en_cleaned"
          ],
          [
           "Q: Ribak?",
           "RG-50.030.0752_trs_en_cleaned"
          ],
          [
           "Q: R-I-C --",
           "RG-50.030.0752_trs_en_cleaned"
          ],
          [
           "Q: Oh, R-I-B-A-C-K?",
           "RG-50.030.0752_trs_en_cleaned"
          ],
          [
           "Q: In what way were you trying to help him; by helping him walk?",
           "RG-50.030.0752_trs_en_cleaned"
          ],
          [
           "Q: Did anybody try to escape?",
           "RG-50.030.0752_trs_en_cleaned"
          ],
          [
           "Q: Yeah.",
           "RG-50.030.0752_trs_en_cleaned"
          ],
          [
           "Q: Yeah.",
           "RG-50.030.0752_trs_en_cleaned"
          ],
          [
           "Q: Were there civilians on the road, too? I'm sorry I interrupted.",
           "RG-50.030.0752_trs_en_cleaned"
          ],
          [
           "Q: It sounds like chaos.",
           "RG-50.030.0752_trs_en_cleaned"
          ],
          [
           "Q: Tell me this, how many lanes did it have, or at least the main roads you were on?",
           "RG-50.030.0752_trs_en_cleaned"
          ],
          [
           "Q: Yeah.",
           "RG-50.030.0752_trs_en_cleaned"
          ],
          [
           "Q: Yeah.",
           "RG-50.030.0752_trs_en_cleaned"
          ],
          [
           "Q: Yeah.",
           "RG-50.030.0752_trs_en_cleaned"
          ],
          [
           "Q: Oh, my gosh.",
           "RG-50.030.0752_trs_en_cleaned"
          ],
          [
           "Q: So that would be like in 2013?",
           "RG-50.030.0752_trs_en_cleaned"
          ],
          [
           "Q: So you redid the whole death march walk?",
           "RG-50.030.0752_trs_en_cleaned"
          ],
          [
           "Q: So tell me, the 250 miles, does that go from your hometown to Buchenwald, or does that go just from Blechhammer?",
           "RG-50.030.0752_trs_en_cleaned"
          ],
          [
           "Q: Ofcourse. I mean, at that time, how would you know. It took you three weeks or so at that time. How long did it take by van when you went?",
           "RG-50.030.0752_trs_en_cleaned"
          ],
          [
           "Q: Yeah.",
           "RG-50.030.0752_trs_en_cleaned"
          ],
          [
           "Q: Did any of it look familiar to you, the road, when you went on it again?",
           "RG-50.030.0752_trs_en_cleaned"
          ],
          [
           "Q: Oh.",
           "RG-50.030.0752_trs_en_cleaned"
          ],
          [
           "Q: Oh, my gosh. What a horrible -- what a horrible situation and how cruel, how absolutely cruel.",
           "RG-50.030.0752_trs_en_cleaned"
          ],
          [
           "Q: Yeah, yeah. What human beings will do in order to kill the humanity in others.",
           "RG-50.030.0752_trs_en_cleaned"
          ],
          [
           "Q: Yeah.",
           "RG-50.030.0752_trs_en_cleaned"
          ],
          [
           "Q: Unfortunately. Unfortunately.",
           "RG-50.030.0752_trs_en_cleaned"
          ],
          [
           "Q: Yeah. Just that they can kill.",
           "RG-50.030.0752_trs_en_cleaned"
          ],
          [
           "Q: Yeah. And this was allied bombing?",
           "RG-50.030.0752_trs_en_cleaned"
          ],
          [
           "Q: Yeah.",
           "RG-50.030.0752_trs_en_cleaned"
          ],
          [
           "Q: Did you ever make it then to Buchenwald --",
           "RG-50.030.0752_trs_en_cleaned"
          ],
          [
           "Q: -- or just to Weimar?",
           "RG-50.030.0752_trs_en_cleaned"
          ],
          [
           "Q: Excuse me. Can I interrupt you for a minute.",
           "RG-50.030.0752_trs_en_cleaned"
          ],
          [
           "Q: Did the train go until Weimar, the Town of Weimar, or did it go up to the camp at Buchenwald?",
           "RG-50.030.0752_trs_en_cleaned"
          ],
          [
           "Q: Isee. I see.",
           "RG-50.030.0752_trs_en_cleaned"
          ],
          [
           "Q: No, no. It isn't that far.",
           "RG-50.030.0752_trs_en_cleaned"
          ],
          [
           "Q: So you were in Buchenwald for all that time?",
           "RG-50.030.0752_trs_en_cleaned"
          ],
          [
           "Q: Yes. In Buchenwald, it had had a lot of German political prisoners.",
           "RG-50.030.0752_trs_en_cleaned"
          ],
          [
           "Q: Now, I'ma little confused at this point. When you were in Buchenwald from January to April, --",
           "RG-50.030.0752_trs_en_cleaned"
          ],
          [
           "Q: -- who was in control?",
           "RG-50.030.0752_trs_en_cleaned"
          ],
          [
           "Q: Okay.",
           "RG-50.030.0752_trs_en_cleaned"
          ],
          [
           "Q: Okay. But when you are saying Germans, are you talking about German political prisoners or --",
           "RG-50.030.0752_trs_en_cleaned"
          ],
          [
           "Q: Oh, I see what you are saying. They were working in the ammunitions factory.",
           "RG-50.030.0752_trs_en_cleaned"
          ],
          [
           "Q: They were smuggling in some arms that were kept secret from the authorities?",
           "RG-50.030.0752_trs_en_cleaned"
          ],
          [
           "Q: And yet, they would patrol the place with those arms; is that correct?",
           "RG-50.030.0752_trs_en_cleaned"
          ],
          [
           "Q: Isee. As soon as the regular Nazi, you know, they left, then these political prisoners",
           "RG-50.030.0752_trs_en_cleaned"
          ],
          [
           "Q: Yeah, because they are supposed to be neutral.",
           "RG-50.030.0752_trs_en_cleaned"
          ],
          [
           "Q: Iremember that part in our conversation before, yes.",
           "RG-50.030.0752_trs_en_cleaned"
          ],
          [
           "Q: And what was -- what did you do and your brother when you were there? Were you also put to work or --",
           "RG-50.030.0752_trs_en_cleaned"
          ],
          [
           "Q: -- or not?",
           "RG-50.030.0752_trs_en_cleaned"
          ],
          [
           "Q: Isee.",
           "RG-50.030.0752_trs_en_cleaned"
          ],
          [
           "Q: Isee. Okay.",
           "RG-50.030.0752_trs_en_cleaned"
          ],
          [
           "Q: What about, when you say that the Nazi authorities left and the political prisoners took over, could you say that they liberated -- the German political prisoners liberated the camp, or was it another army that did it?",
           "RG-50.030.0752_trs_en_cleaned"
          ],
          [
           "Q: Yeah, yeah.",
           "RG-50.030.0752_trs_en_cleaned"
          ],
          [
           "Q: Erfurt, yes, is near there.",
           "RG-50.030.0752_trs_en_cleaned"
          ],
          [
           "Q: That's easy to find out though. We can look it up, you know, who that would have been.",
           "RG-50.030.0752_trs_en_cleaned"
          ],
          [
           "Q: Oh.",
           "RG-50.030.0752_trs_en_cleaned"
          ],
          [
           "Q: And did you see then American soldiers?",
           "RG-50.030.0752_trs_en_cleaned"
          ],
          [
           "Q: Yeah.",
           "RG-50.030.0752_trs_en_cleaned"
          ],
          [
           "Q: Yeah.",
           "RG-50.030.0752_trs_en_cleaned"
          ],
          [
           "Q: So when they finally came into the -- into Buchenwald itself, the tank and with the solders, --",
           "RG-50.030.0752_trs_en_cleaned"
          ],
          [
           "Q: And did they get out?",
           "RG-50.030.0752_trs_en_cleaned"
          ],
          [
           "Q: Okay.",
           "RG-50.030.0752_trs_en_cleaned"
          ],
          [
           "Q: Where were you when you saw this?",
           "RG-50.030.0752_trs_en_cleaned"
          ],
          [
           "Q: Yeah.",
           "RG-50.030.0752_trs_en_cleaned"
          ],
          [
           "Q: Really?",
           "RG-50.030.0752_trs_en_cleaned"
          ],
          [
           "Q: That's right. It was high up.",
           "RG-50.030.0752_trs_en_cleaned"
          ],
          [
           "Q: Were there any revenge killings?",
           "RG-50.030.0752_trs_en_cleaned"
          ],
          [
           "Q: Yeah. Yeah.",
           "RG-50.030.0752_trs_en_cleaned"
          ],
          [
           "Q: And things took place then, huh?Interview with Jacques Ribons 126",
           "RG-50.030.0752_trs_en_cleaned"
          ],
          [
           "Q: Yeah. What did I want to ask you? Now, there is a famous photograph of, I believe it is Eisenhower. I'm not exactly sure. But when he comes and he sees what has happened at Buchenwald, he is so appalled that he orders the townspeople of Weimar to come and be forced to look at --",
           "RG-50.030.0752_trs_en_cleaned"
          ],
          [
           "Q: -- what was going on in the camp.",
           "RG-50.030.0752_trs_en_cleaned"
          ],
          [
           "Q: Okay. Can you tell me about that?",
           "RG-50.030.0752_trs_en_cleaned"
          ],
          [
           "Q: Oh, so you saw them at a distance?",
           "RG-50.030.0752_trs_en_cleaned"
          ],
          [
           "Q: Yeah.",
           "RG-50.030.0752_trs_en_cleaned"
          ],
          [
           "Q: So in other words, the reason why the prisoners were kept away from the townspeople was because to prevent any kind of violence happening?",
           "RG-50.030.0752_trs_en_cleaned"
          ],
          [
           "Q: Right.",
           "RG-50.030.0752_trs_en_cleaned"
          ],
          [
           "Q: And did they give them to you?",
           "RG-50.030.0752_trs_en_cleaned"
          ],
          [
           "Q: Yeah.",
           "RG-50.030.0752_trs_en_cleaned"
          ],
          [
           "Q: Finish the story about the bike. Did you finally get a bike?",
           "RG-50.030.0752_trs_en_cleaned"
          ],
          [
           "Q: Okay.",
           "RG-50.030.0752_trs_en_cleaned"
          ],
          [
           "Q: So but it means that by the time that the Americans got -- they were entrenched there, you were able to move out of the camp?",
           "RG-50.030.0752_trs_en_cleaned"
          ],
          [
           "Q: What was it like? Did you still wear your prisoner's uniform?",
           "RG-50.030.0752_trs_en_cleaned"
          ],
          [
           "Q: How did people behave?",
           "RG-50.030.0752_trs_en_cleaned"
          ],
          [
           "Q: Okay.",
           "RG-50.030.0752_trs_en_cleaned"
          ],
          [
           "Q: Yeah.",
           "RG-50.030.0752_trs_en_cleaned"
          ],
          [
           "Q: But you saw it in their eyes?",
           "RG-50.030.0752_trs_en_cleaned"
          ],
          [
           "Q: But were these civilians that were brought in there? A. Yes, civilians. I don't know what capacity, or if they were soldiers, they also were, you know, in probably civilian uniforms. I have no idea.",
           "RG-50.030.0752_trs_en_cleaned"
          ],
          [
           "Q: But what I'm trying to get at is, they weren't former guards that you could recognize?",
           "RG-50.030.0752_trs_en_cleaned"
          ],
          [
           "Q: Okay. The reason they were brought in is because they happened to be German, not because they happened to have been a particularly cruel guard?",
           "RG-50.030.0752_trs_en_cleaned"
          ],
          [
           "Q: Oh, yeah. I'm sure.",
           "RG-50.030.0752_trs_en_cleaned"
          ],
          [
           "Q: Yeah.",
           "RG-50.030.0752_trs_en_cleaned"
          ],
          [
           "Q: And how old were you at this point?",
           "RG-50.030.0752_trs_en_cleaned"
          ],
          [
           "Q: You were 18 years old when you were seeing this?",
           "RG-50.030.0752_trs_en_cleaned"
          ],
          [
           "Q: Yeah.",
           "RG-50.030.0752_trs_en_cleaned"
          ],
          [
           "Q: It's not new to you, in other words?",
           "RG-50.030.0752_trs_en_cleaned"
          ],
          [
           "Q: It wasn't new to you?",
           "RG-50.030.0752_trs_en_cleaned"
          ],
          [
           "Q: It was already --",
           "RG-50.030.0752_trs_en_cleaned"
          ],
          [
           "Q: You mean you were under threat of being shot?",
           "RG-50.030.0752_trs_en_cleaned"
          ],
          [
           "Q: And this was where?",
           "RG-50.030.0752_trs_en_cleaned"
          ],
          [
           "Q: Isee. Oh, [remember. I remember. Yeah, you had told me about that. How long did you stay at Buchenwald after the Americans arrived?",
           "RG-50.030.0752_trs_en_cleaned"
          ],
          [
           "Q: Isee. And so you were amongst that group?",
           "RG-50.030.0752_trs_en_cleaned"
          ],
          [
           "Q: And how long did you stay there? Where did they take you?",
           "RG-50.030.0752_trs_en_cleaned"
          ],
          [
           "Q: That the Rothschild family owned?",
           "RG-50.030.0752_trs_en_cleaned"
          ],
          [
           "Q: Yes.",
           "RG-50.030.0752_trs_en_cleaned"
          ],
          [
           "Q: Okay.",
           "RG-50.030.0752_trs_en_cleaned"
          ],
          [
           "Q: Yes.",
           "RG-50.030.0752_trs_en_cleaned"
          ],
          [
           "Q: Do you remember the date that you came to the U.S.?",
           "RG-50.030.0752_trs_en_cleaned"
          ],
          [
           "Q: Or the month?Interview with Jacques Ribons 132",
           "RG-50.030.0752_trs_en_cleaned"
          ],
          [
           "Q: It's okay. I'm just curious.",
           "RG-50.030.0752_trs_en_cleaned"
          ],
          [
           "Q: Yeah. Did you sail into New York?",
           "RG-50.030.0752_trs_en_cleaned"
          ],
          [
           "Q: That's okay. Did you sail into New York or some other port?",
           "RG-50.030.0752_trs_en_cleaned"
          ],
          [
           "Q: Okay. How did you -- where did you land?",
           "RG-50.030.0752_trs_en_cleaned"
          ],
          [
           "Q: Oh, I remember this from the interview itself. And he couldn't on that particular day.",
           "RG-50.030.0752_trs_en_cleaned"
          ],
          [
           "Q: And you --",
           "RG-50.030.0752_trs_en_cleaned"
          ],
          [
           "Q: Okay. So in order -- here's another question. Is there anything else from your first interview, because I do remember we talked about coming to your uncle in New Jersey and then your life after that. Is there anything else you think you didn't cover in your",
           "RG-50.030.0752_trs_en_cleaned"
          ],
          [
           "Q: Okay.",
           "RG-50.030.0752_trs_en_cleaned"
          ],
          [
           "Q: And we're talking about your hometown ghetto?",
           "RG-50.030.0752_trs_en_cleaned"
          ],
          [
           "Q: Really?",
           "RG-50.030.0752_trs_en_cleaned"
          ],
          [
           "Q: Not by truck, not by train, nothing like that?",
           "RG-50.030.0752_trs_en_cleaned"
          ],
          [
           "Q: By horse and buggy?",
           "RG-50.030.0752_trs_en_cleaned"
          ],
          [
           "Q: Okay.",
           "RG-50.030.0752_trs_en_cleaned"
          ],
          [
           "Q: Yeah. But you remember going that way?",
           "RG-50.030.0752_trs_en_cleaned"
          ],
          [
           "Q: Okay.",
           "RG-50.030.0752_trs_en_cleaned"
          ],
          [
           "Q: Yeah. Well, any other thoughts you'd like to add now? You know, we can alwaysInterview with Jacques Ribons 134 do this again, by the way. If there is something that comes up that you have forgotten, we can always make an appointment to talk again for a brief moment and then record that.",
           "RG-50.030.0752_trs_en_cleaned"
          ],
          [
           "Q: Yeah.",
           "RG-50.030.0752_trs_en_cleaned"
          ],
          [
           "Q: Yeah.",
           "RG-50.030.0752_trs_en_cleaned"
          ],
          [
           "Q: It's just --",
           "RG-50.030.0752_trs_en_cleaned"
          ],
          [
           "Q: Yeah.",
           "RG-50.030.0752_trs_en_cleaned"
          ],
          [
           "Q: Oh, dear. Yeah.",
           "RG-50.030.0752_trs_en_cleaned"
          ],
          [
           "Q: Were there girls on the road too? I mean, was this usually young men, or were there women on the road as well?",
           "RG-50.030.0752_trs_en_cleaned"
          ],
          [
           "Q: Isee.",
           "RG-50.030.0752_trs_en_cleaned"
          ],
          [
           "Q: Isee.",
           "RG-50.030.0752_trs_en_cleaned"
          ],
          [
           "Q: Yeah. Well, I'm very grateful that you have gone into more detail. It's not called a death march for nothing. It sounds horrific and amazing that you were able to survive it.",
           "RG-50.030.0752_trs_en_cleaned"
          ],
          [
           "Q: Okay.",
           "RG-50.030.0752_trs_en_cleaned"
          ],
          [
           "Q: Yes.",
           "RG-50.030.0752_trs_en_cleaned"
          ],
          [
           "Q: That's right, Mr. Ribak.",
           "RG-50.030.0752_trs_en_cleaned"
          ],
          [
           "Q: Yes.",
           "RG-50.030.0752_trs_en_cleaned"
          ],
          [
           "Q: Yes.",
           "RG-50.030.0752_trs_en_cleaned"
          ],
          [
           "Q: Yes.",
           "RG-50.030.0752_trs_en_cleaned"
          ],
          [
           "Q: Yeah.",
           "RG-50.030.0752_trs_en_cleaned"
          ],
          [
           "Q: No.",
           "RG-50.030.0752_trs_en_cleaned"
          ],
          [
           "Q: So how did that happen? Did she say, My name --",
           "RG-50.030.0752_trs_en_cleaned"
          ],
          [
           "Q: So he made it?",
           "RG-50.030.0752_trs_en_cleaned"
          ],
          [
           "Q: Oh, my goodness.",
           "RG-50.030.0752_trs_en_cleaned"
          ],
          [
           "Q: Oh, my goodness.",
           "RG-50.030.0752_trs_en_cleaned"
          ],
          [
           "Q: Itis. I mean, there are many amazing moments and miracles here. One, that you recognized her from a picture. Two, that he made it. Three, that she was able to bring you to him and that you were able to find out what happened to him, and it's an amazing story.",
           "RG-50.030.0752_trs_en_cleaned"
          ],
          [
           "Q: Isee. I see.",
           "RG-50.030.0752_trs_en_cleaned"
          ],
          [
           "Q: Now, did you ever see him or have contact with him after that?",
           "RG-50.030.0752_trs_en_cleaned"
          ],
          [
           "Q: Okay.",
           "RG-50.030.0752_trs_en_cleaned"
          ],
          [
           "Q: Your own life, yeah.",
           "RG-50.030.0752_trs_en_cleaned"
          ],
          [
           "Q: Yeah. That was a big enough task.",
           "RG-50.030.0752_trs_en_cleaned"
          ],
          [
           "Q: Yeah.",
           "RG-50.030.0752_trs_en_cleaned"
          ],
          [
           "Q: You know, if you have forgotten now and you do remember it, write it down and get in touch with me again, and we'll talk about it.",
           "RG-50.030.0752_trs_en_cleaned"
          ],
          [
           "Q: Okay.",
           "RG-50.030.0752_trs_en_cleaned"
          ],
          [
           "Q: Yeah.",
           "RG-50.030.0752_trs_en_cleaned"
          ],
          [
           "Q: That's right.",
           "RG-50.030.0752_trs_en_cleaned"
          ],
          [
           "Q: Yes.",
           "RG-50.030.0752_trs_en_cleaned"
          ],
          [
           "Q: Yeah.",
           "RG-50.030.0752_trs_en_cleaned"
          ],
          [
           "Q: Okay.",
           "RG-50.030.0752_trs_en_cleaned"
          ],
          [
           "Q: Yes.",
           "RG-50.030.0752_trs_en_cleaned"
          ],
          [
           "Q: And this hospital is in France?",
           "RG-50.030.0752_trs_en_cleaned"
          ],
          [
           "Q: Oh, the one where you got sent for diarrhea, that one?",
           "RG-50.030.0752_trs_en_cleaned"
          ],
          [
           "Q: Oh, my.",
           "RG-50.030.0752_trs_en_cleaned"
          ],
          [
           "Q: Amazing.",
           "RG-50.030.0752_trs_en_cleaned"
          ],
          [
           "Q: Yeah. It is a very -- it's a moment that is -- shows truly what he was made of. Like the moment when your mother tells you why she can't leave shows you the stuff she was made of.",
           "RG-50.030.0752_trs_en_cleaned"
          ],
          [
           "Q: Yeah. Thank you for adding that detail. Thank you very much.",
           "RG-50.030.0752_trs_en_cleaned"
          ],
          [
           "Q: Mr. Ribons, it is my honor. And I appreciate -- I appreciate this.",
           "RG-50.030.0752_trs_en_cleaned"
          ],
          [
           "Q: Oh, I know. It's not easy.",
           "RG-50.030.0752_trs_en_cleaned"
          ],
          [
           "Q: Well, I don't know what it's like to have gone through what you have, but I do know there is a cost to bringing all of these things up. And I appreciate it.",
           "RG-50.030.0752_trs_en_cleaned"
          ],
          [
           "Q: I think you did.",
           "RG-50.030.0752_trs_en_cleaned"
          ],
          [
           "Q: Yeah. If-- yes, you did. Now that I recall, yes. We talked about your Army life and being in Korea and some of the experiences you had there. Again, if there is something, we will -- at this point, I will wrap up our addition to our interview. This concludes the addition to the interview with Jacques Ribons, and today's date is June 10, 2014.",
           "RG-50.030.0752_trs_en_cleaned"
          ]
         ],
         "hovertemplate": "<b>Question:</b> %{customdata[0]}<br><b>RG Number:</b> %{customdata[1]}<extra></extra>",
         "legendgroup": "RG-50.030.0752_trs_en_cleaned",
         "marker": {
          "color": "#B6E880",
          "symbol": "circle"
         },
         "mode": "markers",
         "name": "RG-50.030.0752_trs_en_cleaned",
         "showlegend": true,
         "type": "scattergl",
         "x": [
          5.2213454,
          6.1877594,
          -4.6163154,
          6.2491803,
          6.57409,
          6.1753364,
          6.406602,
          5.896625,
          4.2890553,
          4.0813746,
          4.1976037,
          12.816642,
          -1.9537443,
          -4.6139936,
          -10.836597,
          4.534341,
          -4.8677144,
          5.0361657,
          4.27551,
          6.662225,
          1.5661312,
          -4.956513,
          0.67234665,
          3.9161108,
          -0.03882509,
          3.1984947,
          6.675564,
          -11.183094,
          -4.865458,
          3.468756,
          -0.31138474,
          6.4489737,
          6.1217127,
          -1.1721978,
          5.0457606,
          5.8418427,
          7.915825,
          3.3939297,
          5.6142273,
          5.7568417,
          3.850424,
          3.51333,
          3.292866,
          5.6681185,
          1.6860663,
          3.637603,
          -4.7151465,
          4.1469617,
          4.898312,
          -5.044046,
          0.6483316,
          0.84075123,
          2.4688604,
          1.6624423,
          -1.2863339,
          2.723332,
          5.4709396,
          -11.056089,
          5.6552997,
          -4.9321012,
          5.322646,
          3.4583817,
          5.946758,
          7.339711,
          5.782269,
          2.887991,
          6.9448576,
          5.5969334,
          6.0994973,
          6.595658,
          5.614239,
          -5.018035,
          -5.028586,
          0.696453,
          5.736169,
          5.28627,
          3.1922967,
          2.616213,
          2.1036577,
          1.4911844,
          1.374284,
          3.5016975,
          -1.096846,
          2.1078508,
          1.2693516,
          -1.4448597,
          1.0373166,
          1.3945956,
          -5.049395,
          1.0619175,
          5.3285646,
          5.011648,
          6.991142,
          -1.9781682,
          -4.7393136,
          -4.881266,
          5.3493605,
          5.0706787,
          1.5460429,
          -11.166753,
          1.7900708,
          1.3338878,
          5.376392,
          5.3881707,
          5.8629665,
          2.6894674,
          -4.7795,
          3.3286314,
          3.2465613,
          -4.978193,
          4.542751,
          -11.099476,
          1.0830024,
          -5.036228,
          0.7484444,
          2.1504676,
          12.230714,
          -11.2365675,
          -11.039973,
          -0.78189933,
          1.3257923,
          4.9461336,
          4.9696503,
          5.9942026,
          4.383782,
          0.17018144,
          1.6915119,
          18.340193,
          5.720291,
          4.492387,
          -4.8445663,
          4.4773273,
          2.4856927,
          2.6805193,
          3.8000696,
          6.3068156,
          2.6873672,
          -4.735857,
          2.6302087,
          6.8503647,
          -4.7483273,
          1.4105045,
          5.3977146,
          1.6850959,
          3.20703,
          3.5715396,
          5.7619653,
          -11.179942,
          7.158876,
          -11.240351,
          7.2815123,
          -1.7154136,
          6.2958736,
          12.255913,
          5.3965707,
          -1.4655184,
          5.1662493,
          -0.656875,
          -11.206963,
          1.9361242,
          -11.199244,
          5.560429,
          5.6156354,
          5.65332,
          -5.144462,
          1.6444998,
          0.9834347,
          4.4606476,
          1.3792137,
          4.0489244,
          3.069944,
          2.5203772,
          3.9015698,
          4.0071225,
          -4.938635,
          1.1700749,
          3.5449545,
          0.92949575,
          1.9472884,
          2.2848942,
          4.6588197,
          7.0254903,
          2.321537,
          4.6582465,
          4.355038,
          -10.768023,
          6.2901287,
          -9.138241,
          -4.856906,
          -0.011506023,
          -4.808152,
          2.3759441,
          5.435935,
          -11.119636,
          -11.14421,
          -4.7694035,
          -0.095807716,
          5.6552796,
          -0.07886693,
          -11.115354,
          -0.4723735,
          4.1828113,
          0.8247117,
          4.08809,
          4.4532623,
          -10.91967,
          -9.194885,
          -4.7950463,
          1.5354483,
          -0.5566075,
          1.0836862,
          0.81426847,
          3.5823064,
          6.7682614,
          3.6242433,
          4.66949,
          1.0355078,
          2.6103945,
          4.4010696,
          -0.6426313,
          0.13266516,
          6.372639,
          1.4729424,
          -11.308724,
          -5.0577593,
          2.9020011,
          3.5022144,
          2.8147068,
          3.4481583,
          6.4332757,
          4.436207,
          4.0609035,
          -10.88617,
          -11.396048,
          6.6728396,
          7.170469,
          2.015423,
          -4.603159,
          -3.9432456,
          6.6089234,
          -11.2743025,
          -5.9514885,
          -4.894717,
          2.4040031,
          2.544979,
          1.8120586,
          -4.9088793,
          2.2869473,
          3.2046094,
          2.5424187,
          -1.5754148,
          5.0831513,
          5.3387055,
          6.086361,
          3.314233,
          4.8352365,
          2.0063698,
          -4.111015,
          18.826412,
          6.807071,
          0.19136934,
          2.7734187,
          -4.960154,
          3.050601,
          5.1081553,
          2.4190528,
          3.460442,
          2.886092,
          -4.810601,
          6.666732,
          6.900216,
          2.802023,
          2.8128436,
          0.8885616,
          2.4561524,
          2.3949087,
          6.128645,
          4.6268764,
          1.3334273,
          -11.24651,
          0.5203489,
          2.2708764,
          -11.153739,
          8.757331,
          -1.2745187,
          6.5358963,
          2.9219136,
          -11.353917,
          5.7051105,
          -11.018381,
          -4.9947395,
          3.6041462,
          -11.14758,
          1.7024211,
          3.0878792,
          4.978271,
          1.715301,
          3.3467457,
          0.41181853,
          18.78412,
          -11.167015,
          -4.7246056,
          6.436263,
          6.6032133,
          -2.3338041,
          5.6640167,
          -11.2326145,
          -11.114751,
          18.712393,
          18.351889,
          5.4771676,
          5.8557205,
          3.3063233,
          3.3938942,
          18.752111,
          -0.10540921,
          -1.6414882,
          18.653093,
          4.699448,
          -4.664038,
          -4.76007,
          -10.894193,
          -4.3292184,
          -4.6606236,
          -2.5783956,
          0.34027973,
          -2.1340425,
          -2.6702702,
          -11.094099,
          -2.8943396,
          -2.8848462,
          0.09582351,
          -11.210274,
          -10.829865,
          1.5696723,
          4.3144536,
          2.046481,
          -0.27594826,
          3.7021208,
          18.860695,
          4.128675,
          -11.075713,
          4.2976103,
          -11.237952,
          -5.8683753,
          -0.73363125,
          -0.6292671,
          2.1050477,
          18.202694,
          -10.212528,
          -4.953521,
          -4.651708,
          18.744024,
          1.5944822,
          18.596014,
          -4.9244227,
          -4.71609,
          3.698515,
          3.0194798,
          -11.385484,
          4.0603766,
          3.062955,
          7.320934,
          7.490648,
          18.6998,
          5.179829,
          3.074336,
          -2.6224775,
          -2.6831532,
          -0.8015231,
          6.777055,
          -0.037295528,
          0.16933432,
          -0.06852592,
          -1.733107,
          3.504248,
          6.8488197,
          1.4134055,
          12.636437,
          2.152506,
          1.9894745,
          -0.08446444,
          0.90836185,
          -0.3138463,
          3.5687685,
          1.8871112,
          4.7736135,
          6.306171,
          -1.2923461,
          -2.199424,
          -1.0893538,
          2.6342657,
          -4.7159405,
          2.4907713,
          -4.9750032,
          3.8948658,
          3.2754402,
          2.1082344,
          18.330599,
          7.19246,
          1.158654,
          1.9421022,
          3.3887517,
          12.733523,
          6.1204667,
          0.9584112,
          0.04291556,
          3.3984613,
          3.5040288,
          1.5219718,
          0.13023062,
          6.4708805,
          -0.08886809,
          18.64309,
          4.699481,
          5.0711036,
          4.977956,
          2.0817757,
          -11.179879,
          -2.3755255,
          -10.867572,
          3.6631105,
          -0.96330875,
          -1.1325154,
          1.149295,
          18.724709,
          3.5620744,
          -2.0880303,
          2.914526,
          6.894896,
          -0.9836649,
          -2.0816133,
          2.3882198,
          3.3030043,
          2.4247959,
          2.4094002,
          -2.448713,
          1.4338524,
          18.788897,
          2.774269,
          1.7052966,
          8.64091,
          18.851505,
          -0.81899714,
          2.4904125,
          5.0630736,
          -11.068453,
          -8.362564,
          -2.2950857,
          3.0280802,
          -2.2581298,
          -0.43170983,
          18.310444,
          7.071826,
          -11.305029,
          -2.2708275,
          0.86585164,
          -2.0770192,
          6.795586,
          6.6930346,
          3.4142091,
          5.2388825,
          3.588114,
          -1.3091613,
          4.0679145,
          -1.9167001,
          18.642717,
          18.46943,
          18.318888,
          8.776265,
          -0.69828945,
          0.118394494,
          -9.360052,
          -11.331674,
          6.241872,
          8.775321,
          6.5117927,
          -10.982177,
          18.630482,
          -0.5670008,
          -1.9412259,
          -11.151162,
          3.113813,
          3.1214619,
          3.7875507,
          8.781626,
          3.4714386,
          2.3384144,
          0.8768092,
          0.5602111,
          0.55499446,
          4.8706427,
          -11.079452,
          18.30591,
          18.44555,
          18.740376,
          6.739401,
          0.27628174,
          3.6416051,
          -10.920457,
          3.0167096,
          0.94163495,
          -11.213027,
          3.0963373,
          -10.946516,
          18.862122,
          -2.2949276,
          6.285559,
          -4.2995214,
          4.58662,
          4.7134347,
          -2.0814066,
          18.261215,
          6.1801105,
          2.3436084,
          4.899581,
          1.4348952,
          0.016102437,
          12.578705,
          3.7240312,
          4.0352006,
          1.6564884,
          3.4332533,
          18.571016,
          5.2614217,
          7.141551,
          5.466152,
          2.9195852,
          3.6164157,
          5.291492,
          5.783687,
          18.088795,
          -9.145705,
          -8.928688,
          -8.509085,
          5.138955,
          -0.56199896,
          -2.3647192,
          3.7791595,
          15.052259,
          18.838919,
          3.5378873,
          -2.341233,
          -0.07038397,
          18.425705,
          -2.0833242,
          18.417091,
          18.503462,
          5.347961,
          -0.45264155,
          -11.345024,
          4.2463574,
          -10.737235,
          -4.33239,
          -11.236082,
          -0.8360374,
          4.042286,
          3.8698156,
          -11.216123,
          3.8827221,
          -2.370675,
          3.9257634,
          -10.870893,
          -10.821619,
          5.2641144,
          0.31568754,
          4.1961203,
          7.1355677,
          5.608396,
          -11.1839285,
          3.6558378,
          3.7108152,
          0.9638617,
          3.5364823,
          4.0709953,
          0.39596584,
          5.593814,
          5.509623,
          5.21658,
          -9.439448,
          -9.227336,
          -9.402833,
          12.091406,
          1.4085294,
          18.625906,
          -1.2775904,
          -8.755295,
          1.0561529,
          3.524612,
          -1.324288,
          5.2046885,
          5.391974,
          5.1537495,
          -9.13844,
          3.5668185,
          -2.0007424,
          5.7929707,
          5.378477,
          5.2354827,
          -11.042665,
          5.11597,
          -1.0701376,
          4.6570683,
          4.8055763,
          -11.039326,
          -10.97411,
          -10.932878,
          -11.159728,
          18.51153,
          6.6377115,
          -0.059519403,
          18.212639,
          0.74280256,
          -11.069316,
          0.38111365,
          -10.898333,
          -3.5537724,
          3.1984816,
          3.598494,
          -11.04807,
          3.629285,
          0.7589081,
          0.7605127,
          -10.640115,
          6.425067,
          6.5028176,
          1.4100255,
          -8.556304,
          -8.821509,
          2.061253,
          2.0956857,
          18.508686,
          -10.978403,
          -11.056165,
          -10.946868,
          0.1624584,
          4.68865,
          -10.785089,
          4.924807,
          4.5442495,
          4.5195694,
          -11.01241,
          -10.986267,
          14.416894,
          -10.955436,
          18.768017,
          5.619982,
          18.297594,
          2.0472014,
          18.549559,
          6.183894,
          6.345337,
          6.0153785,
          3.683786,
          -0.97942084,
          3.655614,
          -0.6365855,
          8.605759,
          18.475025,
          18.66623,
          18.564676,
          5.4152613,
          3.970487,
          4.773717,
          18.424898,
          -10.890407,
          18.43542,
          18.569822,
          17.930462,
          12.628755,
          6.1232514,
          6.0228233,
          -3.426264,
          -3.0945928,
          -11.131716,
          -2.2598746,
          0.21984352,
          5.015714,
          5.0731773,
          4.757016,
          18.38245,
          18.707355,
          -8.556469,
          -10.785805,
          -9.379328,
          18.030983,
          -8.758926,
          -0.3524861,
          18.618435,
          18.439222,
          -0.5551139,
          18.140875,
          2.9852328,
          4.4936366,
          18.522434,
          6.62245,
          -10.9348755,
          3.616495,
          -10.725553,
          -9.565677,
          18.256021,
          -4.226301,
          5.712986,
          18.372047,
          18.353853,
          5.678775,
          3.4970543,
          -2.9307008,
          0.29621243,
          4.7349143,
          3.762008,
          -10.67723,
          -10.376619,
          4.585249,
          -2.2775066,
          1.6178193,
          1.4545984,
          3.5874705,
          4.7830443,
          4.70189,
          4.790252,
          4.2755966,
          4.2510877,
          -1.3755395,
          3.0338118,
          3.030742,
          18.261675,
          18.820951,
          0.7797832,
          3.944816,
          2.1270604,
          2.1731682,
          -2.6793678,
          18.299488,
          18.222445,
          18.34134,
          1.3030298,
          -1.5601481,
          18.325645,
          4.4782076,
          0.71795183,
          3.6738846,
          -2.4259977,
          4.4535985,
          18.073032,
          4.616415,
          -10.885154,
          5.363338,
          5.307091,
          3.5129669,
          3.5262063,
          -1.738601,
          18.368465,
          7.232094,
          -0.030671742,
          18.347633,
          1.5945317,
          1.2280636,
          5.268341,
          18.264853,
          4.3035984,
          18.263515,
          4.2628026,
          4.302441,
          18.230543,
          5.8225136,
          2.2707407,
          3.3999987,
          4.661829,
          18.31123,
          18.421608,
          3.1683445,
          3.3031473,
          2.7513714,
          18.03523,
          -4.4476748,
          18.139357,
          -8.727932,
          -0.656427,
          18.009338,
          3.0580473,
          18.26681,
          18.063646,
          6.2922,
          -10.871242,
          2.004619,
          17.899748,
          18.098734,
          6.693206,
          -10.769362,
          6.8307395,
          17.932358,
          5.605869,
          -2.2035875,
          6.351729,
          4.870695,
          17.916616,
          18.198002,
          5.096359,
          4.995962,
          18.085945,
          17.981901,
          -10.92245,
          6.258982,
          2.2913454,
          5.8373938,
          17.82787,
          -0.09471001,
          1.5285673,
          7.912462,
          6.5056534,
          -1.1283793,
          -10.73727,
          2.4374373,
          -10.949162,
          1.5704719,
          17.984472,
          8.78564,
          2.7172203,
          0.9872684,
          0.9623541,
          18.119797,
          0.09283392,
          4.6139903,
          17.998108,
          -2.2730367,
          -10.65461,
          -0.25266024,
          18.212399,
          17.897552,
          8.606452,
          -1.3093653,
          5.7370763,
          8.185266,
          -1.6911926,
          -10.661387,
          5.301116,
          5.118817,
          -8.910816,
          6.622305,
          4.403891,
          -11.11307,
          -0.5529827,
          -0.592464,
          -0.53337336,
          -0.20765649,
          3.1918964,
          1.5657735,
          7.868555,
          5.217676,
          18.150549,
          5.075,
          1.4063687,
          17.942348,
          3.628427,
          7.5048633,
          4.342029,
          6.692789,
          6.924947,
          6.959009,
          1.9325722,
          0.5170109,
          3.1126347,
          2.8413959,
          4.911386,
          2.4422827,
          2.41975,
          2.6386971,
          -5.9204946,
          6.9327445,
          3.8537102,
          -8.964493,
          4.177598,
          5.344344,
          1.6494278,
          2.021089,
          4.839709,
          2.4193265,
          17.919504,
          -5.8643646,
          -0.41846702,
          2.5907598,
          2.0655491,
          3.6383324,
          3.5333908,
          18.117153,
          1.9134239,
          17.839495,
          4.379457,
          -0.9210625,
          -1.3911246,
          1.9838245,
          1.393715,
          17.87761,
          17.833145,
          3.2991593,
          0.41608635,
          5.348079,
          18.0202,
          18.022419,
          17.907022,
          2.1401055,
          4.4054623,
          2.204594,
          7.0890017,
          3.3666399,
          17.977266,
          3.9646902,
          3.505206,
          1.2323984,
          -0.2843021,
          18.173832,
          -8.160089,
          -0.54456323,
          4.569669,
          17.84372,
          6.769832,
          5.93854,
          -0.16221409,
          6.1691093,
          6.835754,
          0.054018714,
          6.697838,
          5.707581,
          6.562436,
          0.20400946,
          -10.825769,
          4.9772115,
          2.4593697,
          3.424561,
          3.3331687,
          4.6350074,
          -0.5381967,
          -0.9868613,
          6.9396963,
          -1.4633669,
          4.018611,
          4.132387,
          4.7262516,
          -0.061029468,
          6.5682716,
          1.651638,
          3.597051,
          4.4493194,
          18.722652,
          18.422728,
          6.595352,
          2.4217408,
          -10.925917,
          2.233781,
          18.038267,
          12.613047,
          2.8703318,
          2.799517,
          0.026979143,
          4.096746,
          6.002905,
          3.5285082,
          -1.6702309,
          0.42875114,
          18.046406,
          3.1723862,
          -9.391978,
          2.2990124,
          18.255903,
          2.0150573,
          -10.437967,
          4.3170137,
          2.5082068,
          2.1593335,
          -10.833964,
          17.945473,
          0.17312619,
          3.620264,
          5.0733347,
          5.356691,
          -1.4919436,
          17.942566,
          4.1871367,
          4.3172903,
          17.969227,
          0.0862238,
          0.17698663,
          0.22465642,
          0.26098397,
          2.9032557,
          6.507775,
          3.4873645,
          3.369313,
          4.062079,
          -8.553501,
          -10.713333,
          -8.519127,
          4.6853533,
          4.026801,
          -1.3949138,
          4.0328603,
          4.2575593,
          3.6411688,
          6.329343,
          -1.6024107,
          6.3297896,
          -10.766988,
          6.7142577,
          12.602803,
          4.293909,
          3.3867114,
          -10.981855,
          -0.40834194,
          -10.716346,
          3.6657453,
          18.040686,
          17.868254,
          -1.2611717,
          18.08066,
          3.0924103,
          2.7670429,
          4.064072,
          3.9779973,
          2.2519708,
          -10.67216,
          -8.957984,
          4.3260045,
          -8.582692,
          -8.839851,
          -8.91079,
          18.020315,
          -1.2816344,
          1.2295836,
          1.0768665,
          8.661855,
          8.726261,
          4.9688935,
          6.847683,
          -0.22862431,
          -10.87482,
          0.3082907,
          -1.1758792,
          17.981937,
          -0.29245916,
          -10.439053,
          17.936897,
          -4.2301955,
          -8.548089,
          18.023666,
          -10.747087,
          -8.595538,
          4.4004807,
          1.5739664,
          -5.912409,
          -0.03072062,
          5.0215254,
          7.946013,
          4.5379534,
          -2.1383948,
          -1.7054911,
          0.70618945,
          5.7621574
         ],
         "xaxis": "x",
         "y": [
          -2.5640798,
          4.516483,
          16.813578,
          3.0197406,
          0.42587432,
          0.66465807,
          0.4070493,
          5.470602,
          -1.5576503,
          -1.6896275,
          -2.3763216,
          17.27819,
          7.532028,
          16.563393,
          -1.4502403,
          0.848229,
          16.651262,
          2.074132,
          -1.9179016,
          6.0806465,
          1.9540322,
          16.535704,
          6.0152464,
          1.7080889,
          7.3518267,
          1.8305855,
          5.984205,
          -1.6407903,
          16.882633,
          10.3803,
          3.6928403,
          6.694776,
          5.957178,
          3.8024118,
          5.3435383,
          6.244695,
          0.11006395,
          -0.24160103,
          6.8296275,
          7.0333767,
          5.733354,
          6.2043467,
          5.716747,
          6.437545,
          1.5217355,
          16.715027,
          16.447407,
          5.907066,
          6.972981,
          16.864298,
          5.166319,
          5.0506525,
          5.159096,
          4.195993,
          2.8237004,
          7.5373907,
          3.7461395,
          -1.3521922,
          4.236621,
          16.474611,
          2.7430348,
          16.96046,
          2.9420266,
          -0.6786946,
          2.8457663,
          4.225744,
          6.1061625,
          5.726159,
          6.0205894,
          -10.832832,
          5.5173035,
          16.951979,
          16.84669,
          6.1328955,
          6.458065,
          5.7878094,
          5.195038,
          4.7878227,
          0.9292917,
          1.2525069,
          1.0576209,
          10.28658,
          5.813279,
          1.6049562,
          1.0298218,
          9.024512,
          3.8357658,
          0.75954217,
          16.55799,
          0.912218,
          -1.4327223,
          -1.4757704,
          -0.44630575,
          7.629634,
          16.809196,
          16.843687,
          4.485754,
          6.606191,
          2.1525385,
          -1.5482706,
          0.12495423,
          1.1201835,
          5.3968387,
          2.0334072,
          3.277829,
          3.1137679,
          17.03428,
          -0.70203066,
          -0.19107969,
          16.683151,
          -1.1464553,
          -1.4000773,
          2.7991157,
          16.87834,
          4.449061,
          5.2694263,
          17.49145,
          -1.4278142,
          -1.3667928,
          8.3017435,
          1.5743709,
          1.846932,
          2.2096515,
          0.073526025,
          -0.28211287,
          6.901565,
          3.2674139,
          10.054097,
          3.7156878,
          6.364559,
          16.700253,
          -1.1209279,
          6.5407224,
          7.3953123,
          6.233962,
          6.0504413,
          4.70501,
          16.650562,
          4.512398,
          3.8097816,
          16.78515,
          5.34352,
          1.265064,
          4.2910395,
          3.7751,
          16.921288,
          0.7739939,
          -1.4696288,
          -0.76386404,
          -1.4664267,
          -0.5047325,
          3.8949866,
          -0.6106281,
          17.45086,
          3.6730924,
          9.079629,
          1.7434337,
          2.6744905,
          -1.2976795,
          3.5245419,
          -1.5276204,
          2.1951919,
          1.6381087,
          1.1380668,
          16.653631,
          5.5690503,
          4.129936,
          0.3881757,
          3.4063096,
          -0.9696192,
          1.7700832,
          2.1094768,
          2.8904877,
          5.035555,
          16.804907,
          2.7759562,
          -0.26877037,
          9.853627,
          2.6071386,
          2.6952376,
          0.51604563,
          -0.07179578,
          2.2369473,
          0.061798546,
          -1.0762103,
          -1.4387336,
          -0.1737012,
          13.120553,
          16.82759,
          2.5849445,
          16.61966,
          2.655238,
          6.868585,
          -1.6579183,
          -1.4324269,
          16.843248,
          7.9815655,
          -1.0077605,
          9.762419,
          -1.2757429,
          4.773865,
          -2.8149905,
          2.3729272,
          -0.818583,
          -0.5180249,
          -1.4235433,
          13.041573,
          16.912142,
          3.0530503,
          5.459428,
          6.6771755,
          6.3801765,
          3.8777149,
          4.003659,
          4.51605,
          3.9468002,
          10.742736,
          3.2419584,
          -1.0519532,
          6.9278293,
          2.366901,
          3.6972983,
          3.0648777,
          -1.524189,
          16.972391,
          2.3232157,
          16.65769,
          1.3589054,
          -13.498361,
          3.996536,
          3.7996175,
          2.649123,
          -1.7153033,
          -1.5174907,
          4.0568485,
          -0.18112116,
          5.0235596,
          16.72915,
          7.3211536,
          4.003468,
          -1.2910903,
          -8.397894,
          16.670034,
          4.239997,
          5.5264635,
          5.289202,
          16.610207,
          4.7868524,
          0.79921585,
          4.800988,
          4.577463,
          6.9988723,
          6.068916,
          4.2626925,
          16.74034,
          -0.966778,
          3.015208,
          7.1501575,
          9.752771,
          3.9129632,
          6.489675,
          1.4946233,
          16.651608,
          2.617126,
          6.941837,
          2.757931,
          1.0237635,
          0.1833855,
          16.56023,
          -0.27676055,
          20.487318,
          1.67064,
          1.6618934,
          2.9997153,
          2.4457228,
          3.4681654,
          4.9271083,
          0.534901,
          4.0177174,
          -1.4516647,
          6.3205323,
          7.0392094,
          -1.6387064,
          12.460519,
          2.8270566,
          3.8520072,
          5.0778155,
          -1.3462199,
          5.0787,
          -1.2024724,
          16.731369,
          3.6563475,
          -1.4922881,
          2.4934092,
          -0.86958677,
          3.306418,
          5.965949,
          -0.9840604,
          1.7478708,
          9.857723,
          -1.5670887,
          16.54886,
          4.0515523,
          3.9583476,
          7.7420616,
          2.9177313,
          -1.68895,
          -1.4171124,
          9.918715,
          9.840778,
          7.0285993,
          6.53787,
          16.84309,
          16.769428,
          9.4399,
          9.720634,
          2.7070777,
          9.970573,
          -0.17485796,
          16.555984,
          16.743132,
          -1.7304515,
          6.937627,
          16.56315,
          4.246387,
          7.433078,
          3.8101106,
          4.167616,
          -1.7030581,
          4.2495656,
          4.2878537,
          7.7473154,
          -1.6660764,
          -1.1767936,
          6.951618,
          -2.721211,
          12.063131,
          5.740913,
          16.79253,
          9.653452,
          3.6080837,
          -1.5014411,
          3.6789246,
          -1.5468092,
          -8.481092,
          6.635305,
          6.7962203,
          11.996987,
          9.673371,
          -1.4875587,
          16.72939,
          16.640623,
          9.775732,
          4.2196164,
          9.947498,
          16.629612,
          16.637892,
          3.1814322,
          -0.96337795,
          -1.7483473,
          -2.9231355,
          14.614925,
          0.7261559,
          0.60921526,
          9.661523,
          -1.6251936,
          0.4558338,
          5.8630905,
          5.699986,
          3.3065155,
          6.597145,
          8.156033,
          1.6025662,
          9.675057,
          7.5341086,
          5.2815423,
          20.452015,
          3.5709474,
          17.260044,
          7.7844977,
          7.8594384,
          6.9892116,
          6.278397,
          3.3318758,
          10.199069,
          4.5907264,
          2.8177812,
          2.2969508,
          3.2281215,
          2.3337736,
          2.8862255,
          4.680223,
          16.753756,
          1.3771421,
          16.775393,
          1.1896614,
          0.7954421,
          12.058464,
          9.962097,
          6.2787642,
          4.0322824,
          1.3051059,
          16.283686,
          17.340921,
          -0.7579455,
          3.2849271,
          2.4771006,
          0.71961105,
          0.6848485,
          3.9862554,
          7.3409505,
          0.3123649,
          9.733163,
          9.77071,
          5.1806087,
          -1.6630999,
          -2.0226238,
          3.761455,
          -1.696715,
          -5.606141,
          -1.4961468,
          16.511066,
          6.509145,
          8.471682,
          2.5557477,
          9.824494,
          0.914274,
          5.543207,
          1.0786555,
          20.408308,
          -0.8344544,
          1.6888115,
          5.9812837,
          1.7095646,
          1.2187327,
          2.5509737,
          3.7823017,
          2.9128258,
          9.9257145,
          -1.674774,
          4.545234,
          12.370157,
          9.742595,
          0.8566043,
          0.78486276,
          0.40649095,
          -1.8888273,
          13.3348,
          11.013688,
          8.742726,
          4.037602,
          -3.613416,
          9.498578,
          6.550435,
          -1.6450665,
          -5.534255,
          3.7497947,
          10.995753,
          6.564612,
          -10.832567,
          1.5612702,
          1.709953,
          1.199119,
          20.085411,
          3.3660622,
          6.801385,
          9.958648,
          9.98573,
          9.804545,
          12.542355,
          7.2286687,
          6.589473,
          13.074612,
          -1.5755495,
          0.95108205,
          12.541607,
          1.1193521,
          -1.6049328,
          9.943397,
          2.3687239,
          7.376475,
          -1.7436869,
          8.659386,
          8.586269,
          0.97139245,
          12.414507,
          16.967173,
          3.8026183,
          -3.8595564,
          -3.7946432,
          -3.6794808,
          -2.5662823,
          -1.8453133,
          10.085033,
          9.562124,
          9.786926,
          1.1332464,
          4.887067,
          16.874926,
          -1.9320359,
          5.181405,
          2.574211,
          -1.7391437,
          3.6285594,
          -1.894654,
          9.862319,
          11.196563,
          2.537733,
          7.0235844,
          0.23305814,
          0.47710866,
          11.086865,
          9.895108,
          1.0055219,
          2.4809864,
          0.076650925,
          3.8278952,
          9.2437725,
          17.366621,
          0.81869245,
          -3.4833984,
          3.2931523,
          16.58951,
          9.904537,
          1.233467,
          6.5562468,
          1.0532197,
          3.8194256,
          3.2867668,
          1.1802294,
          0.58783096,
          9.806457,
          12.845475,
          6.452521,
          6.635129,
          0.41908523,
          -3.6891801,
          11.014091,
          16.549425,
          -7.475984,
          9.984893,
          1.4613645,
          5.3984437,
          4.470654,
          9.809208,
          5.779122,
          10.114275,
          10.160262,
          1.142627,
          -3.5680888,
          -1.8560125,
          -2.6537874,
          -2.037487,
          7.062002,
          -1.7966967,
          2.8271222,
          -0.27547276,
          -0.848173,
          -1.7035447,
          1.482879,
          5.2708597,
          3.5078979,
          -1.8904344,
          -1.6692871,
          1.4024038,
          4.093314,
          3.2380393,
          6.2161922,
          1.3347201,
          -1.8218544,
          6.0942726,
          -0.06337539,
          4.8227553,
          16.958393,
          -1.4216021,
          2.0645337,
          0.6336166,
          0.75927615,
          1.0637748,
          12.963568,
          13.110956,
          13.166903,
          17.365675,
          3.8299432,
          10.067561,
          20.239706,
          6.0652094,
          10.782479,
          16.926086,
          3.7387784,
          4.0056434,
          4.5016975,
          4.278915,
          13.229749,
          16.210165,
          5.324018,
          4.9583645,
          4.615523,
          3.3951201,
          -1.7027152,
          3.3533266,
          6.025568,
          1.8539042,
          4.9660273,
          -1.858168,
          -1.923488,
          -2.0329795,
          -1.9631767,
          10.141234,
          6.4587803,
          1.9562846,
          9.950146,
          -3.6251533,
          -1.876391,
          6.565575,
          -1.9851286,
          6.8933663,
          6.125898,
          4.534603,
          -1.9045092,
          16.858738,
          -3.867108,
          -3.7819312,
          -1.9901899,
          6.852202,
          6.6983724,
          3.8277292,
          6.257928,
          6.3191576,
          3.9734113,
          3.6466377,
          10.167576,
          -1.870231,
          -2.0496168,
          -1.9228816,
          0.13848424,
          2.7933154,
          -2.033348,
          1.7466182,
          2.1536925,
          1.4408226,
          -2.0809126,
          -1.8783424,
          -6.7114434,
          -1.7809918,
          9.92142,
          0.53334457,
          10.077193,
          4.376683,
          10.196006,
          6.596658,
          6.725266,
          5.8103943,
          16.827356,
          7.5834813,
          10.272788,
          6.920507,
          12.3173485,
          10.0695715,
          10.081901,
          9.941049,
          -0.9319746,
          7.688604,
          2.2018921,
          10.189899,
          -2.0134246,
          10.180266,
          10.287935,
          9.971308,
          17.345997,
          4.634383,
          5.264447,
          2.8339376,
          2.5737064,
          -1.6994344,
          7.255578,
          -3.8131866,
          3.4824433,
          2.6146314,
          4.800477,
          10.210637,
          10.147927,
          6.42697,
          -1.859151,
          12.806666,
          9.899858,
          6.27081,
          4.559421,
          9.890802,
          10.167984,
          5.606816,
          9.976135,
          4.075317,
          3.2247345,
          10.131071,
          -10.786422,
          -1.9790028,
          0.26179203,
          -1.9840256,
          13.078634,
          10.197083,
          6.9563427,
          2.33011,
          10.186247,
          10.063168,
          2.1427329,
          16.43046,
          4.3670435,
          7.465133,
          6.1149297,
          5.8126726,
          -1.9111276,
          -0.9547551,
          6.6640797,
          10.953979,
          0.8667451,
          0.42270124,
          10.314107,
          5.3317475,
          4.8428535,
          5.4236054,
          5.804186,
          6.0940075,
          20.20719,
          8.698855,
          8.607164,
          10.193511,
          9.840295,
          -3.5776365,
          2.4517126,
          5.1553907,
          4.000854,
          4.481671,
          9.86449,
          9.779614,
          10.180935,
          0.44693637,
          20.332361,
          9.863548,
          5.4448524,
          9.983149,
          5.2581105,
          11.380814,
          -2.4267688,
          9.951975,
          5.105683,
          -1.870101,
          5.6007233,
          5.6328325,
          16.17487,
          16.859873,
          5.449574,
          9.547648,
          6.1339936,
          1.5861566,
          9.955048,
          4.733388,
          3.7269037,
          5.9278703,
          10.087853,
          -2.6647165,
          10.114115,
          4.4388733,
          3.9589536,
          9.956945,
          3.236375,
          3.3052967,
          16.201874,
          3.542011,
          10.096081,
          9.978906,
          5.597926,
          5.493817,
          5.285915,
          10.033682,
          6.877016,
          10.050717,
          6.388772,
          0.42682114,
          9.896736,
          14.7632475,
          10.256341,
          9.951495,
          4.530798,
          -1.9437108,
          1.8221337,
          10.037112,
          9.80187,
          -0.15211737,
          -1.8916187,
          1.2344689,
          9.904221,
          1.202105,
          5.0553775,
          1.144436,
          3.2148402,
          9.873095,
          10.039963,
          -0.12507857,
          1.9585791,
          10.11693,
          9.920249,
          -2.1435957,
          4.439727,
          3.5928535,
          -2.0605066,
          9.842801,
          -0.75695574,
          1.1383173,
          4.822451,
          4.524131,
          3.5144024,
          -1.7855734,
          1.0769917,
          -2.0336225,
          4.2265396,
          9.935491,
          12.460118,
          -2.195022,
          10.809593,
          10.703008,
          9.99719,
          4.927792,
          -0.2582234,
          10.116692,
          11.243209,
          -1.8818398,
          1.8430719,
          9.965364,
          9.764166,
          12.32713,
          6.157744,
          -2.005394,
          5.0067253,
          5.8914375,
          -2.0257206,
          6.8733535,
          6.7449646,
          6.141855,
          4.0452657,
          1.00774,
          -2.2233598,
          4.847317,
          7.6812034,
          7.6595273,
          7.920102,
          15.695769,
          6.4885473,
          -2.4638925,
          -2.5792618,
          9.861326,
          -2.4452407,
          0.0068933815,
          9.878738,
          1.0969845,
          0.69331974,
          4.3003783,
          3.1710086,
          3.2965395,
          3.2545083,
          5.118406,
          -4.372154,
          1.6862822,
          2.3073685,
          3.6264038,
          6.653542,
          7.831202,
          7.080922,
          -8.429195,
          3.3094652,
          -1.4642198,
          6.227432,
          0.7279391,
          0.36505458,
          4.4237585,
          1.7823397,
          0.59152275,
          2.6859596,
          9.707569,
          -8.485237,
          6.488709,
          0.48374683,
          4.6862693,
          4.2966394,
          4.479479,
          10.047554,
          3.7502213,
          9.965448,
          -2.0838947,
          5.0971203,
          4.8547554,
          4.930713,
          2.2910955,
          9.952306,
          9.711334,
          0.82693577,
          5.3233905,
          3.5941398,
          10.182785,
          9.743272,
          9.84748,
          12.091949,
          4.3443303,
          0.0511464,
          1.0206857,
          3.5233836,
          9.599137,
          3.114422,
          10.257211,
          2.2676232,
          7.3561807,
          9.470474,
          5.9776435,
          7.7196584,
          2.2891848,
          9.590174,
          1.1771209,
          0.53461933,
          -3.9230182,
          1.042251,
          20.465685,
          5.7094707,
          1.1810883,
          0.8479215,
          1.4191965,
          3.8823195,
          -1.5202743,
          0.46473762,
          1.2378362,
          1.8427253,
          1.5843917,
          0.33848765,
          4.2090116,
          4.1812887,
          6.1801867,
          6.199458,
          -1.5112556,
          -1.5881109,
          0.5237729,
          9.373836,
          1.7466006,
          2.0301838,
          10.261181,
          0.88861465,
          9.595249,
          9.322254,
          1.184597,
          2.5541239,
          -2.0377584,
          3.6458476,
          9.741403,
          17.416878,
          3.2753427,
          1.7685345,
          9.622416,
          -2.6528099,
          0.93135846,
          1.0295467,
          3.3649259,
          2.393142,
          9.544064,
          1.8686883,
          13.313084,
          4.162716,
          9.676909,
          4.4977846,
          -1.7833029,
          1.1273928,
          7.211335,
          3.8020804,
          -1.880629,
          9.821529,
          2.7674813,
          0.5285394,
          0.29768956,
          0.21159124,
          7.9139175,
          9.479398,
          5.017595,
          5.100506,
          9.684954,
          5.4647274,
          5.490357,
          5.3021097,
          2.1371493,
          3.750147,
          1.0421194,
          -0.046784475,
          3.9036803,
          -1.2686327,
          6.348203,
          -1.8173777,
          6.21224,
          3.2110517,
          -2.617134,
          3.6082182,
          3.6635785,
          3.4377859,
          3.7883208,
          4.6727786,
          4.802364,
          4.65273,
          -1.3651893,
          3.939322,
          17.2599,
          3.095604,
          7.646079,
          -1.282771,
          0.027604071,
          -1.9812278,
          -2.5273993,
          9.643553,
          9.540898,
          5.7523336,
          9.562678,
          8.8244705,
          0.815243,
          -1.447309,
          -1.4591503,
          0.21277153,
          -2.053949,
          6.254283,
          -2.2681665,
          6.339352,
          6.1030006,
          6.3686457,
          9.697796,
          20.154753,
          1.1125283,
          3.8047473,
          12.3878145,
          12.453586,
          5.175977,
          20.453785,
          1.778936,
          -1.8651352,
          5.843107,
          7.258041,
          9.400437,
          -0.1571424,
          -1.8599119,
          9.286755,
          6.933726,
          6.2689238,
          9.7500725,
          -1.9641953,
          6.135992,
          1.0746847,
          4.402137,
          -8.436854,
          8.253679,
          6.1127386,
          -2.4997556,
          -2.42121,
          3.3896627,
          3.7544858,
          3.5095448,
          2.040067
         ],
         "yaxis": "y"
        },
        {
         "customdata": [
          [
           "Q: Okay. Good morning. This is a United States Holocaust Memorial Museum interview with Mr. Ernest Dutcher, Jr., on February 19, 2013, in Encino, California. Good morning Mr. Dutcher, and thank you for agreeing to speak with us today.",
           "RG-50.030.0687_trs_en_cleaned"
          ],
          [
           "Q: Mr. Dutcher, from what I understand, you were a liberator with U.S. forces of concentration camps in Germany, and were a member of the military. So \"\"m going to ask a lot of questions that leads up to those events in Dachau because we'd like to know a little bit about your life and your military service prior to the liberation of the concentration camps, and your role in helping survivors survive. So, I'll start at the beginning.",
           "RG-50.030.0687_trs_en_cleaned"
          ],
          [
           "Q: Please tell us when you were born, where you were born and a little bit about your family.",
           "RG-50.030.0687_trs_en_cleaned"
          ],
          [
           "Q: Excuse me. Let me follow up on that a little bit. What kind of -- what did you grow on the farm?",
           "RG-50.030.0687_trs_en_cleaned"
          ],
          [
           "Q: So did you sell any -- did your family sell any of these items?",
           "RG-50.030.0687_trs_en_cleaned"
          ],
          [
           "Q: And is that why it's so expensive?",
           "RG-50.030.0687_trs_en_cleaned"
          ],
          [
           "Q: Yeah, yeah. Your father and your mother, what were their names?",
           "RG-50.030.0687_trs_en_cleaned"
          ],
          [
           "Q: It's okay, it's okay, take your time.",
           "RG-50.030.0687_trs_en_cleaned"
          ],
          [
           "Q: Oh my.",
           "RG-50.030.0687_trs_en_cleaned"
          ],
          [
           "Q: My gosh.",
           "RG-50.030.0687_trs_en_cleaned"
          ],
          [
           "Q: Mm-hm. So you would have been 22 years old?",
           "RG-50.030.0687_trs_en_cleaned"
          ],
          [
           "Q: Can I interrupt just for a second?",
           "RG-50.030.0687_trs_en_cleaned"
          ],
          [
           "Q: I want to step back just a little bit to find out about your town. It was called Rhineland(ph)? With no --",
           "RG-50.030.0687_trs_en_cleaned"
          ],
          [
           "Q: Rhinelander.",
           "RG-50.030.0687_trs_en_cleaned"
          ],
          [
           "Q: And you say was 9,000 people there?",
           "RG-50.030.0687_trs_en_cleaned"
          ],
          [
           "Q: 9,019.",
           "RG-50.030.0687_trs_en_cleaned"
          ],
          [
           "Q: And, well, if your mom was a correspondent from the newspaper, those are the sorts of facts that newspaper people know. Tell me, i-if you can, were they all pretty similar in background, all pretty similar in religion? Was there a predominant religion?",
           "RG-50.030.0687_trs_en_cleaned"
          ],
          [
           "Q: You knew what I was getting at. I wanted to find out whether or not there had been any Jews in the town, whether people knew them, whether you had gotten to know anybody. That was --",
           "RG-50.030.0687_trs_en_cleaned"
          ],
          [
           "Q: Okay, I have another question.",
           "RG-50.030.0687_trs_en_cleaned"
          ],
          [
           "Q: You said that you always loved flying. You had been in an airplane before, or --",
           "RG-50.030.0687_trs_en_cleaned"
          ],
          [
           "Q: Okay.",
           "RG-50.030.0687_trs_en_cleaned"
          ],
          [
           "Q: So you had two passions, which you've identified so far. One for radio, and one for flying.",
           "RG-50.030.0687_trs_en_cleaned"
          ],
          [
           "Q: Okay. So let's ta-take us through then, the enlistment process, where you enlisted and what happened after that.",
           "RG-50.030.0687_trs_en_cleaned"
          ],
          [
           "Q: For what?",
           "RG-50.030.0687_trs_en_cleaned"
          ],
          [
           "Q: No, no, but what were you -- was this to be accepted as -- in -- into the pilot program?",
           "RG-50.030.0687_trs_en_cleaned"
          ],
          [
           "Q: Okay, mm-hm.",
           "RG-50.030.0687_trs_en_cleaned"
          ],
          [
           "Q: Okay.",
           "RG-50.030.0687_trs_en_cleaned"
          ],
          [
           "Q: What year -- excuse me again, I'm interrupting, but what year was this when you were accepted to go into Yale? How far in the 40s were we?",
           "RG-50.030.0687_trs_en_cleaned"
          ],
          [
           "Q: Okay.",
           "RG-50.030.0687_trs_en_cleaned"
          ],
          [
           "Q: Okay.",
           "RG-50.030.0687_trs_en_cleaned"
          ],
          [
           "Q: You must have been a popular guy.",
           "RG-50.030.0687_trs_en_cleaned"
          ],
          [
           "Q: You had the space for it, huh?",
           "RG-50.030.0687_trs_en_cleaned"
          ],
          [
           "Q: That must have been fascinating stuff.",
           "RG-50.030.0687_trs_en_cleaned"
          ],
          [
           "Q: Wow.",
           "RG-50.030.0687_trs_en_cleaned"
          ],
          [
           "Q: Cause you looked so good.http://collections.ushmm.orgContact reference@ushmm.org for further information about this collection Interview with Ernest Dutcher \" February 19, 2013",
           "RG-50.030.0687_trs_en_cleaned"
          ],
          [
           "Q: And she had some say in this?",
           "RG-50.030.0687_trs_en_cleaned"
          ],
          [
           "Q: Okay.",
           "RG-50.030.0687_trs_en_cleaned"
          ],
          [
           "Q: Okay.",
           "RG-50.030.0687_trs_en_cleaned"
          ],
          [
           "Q: Wow.",
           "RG-50.030.0687_trs_en_cleaned"
          ],
          [
           "Q: Well, congratulations. Congratulations. What's your wife's name?",
           "RG-50.030.0687_trs_en_cleaned"
          ],
          [
           "Q: Beatrice.",
           "RG-50.030.0687_trs_en_cleaned"
          ],
          [
           "Q: And while we're on this topic, how -- do you have children?",
           "RG-50.030.0687_trs_en_cleaned"
          ],
          [
           "Q: Are you from Dutch background?",
           "RG-50.030.0687_trs_en_cleaned"
          ],
          [
           "Q: Are you Dutch background?",
           "RG-50.030.0687_trs_en_cleaned"
          ],
          [
           "Q: America.",
           "RG-50.030.0687_trs_en_cleaned"
          ],
          [
           "Q: That's okay.",
           "RG-50.030.0687_trs_en_cleaned"
          ],
          [
           "Q: Okay.",
           "RG-50.030.0687_trs_en_cleaned"
          ],
          [
           "Q: Okay.",
           "RG-50.030.0687_trs_en_cleaned"
          ],
          [
           "Q: I can imagine. I ca --",
           "RG-50.030.0687_trs_en_cleaned"
          ],
          [
           "Q: Okay, so we went down --",
           "RG-50.030.0687_trs_en_cleaned"
          ],
          [
           "Q: Okay.",
           "RG-50.030.0687_trs_en_cleaned"
          ],
          [
           "Q: Okay, I'm sorry, I got you off on a tangent here.",
           "RG-50.030.0687_trs_en_cleaned"
          ],
          [
           "Q: But you were in -- you were in Florida and you had just married, with a forged signature.",
           "RG-50.030.0687_trs_en_cleaned"
          ],
          [
           "Q: Yes.",
           "RG-50.030.0687_trs_en_cleaned"
          ],
          [
           "Q: Yeah. And -- and you were going to be learning a lot more about radar that was coming from the MIT lab. So let's go back to your military side -- this military side of your life.",
           "RG-50.030.0687_trs_en_cleaned"
          ],
          [
           "Q: Yeah.",
           "RG-50.030.0687_trs_en_cleaned"
          ],
          [
           "Q: Well there we, again, we were graded based on our grades and our accomplishments there. And I had a s -- handicap, cause I -- I didn't know too much about math and that was all math at the time, so -- but I did have a fellow student that was a -- a math major, so he -- he brought me along in the evenings and so forth, and we spent a lot of time, you know, bringing me up on that. And then -- then we went through learning all about these -- this new device out of MIT, the -- the new radars, t -- absolutely, totally top secret. And then we were -- actually went out on another piece of radar, flying off the coast and finding submarines out of the water with this particular anti-submarine device, which I never was involved with using later. So then from my graduation there with a satisfactory rating, I was then assigned to a-- of all things, a shooting range, while we waiting for our assignment to various squadrons that were being formed. In the range, I-I directed people in thehttp://collections.ushmm.org",
           "RG-50.030.0687_trs_en_cleaned"
          ],
          [
           "Q: What does that -- excuse me, I have to interrupt you. What does that mean? Did you know what your eventual job was going to be?",
           "RG-50.030.0687_trs_en_cleaned"
          ],
          [
           "Q: And what was that?",
           "RG-50.030.0687_trs_en_cleaned"
          ],
          [
           "Q: And so that means, for a layperson like myself, as a radar -- what does a radar officer do? What does --http://collections.ushmm.org",
           "RG-50.030.0687_trs_en_cleaned"
          ],
          [
           "Q: Okay.",
           "RG-50.030.0687_trs_en_cleaned"
          ],
          [
           "Q: The technology that existed at the time.",
           "RG-50.030.0687_trs_en_cleaned"
          ],
          [
           "Q: Yeah.",
           "RG-50.030.0687_trs_en_cleaned"
          ],
          [
           "Q: Okay.",
           "RG-50.030.0687_trs_en_cleaned"
          ],
          [
           "Q: You mean Normandy?",
           "RG-50.030.0687_trs_en_cleaned"
          ],
          [
           "Q: Wow.",
           "RG-50.030.0687_trs_en_cleaned"
          ],
          [
           "Q: Sure.",
           "RG-50.030.0687_trs_en_cleaned"
          ],
          [
           "Q: Okay.",
           "RG-50.030.0687_trs_en_cleaned"
          ],
          [
           "Q: The next part of the structure.",
           "RG-50.030.0687_trs_en_cleaned"
          ],
          [
           "Q: Right.",
           "RG-50.030.0687_trs_en_cleaned"
          ],
          [
           "Q: Okay.",
           "RG-50.030.0687_trs_en_cleaned"
          ],
          [
           "Q: Okay.",
           "RG-50.030.0687_trs_en_cleaned"
          ],
          [
           "Q: In wha -- okay.",
           "RG-50.030.0687_trs_en_cleaned"
          ],
          [
           "Q: Okay, okay, fine. So I want to get back to though, something. You're a radar officer?",
           "RG-50.030.0687_trs_en_cleaned"
          ],
          [
           "Q: And you're in charge of others who are radar experts?",
           "RG-50.030.0687_trs_en_cleaned"
          ],
          [
           "Q: And what's their job? Was their job to use the radar to detect where there would be emen -- enemy submarines? Was that it?",
           "RG-50.030.0687_trs_en_cleaned"
          ],
          [
           "Q: Okay.",
           "RG-50.030.0687_trs_en_cleaned"
          ],
          [
           "Q: Okay.",
           "RG-50.030.0687_trs_en_cleaned"
          ],
          [
           "Q: Okay.",
           "RG-50.030.0687_trs_en_cleaned"
          ],
          [
           "Q: Got it.",
           "RG-50.030.0687_trs_en_cleaned"
          ],
          [
           "Q: So, i-if l can summarize, but I'd like to know whether or not my summary is accurate, is that in many ways your role in this structure was an educational role as well as a maintenance role, to make sure that you understood the equipment, and to make sure that the guys who were under your command understood how to maintain that equipment.",
           "RG-50.030.0687_trs_en_cleaned"
          ],
          [
           "Q: Okay.",
           "RG-50.030.0687_trs_en_cleaned"
          ],
          [
           "Q: Okay.",
           "RG-50.030.0687_trs_en_cleaned"
          ],
          [
           "Q: Okay.",
           "RG-50.030.0687_trs_en_cleaned"
          ],
          [
           "Q: Yeah.",
           "RG-50.030.0687_trs_en_cleaned"
          ],
          [
           "Q: Sure.",
           "RG-50.030.0687_trs_en_cleaned"
          ],
          [
           "Q: Right.",
           "RG-50.030.0687_trs_en_cleaned"
          ],
          [
           "Q: So it was based on what you had learned about the technology?",
           "RG-50.030.0687_trs_en_cleaned"
          ],
          [
           "Q: And -- you must have been quite proud.",
           "RG-50.030.0687_trs_en_cleaned"
          ],
          [
           "Q: You must have been quite proud that they adopted the system.",
           "RG-50.030.0687_trs_en_cleaned"
          ],
          [
           "Q: Okay.",
           "RG-50.030.0687_trs_en_cleaned"
          ],
          [
           "Q: Can I ask about -- we're in Missouri. From what I understand in your story, as far as getting to Europe, you're still in Missouri, correct? Training some of these oth -- now a radar officer --",
           "RG-50.030.0687_trs_en_cleaned"
          ],
          [
           "Q: Oh, I see. So tell me how -- at what point did your training end, and you got shipped out to Europe?",
           "RG-50.030.0687_trs_en_cleaned"
          ],
          [
           "Q: Oh my gosh.",
           "RG-50.030.0687_trs_en_cleaned"
          ],
          [
           "Q: Chickens weren't happy.",
           "RG-50.030.0687_trs_en_cleaned"
          ],
          [
           "Q: Okay.",
           "RG-50.030.0687_trs_en_cleaned"
          ],
          [
           "Q: I see. I see, when you were already over there. So Id like to establish the date of when you left -- I mean, because up til now, from when we talk about when you enlisted in Wisconsin to now, it sounds like such an intensive --",
           "RG-50.030.0687_trs_en_cleaned"
          ],
          [
           "Q: -- training from the very basics, to something extraordinarily sophisticated.",
           "RG-50.030.0687_trs_en_cleaned"
          ],
          [
           "Q: Yeah.",
           "RG-50.030.0687_trs_en_cleaned"
          ],
          [
           "Q: Well that pr--",
           "RG-50.030.0687_trs_en_cleaned"
          ],
          [
           "Q: Mm-hm, sorry -- I'm sorry, ki-- keep on going.Interview with Ernest Dutcher *s February 19, 2013",
           "RG-50.030.0687_trs_en_cleaned"
          ],
          [
           "Q: Yeah.",
           "RG-50.030.0687_trs_en_cleaned"
          ],
          [
           "Q: Really?",
           "RG-50.030.0687_trs_en_cleaned"
          ],
          [
           "Q: 1940 --",
           "RG-50.030.0687_trs_en_cleaned"
          ],
          [
           "Q: Okay.",
           "RG-50.030.0687_trs_en_cleaned"
          ],
          [
           "Q: Because the invasion happens half a year later.",
           "RG-50.030.0687_trs_en_cleaned"
          ],
          [
           "Q: In June *44.",
           "RG-50.030.0687_trs_en_cleaned"
          ],
          [
           "Q: Okay.",
           "RG-50.030.0687_trs_en_cleaned"
          ],
          [
           "Q: By that point -- I know you, you know, from your story we get a sense of -- of real intensive focus on the work that you're doing, on the technology, on learning everything that you know about it. What about the wider political events that were going on at the time? Do you remember, do you hear, did you read newspapers about how the war was progressing before the invasion? Did you hear anything about what was happening to the Jews of Europe?",
           "RG-50.030.0687_trs_en_cleaned"
          ],
          [
           "Q: Okay.",
           "RG-50.030.0687_trs_en_cleaned"
          ],
          [
           "Q: No, no.",
           "RG-50.030.0687_trs_en_cleaned"
          ],
          [
           "Q: I'm just trying -- you see, the reason why I asked this question is I'm trying to get an --a sense of the context of the time, the mood of the time, the level of knowledge of the time. You know, what had priority and what had less priority, and how much did people know and -- and what they were aware of. Which I think you've addressed, you know.",
           "RG-50.030.0687_trs_en_cleaned"
          ],
          [
           "Q: We can perhaps come to that -- come to that point when -- in your narrative I remember --",
           "RG-50.030.0687_trs_en_cleaned"
          ],
          [
           "Q: -- it's something that you wrote about.",
           "RG-50.030.0687_trs_en_cleaned"
          ],
          [
           "Q: Did you hear then, about the bow -- Battle of Stalingrad, which was in 1943?",
           "RG-50.030.0687_trs_en_cleaned"
          ],
          [
           "Q: That's right.",
           "RG-50.030.0687_trs_en_cleaned"
          ],
          [
           "Q: Well, let's talk about that a little bit. Was this in England?",
           "RG-50.030.0687_trs_en_cleaned"
          ],
          [
           "Q: Okay, so tell us the story in a -- in -- yeah, tell us the story, tell us what happened with such losses?",
           "RG-50.030.0687_trs_en_cleaned"
          ],
          [
           "Q: Oh my.",
           "RG-50.030.0687_trs_en_cleaned"
          ],
          [
           "Q: Were there?",
           "RG-50.030.0687_trs_en_cleaned"
          ],
          [
           "Q: Yeah.",
           "RG-50.030.0687_trs_en_cleaned"
          ],
          [
           "Q: Excuse me.",
           "RG-50.030.0687_trs_en_cleaned"
          ],
          [
           "Q: How mu -- do you know how many people died in that -- in that collision?",
           "RG-50.030.0687_trs_en_cleaned"
          ],
          [
           "Q: And was this because of the intensity and the frequency and just the sheer number of bombing missions that were taking place, that they were -- there were just too many in the sky?",
           "RG-50.030.0687_trs_en_cleaned"
          ],
          [
           "Q: Yeah.",
           "RG-50.030.0687_trs_en_cleaned"
          ],
          [
           "Q: Okay.",
           "RG-50.030.0687_trs_en_cleaned"
          ],
          [
           "Q: Okay.",
           "RG-50.030.0687_trs_en_cleaned"
          ],
          [
           "Q: So that made 31.",
           "RG-50.030.0687_trs_en_cleaned"
          ],
          [
           "Q: Can I interrupt just for a second?",
           "RG-50.030.0687_trs_en_cleaned"
          ],
          [
           "Q: I just want to ma -- establish that the manufacturer of the gliders was British.",
           "RG-50.030.0687_trs_en_cleaned"
          ],
          [
           "Q: But they had sold them to the Americans and this was now an American military operation.",
           "RG-50.030.0687_trs_en_cleaned"
          ],
          [
           "Q: Got it.",
           "RG-50.030.0687_trs_en_cleaned"
          ],
          [
           "Q: In the middle.",
           "RG-50.030.0687_trs_en_cleaned"
          ],
          [
           "Q: Oh my.",
           "RG-50.030.0687_trs_en_cleaned"
          ],
          [
           "Q: Oh gosh.",
           "RG-50.030.0687_trs_en_cleaned"
          ],
          [
           "Q: Oh my.",
           "RG-50.030.0687_trs_en_cleaned"
          ],
          [
           "Q: Were they co -- were they considered secret, top secret? Could you speak about them to your relatives, to your wife?",
           "RG-50.030.0687_trs_en_cleaned"
          ],
          [
           "Q: Okay.",
           "RG-50.030.0687_trs_en_cleaned"
          ],
          [
           "Q: Must have been that those, you know, that -- that you and others on the ground, when you saw the price of somebody's decision, the mistake, it -- I mean, the anger at the -- at the price that was paid.",
           "RG-50.030.0687_trs_en_cleaned"
          ],
          [
           "Q: Remind us again what part of England did this all occur?",
           "RG-50.030.0687_trs_en_cleaned"
          ],
          [
           "Q: Stonehenge.",
           "RG-50.030.0687_trs_en_cleaned"
          ],
          [
           "Q: Stonehenge.",
           "RG-50.030.0687_trs_en_cleaned"
          ],
          [
           "Q: Well, \"\"m amazed by how many details you remember, I really am. It's a lot.",
           "RG-50.030.0687_trs_en_cleaned"
          ],
          [
           "Q: Yeah.",
           "RG-50.030.0687_trs_en_cleaned"
          ],
          [
           "Q: Yeah.",
           "RG-50.030.0687_trs_en_cleaned"
          ],
          [
           "Q: Well, that's --",
           "RG-50.030.0687_trs_en_cleaned"
          ],
          [
           "Q: Wow.",
           "RG-50.030.0687_trs_en_cleaned"
          ],
          [
           "Q: Congratulations.",
           "RG-50.030.0687_trs_en_cleaned"
          ],
          [
           "Q: Well, congratulations.",
           "RG-50.030.0687_trs_en_cleaned"
          ],
          [
           "Q: Congratulations.",
           "RG-50.030.0687_trs_en_cleaned"
          ],
          [
           "Q: I'm also impressed that it sounds like innovation was something that was allowed.",
           "RG-50.030.0687_trs_en_cleaned"
          ],
          [
           "Q: Innovation was something that was encouraged within the structure.",
           "RG-50.030.0687_trs_en_cleaned"
          ],
          [
           "Q: Something about -- about the -- the innovation being encouraged.",
           "RG-50.030.0687_trs_en_cleaned"
          ],
          [
           "Q: There's peace. There's peace in that.",
           "RG-50.030.0687_trs_en_cleaned"
          ],
          [
           "Q: Let's go forward.",
           "RG-50.030.0687_trs_en_cleaned"
          ],
          [
           "Q: We need to -- we need to find out how it is that you come in contact with what we -- what people realized later was the Holocaust, and the genocide against Europe's Jews.",
           "RG-50.030.0687_trs_en_cleaned"
          ],
          [
           "Q: Tell us -- so, were you part of the invasion of Normandy or were you staying in England while the --",
           "RG-50.030.0687_trs_en_cleaned"
          ],
          [
           "Q: Okay.",
           "RG-50.030.0687_trs_en_cleaned"
          ],
          [
           "Q: And Operation Market Basket was what?",
           "RG-50.030.0687_trs_en_cleaned"
          ],
          [
           "Q: But the bridges in where, what part of Europe?",
           "RG-50.030.0687_trs_en_cleaned"
          ],
          [
           "Q: Okay.",
           "RG-50.030.0687_trs_en_cleaned"
          ],
          [
           "Q: Okay.",
           "RG-50.030.0687_trs_en_cleaned"
          ],
          [
           "Q: Wow.",
           "RG-50.030.0687_trs_en_cleaned"
          ],
          [
           "Q: So-",
           "RG-50.030.0687_trs_en_cleaned"
          ],
          [
           "Q: Okay, so let's -- let's go to that point.",
           "RG-50.030.0687_trs_en_cleaned"
          ],
          [
           "Q: You said you were in O-Operation Market Basket and that was -- was that the right way of calling it?",
           "RG-50.030.0687_trs_en_cleaned"
          ],
          [
           "Q: That was before.",
           "RG-50.030.0687_trs_en_cleaned"
          ],
          [
           "Q: That was to try and save the bridges.",
           "RG-50.030.0687_trs_en_cleaned"
          ],
          [
           "Q: And did you -- did the --",
           "RG-50.030.0687_trs_en_cleaned"
          ],
          [
           "Q: Got it.",
           "RG-50.030.0687_trs_en_cleaned"
          ],
          [
           "Q: So, when you're finally -- the war does end, had you had any knowledge or contact of what -- what it is that -- that you eventually saw, or was the -- were these flights that took place -- I'm no -- I'm not phrasing this correctly. Let's go this way: what's the first time that you flew on these planes, the C-47s, where it had contact with the survivors of the concentration camps, the survivors from slave labor camps, and displaced persons. Set that up for us.",
           "RG-50.030.0687_trs_en_cleaned"
          ],
          [
           "Q: So the war had ended?",
           "RG-50.030.0687_trs_en_cleaned"
          ],
          [
           "Q: How did you kn -- did you know who -- what you were going to be meeting?",
           "RG-50.030.0687_trs_en_cleaned"
          ],
          [
           "Q: At that point did you know -- what is it -- what did you know about the camps before you even got there?",
           "RG-50.030.0687_trs_en_cleaned"
          ],
          [
           "Q: Okay. And where did you take off from?",
           "RG-50.030.0687_trs_en_cleaned"
          ],
          [
           "Q: Oh my goodness.",
           "RG-50.030.0687_trs_en_cleaned"
          ],
          [
           "Q: Okay, so when you were taking off from Amiens, were y -- did you take off with gas and came back with people?",
           "RG-50.030.0687_trs_en_cleaned"
          ],
          [
           "Q: Okay.",
           "RG-50.030.0687_trs_en_cleaned"
          ],
          [
           "Q: Okay.",
           "RG-50.030.0687_trs_en_cleaned"
          ],
          [
           "Q: So, do you recall how long the flight was, when you landed, where you landed?",
           "RG-50.030.0687_trs_en_cleaned"
          ],
          [
           "Q: Halle, mm-hm.",
           "RG-50.030.0687_trs_en_cleaned"
          ],
          [
           "Q: Well, Halle is in what was East Germany.",
           "RG-50.030.0687_trs_en_cleaned"
          ],
          [
           "Q: East Germ -- what became East Germany.",
           "RG-50.030.0687_trs_en_cleaned"
          ],
          [
           "Q: Buchenwald was in East Germany, and -- what became East Germany, and Dachau was near Munich, which was going to be in West Germany. So is --",
           "RG-50.030.0687_trs_en_cleaned"
          ],
          [
           "Q: Yeah.",
           "RG-50.030.0687_trs_en_cleaned"
          ],
          [
           "Q: Okay.",
           "RG-50.030.0687_trs_en_cleaned"
          ],
          [
           "Q: Okay. So when you landed, do you remember what you saw?",
           "RG-50.030.0687_trs_en_cleaned"
          ],
          [
           "Q: Okay.",
           "RG-50.030.0687_trs_en_cleaned"
          ],
          [
           "Q: How many could you carry?",
           "RG-50.030.0687_trs_en_cleaned"
          ],
          [
           "Q: Per plane?",
           "RG-50.030.0687_trs_en_cleaned"
          ],
          [
           "Q: Okay.",
           "RG-50.030.0687_trs_en_cleaned"
          ],
          [
           "Q: So they were sitting up.",
           "RG-50.030.0687_trs_en_cleaned"
          ],
          [
           "Q: The people were sitting up.",
           "RG-50.030.0687_trs_en_cleaned"
          ],
          [
           "Q: They people were sitting up.",
           "RG-50.030.0687_trs_en_cleaned"
          ],
          [
           "Q: Okay.",
           "RG-50.030.0687_trs_en_cleaned"
          ],
          [
           "Q: And -- yeah, tell me what it -- what did they look like?",
           "RG-50.030.0687_trs_en_cleaned"
          ],
          [
           "Q: Were they wearing the striped --",
           "RG-50.030.0687_trs_en_cleaned"
          ],
          [
           "Q: No.",
           "RG-50.030.0687_trs_en_cleaned"
          ],
          [
           "Q: Yeah.",
           "RG-50.030.0687_trs_en_cleaned"
          ],
          [
           "Q: Could you tell who was a man and who was a woman?",
           "RG-50.030.0687_trs_en_cleaned"
          ],
          [
           "Q: Okay.",
           "RG-50.030.0687_trs_en_cleaned"
          ],
          [
           "Q: Were they -- could you tell their ages, approximately?",
           "RG-50.030.0687_trs_en_cleaned"
          ],
          [
           "Q: Yeah.",
           "RG-50.030.0687_trs_en_cleaned"
          ],
          [
           "Q: How did -- how did they walk?http://collections.ushmm.orgContact reference@ushmm.org for further information about this collection Interview with Ernest Dutcher * February 19, 2013",
           "RG-50.030.0687_trs_en_cleaned"
          ],
          [
           "Q: Did they say anything? Did they say anything?",
           "RG-50.030.0687_trs_en_cleaned"
          ],
          [
           "Q: Do you --",
           "RG-50.030.0687_trs_en_cleaned"
          ],
          [
           "Q: Did they see them?",
           "RG-50.030.0687_trs_en_cleaned"
          ],
          [
           "Q: Did you recall anything about how they left the plane?",
           "RG-50.030.0687_trs_en_cleaned"
          ],
          [
           "Q: Okay.",
           "RG-50.030.0687_trs_en_cleaned"
          ],
          [
           "Q: Did you do more of these trips?",
           "RG-50.030.0687_trs_en_cleaned"
          ],
          [
           "Q: That's right.",
           "RG-50.030.0687_trs_en_cleaned"
          ],
          [
           "Q: It happened, it happened.",
           "RG-50.030.0687_trs_en_cleaned"
          ],
          [
           "Q: It happened.",
           "RG-50.030.0687_trs_en_cleaned"
          ],
          [
           "Q: So you would pick up Russian prisoners from someplace in Germany and fly them to the Red Army lines, to another place in Germany?",
           "RG-50.030.0687_trs_en_cleaned"
          ],
          [
           "Q: Okay.",
           "RG-50.030.0687_trs_en_cleaned"
          ],
          [
           "Q: And -- and so you would fly them east.",
           "RG-50.030.0687_trs_en_cleaned"
          ],
          [
           "Q: I see.",
           "RG-50.030.0687_trs_en_cleaned"
          ],
          [
           "Q: Okay.",
           "RG-50.030.0687_trs_en_cleaned"
          ],
          [
           "Q: So, it was not -- so your f -- i-if I understand correctly, your flight, where you helped bring survivors of the camps out to -- to France was -- there were two flights.",
           "RG-50.030.0687_trs_en_cleaned"
          ],
          [
           "Q: I know, but the ones that you were invo --http://collections.ushmm.org",
           "RG-50.030.0687_trs_en_cleaned"
          ],
          [
           "Q: Okay, okay.",
           "RG-50.030.0687_trs_en_cleaned"
          ],
          [
           "Q: Okay. Did they say anything to you? On either flight, did anyone speak with you?",
           "RG-50.030.0687_trs_en_cleaned"
          ],
          [
           "Q: Did they stand up at that point?",
           "RG-50.030.0687_trs_en_cleaned"
          ],
          [
           "Q: I can only imagine that they -- that they moved very slowly, if they were -- if they were weak, you know.http://collections.ushmm.orgContact reference@ushmm.org for further information about this collection Interview with Ernest Dutcher degdeg February 19, 2013",
           "RG-50.030.0687_trs_en_cleaned"
          ],
          [
           "Q: You said mi -- tell us a little more detail if you can, about the other flights that you took, in addition -- oh, excuse me, before I get into that, both times you flew into Halle?",
           "RG-50.030.0687_trs_en_cleaned"
          ],
          [
           "Q: Okay, so --",
           "RG-50.030.0687_trs_en_cleaned"
          ],
          [
           "Q: Okay.",
           "RG-50.030.0687_trs_en_cleaned"
          ],
          [
           "Q: The other flights you took in addition, with the Russian prisoners-of-war, or slave labors --",
           "RG-50.030.0687_trs_en_cleaned"
          ],
          [
           "Q: You didn't take that flight?",
           "RG-50.030.0687_trs_en_cleaned"
          ],
          [
           "Q: Oh, I see. That was somebody else who did?",
           "RG-50.030.0687_trs_en_cleaned"
          ],
          [
           "Q: And what about the ones for the Czech -- you said there were Czech people who were flown back from --",
           "RG-50.030.0687_trs_en_cleaned"
          ],
          [
           "Q: Yeah.",
           "RG-50.030.0687_trs_en_cleaned"
          ],
          [
           "Q: Okay. Wait a second. Let me remove your trans mi --",
           "RG-50.030.0687_trs_en_cleaned"
          ],
          [
           "Q: I know, I know --",
           "RG-50.030.0687_trs_en_cleaned"
          ],
          [
           "Q: So where were we, we were in fra -- are you ready, rolling?Q2: Yeah.",
           "RG-50.030.0687_trs_en_cleaned"
          ],
          [
           "Q: Okay. We were in France, you know, and you were taking about when French prisoners-of-war came home and how they were treated.",
           "RG-50.030.0687_trs_en_cleaned"
          ],
          [
           "Q: I'd like to ask you now, how much longer did you stay in Europe. Tell me about what happened in your life after that.",
           "RG-50.030.0687_trs_en_cleaned"
          ],
          [
           "Q: Right.",
           "RG-50.030.0687_trs_en_cleaned"
          ],
          [
           "Q: Wow.",
           "RG-50.030.0687_trs_en_cleaned"
          ],
          [
           "Q: So you were out of the war? You were out of the w -- e-effort for the Pacific, the war had ended for you, and everyth --",
           "RG-50.030.0687_trs_en_cleaned"
          ],
          [
           "Q: Okay.",
           "RG-50.030.0687_trs_en_cleaned"
          ],
          [
           "Q: Okay. What --",
           "RG-50.030.0687_trs_en_cleaned"
          ],
          [
           "Q: Hang on, I -- before you -- to get there. When you came back, how much of what you had -- how long -- first of all, how long had you been overseas? If you left in late 43, it was?",
           "RG-50.030.0687_trs_en_cleaned"
          ],
          [
           "Q: And you came back in almost se --",
           "RG-50.030.0687_trs_en_cleaned"
          ],
          [
           "Q: Late deg45.",
           "RG-50.030.0687_trs_en_cleaned"
          ],
          [
           "Q: Less than two years.",
           "RG-50.030.0687_trs_en_cleaned"
          ],
          [
           "Q: Did you feel like you were a changed person?",
           "RG-50.030.0687_trs_en_cleaned"
          ],
          [
           "Q: Okay.",
           "RG-50.030.0687_trs_en_cleaned"
          ],
          [
           "Q: So that meant you owned a television company?",
           "RG-50.030.0687_trs_en_cleaned"
          ],
          [
           "Q: What was it called?",
           "RG-50.030.0687_trs_en_cleaned"
          ],
          [
           "Q: Okay.",
           "RG-50.030.0687_trs_en_cleaned"
          ],
          [
           "Q: Yeah.",
           "RG-50.030.0687_trs_en_cleaned"
          ],
          [
           "Q: Oh.",
           "RG-50.030.0687_trs_en_cleaned"
          ],
          [
           "Q: Wow.",
           "RG-50.030.0687_trs_en_cleaned"
          ],
          [
           "Q: Oh, you were talking about some of the business ventures and -- and -- and the --",
           "RG-50.030.0687_trs_en_cleaned"
          ],
          [
           "Q: Yeah.",
           "RG-50.030.0687_trs_en_cleaned"
          ],
          [
           "Q: Yeah. Did you may -- so it sounds like you were both in business ventures, and also inventing.",
           "RG-50.030.0687_trs_en_cleaned"
          ],
          [
           "Q: It's okay. If you do, we'll talk about it.",
           "RG-50.030.0687_trs_en_cleaned"
          ],
          [
           "Q: Those two compressed years that you were in Europe, if I recall you had two sons and a daughter?",
           "RG-50.030.0687_trs_en_cleaned"
          ],
          [
           "Q: Okay. Did you ever talk to them about what you had experienced, what had gone on there? Did you ever talk about these things?",
           "RG-50.030.0687_trs_en_cleaned"
          ],
          [
           "Q: But the various events, I mean, kids are im -- are always a -- interested in what their dad did.",
           "RG-50.030.0687_trs_en_cleaned"
          ],
          [
           "Q: And for their -- them, their dad is the hero, no matter what.",
           "RG-50.030.0687_trs_en_cleaned"
          ],
          [
           "Q: Yeah. But then, you said until recently, many things had been classified.",
           "RG-50.030.0687_trs_en_cleaned"
          ],
          [
           "Q: Okay.",
           "RG-50.030.0687_trs_en_cleaned"
          ],
          [
           "Q: Can you repeat this -- excuse me -- I think you said that he was in charge of a squadron in the South Pacific. You mean --",
           "RG-50.030.0687_trs_en_cleaned"
          ],
          [
           "Q: Okay, so Douglas Fairbanks was in charge of such a squadron in southern France?",
           "RG-50.030.0687_trs_en_cleaned"
          ],
          [
           "Q: Was he?",
           "RG-50.030.0687_trs_en_cleaned"
          ],
          [
           "Q: No kidding.",
           "RG-50.030.0687_trs_en_cleaned"
          ],
          [
           "Q: Well, what can you tell us now about it?",
           "RG-50.030.0687_trs_en_cleaned"
          ],
          [
           "Q: Right.",
           "RG-50.030.0687_trs_en_cleaned"
          ],
          [
           "Q: Okay.",
           "RG-50.030.0687_trs_en_cleaned"
          ],
          [
           "Q: Okay. Well, is there anything else that you would want to share with us today about what it was that you experienced, what you'd want people to know?",
           "RG-50.030.0687_trs_en_cleaned"
          ],
          [
           "Q: Okay, hang on a second. What time are we at right now?",
           "RG-50.030.0687_trs_en_cleaned"
          ],
          [
           "Q: All right.",
           "RG-50.030.0687_trs_en_cleaned"
          ],
          [
           "Q: 12:24. I would suggest -- do you -- let's cut right now.",
           "RG-50.030.0687_trs_en_cleaned"
          ],
          [
           "Q: This is a continuation of the United States Holocaust Memorial Museum interview with Mr. Ernest Dutcher, on February 19\", 2013 in Encino, California.And Mr. Dutcher, we wanted to follow up on a few things that we talked about earlier. Just one of them that -- one question about your transport of survivors. Did you ever meet any of these people who had been on the plane with you, or any of the other planes that took them out from Germany to France for medical attention?",
           "RG-50.030.0687_trs_en_cleaned"
          ],
          [
           "Q: You never did?",
           "RG-50.030.0687_trs_en_cleaned"
          ],
          [
           "Q: No. And you never came across anybody's story who said that they had been on such a plane, whether they wrote about it, or it was filmed, or anything like that?",
           "RG-50.030.0687_trs_en_cleaned"
          ],
          [
           "Q: Okay.",
           "RG-50.030.0687_trs_en_cleaned"
          ],
          [
           "Q: Okay. Now let's step back and talk in more detail about -- you mentioned Douglas Fairbanks Jr., and his role.",
           "RG-50.030.0687_trs_en_cleaned"
          ],
          [
           "Q: And we started to -- to talk about that a little bit. But explain exactly where in the picture he fit. You know when you were talk -- explaining to us about the squadrons and the wings and you know, the lo -- what was -- what was his, not just his rank, but what was his job?",
           "RG-50.030.0687_trs_en_cleaned"
          ],
          [
           "Q: And what's that?",
           "RG-50.030.0687_trs_en_cleaned"
          ],
          [
           "Q: So, did this happen simultaneously as the Normandy invasion or just prior, or --",
           "RG-50.030.0687_trs_en_cleaned"
          ],
          [
           "Q: The rubber paratroopers?",
           "RG-50.030.0687_trs_en_cleaned"
          ],
          [
           "Q: The rubber paratroopers?",
           "RG-50.030.0687_trs_en_cleaned"
          ],
          [
           "Q: Okay.",
           "RG-50.030.0687_trs_en_cleaned"
          ],
          [
           "Q: Okay.",
           "RG-50.030.0687_trs_en_cleaned"
          ],
          [
           "Q: Did you meet Douglas Fairbanks, Jr.",
           "RG-50.030.0687_trs_en_cleaned"
          ],
          [
           "Q: Did you meet him? Douglas Fairbanks ju --",
           "RG-50.030.0687_trs_en_cleaned"
          ],
          [
           "Q: And it was his thoughts, his ideas --",
           "RG-50.030.0687_trs_en_cleaned"
          ],
          [
           "Q: -- for these types of diversionary and misleading tactics?",
           "RG-50.030.0687_trs_en_cleaned"
          ],
          [
           "Q: And would you say successfully?",
           "RG-50.030.0687_trs_en_cleaned"
          ],
          [
           "Q: Okay. Is there anything else to that episode that you'd like to add about him?",
           "RG-50.030.0687_trs_en_cleaned"
          ],
          [
           "Q: Okay.",
           "RG-50.030.0687_trs_en_cleaned"
          ],
          [
           "Q: Got it, yeah. You mentioned earlier also that there had been these tragic and senseless mistakes in England, when due to -- you know, due to decisions made by -- by leaders, you know, military leaders and also just the sheer number of flights, that there were these accidents that resulted in victims. Do you recall any other such instances where -- where there were -- there were these sad events that happened?",
           "RG-50.030.0687_trs_en_cleaned"
          ],
          [
           "Q: Okay.",
           "RG-50.030.0687_trs_en_cleaned"
          ],
          [
           "Q: Yeah.",
           "RG-50.030.0687_trs_en_cleaned"
          ],
          [
           "Q: Yeah.",
           "RG-50.030.0687_trs_en_cleaned"
          ],
          [
           "Q: And that's because the gasoline -- you said that the gasoline was used --",
           "RG-50.030.0687_trs_en_cleaned"
          ],
          [
           "Q: Yeah.",
           "RG-50.030.0687_trs_en_cleaned"
          ],
          [
           "Q: I can imagine.",
           "RG-50.030.0687_trs_en_cleaned"
          ],
          [
           "Q: Yeah, yeah. What about civilian casualties in England?",
           "RG-50.030.0687_trs_en_cleaned"
          ],
          [
           "Q: Were they?",
           "RG-50.030.0687_trs_en_cleaned"
          ],
          [
           "Q: Close --",
           "RG-50.030.0687_trs_en_cleaned"
          ],
          [
           "Q: Yeah.",
           "RG-50.030.0687_trs_en_cleaned"
          ],
          [
           "Q: What about --",
           "RG-50.030.0687_trs_en_cleaned"
          ],
          [
           "Q: Mm-hm, yes?",
           "RG-50.030.0687_trs_en_cleaned"
          ],
          [
           "Q: What about Salisbury?",
           "RG-50.030.0687_trs_en_cleaned"
          ],
          [
           "Q: You said -- you mentioned earlier to me that -- that there used to be dances near Salisbury.",
           "RG-50.030.0687_trs_en_cleaned"
          ],
          [
           "Q: Were there any s -- were there any incidents there of -- of civilians, the -- some of the girls who might have been hurt, that --",
           "RG-50.030.0687_trs_en_cleaned"
          ],
          [
           "Q: Well, tell us about that incident.",
           "RG-50.030.0687_trs_en_cleaned"
          ],
          [
           "Q: Cause it -- tell us about that incident that mentioned to me off camera.",
           "RG-50.030.0687_trs_en_cleaned"
          ],
          [
           "Q: No, it wasn't on camera.",
           "RG-50.030.0687_trs_en_cleaned"
          ],
          [
           "Q: Oh my.",
           "RG-50.030.0687_trs_en_cleaned"
          ],
          [
           "Q: And was all this classified information? Was all this --",
           "RG-50.030.0687_trs_en_cleaned"
          ],
          [
           "Q: Okay.",
           "RG-50.030.0687_trs_en_cleaned"
          ],
          [
           "Q: Yeah, yeah. But do you feel better now that it's possible to talk about these things? Do you think people need to know about them?",
           "RG-50.030.0687_trs_en_cleaned"
          ],
          [
           "Q: Let's turn now to something that you have said earlier that was very important to you. Tell us about the book, \"Band of Brothers,\" and the author Stephen Ambrose and the story that he told. Tell us about the story that he told and where y --and after that, what you think is misleading about that story.",
           "RG-50.030.0687_trs_en_cleaned"
          ],
          [
           "Q: Well, the \"Band of Brothers\" was worldwide, it was a very, very successful movie. And of course, the people that made the movie was following a script that was flawed. So I don't fault any of the actors or any other participants in that movie, including the paratroopers involved. The only thing that was missing was the fact -- and | think a very important fact was missing, was that no pilot, no member, no --",
           "RG-50.030.0687_trs_en_cleaned"
          ],
          [
           "Q: Excuse me, I have to stop you. What was the story of the \"Band of Brothers?\"",
           "RG-50.030.0687_trs_en_cleaned"
          ],
          [
           "Q: Can you gi-- can you summarize to us what was the story of the \"Band of Brothers?\"",
           "RG-50.030.0687_trs_en_cleaned"
          ],
          [
           "Q: Okay.",
           "RG-50.030.0687_trs_en_cleaned"
          ],
          [
           "Q: Excuse me again, I have to interrupt.",
           "RG-50.030.0687_trs_en_cleaned"
          ],
          [
           "Q: Are you talking now about the story of \"Band of Brothers,\" or about interviews done for the story?",
           "RG-50.030.0687_trs_en_cleaned"
          ],
          [
           "Q: I'd like to know more, but what was the story of the \"Band of Brothers?\"",
           "RG-50.030.0687_trs_en_cleaned"
          ],
          [
           "Q: And what were the points that were being made in that story?",
           "RG-50.030.0687_trs_en_cleaned"
          ],
          [
           "Q: Okay.",
           "RG-50.030.0687_trs_en_cleaned"
          ],
          [
           "Q: Okay. And at what part do you say what was shown in the movie, or in the -- written in the book, where you say it damaged the reputation of the 101st, is that what your -- is that what you --",
           "RG-50.030.0687_trs_en_cleaned"
          ],
          [
           "Q: Okay. How -- what -- how was the ninth troop carrier command portrayed?",
           "RG-50.030.0687_trs_en_cleaned"
          ],
          [
           "Q: Hang on a second, I'm still -- before we go there --",
           "RG-50.030.0687_trs_en_cleaned"
          ],
          [
           "Q: So, they were portrayed as over-the-hill airline pilots who didn't know what they were doing, is this what the issue was, or --Interview with Ernest Dutcher a February 19, 2013",
           "RG-50.030.0687_trs_en_cleaned"
          ],
          [
           "Q: Oh, airplane transports, okay.",
           "RG-50.030.0687_trs_en_cleaned"
          ],
          [
           "Q: Okay.",
           "RG-50.030.0687_trs_en_cleaned"
          ],
          [
           "Q: Okay. So that's how it was in \"Band of Brothers.\" What was it like in your view, and according to your experience?",
           "RG-50.030.0687_trs_en_cleaned"
          ],
          [
           "Q: Okay.",
           "RG-50.030.0687_trs_en_cleaned"
          ],
          [
           "Q: Right.",
           "RG-50.030.0687_trs_en_cleaned"
          ],
          [
           "Q: Okay, into Normandy, France first, yeah?",
           "RG-50.030.0687_trs_en_cleaned"
          ],
          [
           "Q: What was his name?",
           "RG-50.030.0687_trs_en_cleaned"
          ],
          [
           "Q: Okay.",
           "RG-50.030.0687_trs_en_cleaned"
          ],
          [
           "Q: Okay.",
           "RG-50.030.0687_trs_en_cleaned"
          ],
          [
           "Q: Were they like exploding bullets?",
           "RG-50.030.0687_trs_en_cleaned"
          ],
          [
           "Q: So you -- so does -- those bullets were being aimed at the gliders?",
           "RG-50.030.0687_trs_en_cleaned"
          ],
          [
           "Q: And that's why they used them --",
           "RG-50.030.0687_trs_en_cleaned"
          ],
          [
           "Q: -- because they lost their velocity before they'd hit the other hedgerow.",
           "RG-50.030.0687_trs_en_cleaned"
          ],
          [
           "Q: I see.",
           "RG-50.030.0687_trs_en_cleaned"
          ],
          [
           "Q: And were they able to use them, or did they -- I mean, were they -- what happened to the glider -- were any of the gliders lost?",
           "RG-50.030.0687_trs_en_cleaned"
          ],
          [
           "Q: Okay.",
           "RG-50.030.0687_trs_en_cleaned"
          ],
          [
           "Q: Okay.",
           "RG-50.030.0687_trs_en_cleaned"
          ],
          [
           "Q: Yes.",
           "RG-50.030.0687_trs_en_cleaned"
          ],
          [
           "Q: Okay, so why do you bel -- do you think -- have you given a full story, according -- you know, according to what you believe we need to know about what was the true professionalism of the pilots and those who were piloting the glider planes, or is there more that you want to add to show that they really did know their stuff?",
           "RG-50.030.0687_trs_en_cleaned"
          ],
          [
           "Q: Okay. What did the ri-ribbon look like?",
           "RG-50.030.0687_trs_en_cleaned"
          ],
          [
           "Q: Okay. So why did the \"Band of Brothers\" get it wrong?",
           "RG-50.030.0687_trs_en_cleaned"
          ],
          [
           "Q: Mm-hm. What was his name?",
           "RG-50.030.0687_trs_en_cleaned"
          ],
          [
           "Q: Okay.",
           "RG-50.030.0687_trs_en_cleaned"
          ],
          [
           "Q: I see.",
           "RG-50.030.0687_trs_en_cleaned"
          ],
          [
           "Q: And what were they charging him again --",
           "RG-50.030.0687_trs_en_cleaned"
          ],
          [
           "Q: How many people would that involve?",
           "RG-50.030.0687_trs_en_cleaned"
          ],
          [
           "Q: Sure.",
           "RG-50.030.0687_trs_en_cleaned"
          ],
          [
           "Q: How was -- forgive me for this, but was there a direct way that the 90\" aircraft was involved?",
           "RG-50.030.0687_trs_en_cleaned"
          ],
          [
           "Q: Okay.",
           "RG-50.030.0687_trs_en_cleaned"
          ],
          [
           "Q: Okay, okay.",
           "RG-50.030.0687_trs_en_cleaned"
          ],
          [
           "Q: Yeah.",
           "RG-50.030.0687_trs_en_cleaned"
          ],
          [
           "Q: Is there anything else you'd want to add to this episode, this part of the story?",
           "RG-50.030.0687_trs_en_cleaned"
          ],
          [
           "Q: Okay.",
           "RG-50.030.0687_trs_en_cleaned"
          ],
          [
           "Q: Sure.Q2: You -- you keep saying either the 90\" or the ninth?",
           "RG-50.030.0687_trs_en_cleaned"
          ],
          [
           "Q: So if we can -- we can just explore this. I don't know whether your voice is caught on -- on the mike when you're asking this question. If I can repeat it --",
           "RG-50.030.0687_trs_en_cleaned"
          ],
          [
           "Q: Douglas Fairbanks Jr. had both a British commission as well as a U.S.",
           "RG-50.030.0687_trs_en_cleaned"
          ],
          [
           "Q: Okay.",
           "RG-50.030.0687_trs_en_cleaned"
          ],
          [
           "Q: Okay.",
           "RG-50.030.0687_trs_en_cleaned"
          ],
          [
           "Q: Sure.",
           "RG-50.030.0687_trs_en_cleaned"
          ],
          [
           "Q: Who -- who -- who is he?",
           "RG-50.030.0687_trs_en_cleaned"
          ],
          [
           "Q: Who - who are you referring to?",
           "RG-50.030.0687_trs_en_cleaned"
          ],
          [
           "Q: Or Mountbatten, which one?",
           "RG-50.030.0687_trs_en_cleaned"
          ],
          [
           "Q: Montgomery, mm-hm.",
           "RG-50.030.0687_trs_en_cleaned"
          ],
          [
           "Q: Right.",
           "RG-50.030.0687_trs_en_cleaned"
          ],
          [
           "Q: Did you really?",
           "RG-50.030.0687_trs_en_cleaned"
          ],
          [
           "Q: Yeah.",
           "RG-50.030.0687_trs_en_cleaned"
          ],
          [
           "Q: Oh gosh.",
           "RG-50.030.0687_trs_en_cleaned"
          ],
          [
           "Q: Yeah.",
           "RG-50.030.0687_trs_en_cleaned"
          ],
          [
           "Q: Okay.",
           "RG-50.030.0687_trs_en_cleaned"
          ],
          [
           "Q: Okay, you were going back for another fish and chips, you know, the -- what was the significance when you talked to us about the fish and chips that you picked up and how tasty they were and you went back for another one? Was there something that was part of that?",
           "RG-50.030.0687_trs_en_cleaned"
          ],
          [
           "Q: Yes.",
           "RG-50.030.0687_trs_en_cleaned"
          ],
          [
           "Q: And did you? You get as --101 Interview with Ernest Dutcher February 19, 2013",
           "RG-50.030.0687_trs_en_cleaned"
          ],
          [
           "Q: And you got a second batch.",
           "RG-50.030.0687_trs_en_cleaned"
          ],
          [
           "Q: And that fish and chips was not one of the targets of the Germans.",
           "RG-50.030.0687_trs_en_cleaned"
          ],
          [
           "Q: Okay.",
           "RG-50.030.0687_trs_en_cleaned"
          ],
          [
           "Q: Okay, okay. There was something else that you had asked, which was the ninth or the 90\"?",
           "RG-50.030.0687_trs_en_cleaned"
          ],
          [
           "Q: Right.Q2: -- so what is it? Without equivocation, he said the 90\".",
           "RG-50.030.0687_trs_en_cleaned"
          ],
          [
           "Q: So it's the 90\", can you explain what? Because I'm not a military --",
           "RG-50.030.0687_trs_en_cleaned"
          ],
          [
           "Q: The 90\" troop car --",
           "RG-50.030.0687_trs_en_cleaned"
          ],
          [
           "Q: Nine zero, 90\" troop carrier group.",
           "RG-50.030.0687_trs_en_cleaned"
          ],
          [
           "Q: Yeah, yeah. What else would you want a younger generation to know about what it is that you saw during the war, and what it is that you'd want them to understand about the Holocaust survivors and what they went through, that you witnessed as well.",
           "RG-50.030.0687_trs_en_cleaned"
          ],
          [
           "Q: It takes time, it takes time sa --",
           "RG-50.030.0687_trs_en_cleaned"
          ],
          [
           "Q: And understanding. And sometimes that understanding isn't there.",
           "RG-50.030.0687_trs_en_cleaned"
          ],
          [
           "Q: You know, of what the significance is, of a person's experience.",
           "RG-50.030.0687_trs_en_cleaned"
          ],
          [
           "Q: Yeah. Well, thank you very much for agreeing to share those experiences with us today. It's much appreciated. You've filled in a piece of the puzzle that we weren't aware of. And I know that my colleagues back in the museum are also grateful to",
           "RG-50.030.0687_trs_en_cleaned"
          ]
         ],
         "hovertemplate": "<b>Question:</b> %{customdata[0]}<br><b>RG Number:</b> %{customdata[1]}<extra></extra>",
         "legendgroup": "RG-50.030.0687_trs_en_cleaned",
         "marker": {
          "color": "#FF97FF",
          "symbol": "circle"
         },
         "mode": "markers",
         "name": "RG-50.030.0687_trs_en_cleaned",
         "showlegend": true,
         "type": "scattergl",
         "x": [
          5.4097853,
          4.158031,
          5.8029613,
          4.4064302,
          3.135546,
          -0.77574724,
          5.679473,
          -1.5437617,
          4.8647146,
          2.0190814,
          4.1569896,
          0.40464297,
          5.6508617,
          4.950473,
          2.7827306,
          2.2483516,
          3.4622347,
          5.0276337,
          -2.221531,
          4.002897,
          -10.740129,
          4.6104217,
          4.7862587,
          0.8256602,
          2.6513925,
          -3.3158307,
          -10.693182,
          4.817444,
          -10.40646,
          -10.696187,
          -0.9034338,
          -1.3028322,
          -1.4372767,
          6.690117,
          16.953003,
          0.6852635,
          -10.644638,
          -10.619803,
          6.698992,
          5.6371512,
          3.6875155,
          4.9879737,
          6.383275,
          6.3366613,
          4.977439,
          -1.3922071,
          -10.568293,
          -10.321439,
          -1.5185559,
          -0.7393778,
          -10.573356,
          -2.2846932,
          1.5611621,
          -8.872134,
          7.456951,
          18.314903,
          7.6783957,
          -0.042333804,
          1.2266115,
          7.587391,
          -10.7144165,
          -0.2112285,
          18.285093,
          -10.804452,
          5.0645,
          6.5957503,
          3.467225,
          -10.5280695,
          0.80552953,
          -9.563064,
          -10.609365,
          -10.644448,
          -1.031489,
          7.276926,
          7.5771174,
          7.400998,
          -10.743766,
          -10.476578,
          -10.292557,
          15.15307,
          3.5545974,
          -10.327195,
          -10.466521,
          -10.535247,
          18.095304,
          3.4653099,
          -9.529444,
          -0.21730946,
          -0.6664544,
          -0.53804183,
          -10.670655,
          6.4708743,
          5.324797,
          2.074039,
          1.2703352,
          -10.6021185,
          4.8614745,
          1.0489148,
          18.304193,
          -1.6858933,
          6.491383,
          18.055119,
          12.772026,
          5.088937,
          -10.462604,
          5.0816436,
          4.5848875,
          -10.649836,
          3.9458508,
          -10.341458,
          -1.5512737,
          4.111679,
          -1.4554228,
          -1.0909437,
          5.2456865,
          -4.416625,
          4.132115,
          1.8771327,
          4.79662,
          1.9129189,
          18.042015,
          -0.5112369,
          2.9194803,
          3.966784,
          18.265863,
          -10.398131,
          -10.459494,
          3.3146331,
          0.45441747,
          4.017566,
          4.892173,
          14.98507,
          1.307064,
          4.8168106,
          2.2112103,
          4.84006,
          2.1106353,
          -10.40365,
          0.98488635,
          3.9934914,
          7.6801095,
          7.80477,
          -0.42869025,
          18.166014,
          18.32726,
          -1.8154823,
          6.554561,
          3.733286,
          3.8854847,
          3.6614137,
          -0.4891775,
          -0.4821115,
          -0.78244454,
          0.0775327,
          -1.3446993,
          3.831566,
          4.8047485,
          -10.378,
          2.7446527,
          2.902286,
          -10.401108,
          -10.547169,
          6.590738,
          -2.9019415,
          -2.0356562,
          2.4684224,
          0.8912432,
          2.6212425,
          0.4074185,
          15.113969,
          4.1594796,
          4.77668,
          -0.29162407,
          4.0555534,
          3.623897,
          8.709266,
          3.1676404,
          -10.611167,
          -10.419516,
          3.3399875,
          -3.3187652,
          6.5936837,
          6.521396,
          6.477188,
          18.144278,
          -10.645464,
          3.3328595,
          -10.33225,
          2.4315772,
          4.1878138,
          -10.667032,
          2.2432888,
          2.3787684,
          2.3634684,
          -10.294189,
          0.78526187,
          2.0998292,
          -1.2150393,
          18.037844,
          2.0403144,
          -10.218832,
          4.6099515,
          18.10783,
          16.909082,
          1.6695406,
          -0.9856107,
          0.38995656,
          3.688985,
          -10.406748,
          2.9242477,
          -4.313164,
          0.99166495,
          0.9585932,
          6.068636,
          -10.345385,
          3.9471362,
          3.3676307,
          -11.133519,
          4.365957,
          16.988771,
          -2.153196,
          2.6366193,
          2.1683624,
          16.953001,
          -2.8704205,
          -2.3938065,
          -11.256375,
          6.34502,
          3.515693,
          1.2304459,
          6.889365,
          18.325308,
          -2.4768393,
          -2.4888892,
          1.5927815,
          5.393913,
          4.735859,
          -9.519371,
          6.633936,
          4.9960423,
          -10.383509,
          -1.6837169,
          4.395272,
          -0.9353496,
          1.2596405,
          3.5835538,
          0.92997724,
          -10.36134,
          3.304919,
          1.2367151,
          -10.513889,
          18.383476,
          3.500198,
          6.707998,
          3.1533844,
          18.079151,
          0.21209385,
          -1.5181752,
          4.8264976,
          1.9522227,
          4.996287,
          5.2100644,
          0.4327315,
          -10.386576,
          5.605347,
          6.1012874,
          1.0766315,
          8.874386,
          -1.0661219,
          -9.354432,
          -10.342201,
          7.231751,
          0.6097981,
          -8.147591,
          0.2143965,
          5.085688,
          0.3253894,
          3.9243553,
          -10.621751,
          6.529246,
          5.4625177,
          -0.18845245,
          4.998642,
          1.929948,
          1.9075207,
          -10.401132,
          -10.539568,
          6.4822826,
          6.599554,
          0.89850265,
          -0.3704076,
          0.24079965,
          8.17867,
          -10.575946,
          3.6062481,
          -10.330515,
          18.284258,
          18.004,
          1.0536606,
          18.248457,
          -1.3556739,
          3.643002,
          2.0859394,
          -0.6349842,
          18.336578,
          -0.9161286,
          -3.4258041,
          4.5484514,
          4.372426,
          3.271409,
          0.69991523,
          0.8350809,
          0.78574175,
          4.7469926,
          0.7356839,
          -10.409923,
          -1.2454969,
          1.7829286,
          1.8335412,
          1.8672338,
          1.7838902,
          -10.220385,
          -0.14984383,
          1.8726356,
          1.90104,
          1.9272584,
          -10.623769,
          1.613089,
          4.0283785,
          -1.5175393,
          5.472341,
          4.2818613,
          -10.332801,
          2.056558,
          -10.373267,
          -9.334781,
          5.1417747,
          1.5955929,
          -10.34424,
          -10.613839,
          3.138141,
          2.9748101,
          0.14595106,
          2.6405075,
          3.733586,
          3.174141,
          -10.629408,
          -10.462758,
          -8.4379225,
          4.2507195,
          0.3229611,
          1.8544621,
          1.5839223,
          -10.707991,
          3.540598,
          2.9745548,
          2.717003,
          3.5578763,
          3.6237886,
          -10.400212,
          -2.1388597,
          18.345371,
          8.164285,
          -10.733212,
          3.5622249,
          -2.36215,
          6.5103045,
          -10.646962,
          -10.646609,
          3.3995178,
          -0.122114316,
          -0.08952301,
          0.7440815,
          -3.4921005,
          -9.164436,
          1.6255115,
          18.309702,
          2.1790621,
          18.12796,
          -10.725592,
          3.002951,
          -8.849755,
          6.055274,
          0.7035921,
          4.651289,
          -10.76773,
          3.8568766,
          3.6119957,
          3.6067102,
          3.5917253,
          3.947384,
          4.0949883,
          -0.8509387,
          -2.0001607,
          -2.5419436,
          6.02805
         ],
         "xaxis": "x",
         "y": [
          -2.450774,
          0.40244249,
          4.6983557,
          4.9071364,
          5.5830126,
          6.807374,
          6.6631656,
          3.6806922,
          8.336731,
          11.880362,
          5.3922586,
          -4.312632,
          2.1743848,
          0.83355546,
          2.2524219,
          6.138873,
          0.07004043,
          -0.5323072,
          7.665187,
          2.156289,
          -1.8738085,
          1.7330484,
          1.7520201,
          6.856283,
          4.244214,
          8.012924,
          -1.7027324,
          4.313643,
          -1.7859423,
          -2.0308385,
          2.7782788,
          7.845171,
          2.1489646,
          -10.657752,
          3.3003244,
          1.2225602,
          -1.941642,
          -1.6376516,
          -10.652974,
          6.244583,
          -1.4179511,
          5.672906,
          0.15416108,
          0.031277638,
          2.154994,
          3.9733264,
          -1.912494,
          -1.7847422,
          5.3646603,
          5.1104283,
          -1.9454616,
          8.04521,
          0.47473446,
          5.9943695,
          2.6604648,
          9.448417,
          2.6021798,
          -3.84181,
          3.948894,
          2.654303,
          -1.9757463,
          3.4564579,
          9.25471,
          -1.9474591,
          1.528613,
          -10.757872,
          -13.478885,
          -1.7314363,
          6.5417333,
          13.318005,
          -1.6981583,
          -1.91503,
          4.460579,
          2.6482162,
          2.6262083,
          2.5032768,
          -2.0688915,
          -1.8607886,
          -1.690265,
          -7.5873313,
          0.38827336,
          -1.7489768,
          -1.95682,
          -1.8122704,
          9.413559,
          -13.485796,
          12.747743,
          3.5054455,
          3.3120706,
          3.3406363,
          -1.6105344,
          2.6638048,
          2.6736097,
          12.037009,
          6.015333,
          -1.6153487,
          2.2504032,
          3.983101,
          9.35385,
          5.466009,
          1.2094917,
          9.372043,
          17.200798,
          3.2192526,
          -1.9288363,
          1.7810074,
          4.2005563,
          -1.6047034,
          -0.67507356,
          -1.4901233,
          19.735538,
          4.259395,
          4.670155,
          5.0587363,
          2.8529022,
          6.9274087,
          1.7108873,
          3.4109008,
          8.237218,
          2.8773904,
          9.253461,
          -3.616983,
          2.200667,
          2.4135172,
          9.42071,
          -1.4740298,
          -1.7035056,
          5.77874,
          -4.2907057,
          1.7816212,
          1.0706435,
          -7.409068,
          6.449663,
          8.242526,
          11.902133,
          8.244452,
          1.995536,
          -1.6455925,
          4.6812887,
          1.4759878,
          -0.053881247,
          -0.122289784,
          0.022603458,
          9.485376,
          9.351713,
          5.913314,
          -10.737125,
          8.54862,
          8.471229,
          8.543709,
          3.402247,
          3.3064873,
          3.1661892,
          7.119861,
          5.958957,
          -0.8434975,
          1.5143212,
          -1.7052442,
          5.976019,
          2.2722397,
          -1.532612,
          -1.7655793,
          -10.734706,
          5.539715,
          5.8769646,
          6.047552,
          5.0780253,
          2.6237214,
          4.4148927,
          -7.544307,
          1.9473802,
          1.6714834,
          2.4788837,
          0.9753458,
          3.504156,
          12.552746,
          2.9926822,
          -1.7241482,
          -1.6567193,
          3.033555,
          8.70195,
          0.64595795,
          0.6729523,
          0.91204256,
          9.221146,
          -1.4480418,
          2.4724793,
          -1.3271949,
          4.407393,
          2.2731812,
          -1.6725907,
          1.8774267,
          1.7074507,
          1.7413738,
          -1.6279718,
          3.0317163,
          6.6468368,
          19.91414,
          9.505585,
          0.39169693,
          -1.4744205,
          5.4442816,
          9.5561495,
          3.344942,
          2.6749485,
          4.9267616,
          2.5998912,
          2.3556566,
          -1.3515289,
          4.17031,
          7.0176144,
          3.33495,
          3.257012,
          1.9705694,
          -1.740907,
          2.5808806,
          16.779833,
          -1.4564637,
          2.2240734,
          3.2659795,
          7.953143,
          2.3393204,
          2.507515,
          3.3017728,
          8.49895,
          5.3911853,
          -1.3735814,
          2.3129902,
          2.3747544,
          3.5062604,
          -0.6218406,
          9.210778,
          6.933097,
          3.8080494,
          3.1753736,
          0.75872695,
          2.1981008,
          13.002221,
          -10.664331,
          1.8762891,
          -1.7030616,
          5.1966696,
          2.928279,
          4.9613504,
          6.1061,
          4.462509,
          4.1661158,
          -1.4917747,
          6.272569,
          2.8738546,
          -1.650907,
          9.473514,
          10.400396,
          -10.719937,
          6.005498,
          9.143053,
          4.0083985,
          3.7804809,
          2.1587896,
          4.889393,
          6.284117,
          6.433092,
          3.1735032,
          -1.319503,
          1.7366749,
          1.7620656,
          2.3831863,
          12.682637,
          3.418069,
          13.348687,
          -1.6734397,
          4.7424884,
          6.6463313,
          13.55731,
          6.5603266,
          -2.408205,
          3.963803,
          2.0842621,
          -1.2316108,
          1.7445494,
          1.6110958,
          3.275235,
          1.5287008,
          7.922095,
          7.991517,
          -1.7503948,
          -1.1816036,
          1.8881946,
          1.8357276,
          2.2824879,
          4.796804,
          4.449701,
          4.991373,
          -1.2826723,
          0.7007843,
          -1.4339919,
          9.384877,
          9.402834,
          1.9481784,
          9.401209,
          5.540623,
          0.50263536,
          2.8736184,
          5.7826037,
          9.387297,
          5.634082,
          8.425757,
          2.8071833,
          2.426313,
          0.71138936,
          3.3488584,
          3.453975,
          4.2241893,
          8.316413,
          3.1192617,
          -1.5271729,
          3.798377,
          7.288548,
          7.6072717,
          7.486136,
          7.3955483,
          -1.2173781,
          -3.806498,
          7.2795305,
          7.220136,
          4.1197343,
          -1.6339104,
          4.4286633,
          0.6947927,
          4.927704,
          1.4388716,
          2.40157,
          -1.7034825,
          6.5192227,
          -1.5887371,
          13.328443,
          1.2447989,
          1.7493123,
          -1.2214352,
          -1.3484952,
          1.1622249,
          1.4947718,
          4.1985426,
          2.243388,
          16.677673,
          2.0793436,
          -1.7597325,
          -1.3987104,
          6.3868074,
          1.9974194,
          3.2176313,
          7.5508075,
          1.9542388,
          -1.0784869,
          16.695082,
          2.4152634,
          3.550348,
          -13.389225,
          2.0752654,
          -1.617305,
          7.914399,
          9.231287,
          4.898497,
          -1.1435065,
          2.7033672,
          4.711883,
          1.9494654,
          -1.2016755,
          -1.2322416,
          -13.54725,
          2.8890488,
          3.273676,
          5.251626,
          8.68533,
          12.972616,
          4.3603435,
          9.404787,
          11.916229,
          9.428483,
          -1.0273211,
          4.544698,
          6.4166007,
          1.4055579,
          4.70833,
          -0.30867368,
          -1.1418508,
          2.6891732,
          2.6563225,
          2.4951594,
          2.1617014,
          1.1234434,
          -0.67108405,
          7.327673,
          3.8482494,
          3.2562845,
          -2.0189404
         ],
         "yaxis": "y"
        },
        {
         "customdata": [
          [
           "Q: United States Holocaust Memorial Museum, Jeff and Toby Herr collection, this is an interview with Liane Reif-Lehrer, conducted by Sandy Tolen, on May 28\", 1999, in Lexington, Mass-Massachusetts. This is a follow up interview to a United States Holocaust Memorial Museum vido-videotaped interview, conducted with L-Liane Reif- Lehrer, on -- in 1989.",
           "RG-50.549.02.0043_trs_en_cleaned"
          ],
          [
           "Q: Or early 1990. We'll provide that date shortly, matter of fact -- the United States Holocaust Memorial Museum gratefully acknowledges Jeff and Toby Herr for making this interview possible. This is tape number one, side A. Okay, so, now we start and we know who we're sitting with. So, I guess there's -- there's some things probably, that have occurred to you since then, that you might want to -- to explore, and I want to invite you to take the opportunity, during the context of what we're talking about, or the chronology, or if there's things that just come up along the way that you want to discuss, we can do that.",
           "RG-50.549.02.0043_trs_en_cleaned"
          ],
          [
           "Q: And I first of all want to thank you for taking the time to sit and talk. And I know that -- that some of these memories are painful, and -- and I respect your journey, and appreciate you sitting and talking with me.",
           "RG-50.549.02.0043_trs_en_cleaned"
          ],
          [
           "Q: I guess I wanted to first ask if you could maybe take us back and -- and to the extent that you can return us to a child's memory, and through a child's eyes, and in a child's heart, remember the feelings that you had when you were leaving Limoge an-and traveling through Spain. As I recall from the interview that you did, that you were on a train and, remember at all what you were thinking during that time, what was going through your mind? I know that you were very young, so a lot of it was probably a blur now, but remember what was going on in your mind and your heart? What were you thinking about, what were you concerned about?",
           "RG-50.549.02.0043_trs_en_cleaned"
          ],
          [
           "Q: Go ahead.",
           "RG-50.549.02.0043_trs_en_cleaned"
          ],
          [
           "Q: When you talk about snapshots, I mean, are -- are there particular -- I guess it comes to mind this sort of images frozen in time, in a sense, in -- in your memory. Are there particularly memorable images like that, from that journey that -- that -- that you recall? I mean, that -- that perhaps you -- you didn't talk about it er -- in the earlier interview?",
           "RG-50.549.02.0043_trs_en_cleaned"
          ],
          [
           "Q: Mm.",
           "RG-50.549.02.0043_trs_en_cleaned"
          ],
          [
           "Q: Just -- Yeah, everybody sitting there with thermometers in their mouth.",
           "RG-50.549.02.0043_trs_en_cleaned"
          ],
          [
           "Q: D-Do you -- Do you think that you had a sense at that time, or do you remember an emotion at that time, about why you were doing this, why you were going? Do you -- Was it -- Was it conscious for a little girl that -- you were what, four and a half at the time?",
           "RG-50.549.02.0043_trs_en_cleaned"
          ],
          [
           "Q: Oh, oh, course. Okay.",
           "RG-50.549.02.0043_trs_en_cleaned"
          ],
          [
           "Q: So when you -- well then, you've -- you've told this a little bit, so I won't ask you to dwell on it, but what -- what are some of your most vivid memories, early memories, once you got off the boat and -- and you stayed with the Klinghoffers, right, your -- your -- your cousins? What are the things that -- that stick out most from those early days, whether it's staying with them, or other kinds of adjustments that you had to make during that -- during the time which -- which would have been what, in deg41 now we're talking about.",
           "RG-50.549.02.0043_trs_en_cleaned"
          ],
          [
           "Q: Mom, it's time to cha -- Mom.",
           "RG-50.549.02.0043_trs_en_cleaned"
          ],
          [
           "Q: No, but I -- Actually that's -- it's interesting, the whole notion of malleability in some parts of your life, but not others.",
           "RG-50.549.02.0043_trs_en_cleaned"
          ],
          [
           "Q: I mean, and -- and -- and you -- you were saying, if I'm understanding you right, that that's a part of what yo -- how you learned to adapt to circumstances when you were very young, right?",
           "RG-50.549.02.0043_trs_en_cleaned"
          ],
          [
           "Q: And what were the consequences of that?USHMM Archives RG-50.549.02*0043 11",
           "RG-50.549.02.0043_trs_en_cleaned"
          ],
          [
           "Q: What did you feel like, they were teasing you, or they -- were they taunting you, or --",
           "RG-50.549.02.0043_trs_en_cleaned"
          ],
          [
           "Q: Who is this girl, sort of?",
           "RG-50.549.02.0043_trs_en_cleaned"
          ],
          [
           "Q: Did you feel uncomfortable?",
           "RG-50.549.02.0043_trs_en_cleaned"
          ],
          [
           "Q: In what way? I mean, in -- obviously, one can imagine why, but --",
           "RG-50.549.02.0043_trs_en_cleaned"
          ],
          [
           "Q: Der Shrie, yeah.",
           "RG-50.549.02.0043_trs_en_cleaned"
          ],
          [
           "Q: That's amazing.",
           "RG-50.549.02.0043_trs_en_cleaned"
          ],
          [
           "Q: Yeah. And plus, you know, it was so necessary.",
           "RG-50.549.02.0043_trs_en_cleaned"
          ],
          [
           "Q: D-Do you not speak German now?",
           "RG-50.549.02.0043_trs_en_cleaned"
          ],
          [
           "Q: Mm. Mm-hm.",
           "RG-50.549.02.0043_trs_en_cleaned"
          ],
          [
           "Q: -- Memorial Museum interview with Liane Reif-Lehrer. This is tape number one, side B. Okay, and you were talking about French.",
           "RG-50.549.02.0043_trs_en_cleaned"
          ],
          [
           "Q: What -- What -- What is -- What is your definition of friendship and how has it been formed, do you think, by your experience?",
           "RG-50.549.02.0043_trs_en_cleaned"
          ],
          [
           "Q: Where the person thinks of you as much as -- as -- as of themselves.USHMM Archives RG-50.549.02*0043 18",
           "RG-50.549.02.0043_trs_en_cleaned"
          ],
          [
           "Q: You -- Do you think it -- I mean, it just occurred to me that perhaps this could have something to do with -- or maybe not, but -- but perha -- I was just wondering if it might have something to do with the fact that since he's older, his experience of the -- the -- the brutal meaning of what happened to the family, helps create this -- this sort of difference in the personalities that you are describing?",
           "RG-50.549.02.0043_trs_en_cleaned"
          ],
          [
           "Q: Do you think -- Do you imagine what other world that is?",
           "RG-50.549.02.0043_trs_en_cleaned"
          ],
          [
           "Q: Is he what, seven, eight years older?",
           "RG-50.549.02.0043_trs_en_cleaned"
          ],
          [
           "Q: Uh-huh.",
           "RG-50.549.02.0043_trs_en_cleaned"
          ],
          [
           "Q: It sounds like he was really, either consciously, or just naturally playing the -- the role of the man of the family.",
           "RG-50.549.02.0043_trs_en_cleaned"
          ],
          [
           "Q: So you were talking about -- oh you're -- do you recall what you were saying?",
           "RG-50.549.02.0043_trs_en_cleaned"
          ],
          [
           "Q: [inaudible]",
           "RG-50.549.02.0043_trs_en_cleaned"
          ],
          [
           "Q: But it's a powerful --",
           "RG-50.549.02.0043_trs_en_cleaned"
          ],
          [
           "Q: Does he remember that?",
           "RG-50.549.02.0043_trs_en_cleaned"
          ],
          [
           "Q: Right. Is your memory that -- I mean, is it an upsetting memory in a way? I mean that's -- that's quite a power --",
           "RG-50.549.02.0043_trs_en_cleaned"
          ],
          [
           "Q: -- w-wa --",
           "RG-50.549.02.0043_trs_en_cleaned"
          ],
          [
           "Q: Yeah.",
           "RG-50.549.02.0043_trs_en_cleaned"
          ],
          [
           "Q: Well, let me ask you a little bit about that. I mean, what -- Do you recall your -- your",
           "RG-50.549.02.0043_trs_en_cleaned"
          ],
          [
           "Q: By her. I mean, did -- did you feel like maybe more people would be telling you this",
           "RG-50.549.02.0043_trs_en_cleaned"
          ],
          [
           "Q: Did you have any -- make any attempt to tell her how impossible that would be?",
           "RG-50.549.02.0043_trs_en_cleaned"
          ],
          [
           "Q: So, the old America, love it or leave it bumper sticker, you know?",
           "RG-50.549.02.0043_trs_en_cleaned"
          ],
          [
           "Q: Pre -- Pre that, obviously.",
           "RG-50.549.02.0043_trs_en_cleaned"
          ],
          [
           "Q: Bilingual in English.",
           "RG-50.549.02.0043_trs_en_cleaned"
          ],
          [
           "Q: Well -- Well, you know, I was wondering, those -- those couple of examples that -- from -- from when you were a kid, I mean, about difference, whether it's language, or --USHMM Archives RG-50.549.02*0043 30 or these -- this girl saying, you know, that we're Protestant. I mean, they're both examples of difference, and one might be more, sort of steeped in -- in the difference of a European background, and one steeped in a religious difference of being Jewish -- being Jewish, so I'm just wondering how much you -- I mean it -- living in New York, probably you'd perceive it less than in other places. Did you -- Did you have a sense of -- of a climate of anti-Semitism at all, or -- or were --",
           "RG-50.549.02.0043_trs_en_cleaned"
          ],
          [
           "Q: -- these were just --",
           "RG-50.549.02.0043_trs_en_cleaned"
          ],
          [
           "Q: This is a continuation of a United States Holocaust Memorial Museum interview with Liane Reif-Lehrer. This is tape number two, side A. Okay.",
           "RG-50.549.02.0043_trs_en_cleaned"
          ],
          [
           "Q: That you insisted on being a real girl?",
           "RG-50.549.02.0043_trs_en_cleaned"
          ],
          [
           "Q: You know, a normal girl, you know?",
           "RG-50.549.02.0043_trs_en_cleaned"
          ],
          [
           "Q: Wa -- So -- So he was really demanding excellence of you, it sounds like. He -- He wanted to -- He wanted you to be better and better, an-and achieve, it sounds as though that's his motivation.USHMM Archives RG-50.549.02*0043 33",
           "RG-50.549.02.0043_trs_en_cleaned"
          ],
          [
           "Q: Why? Why wouldn't he say?",
           "RG-50.549.02.0043_trs_en_cleaned"
          ],
          [
           "Q: Well we can -- We can get back to it if you want.",
           "RG-50.549.02.0043_trs_en_cleaned"
          ],
          [
           "Q: I -- I -- Ba -- Wa -- Once you're not trying to remember it, maybe it'II pop -- itll be -- pop in.",
           "RG-50.549.02.0043_trs_en_cleaned"
          ],
          [
           "Q: His --",
           "RG-50.549.02.0043_trs_en_cleaned"
          ],
          [
           "Q: I think we were talking about his seriousness.",
           "RG-50.549.02.0043_trs_en_cleaned"
          ],
          [
           "Q: What an incredible privilege that wa --",
           "RG-50.549.02.0043_trs_en_cleaned"
          ],
          [
           "Q: -- must have been.",
           "RG-50.549.02.0043_trs_en_cleaned"
          ],
          [
           "Q: Why do you think that was?",
           "RG-50.549.02.0043_trs_en_cleaned"
          ],
          [
           "Q: I've decide -- I don't want to overanalyze or over-pursue this point, but I -- I'm just thinking, how much of the presence of your father was he -- do you think he was representing, especially in that sort of shrine that you're describing?",
           "RG-50.549.02.0043_trs_en_cleaned"
          ],
          [
           "Q: Well let me ask -- let me -- maybe we could just pick up on -- on what -- I just am curious that -- you talked about there was a shrine, your mother had a shrine for your father and wh-wh-what -- what presence of your father did you feel? I mean, did you feel a -- a terrible -- something that was terribly missing, did you -- were you conscious of it?Did you feel like, oh, I don't have a father, when you were growing up? Or -- How did you feel about that?",
           "RG-50.549.02.0043_trs_en_cleaned"
          ],
          [
           "Q: I don't -- I don't remember -- I mean, I remember staring at my father's picture, but I don't remember, through all those growing up years, really thinking very much about it.",
           "RG-50.549.02.0043_trs_en_cleaned"
          ],
          [
           "Q: Like somebody might have thrown him over the stairwell?",
           "RG-50.549.02.0043_trs_en_cleaned"
          ],
          [
           "Q: Given the climate of --",
           "RG-50.549.02.0043_trs_en_cleaned"
          ],
          [
           "Q: -- of the time?",
           "RG-50.549.02.0043_trs_en_cleaned"
          ],
          [
           "Q: I mean, that was how long after -- it was --",
           "RG-50.549.02.0043_trs_en_cleaned"
          ],
          [
           "Q: -- it was just before Kristallnacht, yeah, yeah.",
           "RG-50.549.02.0043_trs_en_cleaned"
          ],
          [
           "Q: It was after the anschluss.",
           "RG-50.549.02.0043_trs_en_cleaned"
          ],
          [
           "Q: Yeah.",
           "RG-50.549.02.0043_trs_en_cleaned"
          ],
          [
           "Q: Yeah. But that -- Does that -- Is it a -- Is it a -- Is it a -- What kind of mystery is that for you, does it -- does it dig at you, or is it a -- sort of a curiosity? I mean, how much do you -- how deeply, I guess I'm asking, do you wish to be able to somehow find the answer to that?",
           "RG-50.549.02.0043_trs_en_cleaned"
          ],
          [
           "Q: Well that's priorities. I mean, you --",
           "RG-50.549.02.0043_trs_en_cleaned"
          ],
          [
           "Q: -- you make decisions of -- like that as --",
           "RG-50.549.02.0043_trs_en_cleaned"
          ],
          [
           "Q: Most people don't do that these days.",
           "RG-50.549.02.0043_trs_en_cleaned"
          ],
          [
           "Q: Bless you.USHMM Archives RG-50.549.02*0043 42",
           "RG-50.549.02.0043_trs_en_cleaned"
          ],
          [
           "Q: A little more like a march, sort of, or --",
           "RG-50.549.02.0043_trs_en_cleaned"
          ],
          [
           "Q: No?",
           "RG-50.549.02.0043_trs_en_cleaned"
          ],
          [
           "Q: Ah, uh-huh.",
           "RG-50.549.02.0043_trs_en_cleaned"
          ],
          [
           "Q: Did -- I'm just curious, th-the optical illusions that you learned about, did that -- do you see any connection tha -- between that and your later professional development, or just --",
           "RG-50.549.02.0043_trs_en_cleaned"
          ],
          [
           "Q: No. So --",
           "RG-50.549.02.0043_trs_en_cleaned"
          ],
          [
           "Q: It's a profound kind of realization, I suppose. It -- Did it sort of just dawn on you at one point, or --",
           "RG-50.549.02.0043_trs_en_cleaned"
          ],
          [
           "Q: That's -- It -- You could see her as a heroic figure in -- in keeping the family together.",
           "RG-50.549.02.0043_trs_en_cleaned"
          ],
          [
           "Q: But -- But what -- what does -- I mean -- here -- I mean if -- if -- if -- if you're -- think about heroism, I mean, what -- doesn't what count -- wha -- is -- is wh -- when -- when it really comes down to how you respond, in a sense, right?",
           "RG-50.549.02.0043_trs_en_cleaned"
          ],
          [
           "Q: I mean, she sounds like she really responded.",
           "RG-50.549.02.0043_trs_en_cleaned"
          ],
          [
           "Q: This is a continuation of a United States Holocaust Memorial Museum interview with Liane Reif-Lehrer. This is tape number two, side B. And you were saying?",
           "RG-50.549.02.0043_trs_en_cleaned"
          ],
          [
           "Q: He said this wa -- before he was a parent? When he was in --",
           "RG-50.549.02.0043_trs_en_cleaned"
          ],
          [
           "Q: He's never been a parent?",
           "RG-50.549.02.0043_trs_en_cleaned"
          ],
          [
           "Q: Why?",
           "RG-50.549.02.0043_trs_en_cleaned"
          ],
          [
           "Q: And deserting you probably, too.",
           "RG-50.549.02.0043_trs_en_cleaned"
          ],
          [
           "Q: I mean, I wonder if -- if -- if just -- I mean, this -- this experience that you shared, this -- this -- this leaving Vienna, and this -- this fleeing for your lives. I mean, maybe -- \"m just wondering if maybe part of it was that he was the only person out there who really knew, like you did, what you had gone through. And who knew even more, because he's older. And that there was something -- that maybe you felt abandoned for that.",
           "RG-50.549.02.0043_trs_en_cleaned"
          ],
          [
           "Q: So what was you relationship then like with -- with your -- with your mother? How -- How -- How -- I mean, apart from -- from that even, I mean what -- what -- how did you - - how do you look back on it now, and -- and what -- what do you recall about it that stands out now?",
           "RG-50.549.02.0043_trs_en_cleaned"
          ],
          [
           "Q: How old were you then?",
           "RG-50.549.02.0043_trs_en_cleaned"
          ],
          [
           "Q: Continue to --",
           "RG-50.549.02.0043_trs_en_cleaned"
          ],
          [
           "Q: Sure.",
           "RG-50.549.02.0043_trs_en_cleaned"
          ],
          [
           "Q: On the other side of the couch.",
           "RG-50.549.02.0043_trs_en_cleaned"
          ],
          [
           "Q: He must have been horrified. The poor guy.",
           "RG-50.549.02.0043_trs_en_cleaned"
          ],
          [
           "Q: This -- Okay, this is a continuation of a United States Holocaust Memorial Museum interview with Liane Reif-Lehrer. This is tape number three, side A.",
           "RG-50.549.02.0043_trs_en_cleaned"
          ],
          [
           "Q: Okay. Let me just -- I want to -- I want to continue the -- the chronology, but before I forget I want to go back to a couple things. Just -- More -- More back in your childhood, I -- I wanted to ask you about whether your -- you or your mother, or your -- your brother, in the years that you first arrived, in \"41 through \"45, especially, wa-was there an attempt to k -- sort of keep up on what was happening, either through just reading the papers, or -- or through some -- some other, you know, word of mouth or correspondence? Did y -- Were you aware of what was going on there, and was your family?",
           "RG-50.549.02.0043_trs_en_cleaned"
          ],
          [
           "Q: Was it A-A-Alfbo it was called?",
           "RG-50.549.02.0043_trs_en_cleaned"
          ],
          [
           "Q: And was that a German --",
           "RG-50.549.02.0043_trs_en_cleaned"
          ],
          [
           "Q: -- controlled?",
           "RG-50.549.02.0043_trs_en_cleaned"
          ],
          [
           "Q: [indecipherable] this was a German language --",
           "RG-50.549.02.0043_trs_en_cleaned"
          ],
          [
           "Q: Uh-huh. Mm-hm.",
           "RG-50.549.02.0043_trs_en_cleaned"
          ],
          [
           "Q: Did -- Were you aware of a -- wh -- th -- I mean, a-as a child, I -- I -- I know that there was this -- this envelope that arrived one day, and I want to ask you about that, but before that happened --",
           "RG-50.549.02.0043_trs_en_cleaned"
          ],
          [
           "Q: The blue letter. Before that arrived, were you aware that -- did you have any sense, or did your mother or brother have any sense of -- of this --",
           "RG-50.549.02.0043_trs_en_cleaned"
          ],
          [
           "Q: A-A-And he knew -- he knew that at the time?",
           "RG-50.549.02.0043_trs_en_cleaned"
          ],
          [
           "Q: Tell me what you're showing us there.USHMM Archives RG-50.549.02*0043 68",
           "RG-50.549.02.0043_trs_en_cleaned"
          ],
          [
           "Q: May 20\".",
           "RG-50.549.02.0043_trs_en_cleaned"
          ],
          [
           "Q: Hm, he was very well dressed there, for a -- let's see, in 1939, he would have been what -- he must --",
           "RG-50.549.02.0043_trs_en_cleaned"
          ],
          [
           "Q: 12 years old, okay.",
           "RG-50.549.02.0043_trs_en_cleaned"
          ],
          [
           "Q: To this day.USHMM Archives RG-50.549.02*0043 69",
           "RG-50.549.02.0043_trs_en_cleaned"
          ],
          [
           "Q: Well, you know I -- I wanted to ask you about this whole -- I mean, your brother had",
           "RG-50.549.02.0043_trs_en_cleaned"
          ],
          [
           "Q: It's just like disgusted.",
           "RG-50.549.02.0043_trs_en_cleaned"
          ],
          [
           "Q: So you're saying again, everybody looks like they're smiling, except for -- except for",
           "RG-50.549.02.0043_trs_en_cleaned"
          ],
          [
           "Q: And yet, he's responding to the reality of the situation more than some of the other",
           "RG-50.549.02.0043_trs_en_cleaned"
          ],
          [
           "Q: But -- And so he -- Did he -- I mean, to what degree did he or any of you know what",
           "RG-50.549.02.0043_trs_en_cleaned"
          ],
          [
           "Q: She started talking about what?",
           "RG-50.549.02.0043_trs_en_cleaned"
          ],
          [
           "Q: But --",
           "RG-50.549.02.0043_trs_en_cleaned"
          ],
          [
           "Q: A-And so it -- wa -- it's partly just -- what you learned was that you don't do this. Do yo -- Do you -- Do you know why that you felt that that was inappropriate? That -- That, you know, you don't -- y-y-y -- you got to be tough, you got to move on, you know, given what you had gone through, was it --",
           "RG-50.549.02.0043_trs_en_cleaned"
          ],
          [
           "Q: And -- And what sort of things now d -- like you saying sometimes you'll just dissolve into tears yourself when it's triggered by something. What -- What -- Is it specific memories of this time, or other things that are traumatic in the world? What -- What kinds of things?",
           "RG-50.549.02.0043_trs_en_cleaned"
          ],
          [
           "Q: Taps real deep, huh?",
           "RG-50.549.02.0043_trs_en_cleaned"
          ],
          [
           "Q: No.",
           "RG-50.549.02.0043_trs_en_cleaned"
          ],
          [
           "Q: [have lots of nieces and nephews and I can identify with what you're saying, to some degree.",
           "RG-50.549.02.0043_trs_en_cleaned"
          ],
          [
           "Q: It's so pretty here, by the way.",
           "RG-50.549.02.0043_trs_en_cleaned"
          ],
          [
           "Q: Just a beautiful piece of land.",
           "RG-50.549.02.0043_trs_en_cleaned"
          ],
          [
           "Q: What -- What -- Wha -- Where did that reach? What -- How did it reach you like that?",
           "RG-50.549.02.0043_trs_en_cleaned"
          ],
          [
           "Q: But it wasn't just about a cat, it seems.",
           "RG-50.549.02.0043_trs_en_cleaned"
          ],
          [
           "Q: Yeah. You know, as you're talking about this, wh -- you know, where you started talking about looking at this picture, and you're talking about the war that's going on now in -- in Yugoslavia and Serbia and Kosovo and -- and we're looking at the picture of",
           "RG-50.549.02.0043_trs_en_cleaned"
          ],
          [
           "Q: Checkpoints you mentioned.",
           "RG-50.549.02.0043_trs_en_cleaned"
          ],
          [
           "Q: What is it -- What does it do? Make you nervous, does it make you angry?",
           "RG-50.549.02.0043_trs_en_cleaned"
          ],
          [
           "Q: Okay, this is a continuation of a United States Holocaust Memorial Museum interview with Liane Reif-Lehrer. This is tape number three, side B.",
           "RG-50.549.02.0043_trs_en_cleaned"
          ],
          [
           "Q: I think -- you know, picking up on this a little bit, to just ask you just -- I mean, I guess I-I'm wondering whether the Saint Louis experience is something that you feel has shaped you, that -- that sort of not being able to come to port. I mean, is that something that you've carried with you as a -- as a world view, in a sense? In -- In a -- Ina sense of having only a certain number of, you know, in a sense of trust, perhaps?",
           "RG-50.549.02.0043_trs_en_cleaned"
          ],
          [
           "Q: I-In what way do you think that they sh -- those later events shaped your views? I mean, we've been talking about a lot of that, but I mean, di -- does something really stand out in terms of -- of how that shaped your world view?",
           "RG-50.549.02.0043_trs_en_cleaned"
          ],
          [
           "Q: Y-You know you -- You mentioned before, just the -- the irony, the deep irony of -- of the life that you've lived and -- and -- and how -- how it was in -- in -- in an ironic sense, almost made possible by these terribly traumatic events.",
           "RG-50.549.02.0043_trs_en_cleaned"
          ],
          [
           "Q: And you've also written as -- in reading some -- some of what you've written, about the -- I can't remember how you put it, I guess, just to -- to be alive, by chance.",
           "RG-50.549.02.0043_trs_en_cleaned"
          ],
          [
           "Q: How much is -- does -- do you carry that with you? I mean, just this -- this fa -- kind of like fate or -- or happenstance?",
           "RG-50.549.02.0043_trs_en_cleaned"
          ],
          [
           "Q: Like what? Can you talk about that?",
           "RG-50.549.02.0043_trs_en_cleaned"
          ],
          [
           "Q: To do what thing?",
           "RG-50.549.02.0043_trs_en_cleaned"
          ],
          [
           "Q: In -- In what way? How are you in bad shape?",
           "RG-50.549.02.0043_trs_en_cleaned"
          ],
          [
           "Q: Your stomach's churning, and --",
           "RG-50.549.02.0043_trs_en_cleaned"
          ],
          [
           "Q: Wow. That's a -- That's a -- That's powerful stuff.",
           "RG-50.549.02.0043_trs_en_cleaned"
          ],
          [
           "Q: And then -- And then it's all fine for you?",
           "RG-50.549.02.0043_trs_en_cleaned"
          ],
          [
           "Q: And the images themselves, are -- are they -- can you discuss them at all, or is it just too difficult?",
           "RG-50.549.02.0043_trs_en_cleaned"
          ],
          [
           "Q: This is a continuation of a United States -- United States Holocaust Memorial Museum interview with Liane Reif-Lehrer. This is tape number four, side A.",
           "RG-50.549.02.0043_trs_en_cleaned"
          ],
          [
           "Q: You know, y-you -- you mentioned before, and -- and I just -- it reminded me when you talked about the telegram, was just the -- the legacy -- I'm just wondering about the legacy of this blue letter that came, the blue envelope. Is it something that also you think about a lot?",
           "RG-50.549.02.0043_trs_en_cleaned"
          ],
          [
           "Q: What -- What do you remember from that?",
           "RG-50.549.02.0043_trs_en_cleaned"
          ],
          [
           "Q: And all -- And all these other relatives, as well, from this letter, I m -- I imagine.",
           "RG-50.549.02.0043_trs_en_cleaned"
          ],
          [
           "Q: Well, you've also written in -- in some of the stuff that I was reading, different articles in -- in the Boston Globe pieces, ab-about the idea of -- of making up for others. D-Doontectnstonancedjusietneey for tarher biommatieraboutifisstecionUSHMM Archives RG-50.549.02*0043 96 you -- Do you feel that -- that you're -- you're living more than one life in a sense? That you\" re living life for -- for -- for those who -- that -- that you have an extra responsibility, an extra burden? Do -- Do you have that with you?",
           "RG-50.549.02.0043_trs_en_cleaned"
          ],
          [
           "Q: You can dry one out.",
           "RG-50.549.02.0043_trs_en_cleaned"
          ],
          [
           "Q: Di -- I was going to ask you whether -- either in daydreams, or -- or in -- or night -- at night, d-do you have flashbacks? Do you have dreams that either have recurred or that -- that are disturbingly resonant of -- of that really traumatic past of yours?",
           "RG-50.549.02.0043_trs_en_cleaned"
          ],
          [
           "Q: How many hours?",
           "RG-50.549.02.0043_trs_en_cleaned"
          ],
          [
           "Q: That seems like really late to me, I'm usually in bed by 10 o'clock.",
           "RG-50.549.02.0043_trs_en_cleaned"
          ],
          [
           "Q: Yeah.",
           "RG-50.549.02.0043_trs_en_cleaned"
          ],
          [
           "Q: You know, I wanted to ask you just -- you mentioned in a couple of the articles that",
           "RG-50.549.02.0043_trs_en_cleaned"
          ],
          [
           "Q: Yeah, they do sound interesting.",
           "RG-50.549.02.0043_trs_en_cleaned"
          ],
          [
           "Q: Uh-huh.",
           "RG-50.549.02.0043_trs_en_cleaned"
          ],
          [
           "Q: Mm-hm.",
           "RG-50.549.02.0043_trs_en_cleaned"
          ],
          [
           "Q: I know her, yeah.",
           "RG-50.549.02.0043_trs_en_cleaned"
          ],
          [
           "Q: Dear me.",
           "RG-50.549.02.0043_trs_en_cleaned"
          ],
          [
           "Q: This is a continuation of a United States Holocaust Memorial Museum interview with Liane Reif-Lehrer. This is tape number four, side B.",
           "RG-50.549.02.0043_trs_en_cleaned"
          ],
          [
           "Q: Mm-hm.",
           "RG-50.549.02.0043_trs_en_cleaned"
          ],
          [
           "Q: What does she do?",
           "RG-50.549.02.0043_trs_en_cleaned"
          ],
          [
           "Q: Oh, you mentioned that, yeah.",
           "RG-50.549.02.0043_trs_en_cleaned"
          ],
          [
           "Q: Geez.",
           "RG-50.549.02.0043_trs_en_cleaned"
          ],
          [
           "Q: It's --",
           "RG-50.549.02.0043_trs_en_cleaned"
          ],
          [
           "Q: The -- Which book are you talking about?",
           "RG-50.549.02.0043_trs_en_cleaned"
          ],
          [
           "Q: Did you ever think of yourself that way?",
           "RG-50.549.02.0043_trs_en_cleaned"
          ],
          [
           "Q: Maybe if -- if you could publish it with an organization that has an interest in -- in seeing the story come out, maybe that's [indecipherable]",
           "RG-50.549.02.0043_trs_en_cleaned"
          ],
          [
           "Q: Well, I wish you luck in -- in having -- in sorting all this out, and figuring out how to",
           "RG-50.549.02.0043_trs_en_cleaned"
          ],
          [
           "Q: Oh, I mean, I've written four book proposals and I finally have gotten one accepted",
           "RG-50.549.02.0043_trs_en_cleaned"
          ],
          [
           "Q: [indecipherable] I'm just like well, grants can be the same way.",
           "RG-50.549.02.0043_trs_en_cleaned"
          ],
          [
           "Q: Just a swing and a miss for so many times.",
           "RG-50.549.02.0043_trs_en_cleaned"
          ],
          [
           "Q: Well, I wanted to ask you a couple more things.",
           "RG-50.549.02.0043_trs_en_cleaned"
          ],
          [
           "Q: Just -- Just a few factual things, and then -- then this sort of one concluding thing and",
           "RG-50.549.02.0043_trs_en_cleaned"
          ],
          [
           "Q: How was that?",
           "RG-50.549.02.0043_trs_en_cleaned"
          ],
          [
           "Q: Obviously this wasn't a Jewish organization that arranged this.",
           "RG-50.549.02.0043_trs_en_cleaned"
          ],
          [
           "Q: Confined -- Confined, yeah.",
           "RG-50.549.02.0043_trs_en_cleaned"
          ],
          [
           "Q: So, well --USHMM Archives RG-50.549.02*0043 119",
           "RG-50.549.02.0043_trs_en_cleaned"
          ],
          [
           "Q: So, well -- A-And -- And how about when you were raised, and -- and for that matter now, I mean, did -- did your experience at all contribute to a religious identity as a Jew? I mean ha-have you been a devout person, are you -- do you feel secular, wh-what's your identification religiously, as opposed to culturally as a Jew?",
           "RG-50.549.02.0043_trs_en_cleaned"
          ],
          [
           "Q: So you didn't keep kosher?",
           "RG-50.549.02.0043_trs_en_cleaned"
          ],
          [
           "Q: And you --",
           "RG-50.549.02.0043_trs_en_cleaned"
          ],
          [
           "Q: -- did you have a Bas Mitzvah?",
           "RG-50.549.02.0043_trs_en_cleaned"
          ],
          [
           "Q: No.",
           "RG-50.549.02.0043_trs_en_cleaned"
          ],
          [
           "Q: Bald-faced bribery, huh?",
           "RG-50.549.02.0043_trs_en_cleaned"
          ],
          [
           "Q: I grew up Catholic, they had -- they had similar schemes for us.",
           "RG-50.549.02.0043_trs_en_cleaned"
          ],
          [
           "Q: Oh yeah, yeah, that's sounds very familiar.",
           "RG-50.549.02.0043_trs_en_cleaned"
          ],
          [
           "Q: Can't do that.",
           "RG-50.549.02.0043_trs_en_cleaned"
          ],
          [
           "Q: And do you -- do you all -- does your family now -- is your husband Jewish?",
           "RG-50.549.02.0043_trs_en_cleaned"
          ],
          [
           "Q: Is -- D-Do you keep high holidays now? Do you -- Do you consi -- consider yourself devout, I mean, just --",
           "RG-50.549.02.0043_trs_en_cleaned"
          ],
          [
           "Q: This is a continuation of a United States Holocaust Memorial Museum interview with Liane Reif-Lehrer. This is tape number five, side A. You were talking about affiliation.",
           "RG-50.549.02.0043_trs_en_cleaned"
          ],
          [
           "Q: Mm-hm.",
           "RG-50.549.02.0043_trs_en_cleaned"
          ],
          [
           "Q: Well, you know, I wanted to ask you one other thing, and it picks up a little bit on what you were just talking about. In ter -- In -- In -- And I've had -- What?",
           "RG-50.549.02.0043_trs_en_cleaned"
          ],
          [
           "Q: Oh, okay.",
           "RG-50.549.02.0043_trs_en_cleaned"
          ],
          [
           "Q: Oh, okay.",
           "RG-50.549.02.0043_trs_en_cleaned"
          ],
          [
           "Q: But still disturbing. Very disturbing.",
           "RG-50.549.02.0043_trs_en_cleaned"
          ],
          [
           "Q: What about something with mutual respect for difference, I mean --",
           "RG-50.549.02.0043_trs_en_cleaned"
          ],
          [
           "Q: Well, that's -- yeah, that's --",
           "RG-50.549.02.0043_trs_en_cleaned"
          ],
          [
           "Q: It's not happening.",
           "RG-50.549.02.0043_trs_en_cleaned"
          ],
          [
           "Q: Did she turn off the refrigerator, too?",
           "RG-50.549.02.0043_trs_en_cleaned"
          ],
          [
           "Q: So she --",
           "RG-50.549.02.0043_trs_en_cleaned"
          ],
          [
           "Q: She says [indecipherable] compromise [indecipherable] there.",
           "RG-50.549.02.0043_trs_en_cleaned"
          ],
          [
           "Q: [indecipherable] to kneel on.",
           "RG-50.549.02.0043_trs_en_cleaned"
          ],
          [
           "Q: Mm-hm. I'm going to -- I want to ask you one more question, but I'm going to --",
           "RG-50.549.02.0043_trs_en_cleaned"
          ],
          [
           "Q: -- flip sides here first.",
           "RG-50.549.02.0043_trs_en_cleaned"
          ],
          [
           "Q: And the -- the last thing I wanted to just ask you was, mi -- picking up a little bit on what we've just been talking about, when you -- when you look back at -- an-and think",
           "RG-50.549.02.0043_trs_en_cleaned"
          ],
          [
           "Q: Newbar Aliezanian.",
           "RG-50.549.02.0043_trs_en_cleaned"
          ],
          [
           "Q: No, he's in Gloucester, where I live.",
           "RG-50.549.02.0043_trs_en_cleaned"
          ],
          [
           "Q: And Newbar recently -- There's a film maker, Arel Morris, that -- that Newbar went to shoot some stills for a -- for a film, that he made, partly in Birkenau, and Auschwitz. And -- And Newbar of cour -- you know, spent like 10 days there, and of course was, you know, tremendously affected by it. And, you know, his understanding is, this is t -- what this says to him, is what human beings have been capable of doing to each other. And of course, many Jews would experience this as something much more specific to -- to what was directed at Jews. And -- And I guess I wanted to ask you in ter -- I don't know if you",
           "RG-50.549.02.0043_trs_en_cleaned"
          ],
          [
           "Q: Wh-What does that mean?",
           "RG-50.549.02.0043_trs_en_cleaned"
          ],
          [
           "Q: Gays, and handicapped.",
           "RG-50.549.02.0043_trs_en_cleaned"
          ],
          [
           "Q: Pil say.",
           "RG-50.549.02.0043_trs_en_cleaned"
          ],
          [
           "Q: Never been there.",
           "RG-50.549.02.0043_trs_en_cleaned"
          ],
          [
           "Q: Mm-hm, yeah. Once is probably --",
           "RG-50.549.02.0043_trs_en_cleaned"
          ],
          [
           "Q: How was that?",
           "RG-50.549.02.0043_trs_en_cleaned"
          ],
          [
           "Q: Yeah. Well, I really thank you so much for taking so much time to -- to talk about this.Are there any other last thoughts that you have, that you want to share? I think we've gone through sa --",
           "RG-50.549.02.0043_trs_en_cleaned"
          ],
          [
           "Q: This concludes the United States Holocaust Memorial Museum interview with Liane Reif-Lehrer.End of Tape Five, Side BConclusion of InterviewUSHMM Archives RG-50.549.02*0043 143",
           "RG-50.549.02.0043_trs_en_cleaned"
          ]
         ],
         "hovertemplate": "<b>Question:</b> %{customdata[0]}<br><b>RG Number:</b> %{customdata[1]}<extra></extra>",
         "legendgroup": "RG-50.549.02.0043_trs_en_cleaned",
         "marker": {
          "color": "#FECB52",
          "symbol": "circle"
         },
         "mode": "markers",
         "name": "RG-50.549.02.0043_trs_en_cleaned",
         "showlegend": true,
         "type": "scattergl",
         "x": [
          5.4183183,
          5.2219334,
          5.9785504,
          4.0272174,
          -0.83278763,
          0.015145954,
          -3.7088964,
          6.9417567,
          0.15167144,
          -1.7097932,
          6.515302,
          5.8382335,
          -0.120194614,
          0.3011608,
          17.356276,
          -0.06833362,
          1.202178,
          0.30338606,
          -1.5516375,
          5.480672,
          -0.16202359,
          -1.1461467,
          5.8723383,
          -3.6518877,
          5.6815066,
          7.523565,
          17.446253,
          6.265013,
          -1.3591083,
          4.662579,
          -2.4872572,
          6.1742206,
          -0.72318065,
          0.9852737,
          -1.2805142,
          -0.4870978,
          -0.81989723,
          -1.0249602,
          18.619616,
          -0.56164676,
          0.83208627,
          0.7818757,
          4.9438133,
          1.1520367,
          5.6875587,
          4.742794,
          1.3737782,
          5.6136527,
          0.28472745,
          0.21460076,
          0.32803836,
          -2.57772,
          -1.8502113,
          -0.569241,
          -0.9654763,
          -1.7326661,
          -1.0160131,
          -1.0219152,
          1.1465546,
          5.471992,
          5.420438,
          -0.23348878,
          2.6153698,
          6.7651668,
          -1.1309487,
          0.65406173,
          0.58585846,
          2.5941777,
          18.579962,
          -0.51248693,
          -1.8315268,
          -0.5303522,
          -0.70241386,
          17.446129,
          2.0825448,
          1.3726087,
          -0.8931223,
          0.18928981,
          -2.8218095,
          -1.2460917,
          5.239738,
          -1.3898667,
          0.60294753,
          5.686649,
          5.580954,
          5.46965,
          0.80480933,
          0.31625575,
          5.791172,
          5.398693,
          4.4027233,
          -0.4245033,
          3.4527092,
          1.1688632,
          0.14541951,
          5.6764402,
          6.3593698,
          1.71561,
          5.229062,
          -0.095827125,
          1.3784206,
          -3.2605047,
          -0.20639431,
          -0.3585134,
          0.45371228,
          17.380022,
          4.424525,
          2.8396347,
          3.5612602,
          17.388288,
          7.0893216,
          -0.8713227,
          -1.4367427,
          -1.9052305,
          0.9415088,
          0.8207933,
          -1.3446542,
          0.319464,
          -0.19104557,
          0.99393576,
          -1.1652685,
          5.408647,
          -0.4238513,
          4.563121,
          2.5211744,
          0.6907227,
          5.1192527,
          0.6591998,
          -0.4103903,
          5.571935,
          4.3469014,
          3.3773754,
          0.021070285,
          -1.7291512,
          -0.53035295,
          -1.4981065,
          0.5335483,
          -1.2570775,
          6.8426332,
          -1.8982607,
          -1.700621,
          -0.49456614,
          5.5922046,
          -0.29200146,
          -0.114603415,
          5.9921727,
          -0.11437317,
          1.2575796,
          -0.31992337,
          3.6091719,
          0.54678077,
          18.51832,
          -1.695814,
          -1.1374307,
          -2.269135,
          -3.6799138,
          0.7664008,
          2.827815,
          5.553821,
          -3.724311,
          1.1228585,
          -1.3569628,
          3.6241298,
          -1.0635396,
          -0.10399243,
          2.2599556,
          -1.6814331,
          -1.8815628,
          -0.4509963,
          0.42263523,
          0.47446972,
          -2.1708212,
          -1.3277069,
          0.7689076,
          4.0945735,
          0.6196016,
          17.36618,
          4.7394857,
          2.711232,
          -1.5899179,
          2.1148455,
          -1.3926445,
          2.577466,
          3.169827,
          -1.1245658,
          -0.23495252,
          3.9971118,
          1.7836168,
          5.565957,
          -3.8949213,
          -1.9039055,
          -1.8939761,
          -1.8239018,
          -0.88726306,
          -0.74695176,
          -2.0767846,
          0.7875512,
          6.4255943,
          -2.183657,
          1.0730668,
          0.69925183,
          -2.852783,
          0.11882771,
          -1.8517803,
          5.7003117,
          4.173642,
          3.5841317,
          -0.91854686,
          3.3741086,
          0.3166375,
          1.8147066,
          -3.2017767,
          0.85680115,
          -0.78863674,
          5.435007
         ],
         "xaxis": "x",
         "y": [
          -2.6281319,
          -2.282796,
          -1.8501399,
          2.720182,
          5.846245,
          0.53300905,
          9.222645,
          3.3788128,
          1.4560748,
          7.9804873,
          5.232724,
          6.615905,
          5.9955883,
          2.3764617,
          2.8983812,
          3.3082287,
          1.31364,
          3.4384465,
          5.4778867,
          0.43282518,
          8.117803,
          7.081302,
          -0.07846181,
          8.83338,
          -3.2596784,
          5.4146614,
          2.8095384,
          6.40819,
          5.175546,
          5.845201,
          11.446304,
          6.874165,
          0.020791102,
          -2.8022063,
          6.29908,
          -0.20259193,
          0.037788663,
          4.7435646,
          9.607402,
          0.104225226,
          0.9724957,
          0.62401533,
          2.4369953,
          5.6959243,
          -1.082855,
          -1.3301905,
          3.8680859,
          -3.1626132,
          8.502373,
          1.0994655,
          3.9604514,
          3.024499,
          5.131082,
          0.24923033,
          4.7839556,
          6.963303,
          4.281184,
          3.0845554,
          4.628223,
          7.3803215,
          7.29157,
          0.6957103,
          3.515209,
          3.4303346,
          6.757575,
          5.340955,
          5.317852,
          -0.01019316,
          9.226556,
          2.9609864,
          5.565572,
          4.9650826,
          4.8137407,
          2.8087883,
          -0.018371735,
          8.13027,
          8.20944,
          3.69722,
          5.0928326,
          5.2144213,
          5.681848,
          4.8399153,
          0.8582773,
          -3.2548616,
          7.0810385,
          6.876414,
          8.046789,
          5.4695144,
          -0.22856726,
          6.0538974,
          5.3079805,
          5.4331956,
          -13.49373,
          6.3878984,
          2.769804,
          -3.210735,
          5.331352,
          2.6613066,
          -0.09225623,
          4.14749,
          -2.5794897,
          8.017271,
          2.2103596,
          2.2297149,
          1.7013091,
          2.8747747,
          4.23816,
          6.2826257,
          6.2441688,
          2.866197,
          6.5658436,
          3.4238276,
          5.850035,
          6.504906,
          1.8120445,
          1.5932916,
          6.0509586,
          1.6414031,
          0.80237126,
          7.3319592,
          20.000792,
          5.632854,
          7.8026357,
          4.017132,
          3.8812158,
          5.096985,
          1.3795218,
          5.448623,
          2.9769666,
          -3.1618652,
          3.6168096,
          4.842494,
          1.3638769,
          4.8772473,
          3.7150488,
          3.8754902,
          5.6908684,
          5.735656,
          4.9855103,
          6.3084927,
          4.7324815,
          4.1440587,
          -3.02635,
          2.0222287,
          0.30450597,
          6.0290084,
          5.68024,
          -1.0751426,
          1.0951942,
          4.092697,
          6.622358,
          9.31899,
          7.1755967,
          2.072891,
          11.070686,
          8.457011,
          0.81406707,
          8.495889,
          -3.0667737,
          8.504632,
          1.4951121,
          7.769113,
          10.294009,
          5.6212177,
          4.689491,
          4.973154,
          6.9718165,
          4.2338157,
          4.6856256,
          -1.8065878,
          3.9419432,
          7.153825,
          5.4255877,
          4.0312066,
          -1.1127613,
          3.0785017,
          2.8892055,
          -0.92771345,
          4.492007,
          4.9932914,
          4.537596,
          20.214375,
          5.314872,
          -0.06308813,
          7.9370456,
          4.377598,
          -0.60725284,
          4.4953465,
          -3.2053595,
          8.611734,
          4.526057,
          7.8988304,
          7.849325,
          2.155195,
          5.6031604,
          6.117975,
          3.4286368,
          3.272454,
          4.9936137,
          -2.4274487,
          -2.6331415,
          7.5224457,
          6.1529,
          4.8195844,
          -0.7256321,
          3.6218925,
          -0.9426859,
          4.281537,
          6.1011186,
          7.1980786,
          3.8087697,
          8.145614,
          4.0621953,
          7.0507383,
          -2.7161462
         ],
         "yaxis": "y"
        }
       ],
       "layout": {
        "autosize": false,
        "coloraxis": {
         "colorbar": {
          "title": {
           "text": "RG Number"
          }
         }
        },
        "height": 800,
        "legend": {
         "title": {
          "text": "RG Number"
         },
         "tracegroupgap": 0
        },
        "margin": {
         "b": 50,
         "l": 50,
         "pad": 4,
         "r": 50,
         "t": 50
        },
        "template": {
         "data": {
          "bar": [
           {
            "error_x": {
             "color": "#2a3f5f"
            },
            "error_y": {
             "color": "#2a3f5f"
            },
            "marker": {
             "line": {
              "color": "#E5ECF6",
              "width": 0.5
             },
             "pattern": {
              "fillmode": "overlay",
              "size": 10,
              "solidity": 0.2
             }
            },
            "type": "bar"
           }
          ],
          "barpolar": [
           {
            "marker": {
             "line": {
              "color": "#E5ECF6",
              "width": 0.5
             },
             "pattern": {
              "fillmode": "overlay",
              "size": 10,
              "solidity": 0.2
             }
            },
            "type": "barpolar"
           }
          ],
          "carpet": [
           {
            "aaxis": {
             "endlinecolor": "#2a3f5f",
             "gridcolor": "white",
             "linecolor": "white",
             "minorgridcolor": "white",
             "startlinecolor": "#2a3f5f"
            },
            "baxis": {
             "endlinecolor": "#2a3f5f",
             "gridcolor": "white",
             "linecolor": "white",
             "minorgridcolor": "white",
             "startlinecolor": "#2a3f5f"
            },
            "type": "carpet"
           }
          ],
          "choropleth": [
           {
            "colorbar": {
             "outlinewidth": 0,
             "ticks": ""
            },
            "type": "choropleth"
           }
          ],
          "contour": [
           {
            "colorbar": {
             "outlinewidth": 0,
             "ticks": ""
            },
            "colorscale": [
             [
              0,
              "#0d0887"
             ],
             [
              0.1111111111111111,
              "#46039f"
             ],
             [
              0.2222222222222222,
              "#7201a8"
             ],
             [
              0.3333333333333333,
              "#9c179e"
             ],
             [
              0.4444444444444444,
              "#bd3786"
             ],
             [
              0.5555555555555556,
              "#d8576b"
             ],
             [
              0.6666666666666666,
              "#ed7953"
             ],
             [
              0.7777777777777778,
              "#fb9f3a"
             ],
             [
              0.8888888888888888,
              "#fdca26"
             ],
             [
              1,
              "#f0f921"
             ]
            ],
            "type": "contour"
           }
          ],
          "contourcarpet": [
           {
            "colorbar": {
             "outlinewidth": 0,
             "ticks": ""
            },
            "type": "contourcarpet"
           }
          ],
          "heatmap": [
           {
            "colorbar": {
             "outlinewidth": 0,
             "ticks": ""
            },
            "colorscale": [
             [
              0,
              "#0d0887"
             ],
             [
              0.1111111111111111,
              "#46039f"
             ],
             [
              0.2222222222222222,
              "#7201a8"
             ],
             [
              0.3333333333333333,
              "#9c179e"
             ],
             [
              0.4444444444444444,
              "#bd3786"
             ],
             [
              0.5555555555555556,
              "#d8576b"
             ],
             [
              0.6666666666666666,
              "#ed7953"
             ],
             [
              0.7777777777777778,
              "#fb9f3a"
             ],
             [
              0.8888888888888888,
              "#fdca26"
             ],
             [
              1,
              "#f0f921"
             ]
            ],
            "type": "heatmap"
           }
          ],
          "heatmapgl": [
           {
            "colorbar": {
             "outlinewidth": 0,
             "ticks": ""
            },
            "colorscale": [
             [
              0,
              "#0d0887"
             ],
             [
              0.1111111111111111,
              "#46039f"
             ],
             [
              0.2222222222222222,
              "#7201a8"
             ],
             [
              0.3333333333333333,
              "#9c179e"
             ],
             [
              0.4444444444444444,
              "#bd3786"
             ],
             [
              0.5555555555555556,
              "#d8576b"
             ],
             [
              0.6666666666666666,
              "#ed7953"
             ],
             [
              0.7777777777777778,
              "#fb9f3a"
             ],
             [
              0.8888888888888888,
              "#fdca26"
             ],
             [
              1,
              "#f0f921"
             ]
            ],
            "type": "heatmapgl"
           }
          ],
          "histogram": [
           {
            "marker": {
             "pattern": {
              "fillmode": "overlay",
              "size": 10,
              "solidity": 0.2
             }
            },
            "type": "histogram"
           }
          ],
          "histogram2d": [
           {
            "colorbar": {
             "outlinewidth": 0,
             "ticks": ""
            },
            "colorscale": [
             [
              0,
              "#0d0887"
             ],
             [
              0.1111111111111111,
              "#46039f"
             ],
             [
              0.2222222222222222,
              "#7201a8"
             ],
             [
              0.3333333333333333,
              "#9c179e"
             ],
             [
              0.4444444444444444,
              "#bd3786"
             ],
             [
              0.5555555555555556,
              "#d8576b"
             ],
             [
              0.6666666666666666,
              "#ed7953"
             ],
             [
              0.7777777777777778,
              "#fb9f3a"
             ],
             [
              0.8888888888888888,
              "#fdca26"
             ],
             [
              1,
              "#f0f921"
             ]
            ],
            "type": "histogram2d"
           }
          ],
          "histogram2dcontour": [
           {
            "colorbar": {
             "outlinewidth": 0,
             "ticks": ""
            },
            "colorscale": [
             [
              0,
              "#0d0887"
             ],
             [
              0.1111111111111111,
              "#46039f"
             ],
             [
              0.2222222222222222,
              "#7201a8"
             ],
             [
              0.3333333333333333,
              "#9c179e"
             ],
             [
              0.4444444444444444,
              "#bd3786"
             ],
             [
              0.5555555555555556,
              "#d8576b"
             ],
             [
              0.6666666666666666,
              "#ed7953"
             ],
             [
              0.7777777777777778,
              "#fb9f3a"
             ],
             [
              0.8888888888888888,
              "#fdca26"
             ],
             [
              1,
              "#f0f921"
             ]
            ],
            "type": "histogram2dcontour"
           }
          ],
          "mesh3d": [
           {
            "colorbar": {
             "outlinewidth": 0,
             "ticks": ""
            },
            "type": "mesh3d"
           }
          ],
          "parcoords": [
           {
            "line": {
             "colorbar": {
              "outlinewidth": 0,
              "ticks": ""
             }
            },
            "type": "parcoords"
           }
          ],
          "pie": [
           {
            "automargin": true,
            "type": "pie"
           }
          ],
          "scatter": [
           {
            "fillpattern": {
             "fillmode": "overlay",
             "size": 10,
             "solidity": 0.2
            },
            "type": "scatter"
           }
          ],
          "scatter3d": [
           {
            "line": {
             "colorbar": {
              "outlinewidth": 0,
              "ticks": ""
             }
            },
            "marker": {
             "colorbar": {
              "outlinewidth": 0,
              "ticks": ""
             }
            },
            "type": "scatter3d"
           }
          ],
          "scattercarpet": [
           {
            "marker": {
             "colorbar": {
              "outlinewidth": 0,
              "ticks": ""
             }
            },
            "type": "scattercarpet"
           }
          ],
          "scattergeo": [
           {
            "marker": {
             "colorbar": {
              "outlinewidth": 0,
              "ticks": ""
             }
            },
            "type": "scattergeo"
           }
          ],
          "scattergl": [
           {
            "marker": {
             "colorbar": {
              "outlinewidth": 0,
              "ticks": ""
             }
            },
            "type": "scattergl"
           }
          ],
          "scattermapbox": [
           {
            "marker": {
             "colorbar": {
              "outlinewidth": 0,
              "ticks": ""
             }
            },
            "type": "scattermapbox"
           }
          ],
          "scatterpolar": [
           {
            "marker": {
             "colorbar": {
              "outlinewidth": 0,
              "ticks": ""
             }
            },
            "type": "scatterpolar"
           }
          ],
          "scatterpolargl": [
           {
            "marker": {
             "colorbar": {
              "outlinewidth": 0,
              "ticks": ""
             }
            },
            "type": "scatterpolargl"
           }
          ],
          "scatterternary": [
           {
            "marker": {
             "colorbar": {
              "outlinewidth": 0,
              "ticks": ""
             }
            },
            "type": "scatterternary"
           }
          ],
          "surface": [
           {
            "colorbar": {
             "outlinewidth": 0,
             "ticks": ""
            },
            "colorscale": [
             [
              0,
              "#0d0887"
             ],
             [
              0.1111111111111111,
              "#46039f"
             ],
             [
              0.2222222222222222,
              "#7201a8"
             ],
             [
              0.3333333333333333,
              "#9c179e"
             ],
             [
              0.4444444444444444,
              "#bd3786"
             ],
             [
              0.5555555555555556,
              "#d8576b"
             ],
             [
              0.6666666666666666,
              "#ed7953"
             ],
             [
              0.7777777777777778,
              "#fb9f3a"
             ],
             [
              0.8888888888888888,
              "#fdca26"
             ],
             [
              1,
              "#f0f921"
             ]
            ],
            "type": "surface"
           }
          ],
          "table": [
           {
            "cells": {
             "fill": {
              "color": "#EBF0F8"
             },
             "line": {
              "color": "white"
             }
            },
            "header": {
             "fill": {
              "color": "#C8D4E3"
             },
             "line": {
              "color": "white"
             }
            },
            "type": "table"
           }
          ]
         },
         "layout": {
          "annotationdefaults": {
           "arrowcolor": "#2a3f5f",
           "arrowhead": 0,
           "arrowwidth": 1
          },
          "autotypenumbers": "strict",
          "coloraxis": {
           "colorbar": {
            "outlinewidth": 0,
            "ticks": ""
           }
          },
          "colorscale": {
           "diverging": [
            [
             0,
             "#8e0152"
            ],
            [
             0.1,
             "#c51b7d"
            ],
            [
             0.2,
             "#de77ae"
            ],
            [
             0.3,
             "#f1b6da"
            ],
            [
             0.4,
             "#fde0ef"
            ],
            [
             0.5,
             "#f7f7f7"
            ],
            [
             0.6,
             "#e6f5d0"
            ],
            [
             0.7,
             "#b8e186"
            ],
            [
             0.8,
             "#7fbc41"
            ],
            [
             0.9,
             "#4d9221"
            ],
            [
             1,
             "#276419"
            ]
           ],
           "sequential": [
            [
             0,
             "#0d0887"
            ],
            [
             0.1111111111111111,
             "#46039f"
            ],
            [
             0.2222222222222222,
             "#7201a8"
            ],
            [
             0.3333333333333333,
             "#9c179e"
            ],
            [
             0.4444444444444444,
             "#bd3786"
            ],
            [
             0.5555555555555556,
             "#d8576b"
            ],
            [
             0.6666666666666666,
             "#ed7953"
            ],
            [
             0.7777777777777778,
             "#fb9f3a"
            ],
            [
             0.8888888888888888,
             "#fdca26"
            ],
            [
             1,
             "#f0f921"
            ]
           ],
           "sequentialminus": [
            [
             0,
             "#0d0887"
            ],
            [
             0.1111111111111111,
             "#46039f"
            ],
            [
             0.2222222222222222,
             "#7201a8"
            ],
            [
             0.3333333333333333,
             "#9c179e"
            ],
            [
             0.4444444444444444,
             "#bd3786"
            ],
            [
             0.5555555555555556,
             "#d8576b"
            ],
            [
             0.6666666666666666,
             "#ed7953"
            ],
            [
             0.7777777777777778,
             "#fb9f3a"
            ],
            [
             0.8888888888888888,
             "#fdca26"
            ],
            [
             1,
             "#f0f921"
            ]
           ]
          },
          "colorway": [
           "#636efa",
           "#EF553B",
           "#00cc96",
           "#ab63fa",
           "#FFA15A",
           "#19d3f3",
           "#FF6692",
           "#B6E880",
           "#FF97FF",
           "#FECB52"
          ],
          "font": {
           "color": "#2a3f5f"
          },
          "geo": {
           "bgcolor": "white",
           "lakecolor": "white",
           "landcolor": "#E5ECF6",
           "showlakes": true,
           "showland": true,
           "subunitcolor": "white"
          },
          "hoverlabel": {
           "align": "left"
          },
          "hovermode": "closest",
          "mapbox": {
           "style": "light"
          },
          "paper_bgcolor": "white",
          "plot_bgcolor": "#E5ECF6",
          "polar": {
           "angularaxis": {
            "gridcolor": "white",
            "linecolor": "white",
            "ticks": ""
           },
           "bgcolor": "#E5ECF6",
           "radialaxis": {
            "gridcolor": "white",
            "linecolor": "white",
            "ticks": ""
           }
          },
          "scene": {
           "xaxis": {
            "backgroundcolor": "#E5ECF6",
            "gridcolor": "white",
            "gridwidth": 2,
            "linecolor": "white",
            "showbackground": true,
            "ticks": "",
            "zerolinecolor": "white"
           },
           "yaxis": {
            "backgroundcolor": "#E5ECF6",
            "gridcolor": "white",
            "gridwidth": 2,
            "linecolor": "white",
            "showbackground": true,
            "ticks": "",
            "zerolinecolor": "white"
           },
           "zaxis": {
            "backgroundcolor": "#E5ECF6",
            "gridcolor": "white",
            "gridwidth": 2,
            "linecolor": "white",
            "showbackground": true,
            "ticks": "",
            "zerolinecolor": "white"
           }
          },
          "shapedefaults": {
           "line": {
            "color": "#2a3f5f"
           }
          },
          "ternary": {
           "aaxis": {
            "gridcolor": "white",
            "linecolor": "white",
            "ticks": ""
           },
           "baxis": {
            "gridcolor": "white",
            "linecolor": "white",
            "ticks": ""
           },
           "bgcolor": "#E5ECF6",
           "caxis": {
            "gridcolor": "white",
            "linecolor": "white",
            "ticks": ""
           }
          },
          "title": {
           "x": 0.05
          },
          "xaxis": {
           "automargin": true,
           "gridcolor": "white",
           "linecolor": "white",
           "ticks": "",
           "title": {
            "standoff": 15
           },
           "zerolinecolor": "white",
           "zerolinewidth": 2
          },
          "yaxis": {
           "automargin": true,
           "gridcolor": "white",
           "linecolor": "white",
           "ticks": "",
           "title": {
            "standoff": 15
           },
           "zerolinecolor": "white",
           "zerolinewidth": 2
          }
         }
        },
        "title": {
         "text": "UMAP Visualization of Questions"
        },
        "width": 1000,
        "xaxis": {
         "anchor": "y",
         "domain": [
          0,
          1
         ],
         "title": {
          "text": "UMAP Dimension 1"
         }
        },
        "yaxis": {
         "anchor": "x",
         "domain": [
          0,
          1
         ],
         "title": {
          "text": "UMAP Dimension 2"
         }
        }
       }
      }
     },
     "metadata": {},
     "output_type": "display_data"
    }
   ],
   "source": [
    "# Create an interactive scatter plot with Plotly\n",
    "fig = px.scatter(\n",
    "    df, x='UMAP1', y='UMAP2', \n",
    "    color='RG',  # Color points based on RG number\n",
    "    hover_data=['Question', 'RG'],  # Include RG in hover data\n",
    "    title='UMAP Visualization of Questions',\n",
    "    labels={'UMAP1': 'UMAP Dimension 1', 'UMAP2': 'UMAP Dimension 2', 'RG': 'RG Number'},\n",
    "    height=800,  # Increased height to make the plot taller\n",
    "    width=1000   # Adjusted width to maintain a good aspect ratio\n",
    ")\n",
    "\n",
    "# Update hover template to show full question text and RG number\n",
    "fig.update_traces(\n",
    "    hovertemplate='<b>Question:</b> %{customdata[0]}<br><b>RG Number:</b> %{customdata[1]}<extra></extra>'\n",
    ")\n",
    "\n",
    "# Update layout to ensure the plot uses the full space\n",
    "fig.update_layout(\n",
    "    autosize=False,\n",
    "    margin=dict(l=50, r=50, b=50, t=50, pad=4)\n",
    ")\n",
    "\n",
    "# Add a color bar title\n",
    "fig.update_coloraxes(colorbar_title='RG Number')\n",
    "\n",
    "# Show the plot\n",
    "fig.show()"
   ]
  },
  {
   "cell_type": "code",
   "execution_count": null,
   "metadata": {},
   "outputs": [],
   "source": []
  }
 ],
 "metadata": {
  "kernelspec": {
   "display_name": "fasthtml",
   "language": "python",
   "name": "python3"
  },
  "language_info": {
   "codemirror_mode": {
    "name": "ipython",
    "version": 3
   },
   "file_extension": ".py",
   "mimetype": "text/x-python",
   "name": "python",
   "nbconvert_exporter": "python",
   "pygments_lexer": "ipython3",
   "version": "3.10.14"
  }
 },
 "nbformat": 4,
 "nbformat_minor": 2
}
