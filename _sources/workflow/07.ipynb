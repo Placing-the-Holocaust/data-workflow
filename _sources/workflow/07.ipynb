{
 "cells": [
  {
   "cell_type": "code",
   "execution_count": 1,
   "metadata": {},
   "outputs": [
    {
     "name": "stdout",
     "output_type": "stream",
     "text": [
      "Collection 'HolocaustTestimonies' created successfully.\n"
     ]
    }
   ],
   "source": [
    "import weaviate\n",
    "from weaviate.auth import Auth\n",
    "import weaviate.classes as wvc\n",
    "\n",
    "import os\n",
    "from dotenv import load_dotenv\n",
    "\n",
    "# Load environment variables from .env file\n",
    "load_dotenv()\n",
    "\n",
    "# Get API key and URL from environment variables\n",
    "WEAVIATE_URL = os.getenv('WEAVIATE_URL')\n",
    "WEAVIATE_API_KEY = os.getenv('WEAVIATE_API_KEY')\n",
    "\n",
    "if not WEAVIATE_URL or not WEAVIATE_API_KEY:\n",
    "    raise ValueError(\"WEAVIATE_URL or WEAVIATE_API_KEY not found in .env file\")\n",
    "\n",
    "collection_name = \"HolocaustTestimonies\"\n",
    "\n",
    "client = weaviate.connect_to_weaviate_cloud(\n",
    "    cluster_url=WEAVIATE_URL,\n",
    "    auth_credentials=Auth.api_key(WEAVIATE_API_KEY),\n",
    ")\n",
    "\n",
    "if client.collections.exists(collection_name):\n",
    "    client.collections.delete(collection_name)\n",
    "\n",
    "holocaust_testimonies = client.collections.create(\n",
    "    name=collection_name,\n",
    "    properties=[\n",
    "        wvc.config.Property(\n",
    "            name=\"sentence_ids\",\n",
    "            data_type=wvc.config.DataType.TEXT_ARRAY\n",
    "        ),\n",
    "        wvc.config.Property(\n",
    "            name=\"text\",\n",
    "            data_type=wvc.config.DataType.TEXT\n",
    "        ),\n",
    "        wvc.config.Property(\n",
    "            name=\"category\",\n",
    "            data_type=wvc.config.DataType.TEXT\n",
    "        ),\n",
    "        wvc.config.Property(\n",
    "            name=\"populated_place\",\n",
    "            data_type=wvc.config.DataType.INT\n",
    "        ),\n",
    "        wvc.config.Property(\n",
    "            name=\"building\",\n",
    "            data_type=wvc.config.DataType.INT\n",
    "        ),\n",
    "        wvc.config.Property(\n",
    "            name=\"country\",\n",
    "            data_type=wvc.config.DataType.INT\n",
    "        ),\n",
    "        wvc.config.Property(\n",
    "            name=\"spatial_obj\",\n",
    "            data_type=wvc.config.DataType.INT\n",
    "        ),\n",
    "        wvc.config.Property(\n",
    "            name=\"dlf\",\n",
    "            data_type=wvc.config.DataType.INT\n",
    "        ),\n",
    "        wvc.config.Property(\n",
    "            name=\"int_space\",\n",
    "            data_type=wvc.config.DataType.INT\n",
    "        ),\n",
    "        wvc.config.Property(\n",
    "            name=\"env_features\",\n",
    "            data_type=wvc.config.DataType.INT\n",
    "        ),\n",
    "        wvc.config.Property(\n",
    "            name=\"region\",\n",
    "            data_type=wvc.config.DataType.INT\n",
    "        ),\n",
    "        wvc.config.Property(\n",
    "            name=\"npip\",\n",
    "            data_type=wvc.config.DataType.INT\n",
    "        ),\n",
    "        wvc.config.Property(\n",
    "            name=\"experience_group\",\n",
    "            data_type=wvc.config.DataType.TEXT\n",
    "        ),\n",
    "        wvc.config.Property(\n",
    "            name=\"birth_country\",\n",
    "            data_type=wvc.config.DataType.TEXT\n",
    "        ),\n",
    "        wvc.config.Property(\n",
    "            name=\"gender\",\n",
    "            data_type=wvc.config.DataType.TEXT\n",
    "        ),\n",
    "        wvc.config.Property(\n",
    "            name=\"rg\",\n",
    "            data_type=wvc.config.DataType.TEXT\n",
    "        ),\n",
    "        wvc.config.Property(\n",
    "            name=\"full_name\",\n",
    "            data_type=wvc.config.DataType.TEXT\n",
    "        ),\n",
    "        wvc.config.Property(\n",
    "            name=\"birth_year\",\n",
    "            data_type=wvc.config.DataType.INT\n",
    "        ),\n",
    "    ]\n",
    ")\n",
    "\n",
    "print(f\"Collection '{collection_name}' created successfully.\")"
   ]
  },
  {
   "cell_type": "code",
   "execution_count": null,
   "metadata": {},
   "outputs": [],
   "source": []
  },
  {
   "cell_type": "code",
   "execution_count": 2,
   "metadata": {},
   "outputs": [
    {
     "name": "stdout",
     "output_type": "stream",
     "text": [
      "Found 4 parquet files.\n"
     ]
    },
    {
     "name": "stderr",
     "output_type": "stream",
     "text": [
      "Preparing data: 100%|██████████| 1050/1050 [00:00<00:00, 24404.95it/s]\n",
      "Preparing data: 100%|██████████| 1824/1824 [00:00<00:00, 24502.95it/s]\n",
      "Preparing data: 100%|██████████| 1625/1625 [00:00<00:00, 20787.76it/s]\n",
      "Preparing data: 100%|██████████| 808/808 [00:00<00:00, 25767.14it/s]\n",
      "Inserting data: 100%|██████████| 5307/5307 [01:44<00:00, 50.76it/s]\n"
     ]
    },
    {
     "name": "stdout",
     "output_type": "stream",
     "text": [
      "Data insertion complete.\n"
     ]
    }
   ],
   "source": [
    "import glob\n",
    "import pandas as pd\n",
    "from tqdm import tqdm\n",
    "import numpy as np\n",
    "\n",
    "# Get list of parquet files\n",
    "parquet_files = glob.glob(\"../data/06_parquet/*.parquet\")\n",
    "parquet_files.sort()\n",
    "parquet_files = parquet_files[:4]\n",
    "print(f\"Found {len(parquet_files)} parquet files.\")\n",
    "\n",
    "# Function to prepare a single row\n",
    "def prepare_row(row):\n",
    "    def safe_int(value):\n",
    "        return int(value) if value is not None else 0\n",
    "\n",
    "    return {\n",
    "        \"properties\": {\n",
    "            \"sentence_ids\": row['sentence_ids'].tolist() if isinstance(row['sentence_ids'], np.ndarray) else row['sentence_ids'],\n",
    "            \"text\": row['text'],\n",
    "            \"category\": row['category'],\n",
    "            \"populated_place\": safe_int(row['populated_place']),\n",
    "            \"building\": safe_int(row['building']),\n",
    "            \"country\": safe_int(row['country']),\n",
    "            \"spatial_obj\": safe_int(row['spatial_obj']),\n",
    "            \"dlf\": safe_int(row['dlf']),\n",
    "            \"int_space\": safe_int(row['int_space']),\n",
    "            \"env_features\": safe_int(row['env_features']),\n",
    "            \"region\": safe_int(row['region']),\n",
    "            \"npip\": safe_int(row['npip']),\n",
    "            \"experience_group\": row['experience_group'],\n",
    "            \"birth_country\": row['birth_country'],\n",
    "            \"gender\": row['gender'],\n",
    "            \"rg\": row['rg'],\n",
    "            \"full_name\": row['full_name'],\n",
    "            \"birth_year\": safe_int(row['birth_year'])\n",
    "        },\n",
    "        \"vector\": row['embedding'].tolist() if isinstance(row['embedding'], np.ndarray) else row['embedding']\n",
    "    }\n",
    "\n",
    "data_rows = []\n",
    "# Process each parquet file\n",
    "for parquet_file in parquet_files:\n",
    "    df = pd.read_parquet(parquet_file)\n",
    "    \n",
    "    for _, row in tqdm(df.iterrows(), total=len(df), desc=\"Preparing data\"):\n",
    "        data_rows.append(prepare_row(row))\n",
    "    \n",
    "# Perform batch insertion\n",
    "with holocaust_testimonies.batch.fixed_size(batch_size=100) as batch:\n",
    "    for data_row in tqdm(data_rows, desc=\"Inserting data\"):\n",
    "        batch.add_object(\n",
    "            properties=data_row['properties'],\n",
    "            vector=data_row['vector']\n",
    "        )\n",
    "\n",
    "print(\"Data insertion complete.\")"
   ]
  },
  {
   "cell_type": "code",
   "execution_count": 3,
   "metadata": {},
   "outputs": [
    {
     "name": "stderr",
     "output_type": "stream",
     "text": [
      "/Applications/anaconda3/envs/fasthtml/lib/python3.10/site-packages/sentence_transformers/cross_encoder/CrossEncoder.py:11: TqdmExperimentalWarning: Using `tqdm.autonotebook.tqdm` in notebook mode. Use `tqdm.tqdm` instead to force console mode (e.g. in jupyter console)\n",
      "  from tqdm.autonotebook import tqdm, trange\n"
     ]
    },
    {
     "data": {
      "application/vnd.jupyter.widget-view+json": {
       "model_id": "b7db134992294bacb93f262556a26009",
       "version_major": 2,
       "version_minor": 0
      },
      "text/plain": [
       "modules.json:   0%|          | 0.00/461 [00:00<?, ?B/s]"
      ]
     },
     "metadata": {},
     "output_type": "display_data"
    },
    {
     "data": {
      "application/vnd.jupyter.widget-view+json": {
       "model_id": "37b96a5ae43d4047a7c2075bf9688429",
       "version_major": 2,
       "version_minor": 0
      },
      "text/plain": [
       "config_sentence_transformers.json:   0%|          | 0.00/122 [00:00<?, ?B/s]"
      ]
     },
     "metadata": {},
     "output_type": "display_data"
    },
    {
     "data": {
      "application/vnd.jupyter.widget-view+json": {
       "model_id": "4619570157af447e83dbf103fa19d9ef",
       "version_major": 2,
       "version_minor": 0
      },
      "text/plain": [
       "README.md:   0%|          | 0.00/2.22k [00:00<?, ?B/s]"
      ]
     },
     "metadata": {},
     "output_type": "display_data"
    },
    {
     "data": {
      "application/vnd.jupyter.widget-view+json": {
       "model_id": "5b48ea502faf401585ad33c7d72e1496",
       "version_major": 2,
       "version_minor": 0
      },
      "text/plain": [
       "sentence_bert_config.json:   0%|          | 0.00/53.0 [00:00<?, ?B/s]"
      ]
     },
     "metadata": {},
     "output_type": "display_data"
    },
    {
     "data": {
      "application/vnd.jupyter.widget-view+json": {
       "model_id": "27cf57d7de2a412382a37942ab2560c1",
       "version_major": 2,
       "version_minor": 0
      },
      "text/plain": [
       "config.json:   0%|          | 0.00/804 [00:00<?, ?B/s]"
      ]
     },
     "metadata": {},
     "output_type": "display_data"
    },
    {
     "data": {
      "application/vnd.jupyter.widget-view+json": {
       "model_id": "5b9ba316f645494a9dfc22b65d180fcb",
       "version_major": 2,
       "version_minor": 0
      },
      "text/plain": [
       "pytorch_model.bin:   0%|          | 0.00/1.88G [00:00<?, ?B/s]"
      ]
     },
     "metadata": {},
     "output_type": "display_data"
    },
    {
     "data": {
      "application/vnd.jupyter.widget-view+json": {
       "model_id": "1c4ef86ef216467daa186aaae27adf35",
       "version_major": 2,
       "version_minor": 0
      },
      "text/plain": [
       "tokenizer_config.json:   0%|          | 0.00/397 [00:00<?, ?B/s]"
      ]
     },
     "metadata": {},
     "output_type": "display_data"
    },
    {
     "data": {
      "application/vnd.jupyter.widget-view+json": {
       "model_id": "5a69fe91927d4089b88c8b0496690386",
       "version_major": 2,
       "version_minor": 0
      },
      "text/plain": [
       "vocab.txt:   0%|          | 0.00/5.22M [00:00<?, ?B/s]"
      ]
     },
     "metadata": {},
     "output_type": "display_data"
    },
    {
     "data": {
      "application/vnd.jupyter.widget-view+json": {
       "model_id": "7dd1a5cc2e2f449c8df050abe5bd4f92",
       "version_major": 2,
       "version_minor": 0
      },
      "text/plain": [
       "tokenizer.json:   0%|          | 0.00/9.62M [00:00<?, ?B/s]"
      ]
     },
     "metadata": {},
     "output_type": "display_data"
    },
    {
     "data": {
      "application/vnd.jupyter.widget-view+json": {
       "model_id": "41b75e1bc2034d65824f9f1a5aff2fd9",
       "version_major": 2,
       "version_minor": 0
      },
      "text/plain": [
       "special_tokens_map.json:   0%|          | 0.00/112 [00:00<?, ?B/s]"
      ]
     },
     "metadata": {},
     "output_type": "display_data"
    },
    {
     "name": "stderr",
     "output_type": "stream",
     "text": [
      "/Applications/anaconda3/envs/fasthtml/lib/python3.10/site-packages/transformers/tokenization_utils_base.py:1601: FutureWarning: `clean_up_tokenization_spaces` was not set. It will be set to `True` by default. This behavior will be depracted in transformers v4.45, and will be then set to `False` by default. For more details check this issue: https://github.com/huggingface/transformers/issues/31884\n",
      "  warnings.warn(\n"
     ]
    },
    {
     "data": {
      "application/vnd.jupyter.widget-view+json": {
       "model_id": "c9cc70151d534c05b8a47ef1ca27110c",
       "version_major": 2,
       "version_minor": 0
      },
      "text/plain": [
       "1_Pooling/config.json:   0%|          | 0.00/190 [00:00<?, ?B/s]"
      ]
     },
     "metadata": {},
     "output_type": "display_data"
    },
    {
     "data": {
      "application/vnd.jupyter.widget-view+json": {
       "model_id": "c09786dbb9744bd3a0c05f8f086ca727",
       "version_major": 2,
       "version_minor": 0
      },
      "text/plain": [
       "2_Dense/config.json:   0%|          | 0.00/114 [00:00<?, ?B/s]"
      ]
     },
     "metadata": {},
     "output_type": "display_data"
    },
    {
     "data": {
      "application/vnd.jupyter.widget-view+json": {
       "model_id": "520222c326a7419c9abb781bed18b129",
       "version_major": 2,
       "version_minor": 0
      },
      "text/plain": [
       "pytorch_model.bin:   0%|          | 0.00/2.36M [00:00<?, ?B/s]"
      ]
     },
     "metadata": {},
     "output_type": "display_data"
    },
    {
     "name": "stderr",
     "output_type": "stream",
     "text": [
      "/Applications/anaconda3/envs/fasthtml/lib/python3.10/site-packages/sentence_transformers/models/Dense.py:89: FutureWarning: You are using `torch.load` with `weights_only=False` (the current default value), which uses the default pickle module implicitly. It is possible to construct malicious pickle data which will execute arbitrary code during unpickling (See https://github.com/pytorch/pytorch/blob/main/SECURITY.md#untrusted-models for more details). In a future release, the default value for `weights_only` will be flipped to `True`. This limits the functions that could be executed during unpickling. Arbitrary objects will no longer be allowed to be loaded via this mode unless they are explicitly allowlisted by the user via `torch.serialization.add_safe_globals`. We recommend you start setting `weights_only=True` for any use case where you don't have full control of the loaded file. Please open an issue on GitHub for any issues related to this experimental feature.\n",
      "  torch.load(os.path.join(input_path, \"pytorch_model.bin\"), map_location=torch.device(\"cpu\"))\n"
     ]
    }
   ],
   "source": [
    "from sentence_transformers import SentenceTransformer\n",
    "from weaviate.classes.query import MetadataQuery\n",
    "\n",
    "model = SentenceTransformer('sentence-transformers/LaBSE')"
   ]
  },
  {
   "cell_type": "code",
   "execution_count": 4,
   "metadata": {},
   "outputs": [
    {
     "ename": "UnexpectedStatusCodeError",
     "evalue": "Meta endpoint! Unexpected status code: 404, with response body: None.",
     "output_type": "error",
     "traceback": [
      "\u001b[0;31m---------------------------------------------------------------------------\u001b[0m",
      "\u001b[0;31mUnexpectedStatusCodeError\u001b[0m                 Traceback (most recent call last)",
      "Cell \u001b[0;32mIn[4], line 9\u001b[0m\n\u001b[1;32m      6\u001b[0m WEAVIATE_API_KEY \u001b[38;5;241m=\u001b[39m \u001b[38;5;124m\"\u001b[39m\u001b[38;5;124mwNIf2XunX2THHTK6y1aDEr0lyj0FFv4x6KqT\u001b[39m\u001b[38;5;124m\"\u001b[39m\n\u001b[1;32m      7\u001b[0m collection_name \u001b[38;5;241m=\u001b[39m \u001b[38;5;124m\"\u001b[39m\u001b[38;5;124mHolocaustTestimonies\u001b[39m\u001b[38;5;124m\"\u001b[39m\n\u001b[0;32m----> 9\u001b[0m client \u001b[38;5;241m=\u001b[39m \u001b[43mweaviate\u001b[49m\u001b[38;5;241;43m.\u001b[39;49m\u001b[43mconnect_to_weaviate_cloud\u001b[49m\u001b[43m(\u001b[49m\n\u001b[1;32m     10\u001b[0m \u001b[43m    \u001b[49m\u001b[43mcluster_url\u001b[49m\u001b[38;5;241;43m=\u001b[39;49m\u001b[43mWEAVIATE_URL\u001b[49m\u001b[43m,\u001b[49m\n\u001b[1;32m     11\u001b[0m \u001b[43m    \u001b[49m\u001b[43mauth_credentials\u001b[49m\u001b[38;5;241;43m=\u001b[39;49m\u001b[43mAuth\u001b[49m\u001b[38;5;241;43m.\u001b[39;49m\u001b[43mapi_key\u001b[49m\u001b[43m(\u001b[49m\u001b[43mWEAVIATE_API_KEY\u001b[49m\u001b[43m)\u001b[49m\u001b[43m,\u001b[49m\n\u001b[1;32m     12\u001b[0m \u001b[43m)\u001b[49m\n\u001b[1;32m     14\u001b[0m holocaust_testimonies \u001b[38;5;241m=\u001b[39m client\u001b[38;5;241m.\u001b[39mcollections\u001b[38;5;241m.\u001b[39mget(name\u001b[38;5;241m=\u001b[39mcollection_name)\n",
      "File \u001b[0;32m/Applications/anaconda3/envs/fasthtml/lib/python3.10/site-packages/weaviate/connect/helpers.py:79\u001b[0m, in \u001b[0;36mconnect_to_weaviate_cloud\u001b[0;34m(cluster_url, auth_credentials, headers, additional_config, skip_init_checks)\u001b[0m\n\u001b[1;32m     33\u001b[0m \u001b[38;5;250m\u001b[39m\u001b[38;5;124;03m\"\"\"\u001b[39;00m\n\u001b[1;32m     34\u001b[0m \u001b[38;5;124;03mConnect to a Weaviate Cloud (WCD) instance.\u001b[39;00m\n\u001b[1;32m     35\u001b[0m \n\u001b[0;32m   (...)\u001b[0m\n\u001b[1;32m     76\u001b[0m \u001b[38;5;124;03m    >>> # The connection is automatically closed when the context is exited.\u001b[39;00m\n\u001b[1;32m     77\u001b[0m \u001b[38;5;124;03m\"\"\"\u001b[39;00m\n\u001b[1;32m     78\u001b[0m cluster_url, grpc_host \u001b[38;5;241m=\u001b[39m __parse_weaviate_cloud_cluster_url(cluster_url)\n\u001b[0;32m---> 79\u001b[0m \u001b[38;5;28;01mreturn\u001b[39;00m \u001b[43m__connect\u001b[49m\u001b[43m(\u001b[49m\n\u001b[1;32m     80\u001b[0m \u001b[43m    \u001b[49m\u001b[43mWeaviateClient\u001b[49m\u001b[43m(\u001b[49m\n\u001b[1;32m     81\u001b[0m \u001b[43m        \u001b[49m\u001b[43mconnection_params\u001b[49m\u001b[38;5;241;43m=\u001b[39;49m\u001b[43mConnectionParams\u001b[49m\u001b[43m(\u001b[49m\n\u001b[1;32m     82\u001b[0m \u001b[43m            \u001b[49m\u001b[43mhttp\u001b[49m\u001b[38;5;241;43m=\u001b[39;49m\u001b[43mProtocolParams\u001b[49m\u001b[43m(\u001b[49m\u001b[43mhost\u001b[49m\u001b[38;5;241;43m=\u001b[39;49m\u001b[43mcluster_url\u001b[49m\u001b[43m,\u001b[49m\u001b[43m \u001b[49m\u001b[43mport\u001b[49m\u001b[38;5;241;43m=\u001b[39;49m\u001b[38;5;241;43m443\u001b[39;49m\u001b[43m,\u001b[49m\u001b[43m \u001b[49m\u001b[43msecure\u001b[49m\u001b[38;5;241;43m=\u001b[39;49m\u001b[38;5;28;43;01mTrue\u001b[39;49;00m\u001b[43m)\u001b[49m\u001b[43m,\u001b[49m\n\u001b[1;32m     83\u001b[0m \u001b[43m            \u001b[49m\u001b[43mgrpc\u001b[49m\u001b[38;5;241;43m=\u001b[39;49m\u001b[43mProtocolParams\u001b[49m\u001b[43m(\u001b[49m\u001b[43mhost\u001b[49m\u001b[38;5;241;43m=\u001b[39;49m\u001b[43mgrpc_host\u001b[49m\u001b[43m,\u001b[49m\u001b[43m \u001b[49m\u001b[43mport\u001b[49m\u001b[38;5;241;43m=\u001b[39;49m\u001b[38;5;241;43m443\u001b[39;49m\u001b[43m,\u001b[49m\u001b[43m \u001b[49m\u001b[43msecure\u001b[49m\u001b[38;5;241;43m=\u001b[39;49m\u001b[38;5;28;43;01mTrue\u001b[39;49;00m\u001b[43m)\u001b[49m\u001b[43m,\u001b[49m\n\u001b[1;32m     84\u001b[0m \u001b[43m        \u001b[49m\u001b[43m)\u001b[49m\u001b[43m,\u001b[49m\n\u001b[1;32m     85\u001b[0m \u001b[43m        \u001b[49m\u001b[43mauth_client_secret\u001b[49m\u001b[38;5;241;43m=\u001b[39;49m\u001b[43mauth_credentials\u001b[49m\u001b[43m,\u001b[49m\n\u001b[1;32m     86\u001b[0m \u001b[43m        \u001b[49m\u001b[43madditional_headers\u001b[49m\u001b[38;5;241;43m=\u001b[39;49m\u001b[43mheaders\u001b[49m\u001b[43m,\u001b[49m\n\u001b[1;32m     87\u001b[0m \u001b[43m        \u001b[49m\u001b[43madditional_config\u001b[49m\u001b[38;5;241;43m=\u001b[39;49m\u001b[43madditional_config\u001b[49m\u001b[43m,\u001b[49m\n\u001b[1;32m     88\u001b[0m \u001b[43m        \u001b[49m\u001b[43mskip_init_checks\u001b[49m\u001b[38;5;241;43m=\u001b[39;49m\u001b[43mskip_init_checks\u001b[49m\u001b[43m,\u001b[49m\n\u001b[1;32m     89\u001b[0m \u001b[43m    \u001b[49m\u001b[43m)\u001b[49m\n\u001b[1;32m     90\u001b[0m \u001b[43m\u001b[49m\u001b[43m)\u001b[49m\n",
      "File \u001b[0;32m/Applications/anaconda3/envs/fasthtml/lib/python3.10/site-packages/weaviate/connect/helpers.py:410\u001b[0m, in \u001b[0;36m__connect\u001b[0;34m(client)\u001b[0m\n\u001b[1;32m    408\u001b[0m \u001b[38;5;28;01mexcept\u001b[39;00m \u001b[38;5;167;01mException\u001b[39;00m \u001b[38;5;28;01mas\u001b[39;00m e:\n\u001b[1;32m    409\u001b[0m     client\u001b[38;5;241m.\u001b[39mclose()\n\u001b[0;32m--> 410\u001b[0m     \u001b[38;5;28;01mraise\u001b[39;00m e\n",
      "File \u001b[0;32m/Applications/anaconda3/envs/fasthtml/lib/python3.10/site-packages/weaviate/connect/helpers.py:406\u001b[0m, in \u001b[0;36m__connect\u001b[0;34m(client)\u001b[0m\n\u001b[1;32m    404\u001b[0m \u001b[38;5;28;01mdef\u001b[39;00m \u001b[38;5;21m__connect\u001b[39m(client: WeaviateClient) \u001b[38;5;241m-\u001b[39m\u001b[38;5;241m>\u001b[39m WeaviateClient:\n\u001b[1;32m    405\u001b[0m     \u001b[38;5;28;01mtry\u001b[39;00m:\n\u001b[0;32m--> 406\u001b[0m         \u001b[43mclient\u001b[49m\u001b[38;5;241;43m.\u001b[39;49m\u001b[43mconnect\u001b[49m\u001b[43m(\u001b[49m\u001b[43m)\u001b[49m\n\u001b[1;32m    407\u001b[0m         \u001b[38;5;28;01mreturn\u001b[39;00m client\n\u001b[1;32m    408\u001b[0m     \u001b[38;5;28;01mexcept\u001b[39;00m \u001b[38;5;167;01mException\u001b[39;00m \u001b[38;5;28;01mas\u001b[39;00m e:\n",
      "File \u001b[0;32m/Applications/anaconda3/envs/fasthtml/lib/python3.10/site-packages/weaviate/syncify.py:23\u001b[0m, in \u001b[0;36mconvert.<locals>.sync_method\u001b[0;34m(self, __new_name, *args, **kwargs)\u001b[0m\n\u001b[1;32m     20\u001b[0m \u001b[38;5;129m@wraps\u001b[39m(method)  \u001b[38;5;66;03m# type: ignore\u001b[39;00m\n\u001b[1;32m     21\u001b[0m \u001b[38;5;28;01mdef\u001b[39;00m \u001b[38;5;21msync_method\u001b[39m(\u001b[38;5;28mself\u001b[39m, \u001b[38;5;241m*\u001b[39margs, __new_name\u001b[38;5;241m=\u001b[39mnew_name, \u001b[38;5;241m*\u001b[39m\u001b[38;5;241m*\u001b[39mkwargs):\n\u001b[1;32m     22\u001b[0m     async_func \u001b[38;5;241m=\u001b[39m \u001b[38;5;28mgetattr\u001b[39m(\u001b[38;5;28mcls\u001b[39m, __new_name)\n\u001b[0;32m---> 23\u001b[0m     \u001b[38;5;28;01mreturn\u001b[39;00m \u001b[43m_EventLoopSingleton\u001b[49m\u001b[38;5;241;43m.\u001b[39;49m\u001b[43mget_instance\u001b[49m\u001b[43m(\u001b[49m\u001b[43m)\u001b[49m\u001b[38;5;241;43m.\u001b[39;49m\u001b[43mrun_until_complete\u001b[49m\u001b[43m(\u001b[49m\n\u001b[1;32m     24\u001b[0m \u001b[43m        \u001b[49m\u001b[43masync_func\u001b[49m\u001b[43m,\u001b[49m\u001b[43m \u001b[49m\u001b[38;5;28;43mself\u001b[39;49m\u001b[43m,\u001b[49m\u001b[43m \u001b[49m\u001b[38;5;241;43m*\u001b[39;49m\u001b[43margs\u001b[49m\u001b[43m,\u001b[49m\u001b[43m \u001b[49m\u001b[38;5;241;43m*\u001b[39;49m\u001b[38;5;241;43m*\u001b[39;49m\u001b[43mkwargs\u001b[49m\n\u001b[1;32m     25\u001b[0m \u001b[43m    \u001b[49m\u001b[43m)\u001b[49m\n",
      "File \u001b[0;32m/Applications/anaconda3/envs/fasthtml/lib/python3.10/site-packages/weaviate/event_loop.py:40\u001b[0m, in \u001b[0;36m_EventLoop.run_until_complete\u001b[0;34m(self, f, *args, **kwargs)\u001b[0m\n\u001b[1;32m     38\u001b[0m     \u001b[38;5;28;01mraise\u001b[39;00m WeaviateClosedClientError()\n\u001b[1;32m     39\u001b[0m fut \u001b[38;5;241m=\u001b[39m asyncio\u001b[38;5;241m.\u001b[39mrun_coroutine_threadsafe(f(\u001b[38;5;241m*\u001b[39margs, \u001b[38;5;241m*\u001b[39m\u001b[38;5;241m*\u001b[39mkwargs), \u001b[38;5;28mself\u001b[39m\u001b[38;5;241m.\u001b[39mloop)\n\u001b[0;32m---> 40\u001b[0m \u001b[38;5;28;01mreturn\u001b[39;00m \u001b[43mfut\u001b[49m\u001b[38;5;241;43m.\u001b[39;49m\u001b[43mresult\u001b[49m\u001b[43m(\u001b[49m\u001b[43m)\u001b[49m\n",
      "File \u001b[0;32m/Applications/anaconda3/envs/fasthtml/lib/python3.10/concurrent/futures/_base.py:458\u001b[0m, in \u001b[0;36mFuture.result\u001b[0;34m(self, timeout)\u001b[0m\n\u001b[1;32m    456\u001b[0m     \u001b[38;5;28;01mraise\u001b[39;00m CancelledError()\n\u001b[1;32m    457\u001b[0m \u001b[38;5;28;01melif\u001b[39;00m \u001b[38;5;28mself\u001b[39m\u001b[38;5;241m.\u001b[39m_state \u001b[38;5;241m==\u001b[39m FINISHED:\n\u001b[0;32m--> 458\u001b[0m     \u001b[38;5;28;01mreturn\u001b[39;00m \u001b[38;5;28;43mself\u001b[39;49m\u001b[38;5;241;43m.\u001b[39;49m\u001b[43m__get_result\u001b[49m\u001b[43m(\u001b[49m\u001b[43m)\u001b[49m\n\u001b[1;32m    459\u001b[0m \u001b[38;5;28;01melse\u001b[39;00m:\n\u001b[1;32m    460\u001b[0m     \u001b[38;5;28;01mraise\u001b[39;00m \u001b[38;5;167;01mTimeoutError\u001b[39;00m()\n",
      "File \u001b[0;32m/Applications/anaconda3/envs/fasthtml/lib/python3.10/concurrent/futures/_base.py:403\u001b[0m, in \u001b[0;36mFuture.__get_result\u001b[0;34m(self)\u001b[0m\n\u001b[1;32m    401\u001b[0m \u001b[38;5;28;01mif\u001b[39;00m \u001b[38;5;28mself\u001b[39m\u001b[38;5;241m.\u001b[39m_exception:\n\u001b[1;32m    402\u001b[0m     \u001b[38;5;28;01mtry\u001b[39;00m:\n\u001b[0;32m--> 403\u001b[0m         \u001b[38;5;28;01mraise\u001b[39;00m \u001b[38;5;28mself\u001b[39m\u001b[38;5;241m.\u001b[39m_exception\n\u001b[1;32m    404\u001b[0m     \u001b[38;5;28;01mfinally\u001b[39;00m:\n\u001b[1;32m    405\u001b[0m         \u001b[38;5;66;03m# Break a reference cycle with the exception in self._exception\u001b[39;00m\n\u001b[1;32m    406\u001b[0m         \u001b[38;5;28mself\u001b[39m \u001b[38;5;241m=\u001b[39m \u001b[38;5;28;01mNone\u001b[39;00m\n",
      "File \u001b[0;32m/Applications/anaconda3/envs/fasthtml/lib/python3.10/site-packages/weaviate/client_base.py:152\u001b[0m, in \u001b[0;36m_WeaviateClientBase.connect\u001b[0;34m(self)\u001b[0m\n\u001b[1;32m    150\u001b[0m \u001b[38;5;28;01mif\u001b[39;00m \u001b[38;5;28mself\u001b[39m\u001b[38;5;241m.\u001b[39m_connection\u001b[38;5;241m.\u001b[39mis_connected():\n\u001b[1;32m    151\u001b[0m     \u001b[38;5;28;01mreturn\u001b[39;00m\n\u001b[0;32m--> 152\u001b[0m \u001b[38;5;28;01mawait\u001b[39;00m \u001b[38;5;28mself\u001b[39m\u001b[38;5;241m.\u001b[39m_connection\u001b[38;5;241m.\u001b[39mconnect(\u001b[38;5;28mself\u001b[39m\u001b[38;5;241m.\u001b[39m_skip_init_checks)\n",
      "File \u001b[0;32m/Applications/anaconda3/envs/fasthtml/lib/python3.10/site-packages/weaviate/connect/v4.py:158\u001b[0m, in \u001b[0;36mConnectionV4.connect\u001b[0;34m(self, skip_init_checks)\u001b[0m\n\u001b[1;32m    156\u001b[0m \u001b[38;5;66;03m# need this to get the version of weaviate for version checks\u001b[39;00m\n\u001b[1;32m    157\u001b[0m \u001b[38;5;28;01mtry\u001b[39;00m:\n\u001b[0;32m--> 158\u001b[0m     meta \u001b[38;5;241m=\u001b[39m \u001b[38;5;28;01mawait\u001b[39;00m \u001b[38;5;28mself\u001b[39m\u001b[38;5;241m.\u001b[39mget_meta()\n\u001b[1;32m    159\u001b[0m     \u001b[38;5;28mself\u001b[39m\u001b[38;5;241m.\u001b[39m_weaviate_version \u001b[38;5;241m=\u001b[39m _ServerVersion\u001b[38;5;241m.\u001b[39mfrom_string(meta[\u001b[38;5;124m\"\u001b[39m\u001b[38;5;124mversion\u001b[39m\u001b[38;5;124m\"\u001b[39m])\n\u001b[1;32m    160\u001b[0m \u001b[38;5;28;01mexcept\u001b[39;00m (\n\u001b[1;32m    161\u001b[0m     WeaviateConnectionError,\n\u001b[1;32m    162\u001b[0m     ReadError,\n\u001b[1;32m    163\u001b[0m     RemoteProtocolError,\n\u001b[1;32m    164\u001b[0m     SSLZeroReturnError,  \u001b[38;5;66;03m# required for async 3.8,3.9 due to ssl.SSLZeroReturnError: TLS/SSL connection has been closed (EOF) (_ssl.c:1131)\u001b[39;00m\n\u001b[1;32m    165\u001b[0m ) \u001b[38;5;28;01mas\u001b[39;00m e:\n",
      "File \u001b[0;32m/Applications/anaconda3/envs/fasthtml/lib/python3.10/site-packages/weaviate/connect/v4.py:588\u001b[0m, in \u001b[0;36mConnectionV4.get_meta\u001b[0;34m(self)\u001b[0m\n\u001b[1;32m    584\u001b[0m \u001b[38;5;250m\u001b[39m\u001b[38;5;124;03m\"\"\"\u001b[39;00m\n\u001b[1;32m    585\u001b[0m \u001b[38;5;124;03mReturns the meta endpoint.\u001b[39;00m\n\u001b[1;32m    586\u001b[0m \u001b[38;5;124;03m\"\"\"\u001b[39;00m\n\u001b[1;32m    587\u001b[0m response \u001b[38;5;241m=\u001b[39m \u001b[38;5;28;01mawait\u001b[39;00m \u001b[38;5;28mself\u001b[39m\u001b[38;5;241m.\u001b[39mget(path\u001b[38;5;241m=\u001b[39m\u001b[38;5;124m\"\u001b[39m\u001b[38;5;124m/meta\u001b[39m\u001b[38;5;124m\"\u001b[39m)\n\u001b[0;32m--> 588\u001b[0m res \u001b[38;5;241m=\u001b[39m \u001b[43m_decode_json_response_dict\u001b[49m\u001b[43m(\u001b[49m\u001b[43mresponse\u001b[49m\u001b[43m,\u001b[49m\u001b[43m \u001b[49m\u001b[38;5;124;43m\"\u001b[39;49m\u001b[38;5;124;43mMeta endpoint\u001b[39;49m\u001b[38;5;124;43m\"\u001b[39;49m\u001b[43m)\u001b[49m\n\u001b[1;32m    589\u001b[0m \u001b[38;5;28;01massert\u001b[39;00m res \u001b[38;5;129;01mis\u001b[39;00m \u001b[38;5;129;01mnot\u001b[39;00m \u001b[38;5;28;01mNone\u001b[39;00m\n\u001b[1;32m    590\u001b[0m \u001b[38;5;28;01mreturn\u001b[39;00m res\n",
      "File \u001b[0;32m/Applications/anaconda3/envs/fasthtml/lib/python3.10/site-packages/weaviate/util.py:930\u001b[0m, in \u001b[0;36m_decode_json_response_dict\u001b[0;34m(response, location)\u001b[0m\n\u001b[1;32m    927\u001b[0m     \u001b[38;5;28;01mexcept\u001b[39;00m JSONDecodeError:\n\u001b[1;32m    928\u001b[0m         \u001b[38;5;28;01mraise\u001b[39;00m ResponseCannotBeDecodedError(location, response)\n\u001b[0;32m--> 930\u001b[0m \u001b[38;5;28;01mraise\u001b[39;00m UnexpectedStatusCodeError(location, response)\n",
      "\u001b[0;31mUnexpectedStatusCodeError\u001b[0m: Meta endpoint! Unexpected status code: 404, with response body: None."
     ]
    }
   ],
   "source": [
    "import weaviate\n",
    "from weaviate.auth import Auth\n",
    "import weaviate.classes as wvc\n",
    "\n",
    "WEAVIATE_URL = \"https://pnl6qiwaq5oijvge8h8owg.c0.us-east1.gcp.weaviate.cloud/\"\n",
    "WEAVIATE_API_KEY = \"wNIf2XunX2THHTK6y1aDEr0lyj0FFv4x6KqT\"\n",
    "collection_name = \"HolocaustTestimonies\"\n",
    "\n",
    "client = weaviate.connect_to_weaviate_cloud(\n",
    "    cluster_url=WEAVIATE_URL,\n",
    "    auth_credentials=Auth.api_key(WEAVIATE_API_KEY),\n",
    ")\n",
    "\n",
    "holocaust_testimonies = client.collections.get(name=collection_name)"
   ]
  },
  {
   "cell_type": "code",
   "execution_count": null,
   "metadata": {},
   "outputs": [],
   "source": [
    "def find_similar(query, threshold):\n",
    "    query_vector = model.encode([query])[0]\n",
    "    response = holocaust_testimonies.query.near_vector(\n",
    "        near_vector=query_vector,\n",
    "        limit=10,\n",
    "        return_metadata=MetadataQuery(distance=True)\n",
    "    )\n",
    "    print(response)\n",
    "\n",
    "    for o in response.objects:\n",
    "        if o.metadata.distance < threshold:\n",
    "            print(o.properties[\"text\"])\n",
    "            print(o.metadata.distance)"
   ]
  },
  {
   "cell_type": "code",
   "execution_count": null,
   "metadata": {},
   "outputs": [
    {
     "name": "stdout",
     "output_type": "stream",
     "text": [
      "QueryReturn(objects=[Object(uuid=_WeaviateUUIDInt('b973968a-1e5e-4742-89f7-5dd1f855e749'), metadata=MetadataReturn(creation_time=None, last_update_time=None, distance=0.46541130542755127, certainty=None, score=None, explain_score=None, is_consistent=None, rerank_score=None), properties={'birth_year': 1925, 'sentence_ids': ['223', '224', '225'], 'int_space': 0, 'env_features': 0, 'region': 0, 'full_name': 'fred none bachner', 'spatial_obj': 0, 'text': 'We had no medications.  We had nothing.  Nothing! ', 'npip': 0, 'country': 0, 'experience_group': 'survivor', 'populated_place': 0, 'dlf': 0, 'gender': 'm', 'category': 'answer', 'rg': 'rg-50.030.0012', 'birth_country': 'germany', 'building': 0}, references=None, vector={}, collection='HolocaustTestimonies'), Object(uuid=_WeaviateUUIDInt('00646fa8-79a3-4954-a95a-f7e3ed56ca10'), metadata=MetadataReturn(creation_time=None, last_update_time=None, distance=0.513043224811554, certainty=None, score=None, explain_score=None, is_consistent=None, rerank_score=None), properties={'category': 'answer', 'sentence_ids': ['222', '223', '224'], 'int_space': 0, 'env_features': 0, 'region': 0, 'full_name': 'fred none bachner', 'spatial_obj': 0, 'npip': 0, 'text': 'We had no...uh...no first aid.  We had no medications.  We had nothing. ', 'country': 0, 'experience_group': 'survivor', 'populated_place': 0, 'dlf': 0, 'gender': 'm', 'rg': 'rg-50.030.0012', 'birth_year': 1925, 'birth_country': 'germany', 'building': 0}, references=None, vector={}, collection='HolocaustTestimonies'), Object(uuid=_WeaviateUUIDInt('e5f05010-a76a-47ed-be48-ac2d04af926d'), metadata=MetadataReturn(creation_time=None, last_update_time=None, distance=0.5184149146080017, certainty=None, score=None, explain_score=None, is_consistent=None, rerank_score=None), properties={'country': 0, 'sentence_ids': ['1622'], 'int_space': 0, 'env_features': 0, 'full_name': 'rita kerner hilton', 'region': 0, 'spatial_obj': 0, 'npip': 0, 'text': \"Q: People just weren't --? \", 'birth_year': 1926, 'experience_group': 'survivor', 'populated_place': 0, 'dlf': 0, 'gender': 'f', 'category': 'question', 'rg': 'rg-50.030.0002', 'birth_country': 'poland', 'building': 0}, references=None, vector={}, collection='HolocaustTestimonies'), Object(uuid=_WeaviateUUIDInt('d8f09cc0-9843-456a-a4c5-ee5120da67a9'), metadata=MetadataReturn(creation_time=None, last_update_time=None, distance=0.5208829045295715, certainty=None, score=None, explain_score=None, is_consistent=None, rerank_score=None), properties={'category': 'question', 'sentence_ids': ['298'], 'int_space': 0, 'env_features': 0, 'full_name': 'david a. kochalski', 'region': 0, 'spatial_obj': 0, 'text': \"Q: Weren't you frightened? \", 'npip': 0, 'country': 0, 'rg': 'rg-50.030.0001', 'populated_place': 0, 'dlf': 0, 'gender': 'm', 'birth_year': 1928, 'experience_group': 'survivor', 'birth_country': 'poland', 'building': 0}, references=None, vector={}, collection='HolocaustTestimonies'), Object(uuid=_WeaviateUUIDInt('17fd6f05-5303-4282-952b-07e0e14192af'), metadata=MetadataReturn(creation_time=None, last_update_time=None, distance=0.5417234897613525, certainty=None, score=None, explain_score=None, is_consistent=None, rerank_score=None), properties={'experience_group': 'survivor', 'sentence_ids': ['295', '296', '297'], 'int_space': 0, 'env_features': 0, 'region': 0, 'full_name': 'francis none akos', 'spatial_obj': 0, 'text': \"We --I don't know who.  I was one of them.  I don't know who, who the others were. \", 'npip': 0, 'category': 'answer', 'rg': 'rg-50.030.0006', 'populated_place': 0, 'dlf': 0, 'gender': 'm', 'birth_year': 1922, 'country': 0, 'birth_country': 'hungary', 'building': 0}, references=None, vector={}, collection='HolocaustTestimonies'), Object(uuid=_WeaviateUUIDInt('e6423d83-bd3a-49b5-aca6-e7aec0e7ac96'), metadata=MetadataReturn(creation_time=None, last_update_time=None, distance=0.5457949042320251, certainty=None, score=None, explain_score=None, is_consistent=None, rerank_score=None), properties={'experience_group': 'survivor', 'sentence_ids': ['1620'], 'int_space': 0, 'env_features': 0, 'region': 0, 'full_name': 'rita kerner hilton', 'spatial_obj': 0, 'text': 'A: No. ', 'npip': 0, 'country': 0, 'rg': 'rg-50.030.0002', 'populated_place': 0, 'dlf': 0, 'gender': 'f', 'birth_year': 1926, 'category': 'answer', 'birth_country': 'poland', 'building': 0}, references=None, vector={}, collection='HolocaustTestimonies'), Object(uuid=_WeaviateUUIDInt('561de7a0-84f8-4a11-b146-277bf3f428ff'), metadata=MetadataReturn(creation_time=None, last_update_time=None, distance=0.5467376112937927, certainty=None, score=None, explain_score=None, is_consistent=None, rerank_score=None), properties={'category': 'answer', 'sentence_ids': ['1455', '1456', '1457'], 'int_space': 0, 'env_features': 0, 'full_name': 'harry none alexander', 'region': 0, 'spatial_obj': 0, 'text': \"We didn't give them that...no...we didn't do that favor.  Not a sound came out of us.  They were beating us and beating us and not a sound. \", 'npip': 0, 'country': 0, 'rg': 'rg-50.030.0007', 'populated_place': 0, 'dlf': 0, 'gender': 'm', 'experience_group': 'survivor,resistance,soldier', 'birth_year': 1921, 'birth_country': 'germany', 'building': 0}, references=None, vector={}, collection='HolocaustTestimonies'), Object(uuid=_WeaviateUUIDInt('6d5a5a12-1664-49c2-981f-b6afbbb7f7e5'), metadata=MetadataReturn(creation_time=None, last_update_time=None, distance=0.5570182800292969, certainty=None, score=None, explain_score=None, is_consistent=None, rerank_score=None), properties={'experience_group': 'survivor,resistance,soldier', 'sentence_ids': ['1838', '1839', '1840'], 'int_space': 0, 'env_features': 0, 'full_name': 'harry none alexander', 'region': 0, 'spatial_obj': 0, 'npip': 0, 'text': \"We're not all that stupid.  And we went, we traveled.  And did we ever do a job. \", 'category': 'answer', 'rg': 'rg-50.030.0007', 'populated_place': 0, 'dlf': 0, 'gender': 'm', 'country': 0, 'birth_year': 1921, 'birth_country': 'germany', 'building': 0}, references=None, vector={}, collection='HolocaustTestimonies'), Object(uuid=_WeaviateUUIDInt('f7d272ad-ad0f-40e5-81af-11112bbf4114'), metadata=MetadataReturn(creation_time=None, last_update_time=None, distance=0.557633638381958, certainty=None, score=None, explain_score=None, is_consistent=None, rerank_score=None), properties={'category': 'answer', 'sentence_ids': ['221', '222', '223'], 'int_space': 0, 'env_features': 0, 'full_name': 'fred none bachner', 'region': 0, 'spatial_obj': 0, 'npip': 0, 'text': 'We had no...no...uh...fever thermometers.  We had no...uh...no first aid.  We had no medications. ', 'country': 0, 'experience_group': 'survivor', 'populated_place': 0, 'dlf': 0, 'gender': 'm', 'birth_year': 1925, 'rg': 'rg-50.030.0012', 'birth_country': 'germany', 'building': 0}, references=None, vector={}, collection='HolocaustTestimonies'), Object(uuid=_WeaviateUUIDInt('320589a3-ce88-4fcc-8729-47cc6e18b7e2'), metadata=MetadataReturn(creation_time=None, last_update_time=None, distance=0.5577511787414551, certainty=None, score=None, explain_score=None, is_consistent=None, rerank_score=None), properties={'country': 0, 'sentence_ids': ['280'], 'int_space': 0, 'env_features': 0, 'full_name': 'david a. kochalski', 'region': 0, 'spatial_obj': 0, 'npip': 0, 'text': 'A: Not far. ', 'category': 'answer', 'rg': 'rg-50.030.0001', 'populated_place': 0, 'dlf': 0, 'gender': 'm', 'birth_year': 1928, 'experience_group': 'survivor', 'birth_country': 'poland', 'building': 0}, references=None, vector={}, collection='HolocaustTestimonies')])\n"
     ]
    },
    {
     "ename": "KeyError",
     "evalue": "'book'",
     "output_type": "error",
     "traceback": [
      "\u001b[0;31m---------------------------------------------------------------------------\u001b[0m",
      "\u001b[0;31mKeyError\u001b[0m                                  Traceback (most recent call last)",
      "\u001b[1;32m/Users/wjbmattingly/projects/data-workflow/examples/07.ipynb Cell 6\u001b[0m line \u001b[0;36m2\n\u001b[1;32m      <a href='vscode-notebook-cell:/Users/wjbmattingly/projects/data-workflow/examples/07.ipynb#W5sZmlsZQ%3D%3D?line=0'>1</a>\u001b[0m query \u001b[39m=\u001b[39m \u001b[39m\"\u001b[39m\u001b[39mWe were not ther\u001b[39m\u001b[39m\"\u001b[39m\n\u001b[0;32m----> <a href='vscode-notebook-cell:/Users/wjbmattingly/projects/data-workflow/examples/07.ipynb#W5sZmlsZQ%3D%3D?line=1'>2</a>\u001b[0m find_similar(query, threshold\u001b[39m=\u001b[39;49m\u001b[39m.5\u001b[39;49m)\n",
      "\u001b[1;32m/Users/wjbmattingly/projects/data-workflow/examples/07.ipynb Cell 6\u001b[0m line \u001b[0;36m1\n\u001b[1;32m     <a href='vscode-notebook-cell:/Users/wjbmattingly/projects/data-workflow/examples/07.ipynb#W5sZmlsZQ%3D%3D?line=9'>10</a>\u001b[0m \u001b[39mfor\u001b[39;00m o \u001b[39min\u001b[39;00m response\u001b[39m.\u001b[39mobjects:\n\u001b[1;32m     <a href='vscode-notebook-cell:/Users/wjbmattingly/projects/data-workflow/examples/07.ipynb#W5sZmlsZQ%3D%3D?line=10'>11</a>\u001b[0m     \u001b[39mif\u001b[39;00m o\u001b[39m.\u001b[39mmetadata\u001b[39m.\u001b[39mdistance \u001b[39m<\u001b[39m threshold:\n\u001b[0;32m---> <a href='vscode-notebook-cell:/Users/wjbmattingly/projects/data-workflow/examples/07.ipynb#W5sZmlsZQ%3D%3D?line=11'>12</a>\u001b[0m         \u001b[39mprint\u001b[39m(o\u001b[39m.\u001b[39;49mproperties[\u001b[39m\"\u001b[39;49m\u001b[39mbook\u001b[39;49m\u001b[39m\"\u001b[39;49m], o\u001b[39m.\u001b[39mproperties[\u001b[39m\"\u001b[39m\u001b[39mchapter\u001b[39m\u001b[39m\"\u001b[39m], o\u001b[39m.\u001b[39mproperties[\u001b[39m\"\u001b[39m\u001b[39mverse\u001b[39m\u001b[39m\"\u001b[39m], \u001b[39m\"\u001b[39m\u001b[39m: \u001b[39m\u001b[39m\"\u001b[39m, o\u001b[39m.\u001b[39mproperties[\u001b[39m\"\u001b[39m\u001b[39mtext\u001b[39m\u001b[39m\"\u001b[39m])\n\u001b[1;32m     <a href='vscode-notebook-cell:/Users/wjbmattingly/projects/data-workflow/examples/07.ipynb#W5sZmlsZQ%3D%3D?line=12'>13</a>\u001b[0m         \u001b[39mprint\u001b[39m(o\u001b[39m.\u001b[39mmetadata\u001b[39m.\u001b[39mdistance)\n",
      "\u001b[0;31mKeyError\u001b[0m: 'book'"
     ]
    }
   ],
   "source": [
    "query = \"We were not ther\"\n",
    "find_similar(query, threshold=.5)"
   ]
  },
  {
   "cell_type": "code",
   "execution_count": null,
   "metadata": {},
   "outputs": [],
   "source": []
  },
  {
   "cell_type": "code",
   "execution_count": null,
   "metadata": {},
   "outputs": [],
   "source": []
  }
 ],
 "metadata": {
  "kernelspec": {
   "display_name": "fasthtml",
   "language": "python",
   "name": "python3"
  },
  "language_info": {
   "codemirror_mode": {
    "name": "ipython",
    "version": 3
   },
   "file_extension": ".py",
   "mimetype": "text/x-python",
   "name": "python",
   "nbconvert_exporter": "python",
   "pygments_lexer": "ipython3",
   "version": "3.10.14"
  }
 },
 "nbformat": 4,
 "nbformat_minor": 2
}
